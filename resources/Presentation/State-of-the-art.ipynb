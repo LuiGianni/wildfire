{
 "cells": [
  {
   "cell_type": "markdown",
   "id": "8e617359",
   "metadata": {
    "pycharm": {
     "name": "#%% md\n"
    }
   },
   "source": [
    "# Wilfire Project"
   ]
  },
  {
   "attachments": {},
   "cell_type": "markdown",
   "id": "267d2e5c",
   "metadata": {
    "pycharm": {
     "name": "#%% md\n"
    }
   },
   "source": [
    "# Aim of the project\n",
    "Create a Python Artificial Intelligence to output a better result as the FWI (Fire Weather Index) in term of accuracy, prediction and resolution, for cheaper."
   ]
  },
  {
   "attachments": {},
   "cell_type": "markdown",
   "id": "79395eeb",
   "metadata": {
    "pycharm": {
     "name": "#%% md\n"
    }
   },
   "source": [
    "## Ouput\n",
    "The output will be a risk map for a given time (1day) and location (1km²) of wildfire prediction (low risk, medium risk, high risk, …) targeted on the PACA France region.\n",
    "\n",
    "We will be able to evaluate our model on 2 results:\n",
    "- Against the FWI results (using the FWI results)\n",
    "- Against the real world (using our database on past data)!"
   ]
  },
  {
   "attachments": {},
   "cell_type": "markdown",
   "id": "330558df",
   "metadata": {
    "pycharm": {
     "name": "#%% md\n"
    }
   },
   "source": [
    "## Must have\n",
    "- Daily risk map"
   ]
  },
  {
   "attachments": {},
   "cell_type": "markdown",
   "id": "19e3b78b",
   "metadata": {
    "pycharm": {
     "name": "#%% md\n"
    }
   },
   "source": [
    "## Good to have\n",
    "- Prediction map for the next day\n",
    "- Create a container to run the script"
   ]
  },
  {
   "cell_type": "markdown",
   "id": "d7f010b6",
   "metadata": {
    "pycharm": {
     "name": "#%% md\n"
    }
   },
   "source": [
    "# FWI (Fire Weather Index)"
   ]
  },
  {
   "cell_type": "markdown",
   "id": "f48179bf",
   "metadata": {
    "pycharm": {
     "name": "#%% md\n"
    }
   },
   "source": [
    "TODO explain pro and cons of the FWI and the content and stuff"
   ]
  },
  {
   "cell_type": "markdown",
   "id": "c6dfbe5f",
   "metadata": {
    "pycharm": {
     "name": "#%% md\n"
    }
   },
   "source": [
    "# Choice have been made\n",
    "Some variable of the project must be choose in order to set up the good practive of the datasets and the outupt"
   ]
  },
  {
   "cell_type": "markdown",
   "id": "b851db7e",
   "metadata": {
    "pycharm": {
     "name": "#%% md\n"
    }
   },
   "source": [
    "## Time range : 2010-01-10 to 2022-01-01\n",
    "**It should be large to get enough data to train the model** The larger is the better but if we want our model to be cheap, it needs to be able to work on a not to big amount of data \n",
    "\n",
    "**The data should also be accurate enough to give good result** Because of the climat change, the time range has to be very close from today, it also has to not be too far as the condition evolved very quickly during the past decad.\n",
    "\n",
    "**The selected datasets should contains this timerange** This will depend on the dataset used (possibility of resampling)"
   ]
  },
  {
   "attachments": {},
   "cell_type": "markdown",
   "id": "a39a67b7",
   "metadata": {
    "pycharm": {
     "name": "#%% md\n"
    }
   },
   "source": [
    "## Temporal granulometry : 1day\n",
    "WildFire can start in a minute, so the granulometry should be small enought to be relevant.\n",
    "\n",
    "It should also be relevante base on the granulomerty of the dataset in order to have a good accuracy with the dataset and to not create too many resampling\n",
    "\n",
    "FWI can predict wildfire for the next day so our model should be able to do the same"
   ]
  },
  {
   "cell_type": "markdown",
   "id": "04c79da2",
   "metadata": {
    "pycharm": {
     "name": "#%% md\n"
    }
   },
   "source": [
    "## Area Of Interest : PACA region France\n",
    "This region in France has a lot of wildfire due to the weather so we choose this region as we wanted to have a relevant target to start\n",
    "<table>\n",
    "    <tr>\n",
    "        <td>PACA region in France<img src=\"resources\\Images\\PACA-localization.png\" width=400 height=400 /></td>\n",
    "        <td>description of the PACA region<img src=\"resources\\Images\\PACA-description.jpg\" width=400 height=400 /></td>\n",
    "    </tr>\n",
    "</table>\n",
    "\n"
   ]
  },
  {
   "attachments": {},
   "cell_type": "markdown",
   "id": "9e69069a",
   "metadata": {
    "pycharm": {
     "name": "#%% md\n"
    }
   },
   "source": [
    "## Resolution : 1Km\n",
    "**It shoucl be small enought to help firefighter in there operation** So as small as possible\n",
    "\n",
    "**We should be able to extract this resolution from the datasets** This will depend on the dataset used (possibility of resampling)"
   ]
  },
  {
   "attachments": {},
   "cell_type": "markdown",
   "id": "c6326a93",
   "metadata": {
    "pycharm": {
     "name": "#%% md\n"
    }
   },
   "source": [
    "## Map Projection : sinusoidal\n",
    "It exists a lot of different projection of the worl map. We need to select a coommon one for all our dataset in order to compare potatoes with potatoes.\n",
    "\n",
    "The sinusoidal representation feel the more relevant as it allow to quickly compare area in the whole world and the area is an important point on wildfire\n",
    "\n",
    "We should be able to extract and tranhprom our data into the given projection\n",
    "\n",
    "<table>\n",
    "    <tr>\n",
    "        <td>world map in sinusoidal projection<img src=\"resources\\Images\\PROJECTION-map.jpg\" width=400 height=400 /></td>\n",
    "        <td>Graph of the sinusoidal projection<img src=\"resources\\Images\\PROJECTION-graph.png\" width=400 height=400 /></td>\n",
    "    </tr>\n",
    "</table>"
   ]
  },
  {
   "cell_type": "markdown",
   "id": "93b82a84",
   "metadata": {
    "pycharm": {
     "name": "#%% md\n"
    }
   },
   "source": [
    "# DataSets"
   ]
  },
  {
   "attachments": {},
   "cell_type": "markdown",
   "id": "1ade7e28",
   "metadata": {
    "pycharm": {
     "name": "#%% md\n"
    }
   },
   "source": [
    "## Leaf Area Index (from MOD15A2H v061)\n",
    "**DESCRIPTION**\n",
    "- Extracted : MOD15A2H v061\n",
    "- Start Date : 2009-12-27 00:00:00\n",
    "- End Date : 2022-08-29 00:00:00\n",
    "- Resolution: 500m\n",
    "- Projection: sinusoidal\n",
    "- Temporal granulometry: 8 days\n",
    "- Spatial extent: AOI"
   ]
  },
  {
   "attachments": {},
   "cell_type": "markdown",
   "id": "e3e3bd63",
   "metadata": {
    "pycharm": {
     "name": "#%% md\n"
    }
   },
   "source": [
    "## NDVI (from MOD13A2 v061)\n",
    "**DESCRIPTION**\n",
    "- Extracted : MOD13A2 v061\n",
    "- Start Date : 2009-12-19 00:00:00\n",
    "- End Date : 2022-08-13 00:00:00\n",
    "- Resolution: 1000m\n",
    "- Projection: sinusoidal\n",
    "- Temporal granulometry: 16 days\n",
    "- Spatial extent: AOI"
   ]
  },
  {
   "attachments": {},
   "cell_type": "markdown",
   "id": "6dae0179",
   "metadata": {
    "pycharm": {
     "name": "#%% md\n"
    }
   },
   "source": [
    "## Evapotranspiration\n",
    "**DESCRIPTION**\n",
    "- Extracted : MOD16A2 v061\n",
    "- Start Date : 2009-12-27 00:00:00\n",
    "- End Date : 2022-08-29 00:00:00\n",
    "- Resolution: 500m\n",
    "- Projection: sinusoidal\n",
    "- Temporal granulometry: 8 days\n",
    "- Spatial extent: AOI"
   ]
  },
  {
   "attachments": {},
   "cell_type": "markdown",
   "id": "f76db77b",
   "metadata": {
    "pycharm": {
     "name": "#%% md\n"
    }
   },
   "source": [
    "## Meteorological data\n",
    "**DESCRIPTION**\n",
    "- Extracted : ERA5-Land variables\n",
    "- Start Date : 20010-01-01 04:00:00\n",
    "- End Date : 2022-07-31 20:00:00\n",
    "- Resolution: 9000m\n",
    "- Projection: WG84 --> EPSG 4326\n",
    "- Temporal granulometry: 4 hours\n",
    "- Spatial extent: AOI"
   ]
  },
  {
   "attachments": {},
   "cell_type": "markdown",
   "id": "0aa2b856",
   "metadata": {
    "pycharm": {
     "name": "#%% md\n"
    }
   },
   "source": [
    "## Land Surface Temperature\n",
    "**DESCRIPTION**\n",
    "- Extracted : MOD11A1 v061\n",
    "- Start Date : 2009-12-28 00:00:00\n",
    "- End Date : 2022-09-01 00:00:00\n",
    "- Resolution: 1000m\n",
    "- Projection: sinusoidal\n",
    "- Temporal granulometry: 1 day\n",
    "- Spatial extent: AOI"
   ]
  },
  {
   "attachments": {},
   "cell_type": "markdown",
   "id": "f7253d3f",
   "metadata": {
    "pycharm": {
     "name": "#%% md\n"
    }
   },
   "source": [
    "## Fire Weather Index\n",
    "**DESCRIPTION**\n",
    "- Extracted : MOD11A1 v061\n",
    "- Start Date : 2010-01-01 00:00:00\n",
    "- End Date : 2022-12-31 00:00:00\n",
    "- Resolution: 0.25°\n",
    "- Projection: rotated pole\n",
    "- Temporal granulometry: 1 day\n",
    "- Spatial extent: Europe"
   ]
  },
  {
   "attachments": {},
   "cell_type": "markdown",
   "id": "323e57da",
   "metadata": {
    "pycharm": {
     "name": "#%% md\n"
    }
   },
   "source": [
    "## Active fire variable\n",
    "**DESCRIPTION**\n",
    "- Extracted : MCD64A1 v061\n",
    "- Start Date : 2010-01-01 00:00:00\n",
    "- End Date : 2022-02-01 00:00:00\n",
    "- Resolution: 500m\n",
    "- Projection: sinusoidal\n",
    "- Temporal granulometry: 1 month\n",
    "- Spatial extent: AOI"
   ]
  },
  {
   "cell_type": "markdown",
   "id": "6ae0abb2",
   "metadata": {
    "pycharm": {
     "name": "#%% md\n"
    }
   },
   "source": [
    "## Burned mask variables\n",
    "**DESCRIPTION**\n",
    "- Extracted : MYD141A2 v061\n",
    "- Start Date : 2009-12-27 00:00:00\n",
    "- End Date : 2022-08-29 00:00:00\n",
    "- Resolution: 1000m\n",
    "- Projection: sinusoidal\n",
    "- Temporal granulometry: 8 days\n",
    "- Spatial extent: AOI"
   ]
  },
  {
   "attachments": {},
   "cell_type": "markdown",
   "id": "c77d5823",
   "metadata": {
    "pycharm": {
     "name": "#%% md\n"
    }
   },
   "source": [
    "## Density\n",
    "**DESCRIPTION**\n",
    "- Extracted : WorldPop\n",
    "- Date : 2015\n",
    "- Resolution: 1000m\n",
    "- Projection: WG84 EPSG 4326\n",
    "- Temporal granulometry: None\n",
    "- Spatial extent: France"
   ]
  },
  {
   "cell_type": "markdown",
   "id": "19426331",
   "metadata": {
    "pycharm": {
     "name": "#%% md\n"
    }
   },
   "source": []
  }
 ],
 "metadata": {
  "kernelspec": {
   "display_name": "Python 3 (ipykernel)",
   "language": "python",
   "name": "python3"
  },
  "language_info": {
   "codemirror_mode": {
    "name": "ipython",
    "version": 3
   },
   "file_extension": ".py",
   "mimetype": "text/x-python",
   "name": "python",
   "nbconvert_exporter": "python",
   "pygments_lexer": "ipython3",
   "version": "3.9.13"
  }
 },
 "nbformat": 4,
 "nbformat_minor": 5
}