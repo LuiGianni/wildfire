{
 "cells": [
  {
   "cell_type": "markdown",
   "id": "d18d35b1",
   "metadata": {},
   "source": [
    "https://www.earthdatascience.org/courses/use-data-open-source-python/intro-raster-data-python/fundamentals-raster-data/plot-raster-histograms/"
   ]
  },
  {
   "cell_type": "code",
   "execution_count": 1,
   "id": "7ef06620",
   "metadata": {},
   "outputs": [],
   "source": [
    "# Import necessary packages\n",
    "import os\n",
    "import matplotlib.pyplot as plt\n",
    "import seaborn as sns\n",
    "import numpy as np\n",
    "import rioxarray as rxr\n",
    "import earthpy as et\n",
    "\n",
    "# Get data and set wd\n",
    "et.data.get_data(\"colorado-flood\")\n",
    "\n",
    "os.chdir(os.path.join(et.io.HOME,\n",
    "                      'earth-analytics',\n",
    "                      'data'))\n",
    "\n",
    "# Prettier plotting with seaborn\n",
    "sns.set(font_scale=1.5, style=\"whitegrid\")"
   ]
  },
  {
   "cell_type": "code",
   "execution_count": 2,
   "id": "0d5b76db",
   "metadata": {},
   "outputs": [
    {
     "data": {
      "text/plain": [
       "(1, 2000, 4000)"
      ]
     },
     "execution_count": 2,
     "metadata": {},
     "output_type": "execute_result"
    }
   ],
   "source": [
    "# Define relative path to file\n",
    "lidar_dem_path = os.path.join(\"colorado-flood\", \n",
    "                              \"spatial\",\n",
    "                              \"boulder-leehill-rd\", \n",
    "                              \"pre-flood\", \n",
    "                              \"lidar\",\n",
    "                              \"pre_DTM.tif\")\n",
    "\n",
    "# Open data \n",
    "lidar_dem_im = rxr.open_rasterio(lidar_dem_path)\n",
    "\n",
    "# View object dimensions\n",
    "lidar_dem_im.shape"
   ]
  },
  {
   "cell_type": "code",
   "execution_count": null,
   "id": "4d2c5472",
   "metadata": {},
   "outputs": [],
   "source": []
  }
 ],
 "metadata": {
  "kernelspec": {
   "display_name": "Python 3 (ipykernel)",
   "language": "python",
   "name": "python3"
  },
  "language_info": {
   "codemirror_mode": {
    "name": "ipython",
    "version": 3
   },
   "file_extension": ".py",
   "mimetype": "text/x-python",
   "name": "python",
   "nbconvert_exporter": "python",
   "pygments_lexer": "ipython3",
   "version": "3.9.13"
  }
 },
 "nbformat": 4,
 "nbformat_minor": 5
}
