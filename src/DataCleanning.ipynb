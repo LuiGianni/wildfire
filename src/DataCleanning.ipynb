{
 "cells": [
  {
   "cell_type": "code",
   "execution_count": 6,
   "id": "6d4caec6",
   "metadata": {},
   "outputs": [],
   "source": [
    "import numpy as np\n",
    "import rasterio\n",
    "import matplotlib.pyplot as plt\n",
    "import xarray as xr\n",
    "import rioxarray as rxr\n",
    "import geopandas as gpd\n",
    "\n",
    "import harmonize as hz"
   ]
  },
  {
   "cell_type": "markdown",
   "id": "7ea14b3b",
   "metadata": {},
   "source": [
    "# Load the data"
   ]
  },
  {
   "cell_type": "code",
   "execution_count": 5,
   "id": "8f1a94e3",
   "metadata": {},
   "outputs": [],
   "source": [
    "DatasetPath=\"../data/\""
   ]
  },
  {
   "cell_type": "code",
   "execution_count": 8,
   "id": "02eaebe5",
   "metadata": {},
   "outputs": [],
   "source": [
    "# definition of a common grid to interpolate from a dataset to another\n",
    "common_grid = rxr.open_rasterio(DatasetPath+\"NDVI/ndvi_01012010_09012022.nc\").isel(time=0)"
   ]
  },
  {
   "cell_type": "code",
   "execution_count": 9,
   "id": "b13418c1",
   "metadata": {},
   "outputs": [],
   "source": [
    "# definition of the area of interest\n",
    "crop_extent = hz.define_area_of_interest(DatasetPath+\"mygeodata.zip\")"
   ]
  },
  {
   "cell_type": "code",
   "execution_count": 10,
   "id": "2d3e3f23",
   "metadata": {},
   "outputs": [],
   "source": [
    "# open the data\n",
    "ndvi = hz.read_data(DatasetPath+\"NDVI/ndvi_01012010_09012022.nc\")"
   ]
  },
  {
   "cell_type": "code",
   "execution_count": 11,
   "id": "718dd965",
   "metadata": {},
   "outputs": [],
   "source": [
    "# open the data\n",
    "evapotranspiration = hz.read_data(DatasetPath+\"evapotranspiration/Evapotranspiration_500m_aid0001.nc\")"
   ]
  },
  {
   "cell_type": "code",
   "execution_count": 12,
   "id": "66953163",
   "metadata": {},
   "outputs": [],
   "source": [
    "# open the data\n",
    "era = hz.read_data(DatasetPath+\n",
    "    \"meteo/adaptor.mars.internal-1663249407.7272627-22718-12-e830357e-7728-41cf-9b2b-b7f34cabf652.nc\")"
   ]
  },
  {
   "cell_type": "code",
   "execution_count": 14,
   "id": "0dfe79ba",
   "metadata": {},
   "outputs": [],
   "source": [
    "# open the data\n",
    "burn_date = hz.read_data(DatasetPath+\"datasets/burn_date_01012010_09012022.nc\")"
   ]
  },
  {
   "cell_type": "code",
   "execution_count": 23,
   "id": "923a6a55",
   "metadata": {},
   "outputs": [],
   "source": [
    "# open the data\n",
    "burn_mask = hz.read_data(DatasetPath+\"datasets/fire_mask_01012010_09012022.nc\")"
   ]
  },
  {
   "cell_type": "code",
   "execution_count": 16,
   "id": "56e50529",
   "metadata": {},
   "outputs": [],
   "source": [
    "# open the data\n",
    "density = hz.read_data(DatasetPath+\"datasets/fra_pd_2015_1km_UNadj.tif\")"
   ]
  },
  {
   "cell_type": "code",
   "execution_count": 17,
   "id": "323747ee",
   "metadata": {},
   "outputs": [],
   "source": [
    "# open the data\n",
    "leaf_area_index = hz.read_data(DatasetPath+\"LeafAreaIndex/leaf_area_index_01012010_09012022.nc\")"
   ]
  },
  {
   "cell_type": "code",
   "execution_count": 18,
   "id": "1cd4fd0f",
   "metadata": {},
   "outputs": [],
   "source": [
    "# open the data\n",
    "lst_day = hz.read_data(DatasetPath+\"LandSurfaceTemp/LST_day/LST_1km_01012010_09012022 (1).nc\")"
   ]
  },
  {
   "cell_type": "code",
   "execution_count": 19,
   "id": "a4572a60",
   "metadata": {},
   "outputs": [],
   "source": [
    "# open the data\n",
    "lst_night = hz.read_data(DatasetPath+\"LandSurfaceTemp/LST_night/LST_Night_1km_01012010_09012022.nc\")"
   ]
  },
  {
   "cell_type": "code",
   "execution_count": 20,
   "id": "79f00a4d",
   "metadata": {},
   "outputs": [],
   "source": [
    "# open the data\n",
    "lst_qc = hz.read_data(DatasetPath+\"LandSurfaceTemp/QC/MOD11A1.061_1km_aid0001.nc\")"
   ]
  },
  {
   "cell_type": "markdown",
   "id": "b6a5d7cd",
   "metadata": {},
   "source": [
    "# Clip it"
   ]
  },
  {
   "cell_type": "code",
   "execution_count": 24,
   "id": "b6e9b6d7",
   "metadata": {},
   "outputs": [
    {
     "ename": "ValueError",
     "evalue": "No valid geometry objects found for rasterize",
     "output_type": "error",
     "traceback": [
      "\u001b[1;31m---------------------------------------------------------------------------\u001b[0m",
      "\u001b[1;31mValueError\u001b[0m                                Traceback (most recent call last)",
      "Input \u001b[1;32mIn [24]\u001b[0m, in \u001b[0;36m<cell line: 2>\u001b[1;34m()\u001b[0m\n\u001b[0;32m      1\u001b[0m \u001b[38;5;66;03m# Clip the density data to the area of interest\u001b[39;00m\n\u001b[1;32m----> 2\u001b[0m density \u001b[38;5;241m=\u001b[39m \u001b[43mhz\u001b[49m\u001b[38;5;241;43m.\u001b[39;49m\u001b[43mclip_geotiff_with_shapefile\u001b[49m\u001b[43m(\u001b[49m\u001b[43mdensity\u001b[49m\u001b[43m,\u001b[49m\u001b[43m \u001b[49m\u001b[43mDatasetPath\u001b[49m\u001b[38;5;241;43m+\u001b[39;49m\u001b[38;5;124;43m\"\u001b[39;49m\u001b[38;5;124;43mmygeodata.zip\u001b[39;49m\u001b[38;5;124;43m\"\u001b[39;49m\u001b[43m)\u001b[49m\n",
      "File \u001b[1;32m~\\Documents\\wildfire\\src\\harmonize.py:116\u001b[0m, in \u001b[0;36mclip_geotiff_with_shapefile\u001b[1;34m(geotiff, path)\u001b[0m\n\u001b[0;32m    111\u001b[0m     \"input: geotiff, path to the shapefile\"\n\u001b[0;32m    112\u001b[0m     return clip_to_shapefile(geotiff, path)\n\u001b[0;32m    115\u001b[0m # Merge a geotiff file with a netcdf file\n\u001b[1;32m--> 116\u001b[0m # Definition of a function to merge a geotiff file with a netcdf file\n\u001b[0;32m    117\u001b[0m def merge_geotiff_netcdf(geotiff, netcdf):\n\u001b[0;32m    118\u001b[0m     \"\"\"Merges a geotiff file with a netcdf file\"\"\"\n",
      "File \u001b[1;32m~\\Documents\\wildfire\\src\\harmonize.py:100\u001b[0m, in \u001b[0;36mclip_to_shapefile\u001b[1;34m(dataray, path)\u001b[0m\n\u001b[0;32m     95\u001b[0m     \"input: dataray, path to the shapefile\"\n\u001b[0;32m     96\u001b[0m     return dataray.rio.clip(path)\n\u001b[0;32m     99\u001b[0m # Clip the geotiff file to the netcdf file\n\u001b[1;32m--> 100\u001b[0m # Definition of a function to clip the geotiff file to the netcdf file\n\u001b[0;32m    101\u001b[0m def clip_geotiff_to_netcdf(geotiff, netcdf):\n\u001b[0;32m    102\u001b[0m     \"\"\"Clips the geotiff file to the netcdf file\"\"\"\n",
      "File \u001b[1;32m~\\anaconda3\\envs\\FireProject\\lib\\site-packages\\rioxarray\\raster_dataset.py:380\u001b[0m, in \u001b[0;36mRasterDataset.clip\u001b[1;34m(self, geometries, crs, all_touched, drop, invert, from_disk)\u001b[0m\n\u001b[0;32m    377\u001b[0m \u001b[38;5;28;01mtry\u001b[39;00m:\n\u001b[0;32m    378\u001b[0m     x_dim, y_dim \u001b[38;5;241m=\u001b[39m _get_spatial_dims(\u001b[38;5;28mself\u001b[39m\u001b[38;5;241m.\u001b[39m_obj, var)\n\u001b[0;32m    379\u001b[0m     clipped_dataset[var] \u001b[38;5;241m=\u001b[39m (\n\u001b[1;32m--> 380\u001b[0m         \u001b[38;5;28;43mself\u001b[39;49m\u001b[38;5;241;43m.\u001b[39;49m\u001b[43m_obj\u001b[49m\u001b[43m[\u001b[49m\u001b[43mvar\u001b[49m\u001b[43m]\u001b[49m\n\u001b[0;32m    381\u001b[0m \u001b[43m        \u001b[49m\u001b[38;5;241;43m.\u001b[39;49m\u001b[43mrio\u001b[49m\u001b[38;5;241;43m.\u001b[39;49m\u001b[43mset_spatial_dims\u001b[49m\u001b[43m(\u001b[49m\u001b[43mx_dim\u001b[49m\u001b[38;5;241;43m=\u001b[39;49m\u001b[43mx_dim\u001b[49m\u001b[43m,\u001b[49m\u001b[43m \u001b[49m\u001b[43my_dim\u001b[49m\u001b[38;5;241;43m=\u001b[39;49m\u001b[43my_dim\u001b[49m\u001b[43m,\u001b[49m\u001b[43m \u001b[49m\u001b[43minplace\u001b[49m\u001b[38;5;241;43m=\u001b[39;49m\u001b[38;5;28;43;01mTrue\u001b[39;49;00m\u001b[43m)\u001b[49m\n\u001b[0;32m    382\u001b[0m \u001b[43m        \u001b[49m\u001b[38;5;241;43m.\u001b[39;49m\u001b[43mrio\u001b[49m\u001b[38;5;241;43m.\u001b[39;49m\u001b[43mclip\u001b[49m\u001b[43m(\u001b[49m\n\u001b[0;32m    383\u001b[0m \u001b[43m            \u001b[49m\u001b[43mgeometries\u001b[49m\u001b[43m,\u001b[49m\n\u001b[0;32m    384\u001b[0m \u001b[43m            \u001b[49m\u001b[43mcrs\u001b[49m\u001b[38;5;241;43m=\u001b[39;49m\u001b[43mcrs\u001b[49m\u001b[43m,\u001b[49m\n\u001b[0;32m    385\u001b[0m \u001b[43m            \u001b[49m\u001b[43mall_touched\u001b[49m\u001b[38;5;241;43m=\u001b[39;49m\u001b[43mall_touched\u001b[49m\u001b[43m,\u001b[49m\n\u001b[0;32m    386\u001b[0m \u001b[43m            \u001b[49m\u001b[43mdrop\u001b[49m\u001b[38;5;241;43m=\u001b[39;49m\u001b[43mdrop\u001b[49m\u001b[43m,\u001b[49m\n\u001b[0;32m    387\u001b[0m \u001b[43m            \u001b[49m\u001b[43minvert\u001b[49m\u001b[38;5;241;43m=\u001b[39;49m\u001b[43minvert\u001b[49m\u001b[43m,\u001b[49m\n\u001b[0;32m    388\u001b[0m \u001b[43m            \u001b[49m\u001b[43mfrom_disk\u001b[49m\u001b[38;5;241;43m=\u001b[39;49m\u001b[43mfrom_disk\u001b[49m\u001b[43m,\u001b[49m\n\u001b[0;32m    389\u001b[0m \u001b[43m        \u001b[49m\u001b[43m)\u001b[49m\n\u001b[0;32m    390\u001b[0m     )\n\u001b[0;32m    391\u001b[0m \u001b[38;5;28;01mexcept\u001b[39;00m MissingSpatialDimensionError:\n\u001b[0;32m    392\u001b[0m     \u001b[38;5;28;01mif\u001b[39;00m \u001b[38;5;28mlen\u001b[39m(\u001b[38;5;28mself\u001b[39m\u001b[38;5;241m.\u001b[39m_obj[var]\u001b[38;5;241m.\u001b[39mdims) \u001b[38;5;241m>\u001b[39m\u001b[38;5;241m=\u001b[39m \u001b[38;5;241m2\u001b[39m \u001b[38;5;129;01mand\u001b[39;00m \u001b[38;5;129;01mnot\u001b[39;00m get_option(\n\u001b[0;32m    393\u001b[0m         SKIP_MISSING_SPATIAL_DIMS\n\u001b[0;32m    394\u001b[0m     ):\n",
      "File \u001b[1;32m~\\anaconda3\\envs\\FireProject\\lib\\site-packages\\rioxarray\\raster_array.py:924\u001b[0m, in \u001b[0;36mRasterArray.clip\u001b[1;34m(self, geometries, crs, all_touched, drop, invert, from_disk)\u001b[0m\n\u001b[0;32m    916\u001b[0m     cropped_ds \u001b[38;5;241m=\u001b[39m _clip_from_disk(\n\u001b[0;32m    917\u001b[0m         \u001b[38;5;28mself\u001b[39m\u001b[38;5;241m.\u001b[39m_obj,\n\u001b[0;32m    918\u001b[0m         geometries\u001b[38;5;241m=\u001b[39mgeometries,\n\u001b[1;32m   (...)\u001b[0m\n\u001b[0;32m    921\u001b[0m         invert\u001b[38;5;241m=\u001b[39minvert,\n\u001b[0;32m    922\u001b[0m     )\n\u001b[0;32m    923\u001b[0m \u001b[38;5;28;01mif\u001b[39;00m cropped_ds \u001b[38;5;129;01mis\u001b[39;00m \u001b[38;5;28;01mNone\u001b[39;00m:\n\u001b[1;32m--> 924\u001b[0m     cropped_ds \u001b[38;5;241m=\u001b[39m \u001b[43m_clip_xarray\u001b[49m\u001b[43m(\u001b[49m\n\u001b[0;32m    925\u001b[0m \u001b[43m        \u001b[49m\u001b[38;5;28;43mself\u001b[39;49m\u001b[38;5;241;43m.\u001b[39;49m\u001b[43m_obj\u001b[49m\u001b[43m,\u001b[49m\n\u001b[0;32m    926\u001b[0m \u001b[43m        \u001b[49m\u001b[43mgeometries\u001b[49m\u001b[38;5;241;43m=\u001b[39;49m\u001b[43mgeometries\u001b[49m\u001b[43m,\u001b[49m\n\u001b[0;32m    927\u001b[0m \u001b[43m        \u001b[49m\u001b[43mall_touched\u001b[49m\u001b[38;5;241;43m=\u001b[39;49m\u001b[43mall_touched\u001b[49m\u001b[43m,\u001b[49m\n\u001b[0;32m    928\u001b[0m \u001b[43m        \u001b[49m\u001b[43mdrop\u001b[49m\u001b[38;5;241;43m=\u001b[39;49m\u001b[43mdrop\u001b[49m\u001b[43m,\u001b[49m\n\u001b[0;32m    929\u001b[0m \u001b[43m        \u001b[49m\u001b[43minvert\u001b[49m\u001b[38;5;241;43m=\u001b[39;49m\u001b[43minvert\u001b[49m\u001b[43m,\u001b[49m\n\u001b[0;32m    930\u001b[0m \u001b[43m    \u001b[49m\u001b[43m)\u001b[49m\n\u001b[0;32m    932\u001b[0m \u001b[38;5;28;01mif\u001b[39;00m (\n\u001b[0;32m    933\u001b[0m     cropped_ds\u001b[38;5;241m.\u001b[39mcoords[\u001b[38;5;28mself\u001b[39m\u001b[38;5;241m.\u001b[39mx_dim]\u001b[38;5;241m.\u001b[39msize \u001b[38;5;241m<\u001b[39m \u001b[38;5;241m1\u001b[39m\n\u001b[0;32m    934\u001b[0m     \u001b[38;5;129;01mor\u001b[39;00m cropped_ds\u001b[38;5;241m.\u001b[39mcoords[\u001b[38;5;28mself\u001b[39m\u001b[38;5;241m.\u001b[39my_dim]\u001b[38;5;241m.\u001b[39msize \u001b[38;5;241m<\u001b[39m \u001b[38;5;241m1\u001b[39m\n\u001b[0;32m    935\u001b[0m ):\n\u001b[0;32m    936\u001b[0m     \u001b[38;5;28;01mraise\u001b[39;00m NoDataInBounds(\n\u001b[0;32m    937\u001b[0m         \u001b[38;5;124mf\u001b[39m\u001b[38;5;124m\"\u001b[39m\u001b[38;5;124mNo data found in bounds.\u001b[39m\u001b[38;5;132;01m{\u001b[39;00m_get_data_var_message(\u001b[38;5;28mself\u001b[39m\u001b[38;5;241m.\u001b[39m_obj)\u001b[38;5;132;01m}\u001b[39;00m\u001b[38;5;124m\"\u001b[39m\n\u001b[0;32m    938\u001b[0m     )\n",
      "File \u001b[1;32m~\\anaconda3\\envs\\FireProject\\lib\\site-packages\\rioxarray\\raster_array.py:212\u001b[0m, in \u001b[0;36m_clip_xarray\u001b[1;34m(xds, geometries, all_touched, drop, invert)\u001b[0m\n\u001b[0;32m    202\u001b[0m \u001b[38;5;28;01mdef\u001b[39;00m \u001b[38;5;21m_clip_xarray\u001b[39m(\n\u001b[0;32m    203\u001b[0m     xds: xarray\u001b[38;5;241m.\u001b[39mDataArray,\n\u001b[0;32m    204\u001b[0m     geometries: Iterable,\n\u001b[1;32m   (...)\u001b[0m\n\u001b[0;32m    207\u001b[0m     invert: \u001b[38;5;28mbool\u001b[39m,\n\u001b[0;32m    208\u001b[0m ) \u001b[38;5;241m-\u001b[39m\u001b[38;5;241m>\u001b[39m xarray\u001b[38;5;241m.\u001b[39mDataArray:\n\u001b[0;32m    209\u001b[0m     \u001b[38;5;124;03m\"\"\"\u001b[39;00m\n\u001b[0;32m    210\u001b[0m \u001b[38;5;124;03m    clip the xarray DataArray\u001b[39;00m\n\u001b[0;32m    211\u001b[0m \u001b[38;5;124;03m    \"\"\"\u001b[39;00m\n\u001b[1;32m--> 212\u001b[0m     clip_mask_arr \u001b[38;5;241m=\u001b[39m \u001b[43mgeometry_mask\u001b[49m\u001b[43m(\u001b[49m\n\u001b[0;32m    213\u001b[0m \u001b[43m        \u001b[49m\u001b[43mgeometries\u001b[49m\u001b[38;5;241;43m=\u001b[39;49m\u001b[43mgeometries\u001b[49m\u001b[43m,\u001b[49m\n\u001b[0;32m    214\u001b[0m \u001b[43m        \u001b[49m\u001b[43mout_shape\u001b[49m\u001b[38;5;241;43m=\u001b[39;49m\u001b[43m(\u001b[49m\u001b[38;5;28;43mint\u001b[39;49m\u001b[43m(\u001b[49m\u001b[43mxds\u001b[49m\u001b[38;5;241;43m.\u001b[39;49m\u001b[43mrio\u001b[49m\u001b[38;5;241;43m.\u001b[39;49m\u001b[43mheight\u001b[49m\u001b[43m)\u001b[49m\u001b[43m,\u001b[49m\u001b[43m \u001b[49m\u001b[38;5;28;43mint\u001b[39;49m\u001b[43m(\u001b[49m\u001b[43mxds\u001b[49m\u001b[38;5;241;43m.\u001b[39;49m\u001b[43mrio\u001b[49m\u001b[38;5;241;43m.\u001b[39;49m\u001b[43mwidth\u001b[49m\u001b[43m)\u001b[49m\u001b[43m)\u001b[49m\u001b[43m,\u001b[49m\n\u001b[0;32m    215\u001b[0m \u001b[43m        \u001b[49m\u001b[43mtransform\u001b[49m\u001b[38;5;241;43m=\u001b[39;49m\u001b[43mxds\u001b[49m\u001b[38;5;241;43m.\u001b[39;49m\u001b[43mrio\u001b[49m\u001b[38;5;241;43m.\u001b[39;49m\u001b[43mtransform\u001b[49m\u001b[43m(\u001b[49m\u001b[43mrecalc\u001b[49m\u001b[38;5;241;43m=\u001b[39;49m\u001b[38;5;28;43;01mTrue\u001b[39;49;00m\u001b[43m)\u001b[49m\u001b[43m,\u001b[49m\n\u001b[0;32m    216\u001b[0m \u001b[43m        \u001b[49m\u001b[43minvert\u001b[49m\u001b[38;5;241;43m=\u001b[39;49m\u001b[38;5;129;43;01mnot\u001b[39;49;00m\u001b[43m \u001b[49m\u001b[43minvert\u001b[49m\u001b[43m,\u001b[49m\n\u001b[0;32m    217\u001b[0m \u001b[43m        \u001b[49m\u001b[43mall_touched\u001b[49m\u001b[38;5;241;43m=\u001b[39;49m\u001b[43mall_touched\u001b[49m\u001b[43m,\u001b[49m\n\u001b[0;32m    218\u001b[0m \u001b[43m    \u001b[49m\u001b[43m)\u001b[49m\n\u001b[0;32m    219\u001b[0m     clip_mask_xray \u001b[38;5;241m=\u001b[39m xarray\u001b[38;5;241m.\u001b[39mDataArray(\n\u001b[0;32m    220\u001b[0m         clip_mask_arr,\n\u001b[0;32m    221\u001b[0m         dims\u001b[38;5;241m=\u001b[39m(xds\u001b[38;5;241m.\u001b[39mrio\u001b[38;5;241m.\u001b[39my_dim, xds\u001b[38;5;241m.\u001b[39mrio\u001b[38;5;241m.\u001b[39mx_dim),\n\u001b[0;32m    222\u001b[0m     )\n\u001b[0;32m    223\u001b[0m     cropped_ds \u001b[38;5;241m=\u001b[39m xds\u001b[38;5;241m.\u001b[39mwhere(clip_mask_xray)\n",
      "File \u001b[1;32m~\\anaconda3\\envs\\FireProject\\lib\\site-packages\\rasterio\\env.py:392\u001b[0m, in \u001b[0;36mensure_env.<locals>.wrapper\u001b[1;34m(*args, **kwds)\u001b[0m\n\u001b[0;32m    390\u001b[0m \u001b[38;5;28;01melse\u001b[39;00m:\n\u001b[0;32m    391\u001b[0m     \u001b[38;5;28;01mwith\u001b[39;00m Env\u001b[38;5;241m.\u001b[39mfrom_defaults():\n\u001b[1;32m--> 392\u001b[0m         \u001b[38;5;28;01mreturn\u001b[39;00m f(\u001b[38;5;241m*\u001b[39margs, \u001b[38;5;241m*\u001b[39m\u001b[38;5;241m*\u001b[39mkwds)\n",
      "File \u001b[1;32m~\\anaconda3\\envs\\FireProject\\lib\\site-packages\\rasterio\\features.py:69\u001b[0m, in \u001b[0;36mgeometry_mask\u001b[1;34m(geometries, out_shape, transform, all_touched, invert)\u001b[0m\n\u001b[0;32m     35\u001b[0m \u001b[38;5;124;03m\"\"\"Create a mask from shapes.\u001b[39;00m\n\u001b[0;32m     36\u001b[0m \n\u001b[0;32m     37\u001b[0m \u001b[38;5;124;03mBy default, mask is intended for use as a\u001b[39;00m\n\u001b[1;32m   (...)\u001b[0m\n\u001b[0;32m     65\u001b[0m \n\u001b[0;32m     66\u001b[0m \u001b[38;5;124;03m\"\"\"\u001b[39;00m\n\u001b[0;32m     67\u001b[0m fill, mask_value \u001b[38;5;241m=\u001b[39m (\u001b[38;5;241m0\u001b[39m, \u001b[38;5;241m1\u001b[39m) \u001b[38;5;28;01mif\u001b[39;00m invert \u001b[38;5;28;01melse\u001b[39;00m (\u001b[38;5;241m1\u001b[39m, \u001b[38;5;241m0\u001b[39m)\n\u001b[1;32m---> 69\u001b[0m \u001b[38;5;28;01mreturn\u001b[39;00m \u001b[43mrasterize\u001b[49m\u001b[43m(\u001b[49m\n\u001b[0;32m     70\u001b[0m \u001b[43m    \u001b[49m\u001b[43mgeometries\u001b[49m\u001b[43m,\u001b[49m\n\u001b[0;32m     71\u001b[0m \u001b[43m    \u001b[49m\u001b[43mout_shape\u001b[49m\u001b[38;5;241;43m=\u001b[39;49m\u001b[43mout_shape\u001b[49m\u001b[43m,\u001b[49m\n\u001b[0;32m     72\u001b[0m \u001b[43m    \u001b[49m\u001b[43mtransform\u001b[49m\u001b[38;5;241;43m=\u001b[39;49m\u001b[43mtransform\u001b[49m\u001b[43m,\u001b[49m\n\u001b[0;32m     73\u001b[0m \u001b[43m    \u001b[49m\u001b[43mall_touched\u001b[49m\u001b[38;5;241;43m=\u001b[39;49m\u001b[43mall_touched\u001b[49m\u001b[43m,\u001b[49m\n\u001b[0;32m     74\u001b[0m \u001b[43m    \u001b[49m\u001b[43mfill\u001b[49m\u001b[38;5;241;43m=\u001b[39;49m\u001b[43mfill\u001b[49m\u001b[43m,\u001b[49m\n\u001b[0;32m     75\u001b[0m \u001b[43m    \u001b[49m\u001b[43mdefault_value\u001b[49m\u001b[38;5;241;43m=\u001b[39;49m\u001b[43mmask_value\u001b[49m\u001b[43m)\u001b[49m\u001b[38;5;241m.\u001b[39mastype(\u001b[38;5;124m'\u001b[39m\u001b[38;5;124mbool\u001b[39m\u001b[38;5;124m'\u001b[39m)\n",
      "File \u001b[1;32m~\\anaconda3\\envs\\FireProject\\lib\\site-packages\\rasterio\\env.py:389\u001b[0m, in \u001b[0;36mensure_env.<locals>.wrapper\u001b[1;34m(*args, **kwds)\u001b[0m\n\u001b[0;32m    386\u001b[0m \u001b[38;5;129m@wraps\u001b[39m(f)\n\u001b[0;32m    387\u001b[0m \u001b[38;5;28;01mdef\u001b[39;00m \u001b[38;5;21mwrapper\u001b[39m(\u001b[38;5;241m*\u001b[39margs, \u001b[38;5;241m*\u001b[39m\u001b[38;5;241m*\u001b[39mkwds):\n\u001b[0;32m    388\u001b[0m     \u001b[38;5;28;01mif\u001b[39;00m local\u001b[38;5;241m.\u001b[39m_env:\n\u001b[1;32m--> 389\u001b[0m         \u001b[38;5;28;01mreturn\u001b[39;00m f(\u001b[38;5;241m*\u001b[39margs, \u001b[38;5;241m*\u001b[39m\u001b[38;5;241m*\u001b[39mkwds)\n\u001b[0;32m    390\u001b[0m     \u001b[38;5;28;01melse\u001b[39;00m:\n\u001b[0;32m    391\u001b[0m         \u001b[38;5;28;01mwith\u001b[39;00m Env\u001b[38;5;241m.\u001b[39mfrom_defaults():\n",
      "File \u001b[1;32m~\\anaconda3\\envs\\FireProject\\lib\\site-packages\\rasterio\\features.py:325\u001b[0m, in \u001b[0;36mrasterize\u001b[1;34m(shapes, out_shape, fill, out, transform, all_touched, merge_alg, default_value, dtype)\u001b[0m\n\u001b[0;32m    322\u001b[0m         warnings\u001b[38;5;241m.\u001b[39mwarn(\u001b[38;5;124m'\u001b[39m\u001b[38;5;124mInvalid or empty shape \u001b[39m\u001b[38;5;132;01m{}\u001b[39;00m\u001b[38;5;124m at index \u001b[39m\u001b[38;5;132;01m{}\u001b[39;00m\u001b[38;5;124m will not be rasterized.\u001b[39m\u001b[38;5;124m'\u001b[39m\u001b[38;5;241m.\u001b[39mformat(geom, index), ShapeSkipWarning)\n\u001b[0;32m    324\u001b[0m \u001b[38;5;28;01mif\u001b[39;00m \u001b[38;5;129;01mnot\u001b[39;00m valid_shapes:\n\u001b[1;32m--> 325\u001b[0m     \u001b[38;5;28;01mraise\u001b[39;00m \u001b[38;5;167;01mValueError\u001b[39;00m(\u001b[38;5;124m'\u001b[39m\u001b[38;5;124mNo valid geometry objects found for rasterize\u001b[39m\u001b[38;5;124m'\u001b[39m)\n\u001b[0;32m    327\u001b[0m shape_values \u001b[38;5;241m=\u001b[39m np\u001b[38;5;241m.\u001b[39marray(shape_values)\n\u001b[0;32m    329\u001b[0m \u001b[38;5;28;01mif\u001b[39;00m \u001b[38;5;129;01mnot\u001b[39;00m validate_dtype(shape_values, valid_dtypes):\n",
      "\u001b[1;31mValueError\u001b[0m: No valid geometry objects found for rasterize"
     ]
    }
   ],
   "source": [
    "# Clip the density data to the area of interest\n",
    "density = hz.clip_geotiff_with_shapefile(density, DatasetPath+\"mygeodata.zip\")"
   ]
  },
  {
   "cell_type": "code",
   "execution_count": null,
   "id": "b4743446",
   "metadata": {},
   "outputs": [],
   "source": [
    "#Clip the era data to the area of interest\n",
    "era = hz.clip_to_shapefile(era, DatasetPath+\"mygeodata.zip\")"
   ]
  },
  {
   "cell_type": "markdown",
   "id": "59bb7b28",
   "metadata": {},
   "source": [
    "# Reproject"
   ]
  },
  {
   "cell_type": "code",
   "execution_count": null,
   "id": "311c00a2",
   "metadata": {},
   "outputs": [],
   "source": [
    "# Reproject era data from longlat to Lambert93\n",
    "era = hz.reproject_to_lambert93(era)"
   ]
  },
  {
   "cell_type": "code",
   "execution_count": null,
   "id": "7c1ec586",
   "metadata": {},
   "outputs": [],
   "source": [
    "# Reproject density data from longlat to Lambert93\n",
    "density = hz.reproject_to_lambert93(density)"
   ]
  },
  {
   "cell_type": "code",
   "execution_count": null,
   "id": "dcca93eb",
   "metadata": {},
   "outputs": [],
   "source": [
    "\n",
    "# create a list of the data\n",
    "data = [\n",
    "    ndvi,\n",
    "    evapotranspiration,\n",
    "    era,\n",
    "    burn_date,\n",
    "    burn_mask,\n",
    "    density,\n",
    "    leaf_area_index,\n",
    "    lst_day,\n",
    "    lst_night,\n",
    "    lst_qc,\n",
    "]\n",
    "#\n",
    "\n",
    "# Defining the crs of the data\n",
    "crs = \"EPSG:2154\"\n",
    "# Defining the bounds of the data\n",
    "bounds = crop_extent.bounds\n",
    "# Defining the resolution of the data\n",
    "resolution = (1000, 1000)\n",
    "# Defining the name of the data\n",
    "name = \"harmonized_data\"\n",
    "# Defining the path to the data\n",
    "outfile = \"datasets/harmonized_data.nc\"\n",
    "\n",
    "# Harmonize the data\n",
    "harmonized_data = harmonize_multiple(data)\n",
    "# Export the harmonized data into a netcdf file\n",
    "export_to_netcdf(harmonized_data, \"outfile\")\n",
    "# Read the data exported from the harmonize.py script\n",
    "harmonized_data = read_data(\"outfile\")\n",
    "# Plot the one variable at a specific time\n",
    "plot_one_variable(harmonized_data, \"dvi\", \"2010-01-01\")\n",
    "# Plot multiple plots of one variable over time range\n",
    "plot_multiple(harmonized_data, \"dvi\", slice(\"2010-01-01\", \"2010-01-31\"))\n",
    "\n"
   ]
  }
 ],
 "metadata": {
  "kernelspec": {
   "display_name": "Python 3 (ipykernel)",
   "language": "python",
   "name": "python3"
  },
  "language_info": {
   "codemirror_mode": {
    "name": "ipython",
    "version": 3
   },
   "file_extension": ".py",
   "mimetype": "text/x-python",
   "name": "python",
   "nbconvert_exporter": "python",
   "pygments_lexer": "ipython3",
   "version": "3.9.13"
  }
 },
 "nbformat": 4,
 "nbformat_minor": 5
}
