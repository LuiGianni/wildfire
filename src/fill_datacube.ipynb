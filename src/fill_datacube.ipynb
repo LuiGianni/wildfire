{
 "cells": [
  {
   "cell_type": "code",
   "execution_count": 16,
   "id": "b9ad7962",
   "metadata": {},
   "outputs": [],
   "source": [
    "import pandas as pd\n",
    "import seaborn as sns\n",
    "import matplotlib.pyplot as plt\n",
    "import missingno as msno\n",
    "import xarray as xr"
   ]
  },
  {
   "cell_type": "code",
   "execution_count": 17,
   "id": "40ed3ea0",
   "metadata": {},
   "outputs": [],
   "source": [
    "path_data = \"../data/\""
   ]
  },
  {
   "cell_type": "code",
   "execution_count": 28,
   "id": "0725b115",
   "metadata": {},
   "outputs": [],
   "source": [
    "datacube = xr.open_dataset(path_data + \"datacube.nc\")\n"
   ]
  },
  {
   "cell_type": "code",
   "execution_count": 23,
   "id": "e458446b",
   "metadata": {},
   "outputs": [
    {
     "name": "stdout",
     "output_type": "stream",
     "text": [
      "MISSING DATA: \n",
      "EVI:  \n",
      "\t percentage : 0.20811654526534862 \n",
      "\t count : 40992  /  19696656\n",
      "LAI :  \n",
      "\t percentage : 0.7860115950646648 \n",
      "\t count : 154818  /  19696656\n",
      "Evap :  \n",
      "\t percentage : 7.261780883008771 \n",
      "\t count : 1430328  /  19696656\n",
      "u10 :  \n",
      "\t percentage : 20.349779170636882 \n",
      "\t count : 4008226  /  19696656\n",
      "v10 :  \n",
      "\t percentage : 20.349779170636882 \n",
      "\t count : 4008226  /  19696656\n",
      "t2m :  \n",
      "\t percentage : 20.349779170636882 \n",
      "\t count : 4008226  /  19696656\n",
      "tp :  \n",
      "\t percentage : 20.349779170636882 \n",
      "\t count : 4008226  /  19696656\n",
      "First_Day :  \n",
      "\t percentage : 1.2365043081424583 \n",
      "\t count : 243550  /  19696656\n",
      "Last_Day :  \n",
      "\t percentage : 1.2365043081424583 \n",
      "\t count : 243550  /  19696656\n",
      "Burn_Date :  \n",
      "\t percentage : 1.2365043081424583 \n",
      "\t count : 243550  /  19696656\n",
      "FireMask :  \n",
      "\t percentage : 0.20811654526534862 \n",
      "\t count : 40992  /  19696656\n",
      "Density :  \n",
      "\t percentage : 6.994202467667608 \n",
      "\t count : 3764  /  53816\n"
     ]
    }
   ],
   "source": [
    "print_missing_data(datacube)"
   ]
  },
  {
   "cell_type": "code",
   "execution_count": 29,
   "id": "a2933e49",
   "metadata": {},
   "outputs": [],
   "source": [
    "datacube = datacube.sel(time=slice('2010-01-01', '2010-01-02'))"
   ]
  },
  {
   "cell_type": "code",
   "execution_count": 19,
   "id": "437bb594",
   "metadata": {},
   "outputs": [],
   "source": [
    "def print_missing_data(datacube):\n",
    "    print(\"MISSING DATA: \")\n",
    "    print(\"EVI: \", \"\\n\\t percentage :\", datacube[\"_1_km_16_days_EVI\"].isnull().sum().values /datacube[\"_1_km_16_days_EVI\"].size*100, \"\\n\\t count :\", datacube[\"_1_km_16_days_EVI\"].isnull().sum().values.ravel()[0], \" / \", datacube[\"_1_km_16_days_EVI\"].size)\n",
    "    print(\"LAI : \", \"\\n\\t percentage :\", datacube[\"Fpar_500m\"].isnull().sum().values /datacube[\"Fpar_500m\"].size*100, \"\\n\\t count :\", datacube[\"Fpar_500m\"].isnull().sum().values.ravel()[0], \" / \", datacube[\"Fpar_500m\"].size)\n",
    "    print(\"Evap : \", \"\\n\\t percentage :\", datacube[\"ET_500m\"].isnull().sum().values /datacube[\"ET_500m\"].size*100, \"\\n\\t count :\", datacube[\"ET_500m\"].isnull().sum().values.ravel()[0], \" / \", datacube[\"ET_500m\"].size)\n",
    "    print(\"u10 : \", \"\\n\\t percentage :\", datacube[\"u10\"].isnull().sum().values /datacube[\"u10\"].size*100, \"\\n\\t count :\", datacube[\"u10\"].isnull().sum().values.ravel()[0], \" / \", datacube[\"u10\"].size)\n",
    "    print(\"v10 : \", \"\\n\\t percentage :\", datacube[\"v10\"].isnull().sum().values /datacube[\"v10\"].size*100, \"\\n\\t count :\", datacube[\"v10\"].isnull().sum().values.ravel()[0], \" / \", datacube[\"v10\"].size)\n",
    "    print(\"t2m : \", \"\\n\\t percentage :\", datacube[\"t2m\"].isnull().sum().values /datacube[\"t2m\"].size*100, \"\\n\\t count :\", datacube[\"t2m\"].isnull().sum().values.ravel()[0], \" / \", datacube[\"t2m\"].size)\n",
    "    print(\"tp : \", \"\\n\\t percentage :\", datacube[\"tp\"].isnull().sum().values /datacube[\"tp\"].size*100, \"\\n\\t count :\", datacube[\"tp\"].isnull().sum().values.ravel()[0], \" / \", datacube[\"tp\"].size)\n",
    "    print(\"First_Day : \", \"\\n\\t percentage :\", datacube[\"First_Day\"].isnull().sum().values /datacube[\"First_Day\"].size*100, \"\\n\\t count :\", datacube[\"First_Day\"].isnull().sum().values.ravel()[0], \" / \", datacube[\"First_Day\"].size)\n",
    "    print(\"Last_Day : \", \"\\n\\t percentage :\", datacube[\"Last_Day\"].isnull().sum().values /datacube[\"Last_Day\"].size*100, \"\\n\\t count :\", datacube[\"Last_Day\"].isnull().sum().values.ravel()[0], \" / \", datacube[\"Last_Day\"].size)\n",
    "    print(\"Burn_Date : \", \"\\n\\t percentage :\", datacube[\"Burn_Date\"].isnull().sum().values /datacube[\"Burn_Date\"].size*100, \"\\n\\t count :\", datacube[\"Burn_Date\"].isnull().sum().values.ravel()[0], \" / \", datacube[\"Burn_Date\"].size)\n",
    "    print(\"FireMask : \", \"\\n\\t percentage :\", datacube[\"FireMask\"].isnull().sum().values /datacube[\"FireMask\"].size*100, \"\\n\\t count :\", datacube[\"FireMask\"].isnull().sum().values.ravel()[0], \" / \", datacube[\"FireMask\"].size)\n",
    "    print(\"Density : \", \"\\n\\t percentage :\", datacube[\"density\"].isnull().sum().values /datacube[\"density\"].size*100, \"\\n\\t count :\", datacube[\"density\"].isnull().sum().values.ravel()[0], \" / \", datacube[\"density\"].size)\n"
   ]
  },
  {
   "cell_type": "code",
   "execution_count": 20,
   "id": "d7fe0da3",
   "metadata": {},
   "outputs": [
    {
     "name": "stdout",
     "output_type": "stream",
     "text": [
      "MISSING DATA: \n",
      "EVI:  \n",
      "\t percentage : 0.20811654526534862 \n",
      "\t count : 224  /  107632\n",
      "LAI :  \n",
      "\t percentage : 0.7860115950646648 \n",
      "\t count : 846  /  107632\n",
      "Evap :  \n",
      "\t percentage : 7.261780883008771 \n",
      "\t count : 7816  /  107632\n",
      "u10 :  \n",
      "\t percentage : 60.06577969377137 \n",
      "\t count : 64650  /  107632\n",
      "v10 :  \n",
      "\t percentage : 60.06577969377137 \n",
      "\t count : 64650  /  107632\n",
      "t2m :  \n",
      "\t percentage : 60.06577969377137 \n",
      "\t count : 64650  /  107632\n",
      "tp :  \n",
      "\t percentage : 60.06577969377137 \n",
      "\t count : 64650  /  107632\n",
      "First_Day :  \n",
      "\t percentage : 1.2654229225509142 \n",
      "\t count : 1362  /  107632\n",
      "Last_Day :  \n",
      "\t percentage : 1.2654229225509142 \n",
      "\t count : 1362  /  107632\n",
      "Burn_Date :  \n",
      "\t percentage : 1.2654229225509142 \n",
      "\t count : 1362  /  107632\n",
      "FireMask :  \n",
      "\t percentage : 0.20811654526534862 \n",
      "\t count : 224  /  107632\n",
      "Density :  \n",
      "\t percentage : 6.994202467667608 \n",
      "\t count : 3764  /  53816\n"
     ]
    }
   ],
   "source": [
    "print_missing_data(datacube)"
   ]
  },
  {
   "cell_type": "code",
   "execution_count": 25,
   "id": "e4c452c9",
   "metadata": {},
   "outputs": [],
   "source": [
    "def fbfill(datacube\n",
    "           , dims : list = [\"x\",\"y\",\"time\"]\n",
    "           , flimit : int = 1\n",
    "           , blimit : int = 1\n",
    "           , max_occurence : int = -1\n",
    "          ):\n",
    "    \"\"\"\n",
    "    A recursive function that remove the nan values on a datacube.\n",
    "    \n",
    "    It first apply a forward fill with a limit of *flimit*\n",
    "    Then a bakward fill with a limit of *blimit*\n",
    "    on the *coords* of a *datacube*\n",
    "    untill there is no more nan or until *max_occurence* is reached\n",
    "    \n",
    "    Parameters\n",
    "    ----------\n",
    "    datacube : xarray.Dataset\n",
    "        a datacube from the xarray library\n",
    "        \n",
    "    dims : list, default [\"x\", \"y\", \"time\"]\n",
    "        Specifies the dimension along which to propagate values when filling.\n",
    "        \n",
    "    flimit : integer, default 1\n",
    "        The maximum number of consecutive NaN values to forward fill. \n",
    "        In other words, if there is a gap with more than this number of consecutive NaNs, \n",
    "        it will only be partially filled. \n",
    "        Must be greater than 0 or None for no limit. \n",
    "        Must be None or greater than or equal to axis length if filling along chunked axes (dimensions).\n",
    "        \n",
    "    blimit : integer, default 1\n",
    "        The maximum number of consecutive NaN values to backward fill.\n",
    "        In other words, if there is a gap with more than this number of consecutive NaNs,\n",
    "        it will only be partially filled. \n",
    "        Must be greater than 0 or None for no limit. \n",
    "        Must be None or greater than or equal to axis length if filling along chunked axes (dimensions).\n",
    "        \n",
    "    max_occurence : integer, default -1\n",
    "        The maximum number of time the filling will be processed.\n",
    "        If the number is negative the filling will be done untill there is no more Nan value in the datacube.\n",
    "    \n",
    "    \n",
    "    Examples\n",
    "    --------\n",
    "    \"\"\"\n",
    "    _datacube = datacube.copy()\n",
    "    \n",
    "    #forward fill\n",
    "    for _dim in dims:\n",
    "        _datacube = _datacube.ffill(_dim, limit=flimit)\n",
    "    #backward fill  \n",
    "    for _dim in dims:\n",
    "        _datacube = _datacube.bfill(_dim, limit=blimit)\n",
    "    \n",
    "    # If the original datacube has not been changed from the copy after the filling\n",
    "    # or if the maximum occurence wanted is reached\n",
    "    if _datacube.equals(datacube) or max_occurence==0:\n",
    "        return datacube\n",
    "    \n",
    "    # recursive on the _datacube\n",
    "    print(\"1\")\n",
    "    return fbfill(datacube = _datacube\n",
    "                            , dims = dims\n",
    "                            , flimit = flimit\n",
    "                            , blimit = blimit\n",
    "                            , max_occurence=max_occurence-1\n",
    "                           )"
   ]
  },
  {
   "cell_type": "code",
   "execution_count": 30,
   "id": "3a1411c9",
   "metadata": {},
   "outputs": [
    {
     "name": "stdout",
     "output_type": "stream",
     "text": [
      "1\n",
      "1\n",
      "1\n",
      "1\n",
      "1\n",
      "1\n",
      "1\n",
      "1\n",
      "1\n",
      "1\n",
      "1\n",
      "1\n",
      "1\n",
      "1\n",
      "1\n",
      "1\n",
      "1\n",
      "1\n",
      "1\n",
      "1\n",
      "1\n",
      "1\n",
      "1\n",
      "1\n",
      "1\n"
     ]
    }
   ],
   "source": [
    "datacube_nonan = fbfill(datacube\n",
    "                       #, max_occurence = 5\n",
    "                       )"
   ]
  },
  {
   "cell_type": "code",
   "execution_count": 31,
   "id": "093ac446",
   "metadata": {},
   "outputs": [
    {
     "name": "stdout",
     "output_type": "stream",
     "text": [
      "MISSING DATA: \n",
      "EVI:  \n",
      "\t percentage : 0.0 \n",
      "\t count : 0  /  107632\n",
      "LAI :  \n",
      "\t percentage : 0.0 \n",
      "\t count : 0  /  107632\n",
      "Evap :  \n",
      "\t percentage : 0.0 \n",
      "\t count : 0  /  107632\n",
      "u10 :  \n",
      "\t percentage : 0.0 \n",
      "\t count : 0  /  107632\n",
      "v10 :  \n",
      "\t percentage : 0.0 \n",
      "\t count : 0  /  107632\n",
      "t2m :  \n",
      "\t percentage : 0.0 \n",
      "\t count : 0  /  107632\n",
      "tp :  \n",
      "\t percentage : 0.0 \n",
      "\t count : 0  /  107632\n",
      "First_Day :  \n",
      "\t percentage : 0.0 \n",
      "\t count : 0  /  107632\n",
      "Last_Day :  \n",
      "\t percentage : 0.0 \n",
      "\t count : 0  /  107632\n",
      "Burn_Date :  \n",
      "\t percentage : 0.0 \n",
      "\t count : 0  /  107632\n",
      "FireMask :  \n",
      "\t percentage : 0.0 \n",
      "\t count : 0  /  107632\n",
      "Density :  \n",
      "\t percentage : 0.0 \n",
      "\t count : 0  /  53816\n"
     ]
    }
   ],
   "source": [
    "print_missing_data(datacube_nonan)\n"
   ]
  },
  {
   "cell_type": "code",
   "execution_count": null,
   "id": "b373f4ac",
   "metadata": {},
   "outputs": [],
   "source": []
  }
 ],
 "metadata": {
  "kernelspec": {
   "display_name": "Python 3 (ipykernel)",
   "language": "python",
   "name": "python3"
  },
  "language_info": {
   "codemirror_mode": {
    "name": "ipython",
    "version": 3
   },
   "file_extension": ".py",
   "mimetype": "text/x-python",
   "name": "python",
   "nbconvert_exporter": "python",
   "pygments_lexer": "ipython3",
   "version": "3.9.13"
  }
 },
 "nbformat": 4,
 "nbformat_minor": 5
}
