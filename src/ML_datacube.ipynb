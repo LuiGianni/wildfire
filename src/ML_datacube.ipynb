{
 "cells": [
  {
   "cell_type": "markdown",
   "source": [
    "# Auto_Ml on a subset of the datacube"
   ],
   "metadata": {
    "collapsed": false,
    "pycharm": {
     "name": "#%% md\n"
    }
   }
  },
  {
   "cell_type": "code",
   "execution_count": 2,
   "outputs": [],
   "source": [
    "import numpy as np\n",
    "import rasterio\n",
    "import matplotlib.pyplot as plt\n",
    "import xarray as xr\n",
    "import rioxarray as rxr\n",
    "import geopandas as gpd\n",
    "import harmonize as hz"
   ],
   "metadata": {
    "collapsed": false,
    "pycharm": {
     "name": "#%%\n"
    }
   }
  },
  {
   "cell_type": "code",
   "execution_count": 26,
   "outputs": [],
   "source": [
    "# Open the dataset with xarray\n",
    "path_data = \"../data/final/\""
   ],
   "metadata": {
    "collapsed": false,
    "pycharm": {
     "name": "#%%\n"
    }
   }
  },
  {
   "cell_type": "code",
   "execution_count": 27,
   "outputs": [],
   "source": [
    "# Open the datacube5 as an xarray dataset\n",
    "datacube = xr.open_dataset(path_data+ 'datacube.nc')"
   ],
   "metadata": {
    "collapsed": false,
    "pycharm": {
     "name": "#%%\n"
    }
   }
  },
  {
   "cell_type": "code",
   "execution_count": 28,
   "outputs": [
    {
     "data": {
      "text/plain": "<xarray.Dataset>\nDimensions:            (x: 248, y: 217, time: 4019)\nCoordinates:\n  * x                  (x) float64 3.294e+05 3.303e+05 ... 5.574e+05 5.583e+05\n  * y                  (y) float64 5.032e+06 5.031e+06 ... 4.833e+06 4.832e+06\n  * time               (time) object 2010-01-01 00:00:00 ... 2021-01-01 00:00:00\n    band               int32 ...\nData variables: (12/16)\n    crs                int32 ...\n    ET_500m            (time, y, x) float32 ...\n    Fpar_500m          (time, y, x) float64 ...\n    spatial_ref        int32 ...\n    density            (y, x) float32 ...\n    u10                (time, y, x) float64 ...\n    ...                 ...\n    Last_Day           (time, y, x) float64 ...\n    Burn_Date          (time, y, x) float64 ...\n    FireMask           (time, y, x) float32 ...\n    LST_Day_1km        (time, y, x) float64 ...\n    LST_Night_1km      (time, y, x) float64 ...\n    _1_km_16_days_EVI  (time, y, x) float64 ...\nAttributes:\n    Conventions:  CF-1.6\n    history:      2022-09-15 13:57:35 GMT by grib_to_netcdf-2.25.1: /opt/ecmw...",
      "text/html": "<div><svg style=\"position: absolute; width: 0; height: 0; overflow: hidden\">\n<defs>\n<symbol id=\"icon-database\" viewBox=\"0 0 32 32\">\n<path d=\"M16 0c-8.837 0-16 2.239-16 5v4c0 2.761 7.163 5 16 5s16-2.239 16-5v-4c0-2.761-7.163-5-16-5z\"></path>\n<path d=\"M16 17c-8.837 0-16-2.239-16-5v6c0 2.761 7.163 5 16 5s16-2.239 16-5v-6c0 2.761-7.163 5-16 5z\"></path>\n<path d=\"M16 26c-8.837 0-16-2.239-16-5v6c0 2.761 7.163 5 16 5s16-2.239 16-5v-6c0 2.761-7.163 5-16 5z\"></path>\n</symbol>\n<symbol id=\"icon-file-text2\" viewBox=\"0 0 32 32\">\n<path d=\"M28.681 7.159c-0.694-0.947-1.662-2.053-2.724-3.116s-2.169-2.030-3.116-2.724c-1.612-1.182-2.393-1.319-2.841-1.319h-15.5c-1.378 0-2.5 1.121-2.5 2.5v27c0 1.378 1.122 2.5 2.5 2.5h23c1.378 0 2.5-1.122 2.5-2.5v-19.5c0-0.448-0.137-1.23-1.319-2.841zM24.543 5.457c0.959 0.959 1.712 1.825 2.268 2.543h-4.811v-4.811c0.718 0.556 1.584 1.309 2.543 2.268zM28 29.5c0 0.271-0.229 0.5-0.5 0.5h-23c-0.271 0-0.5-0.229-0.5-0.5v-27c0-0.271 0.229-0.5 0.5-0.5 0 0 15.499-0 15.5 0v7c0 0.552 0.448 1 1 1h7v19.5z\"></path>\n<path d=\"M23 26h-14c-0.552 0-1-0.448-1-1s0.448-1 1-1h14c0.552 0 1 0.448 1 1s-0.448 1-1 1z\"></path>\n<path d=\"M23 22h-14c-0.552 0-1-0.448-1-1s0.448-1 1-1h14c0.552 0 1 0.448 1 1s-0.448 1-1 1z\"></path>\n<path d=\"M23 18h-14c-0.552 0-1-0.448-1-1s0.448-1 1-1h14c0.552 0 1 0.448 1 1s-0.448 1-1 1z\"></path>\n</symbol>\n</defs>\n</svg>\n<style>/* CSS stylesheet for displaying xarray objects in jupyterlab.\n *\n */\n\n:root {\n  --xr-font-color0: var(--jp-content-font-color0, rgba(0, 0, 0, 1));\n  --xr-font-color2: var(--jp-content-font-color2, rgba(0, 0, 0, 0.54));\n  --xr-font-color3: var(--jp-content-font-color3, rgba(0, 0, 0, 0.38));\n  --xr-border-color: var(--jp-border-color2, #e0e0e0);\n  --xr-disabled-color: var(--jp-layout-color3, #bdbdbd);\n  --xr-background-color: var(--jp-layout-color0, white);\n  --xr-background-color-row-even: var(--jp-layout-color1, white);\n  --xr-background-color-row-odd: var(--jp-layout-color2, #eeeeee);\n}\n\nhtml[theme=dark],\nbody[data-theme=dark],\nbody.vscode-dark {\n  --xr-font-color0: rgba(255, 255, 255, 1);\n  --xr-font-color2: rgba(255, 255, 255, 0.54);\n  --xr-font-color3: rgba(255, 255, 255, 0.38);\n  --xr-border-color: #1F1F1F;\n  --xr-disabled-color: #515151;\n  --xr-background-color: #111111;\n  --xr-background-color-row-even: #111111;\n  --xr-background-color-row-odd: #313131;\n}\n\n.xr-wrap {\n  display: block !important;\n  min-width: 300px;\n  max-width: 700px;\n}\n\n.xr-text-repr-fallback {\n  /* fallback to plain text repr when CSS is not injected (untrusted notebook) */\n  display: none;\n}\n\n.xr-header {\n  padding-top: 6px;\n  padding-bottom: 6px;\n  margin-bottom: 4px;\n  border-bottom: solid 1px var(--xr-border-color);\n}\n\n.xr-header > div,\n.xr-header > ul {\n  display: inline;\n  margin-top: 0;\n  margin-bottom: 0;\n}\n\n.xr-obj-type,\n.xr-array-name {\n  margin-left: 2px;\n  margin-right: 10px;\n}\n\n.xr-obj-type {\n  color: var(--xr-font-color2);\n}\n\n.xr-sections {\n  padding-left: 0 !important;\n  display: grid;\n  grid-template-columns: 150px auto auto 1fr 20px 20px;\n}\n\n.xr-section-item {\n  display: contents;\n}\n\n.xr-section-item input {\n  display: none;\n}\n\n.xr-section-item input + label {\n  color: var(--xr-disabled-color);\n}\n\n.xr-section-item input:enabled + label {\n  cursor: pointer;\n  color: var(--xr-font-color2);\n}\n\n.xr-section-item input:enabled + label:hover {\n  color: var(--xr-font-color0);\n}\n\n.xr-section-summary {\n  grid-column: 1;\n  color: var(--xr-font-color2);\n  font-weight: 500;\n}\n\n.xr-section-summary > span {\n  display: inline-block;\n  padding-left: 0.5em;\n}\n\n.xr-section-summary-in:disabled + label {\n  color: var(--xr-font-color2);\n}\n\n.xr-section-summary-in + label:before {\n  display: inline-block;\n  content: '►';\n  font-size: 11px;\n  width: 15px;\n  text-align: center;\n}\n\n.xr-section-summary-in:disabled + label:before {\n  color: var(--xr-disabled-color);\n}\n\n.xr-section-summary-in:checked + label:before {\n  content: '▼';\n}\n\n.xr-section-summary-in:checked + label > span {\n  display: none;\n}\n\n.xr-section-summary,\n.xr-section-inline-details {\n  padding-top: 4px;\n  padding-bottom: 4px;\n}\n\n.xr-section-inline-details {\n  grid-column: 2 / -1;\n}\n\n.xr-section-details {\n  display: none;\n  grid-column: 1 / -1;\n  margin-bottom: 5px;\n}\n\n.xr-section-summary-in:checked ~ .xr-section-details {\n  display: contents;\n}\n\n.xr-array-wrap {\n  grid-column: 1 / -1;\n  display: grid;\n  grid-template-columns: 20px auto;\n}\n\n.xr-array-wrap > label {\n  grid-column: 1;\n  vertical-align: top;\n}\n\n.xr-preview {\n  color: var(--xr-font-color3);\n}\n\n.xr-array-preview,\n.xr-array-data {\n  padding: 0 5px !important;\n  grid-column: 2;\n}\n\n.xr-array-data,\n.xr-array-in:checked ~ .xr-array-preview {\n  display: none;\n}\n\n.xr-array-in:checked ~ .xr-array-data,\n.xr-array-preview {\n  display: inline-block;\n}\n\n.xr-dim-list {\n  display: inline-block !important;\n  list-style: none;\n  padding: 0 !important;\n  margin: 0;\n}\n\n.xr-dim-list li {\n  display: inline-block;\n  padding: 0;\n  margin: 0;\n}\n\n.xr-dim-list:before {\n  content: '(';\n}\n\n.xr-dim-list:after {\n  content: ')';\n}\n\n.xr-dim-list li:not(:last-child):after {\n  content: ',';\n  padding-right: 5px;\n}\n\n.xr-has-index {\n  font-weight: bold;\n}\n\n.xr-var-list,\n.xr-var-item {\n  display: contents;\n}\n\n.xr-var-item > div,\n.xr-var-item label,\n.xr-var-item > .xr-var-name span {\n  background-color: var(--xr-background-color-row-even);\n  margin-bottom: 0;\n}\n\n.xr-var-item > .xr-var-name:hover span {\n  padding-right: 5px;\n}\n\n.xr-var-list > li:nth-child(odd) > div,\n.xr-var-list > li:nth-child(odd) > label,\n.xr-var-list > li:nth-child(odd) > .xr-var-name span {\n  background-color: var(--xr-background-color-row-odd);\n}\n\n.xr-var-name {\n  grid-column: 1;\n}\n\n.xr-var-dims {\n  grid-column: 2;\n}\n\n.xr-var-dtype {\n  grid-column: 3;\n  text-align: right;\n  color: var(--xr-font-color2);\n}\n\n.xr-var-preview {\n  grid-column: 4;\n}\n\n.xr-var-name,\n.xr-var-dims,\n.xr-var-dtype,\n.xr-preview,\n.xr-attrs dt {\n  white-space: nowrap;\n  overflow: hidden;\n  text-overflow: ellipsis;\n  padding-right: 10px;\n}\n\n.xr-var-name:hover,\n.xr-var-dims:hover,\n.xr-var-dtype:hover,\n.xr-attrs dt:hover {\n  overflow: visible;\n  width: auto;\n  z-index: 1;\n}\n\n.xr-var-attrs,\n.xr-var-data {\n  display: none;\n  background-color: var(--xr-background-color) !important;\n  padding-bottom: 5px !important;\n}\n\n.xr-var-attrs-in:checked ~ .xr-var-attrs,\n.xr-var-data-in:checked ~ .xr-var-data {\n  display: block;\n}\n\n.xr-var-data > table {\n  float: right;\n}\n\n.xr-var-name span,\n.xr-var-data,\n.xr-attrs {\n  padding-left: 25px !important;\n}\n\n.xr-attrs,\n.xr-var-attrs,\n.xr-var-data {\n  grid-column: 1 / -1;\n}\n\ndl.xr-attrs {\n  padding: 0;\n  margin: 0;\n  display: grid;\n  grid-template-columns: 125px auto;\n}\n\n.xr-attrs dt,\n.xr-attrs dd {\n  padding: 0;\n  margin: 0;\n  float: left;\n  padding-right: 10px;\n  width: auto;\n}\n\n.xr-attrs dt {\n  font-weight: normal;\n  grid-column: 1;\n}\n\n.xr-attrs dt:hover span {\n  display: inline-block;\n  background: var(--xr-background-color);\n  padding-right: 10px;\n}\n\n.xr-attrs dd {\n  grid-column: 2;\n  white-space: pre-wrap;\n  word-break: break-all;\n}\n\n.xr-icon-database,\n.xr-icon-file-text2 {\n  display: inline-block;\n  vertical-align: middle;\n  width: 1em;\n  height: 1.5em !important;\n  stroke-width: 0;\n  stroke: currentColor;\n  fill: currentColor;\n}\n</style><pre class='xr-text-repr-fallback'>&lt;xarray.Dataset&gt;\nDimensions:            (x: 248, y: 217, time: 4019)\nCoordinates:\n  * x                  (x) float64 3.294e+05 3.303e+05 ... 5.574e+05 5.583e+05\n  * y                  (y) float64 5.032e+06 5.031e+06 ... 4.833e+06 4.832e+06\n  * time               (time) object 2010-01-01 00:00:00 ... 2021-01-01 00:00:00\n    band               int32 1\nData variables: (12/16)\n    crs                int32 0\n    ET_500m            (time, y, x) float32 ...\n    Fpar_500m          (time, y, x) float64 ...\n    spatial_ref        int32 0\n    density            (y, x) float32 nan nan nan nan nan ... nan nan nan nan\n    u10                (time, y, x) float64 ...\n    ...                 ...\n    Last_Day           (time, y, x) float64 ...\n    Burn_Date          (time, y, x) float64 ...\n    FireMask           (time, y, x) float32 ...\n    LST_Day_1km        (time, y, x) float64 ...\n    LST_Night_1km      (time, y, x) float64 ...\n    _1_km_16_days_EVI  (time, y, x) float64 ...\nAttributes:\n    Conventions:  CF-1.6\n    history:      2022-09-15 13:57:35 GMT by grib_to_netcdf-2.25.1: /opt/ecmw...</pre><div class='xr-wrap' style='display:none'><div class='xr-header'><div class='xr-obj-type'>xarray.Dataset</div></div><ul class='xr-sections'><li class='xr-section-item'><input id='section-3108fae4-f9b6-4b73-97c6-36ff2fd1db78' class='xr-section-summary-in' type='checkbox' disabled ><label for='section-3108fae4-f9b6-4b73-97c6-36ff2fd1db78' class='xr-section-summary'  title='Expand/collapse section'>Dimensions:</label><div class='xr-section-inline-details'><ul class='xr-dim-list'><li><span class='xr-has-index'>x</span>: 248</li><li><span class='xr-has-index'>y</span>: 217</li><li><span class='xr-has-index'>time</span>: 4019</li></ul></div><div class='xr-section-details'></div></li><li class='xr-section-item'><input id='section-d3cb5783-2abd-4a56-bc45-c2a6d44678e0' class='xr-section-summary-in' type='checkbox'  checked><label for='section-d3cb5783-2abd-4a56-bc45-c2a6d44678e0' class='xr-section-summary' >Coordinates: <span>(4)</span></label><div class='xr-section-inline-details'></div><div class='xr-section-details'><ul class='xr-var-list'><li class='xr-var-item'><div class='xr-var-name'><span class='xr-has-index'>x</span></div><div class='xr-var-dims'>(x)</div><div class='xr-var-dtype'>float64</div><div class='xr-var-preview xr-preview'>3.294e+05 3.303e+05 ... 5.583e+05</div><input id='attrs-24def492-874c-4c4a-b4b1-be70a8c94bc0' class='xr-var-attrs-in' type='checkbox' ><label for='attrs-24def492-874c-4c4a-b4b1-be70a8c94bc0' title='Show/Hide attributes'><svg class='icon xr-icon-file-text2'><use xlink:href='#icon-file-text2'></use></svg></label><input id='data-f9a27165-2518-40e9-86b2-eadcc0c8aca0' class='xr-var-data-in' type='checkbox'><label for='data-f9a27165-2518-40e9-86b2-eadcc0c8aca0' title='Show/Hide data repr'><svg class='icon xr-icon-database'><use xlink:href='#icon-database'></use></svg></label><div class='xr-var-attrs'><dl class='xr-attrs'><dt><span>axis :</span></dt><dd>X</dd><dt><span>long_name :</span></dt><dd>x coordinate of projection</dd><dt><span>standard_name :</span></dt><dd>projection_x_coordinate</dd><dt><span>units :</span></dt><dd>metre</dd></dl></div><div class='xr-var-data'><pre>array([329415.341451, 330341.966884, 331268.592317, ..., 556438.57255 ,\n       557365.197983, 558291.823416])</pre></div></li><li class='xr-var-item'><div class='xr-var-name'><span class='xr-has-index'>y</span></div><div class='xr-var-dims'>(y)</div><div class='xr-var-dtype'>float64</div><div class='xr-var-preview xr-preview'>5.032e+06 5.031e+06 ... 4.832e+06</div><input id='attrs-ed558cbe-da85-4963-b789-82d285fa0730' class='xr-var-attrs-in' type='checkbox' ><label for='attrs-ed558cbe-da85-4963-b789-82d285fa0730' title='Show/Hide attributes'><svg class='icon xr-icon-file-text2'><use xlink:href='#icon-file-text2'></use></svg></label><input id='data-c1a24ad3-cfc1-4296-83ba-8e4e6b5cd21b' class='xr-var-data-in' type='checkbox'><label for='data-c1a24ad3-cfc1-4296-83ba-8e4e6b5cd21b' title='Show/Hide data repr'><svg class='icon xr-icon-database'><use xlink:href='#icon-database'></use></svg></label><div class='xr-var-attrs'><dl class='xr-attrs'><dt><span>axis :</span></dt><dd>Y</dd><dt><span>long_name :</span></dt><dd>y coordinate of projection</dd><dt><span>standard_name :</span></dt><dd>projection_y_coordinate</dd><dt><span>units :</span></dt><dd>metre</dd></dl></div><div class='xr-var-data'><pre>array([5032039.414208, 5031112.788775, 5030186.163342, ..., 4833741.571534,\n       4832814.946101, 4831888.320668])</pre></div></li><li class='xr-var-item'><div class='xr-var-name'><span class='xr-has-index'>time</span></div><div class='xr-var-dims'>(time)</div><div class='xr-var-dtype'>object</div><div class='xr-var-preview xr-preview'>2010-01-01 00:00:00 ... 2021-01-...</div><input id='attrs-41889226-eb06-45ec-8325-7452256ad02d' class='xr-var-attrs-in' type='checkbox' ><label for='attrs-41889226-eb06-45ec-8325-7452256ad02d' title='Show/Hide attributes'><svg class='icon xr-icon-file-text2'><use xlink:href='#icon-file-text2'></use></svg></label><input id='data-9596155b-74a3-4499-bbb2-7d7d66cdd7f7' class='xr-var-data-in' type='checkbox'><label for='data-9596155b-74a3-4499-bbb2-7d7d66cdd7f7' title='Show/Hide data repr'><svg class='icon xr-icon-database'><use xlink:href='#icon-database'></use></svg></label><div class='xr-var-attrs'><dl class='xr-attrs'><dt><span>standard_name :</span></dt><dd>time</dd><dt><span>axis :</span></dt><dd>T</dd><dt><span>long_name :</span></dt><dd>time</dd></dl></div><div class='xr-var-data'><pre>array([cftime.DatetimeJulian(2010, 1, 1, 0, 0, 0, 0, has_year_zero=False),\n       cftime.DatetimeJulian(2010, 1, 2, 0, 0, 0, 0, has_year_zero=False),\n       cftime.DatetimeJulian(2010, 1, 3, 0, 0, 0, 0, has_year_zero=False), ...,\n       cftime.DatetimeJulian(2020, 12, 30, 0, 0, 0, 0, has_year_zero=False),\n       cftime.DatetimeJulian(2020, 12, 31, 0, 0, 0, 0, has_year_zero=False),\n       cftime.DatetimeJulian(2021, 1, 1, 0, 0, 0, 0, has_year_zero=False)],\n      dtype=object)</pre></div></li><li class='xr-var-item'><div class='xr-var-name'><span>band</span></div><div class='xr-var-dims'>()</div><div class='xr-var-dtype'>int32</div><div class='xr-var-preview xr-preview'>...</div><input id='attrs-025b7897-49b4-496d-8c1a-145990dab8ee' class='xr-var-attrs-in' type='checkbox' disabled><label for='attrs-025b7897-49b4-496d-8c1a-145990dab8ee' title='Show/Hide attributes'><svg class='icon xr-icon-file-text2'><use xlink:href='#icon-file-text2'></use></svg></label><input id='data-08daf648-4087-4c8c-8d9d-fb0ece23e3dc' class='xr-var-data-in' type='checkbox'><label for='data-08daf648-4087-4c8c-8d9d-fb0ece23e3dc' title='Show/Hide data repr'><svg class='icon xr-icon-database'><use xlink:href='#icon-database'></use></svg></label><div class='xr-var-attrs'><dl class='xr-attrs'></dl></div><div class='xr-var-data'><pre>array(1)</pre></div></li></ul></div></li><li class='xr-section-item'><input id='section-787323c7-8d5c-45e1-a7ca-2dc9dff512e1' class='xr-section-summary-in' type='checkbox'  ><label for='section-787323c7-8d5c-45e1-a7ca-2dc9dff512e1' class='xr-section-summary' >Data variables: <span>(16)</span></label><div class='xr-section-inline-details'></div><div class='xr-section-details'><ul class='xr-var-list'><li class='xr-var-item'><div class='xr-var-name'><span>crs</span></div><div class='xr-var-dims'>()</div><div class='xr-var-dtype'>int32</div><div class='xr-var-preview xr-preview'>...</div><input id='attrs-37f5a84d-7622-42cf-b86a-4ab1b03f3a8b' class='xr-var-attrs-in' type='checkbox' ><label for='attrs-37f5a84d-7622-42cf-b86a-4ab1b03f3a8b' title='Show/Hide attributes'><svg class='icon xr-icon-file-text2'><use xlink:href='#icon-file-text2'></use></svg></label><input id='data-23bc779a-b115-4e25-8a47-9245fe837cc5' class='xr-var-data-in' type='checkbox'><label for='data-23bc779a-b115-4e25-8a47-9245fe837cc5' title='Show/Hide data repr'><svg class='icon xr-icon-database'><use xlink:href='#icon-database'></use></svg></label><div class='xr-var-attrs'><dl class='xr-attrs'><dt><span>crs_wkt :</span></dt><dd>PROJCS[&quot;unknown&quot;,GEOGCS[&quot;unknown&quot;,DATUM[&quot;unknown&quot;,SPHEROID[&quot;unknown&quot;,6371007.181,0]],PRIMEM[&quot;Greenwich&quot;,0,AUTHORITY[&quot;EPSG&quot;,&quot;8901&quot;]],UNIT[&quot;degree&quot;,0.0174532925199433,AUTHORITY[&quot;EPSG&quot;,&quot;9122&quot;]]],PROJECTION[&quot;Sinusoidal&quot;],PARAMETER[&quot;longitude_of_center&quot;,0],PARAMETER[&quot;false_easting&quot;,0],PARAMETER[&quot;false_northing&quot;,0],UNIT[&quot;metre&quot;,1,AUTHORITY[&quot;EPSG&quot;,&quot;9001&quot;]],AXIS[&quot;Easting&quot;,EAST],AXIS[&quot;Northing&quot;,NORTH]]</dd><dt><span>semi_major_axis :</span></dt><dd>6371007.181</dd><dt><span>semi_minor_axis :</span></dt><dd>6371007.181</dd><dt><span>inverse_flattening :</span></dt><dd>0.0</dd><dt><span>reference_ellipsoid_name :</span></dt><dd>unknown</dd><dt><span>longitude_of_prime_meridian :</span></dt><dd>0.0</dd><dt><span>prime_meridian_name :</span></dt><dd>Greenwich</dd><dt><span>geographic_crs_name :</span></dt><dd>unknown</dd><dt><span>horizontal_datum_name :</span></dt><dd>unknown</dd><dt><span>projected_crs_name :</span></dt><dd>unknown</dd><dt><span>grid_mapping_name :</span></dt><dd>sinusoidal</dd><dt><span>longitude_of_projection_origin :</span></dt><dd>0.0</dd><dt><span>false_easting :</span></dt><dd>0.0</dd><dt><span>false_northing :</span></dt><dd>0.0</dd><dt><span>spatial_ref :</span></dt><dd>PROJCS[&quot;unknown&quot;,GEOGCS[&quot;unknown&quot;,DATUM[&quot;unknown&quot;,SPHEROID[&quot;unknown&quot;,6371007.181,0]],PRIMEM[&quot;Greenwich&quot;,0,AUTHORITY[&quot;EPSG&quot;,&quot;8901&quot;]],UNIT[&quot;degree&quot;,0.0174532925199433,AUTHORITY[&quot;EPSG&quot;,&quot;9122&quot;]]],PROJECTION[&quot;Sinusoidal&quot;],PARAMETER[&quot;longitude_of_center&quot;,0],PARAMETER[&quot;false_easting&quot;,0],PARAMETER[&quot;false_northing&quot;,0],UNIT[&quot;metre&quot;,1,AUTHORITY[&quot;EPSG&quot;,&quot;9001&quot;]],AXIS[&quot;Easting&quot;,EAST],AXIS[&quot;Northing&quot;,NORTH]]</dd><dt><span>GeoTransform :</span></dt><dd>328952.02873472235 926.6254330555563 0.0 5032502.726924724 0.0 -926.6254330555546</dd></dl></div><div class='xr-var-data'><pre>array(0)</pre></div></li><li class='xr-var-item'><div class='xr-var-name'><span>ET_500m</span></div><div class='xr-var-dims'>(time, y, x)</div><div class='xr-var-dtype'>float32</div><div class='xr-var-preview xr-preview'>...</div><input id='attrs-df8aedcd-7055-48f1-8b2b-86b390e9d6a7' class='xr-var-attrs-in' type='checkbox' ><label for='attrs-df8aedcd-7055-48f1-8b2b-86b390e9d6a7' title='Show/Hide attributes'><svg class='icon xr-icon-file-text2'><use xlink:href='#icon-file-text2'></use></svg></label><input id='data-823230f5-e2f6-4c05-b571-613cc7fe8219' class='xr-var-data-in' type='checkbox'><label for='data-823230f5-e2f6-4c05-b571-613cc7fe8219' title='Show/Hide data repr'><svg class='icon xr-icon-database'><use xlink:href='#icon-database'></use></svg></label><div class='xr-var-attrs'><dl class='xr-attrs'><dt><span>valid_min :</span></dt><dd>-32767</dd><dt><span>valid_max :</span></dt><dd>32700</dd><dt><span>long_name :</span></dt><dd>MODIS Gridded 500m 8-day Composite Evapotranspiration (ET)</dd><dt><span>units :</span></dt><dd>kg/m^2/8day</dd><dt><span>scale_factor_err :</span></dt><dd>0.0</dd><dt><span>add_offset_err :</span></dt><dd>0.0</dd><dt><span>calibrated_nt :</span></dt><dd>22</dd><dt><span>grid_mapping :</span></dt><dd>crs</dd></dl></div><div class='xr-var-data'><pre>[216286504 values with dtype=float32]</pre></div></li><li class='xr-var-item'><div class='xr-var-name'><span>Fpar_500m</span></div><div class='xr-var-dims'>(time, y, x)</div><div class='xr-var-dtype'>float64</div><div class='xr-var-preview xr-preview'>...</div><input id='attrs-0aceb789-46ad-4416-85c1-6dbeec359bdc' class='xr-var-attrs-in' type='checkbox' ><label for='attrs-0aceb789-46ad-4416-85c1-6dbeec359bdc' title='Show/Hide attributes'><svg class='icon xr-icon-file-text2'><use xlink:href='#icon-file-text2'></use></svg></label><input id='data-355b7318-d483-4a0b-9267-f88ac42121e5' class='xr-var-data-in' type='checkbox'><label for='data-355b7318-d483-4a0b-9267-f88ac42121e5' title='Show/Hide data repr'><svg class='icon xr-icon-database'><use xlink:href='#icon-database'></use></svg></label><div class='xr-var-attrs'><dl class='xr-attrs'><dt><span>grid_mapping :</span></dt><dd>crs</dd><dt><span>valid_min :</span></dt><dd>0</dd><dt><span>valid_max :</span></dt><dd>100</dd><dt><span>scale_factor_err :</span></dt><dd>0.0</dd><dt><span>add_offset_err :</span></dt><dd>0.0</dd><dt><span>calibrated_nt :</span></dt><dd>21</dd><dt><span>long_name :</span></dt><dd>MOD15A2H MODIS/Terra Gridded 500M FPAR (8-day composite)</dd><dt><span>units :</span></dt><dd>Percent</dd><dt><span>MOD15A2_FILLVALUE_DOC :</span></dt><dd>MOD15A2 FILL VALUE LEGEND\n255 = _Fillvalue, assigned when:\n    * the MOD09GA suf. reflectance for channel VIS, NIR was assigned its _Fillvalue, or\n    * land cover pixel itself was assigned _Fillvalus 255 or 254.\n254 = land cover assigned as perennial salt or inland fresh water.\n253 = land cover assigned as barren, sparse vegetation (rock, tundra, desert.)\n252 = land cover assigned as perennial snow, ice.\n251 = land cover assigned as &quot;permanent&quot; wetlands/inundated marshlands.\n250 = land cover assigned as urban/built-up.\n249 = land cover assigned as &quot;unclassified&quot; or not able to determine.\n</dd></dl></div><div class='xr-var-data'><pre>[216286504 values with dtype=float64]</pre></div></li><li class='xr-var-item'><div class='xr-var-name'><span>spatial_ref</span></div><div class='xr-var-dims'>()</div><div class='xr-var-dtype'>int32</div><div class='xr-var-preview xr-preview'>...</div><input id='attrs-cad11385-6f27-478b-ae47-dc7e789c1bde' class='xr-var-attrs-in' type='checkbox' ><label for='attrs-cad11385-6f27-478b-ae47-dc7e789c1bde' title='Show/Hide attributes'><svg class='icon xr-icon-file-text2'><use xlink:href='#icon-file-text2'></use></svg></label><input id='data-c7914021-b4e1-48b1-9f08-ed978acf894d' class='xr-var-data-in' type='checkbox'><label for='data-c7914021-b4e1-48b1-9f08-ed978acf894d' title='Show/Hide data repr'><svg class='icon xr-icon-database'><use xlink:href='#icon-database'></use></svg></label><div class='xr-var-attrs'><dl class='xr-attrs'><dt><span>crs_wkt :</span></dt><dd>PROJCS[&quot;unknown&quot;,GEOGCS[&quot;unknown&quot;,DATUM[&quot;unknown&quot;,SPHEROID[&quot;unknown&quot;,6371007.181,0]],PRIMEM[&quot;Greenwich&quot;,0,AUTHORITY[&quot;EPSG&quot;,&quot;8901&quot;]],UNIT[&quot;degree&quot;,0.0174532925199433,AUTHORITY[&quot;EPSG&quot;,&quot;9122&quot;]]],PROJECTION[&quot;Sinusoidal&quot;],PARAMETER[&quot;longitude_of_center&quot;,0],PARAMETER[&quot;false_easting&quot;,0],PARAMETER[&quot;false_northing&quot;,0],UNIT[&quot;metre&quot;,1,AUTHORITY[&quot;EPSG&quot;,&quot;9001&quot;]],AXIS[&quot;Easting&quot;,EAST],AXIS[&quot;Northing&quot;,NORTH]]</dd><dt><span>semi_major_axis :</span></dt><dd>6371007.181</dd><dt><span>semi_minor_axis :</span></dt><dd>6371007.181</dd><dt><span>inverse_flattening :</span></dt><dd>0.0</dd><dt><span>reference_ellipsoid_name :</span></dt><dd>unknown</dd><dt><span>longitude_of_prime_meridian :</span></dt><dd>0.0</dd><dt><span>prime_meridian_name :</span></dt><dd>Greenwich</dd><dt><span>geographic_crs_name :</span></dt><dd>unknown</dd><dt><span>horizontal_datum_name :</span></dt><dd>unknown</dd><dt><span>projected_crs_name :</span></dt><dd>unknown</dd><dt><span>grid_mapping_name :</span></dt><dd>sinusoidal</dd><dt><span>longitude_of_projection_origin :</span></dt><dd>0.0</dd><dt><span>false_easting :</span></dt><dd>0.0</dd><dt><span>false_northing :</span></dt><dd>0.0</dd><dt><span>spatial_ref :</span></dt><dd>PROJCS[&quot;unknown&quot;,GEOGCS[&quot;unknown&quot;,DATUM[&quot;unknown&quot;,SPHEROID[&quot;unknown&quot;,6371007.181,0]],PRIMEM[&quot;Greenwich&quot;,0,AUTHORITY[&quot;EPSG&quot;,&quot;8901&quot;]],UNIT[&quot;degree&quot;,0.0174532925199433,AUTHORITY[&quot;EPSG&quot;,&quot;9122&quot;]]],PROJECTION[&quot;Sinusoidal&quot;],PARAMETER[&quot;longitude_of_center&quot;,0],PARAMETER[&quot;false_easting&quot;,0],PARAMETER[&quot;false_northing&quot;,0],UNIT[&quot;metre&quot;,1,AUTHORITY[&quot;EPSG&quot;,&quot;9001&quot;]],AXIS[&quot;Easting&quot;,EAST],AXIS[&quot;Northing&quot;,NORTH]]</dd><dt><span>GeoTransform :</span></dt><dd>328952.02873472235 926.6254330555563 0.0 5032502.726924724 0.0 -926.6254330555546</dd></dl></div><div class='xr-var-data'><pre>array(0)</pre></div></li><li class='xr-var-item'><div class='xr-var-name'><span>density</span></div><div class='xr-var-dims'>(y, x)</div><div class='xr-var-dtype'>float32</div><div class='xr-var-preview xr-preview'>...</div><input id='attrs-d4549f42-4844-4c03-9f0c-5b1d4c582fe5' class='xr-var-attrs-in' type='checkbox' ><label for='attrs-d4549f42-4844-4c03-9f0c-5b1d4c582fe5' title='Show/Hide attributes'><svg class='icon xr-icon-file-text2'><use xlink:href='#icon-file-text2'></use></svg></label><input id='data-73cdb17c-83cc-4249-8c80-9d8cab2b02ae' class='xr-var-data-in' type='checkbox'><label for='data-73cdb17c-83cc-4249-8c80-9d8cab2b02ae' title='Show/Hide data repr'><svg class='icon xr-icon-database'><use xlink:href='#icon-database'></use></svg></label><div class='xr-var-attrs'><dl class='xr-attrs'><dt><span>AREA_OR_POINT :</span></dt><dd>Area</dd><dt><span>STATISTICS_MAXIMUM :</span></dt><dd>53646.03515625</dd><dt><span>STATISTICS_MEAN :</span></dt><dd>119.46772920052</dd><dt><span>STATISTICS_MINIMUM :</span></dt><dd>0</dd><dt><span>STATISTICS_STDDEV :</span></dt><dd>644.66432858711</dd><dt><span>grid_mapping :</span></dt><dd>spatial_ref</dd></dl></div><div class='xr-var-data'><pre>array([[       nan,        nan,        nan, ...,        nan,        nan,\n               nan],\n       [       nan,        nan,        nan, ...,        nan,        nan,\n               nan],\n       [       nan,        nan,        nan, ...,        nan,        nan,\n               nan],\n       ...,\n       [       nan,        nan,        nan, ...,  67.2539  ,  67.2539  ,\n         67.2539  ],\n       [       nan,        nan,        nan, ..., 116.095116, 116.095116,\n        116.095116],\n       [       nan,        nan,        nan, ...,        nan,        nan,\n               nan]], dtype=float32)</pre></div></li><li class='xr-var-item'><div class='xr-var-name'><span>u10</span></div><div class='xr-var-dims'>(time, y, x)</div><div class='xr-var-dtype'>float64</div><div class='xr-var-preview xr-preview'>...</div><input id='attrs-7003a86d-0b7a-4147-9136-ad541654f74c' class='xr-var-attrs-in' type='checkbox' ><label for='attrs-7003a86d-0b7a-4147-9136-ad541654f74c' title='Show/Hide attributes'><svg class='icon xr-icon-file-text2'><use xlink:href='#icon-file-text2'></use></svg></label><input id='data-36e0948e-616d-43fe-ae6e-0be536a0c234' class='xr-var-data-in' type='checkbox'><label for='data-36e0948e-616d-43fe-ae6e-0be536a0c234' title='Show/Hide data repr'><svg class='icon xr-icon-database'><use xlink:href='#icon-database'></use></svg></label><div class='xr-var-attrs'><dl class='xr-attrs'><dt><span>units :</span></dt><dd>m s**-1</dd><dt><span>long_name :</span></dt><dd>10 metre U wind component</dd><dt><span>grid_mapping :</span></dt><dd>spatial_ref</dd></dl></div><div class='xr-var-data'><pre>[216286504 values with dtype=float64]</pre></div></li><li class='xr-var-item'><div class='xr-var-name'><span>v10</span></div><div class='xr-var-dims'>(time, y, x)</div><div class='xr-var-dtype'>float64</div><div class='xr-var-preview xr-preview'>...</div><input id='attrs-4a06938f-5371-41a5-a294-1c636e993534' class='xr-var-attrs-in' type='checkbox' ><label for='attrs-4a06938f-5371-41a5-a294-1c636e993534' title='Show/Hide attributes'><svg class='icon xr-icon-file-text2'><use xlink:href='#icon-file-text2'></use></svg></label><input id='data-90289a2d-f61d-42bf-aaa5-934dc9822841' class='xr-var-data-in' type='checkbox'><label for='data-90289a2d-f61d-42bf-aaa5-934dc9822841' title='Show/Hide data repr'><svg class='icon xr-icon-database'><use xlink:href='#icon-database'></use></svg></label><div class='xr-var-attrs'><dl class='xr-attrs'><dt><span>units :</span></dt><dd>m s**-1</dd><dt><span>long_name :</span></dt><dd>10 metre V wind component</dd><dt><span>grid_mapping :</span></dt><dd>spatial_ref</dd></dl></div><div class='xr-var-data'><pre>[216286504 values with dtype=float64]</pre></div></li><li class='xr-var-item'><div class='xr-var-name'><span>t2m</span></div><div class='xr-var-dims'>(time, y, x)</div><div class='xr-var-dtype'>float64</div><div class='xr-var-preview xr-preview'>...</div><input id='attrs-27994583-b9b1-4f1e-b86e-f38ca25014d1' class='xr-var-attrs-in' type='checkbox' ><label for='attrs-27994583-b9b1-4f1e-b86e-f38ca25014d1' title='Show/Hide attributes'><svg class='icon xr-icon-file-text2'><use xlink:href='#icon-file-text2'></use></svg></label><input id='data-cd534643-c8e1-4f48-9a22-6a0466359eb5' class='xr-var-data-in' type='checkbox'><label for='data-cd534643-c8e1-4f48-9a22-6a0466359eb5' title='Show/Hide data repr'><svg class='icon xr-icon-database'><use xlink:href='#icon-database'></use></svg></label><div class='xr-var-attrs'><dl class='xr-attrs'><dt><span>units :</span></dt><dd>K</dd><dt><span>long_name :</span></dt><dd>2 metre temperature</dd><dt><span>grid_mapping :</span></dt><dd>spatial_ref</dd></dl></div><div class='xr-var-data'><pre>[216286504 values with dtype=float64]</pre></div></li><li class='xr-var-item'><div class='xr-var-name'><span>tp</span></div><div class='xr-var-dims'>(time, y, x)</div><div class='xr-var-dtype'>float64</div><div class='xr-var-preview xr-preview'>...</div><input id='attrs-97a60ebf-c558-4bfe-b0dc-90b07c4585aa' class='xr-var-attrs-in' type='checkbox' ><label for='attrs-97a60ebf-c558-4bfe-b0dc-90b07c4585aa' title='Show/Hide attributes'><svg class='icon xr-icon-file-text2'><use xlink:href='#icon-file-text2'></use></svg></label><input id='data-f4d59608-8118-400f-b6f3-3020ecc2c093' class='xr-var-data-in' type='checkbox'><label for='data-f4d59608-8118-400f-b6f3-3020ecc2c093' title='Show/Hide data repr'><svg class='icon xr-icon-database'><use xlink:href='#icon-database'></use></svg></label><div class='xr-var-attrs'><dl class='xr-attrs'><dt><span>units :</span></dt><dd>m</dd><dt><span>long_name :</span></dt><dd>Total precipitation</dd><dt><span>grid_mapping :</span></dt><dd>spatial_ref</dd></dl></div><div class='xr-var-data'><pre>[216286504 values with dtype=float64]</pre></div></li><li class='xr-var-item'><div class='xr-var-name'><span>First_Day</span></div><div class='xr-var-dims'>(time, y, x)</div><div class='xr-var-dtype'>float64</div><div class='xr-var-preview xr-preview'>...</div><input id='attrs-90e63a8f-932e-4251-8df8-98a1572c036f' class='xr-var-attrs-in' type='checkbox' ><label for='attrs-90e63a8f-932e-4251-8df8-98a1572c036f' title='Show/Hide attributes'><svg class='icon xr-icon-file-text2'><use xlink:href='#icon-file-text2'></use></svg></label><input id='data-7068c5fb-61c8-45b5-9d87-beba648e2455' class='xr-var-data-in' type='checkbox'><label for='data-7068c5fb-61c8-45b5-9d87-beba648e2455' title='Show/Hide data repr'><svg class='icon xr-icon-database'><use xlink:href='#icon-database'></use></svg></label><div class='xr-var-attrs'><dl class='xr-attrs'><dt><span>grid_mapping :</span></dt><dd>crs</dd><dt><span>valid_min :</span></dt><dd>1</dd><dt><span>valid_max :</span></dt><dd>366</dd><dt><span>long_name :</span></dt><dd>first day of reliable change detection</dd><dt><span>water :</span></dt><dd>-2</dd></dl></div><div class='xr-var-data'><pre>[216286504 values with dtype=float64]</pre></div></li><li class='xr-var-item'><div class='xr-var-name'><span>Last_Day</span></div><div class='xr-var-dims'>(time, y, x)</div><div class='xr-var-dtype'>float64</div><div class='xr-var-preview xr-preview'>...</div><input id='attrs-c6873202-bc85-44a1-be8a-3404cb707a6c' class='xr-var-attrs-in' type='checkbox' ><label for='attrs-c6873202-bc85-44a1-be8a-3404cb707a6c' title='Show/Hide attributes'><svg class='icon xr-icon-file-text2'><use xlink:href='#icon-file-text2'></use></svg></label><input id='data-ab1538be-42dd-4540-96f4-33d700dac726' class='xr-var-data-in' type='checkbox'><label for='data-ab1538be-42dd-4540-96f4-33d700dac726' title='Show/Hide data repr'><svg class='icon xr-icon-database'><use xlink:href='#icon-database'></use></svg></label><div class='xr-var-attrs'><dl class='xr-attrs'><dt><span>grid_mapping :</span></dt><dd>crs</dd><dt><span>valid_min :</span></dt><dd>1</dd><dt><span>valid_max :</span></dt><dd>366</dd><dt><span>long_name :</span></dt><dd>last day of reliable change detection</dd><dt><span>water :</span></dt><dd>-2</dd></dl></div><div class='xr-var-data'><pre>[216286504 values with dtype=float64]</pre></div></li><li class='xr-var-item'><div class='xr-var-name'><span>Burn_Date</span></div><div class='xr-var-dims'>(time, y, x)</div><div class='xr-var-dtype'>float64</div><div class='xr-var-preview xr-preview'>...</div><input id='attrs-e888dfe1-7a87-46c5-9368-a91bb5728d21' class='xr-var-attrs-in' type='checkbox' ><label for='attrs-e888dfe1-7a87-46c5-9368-a91bb5728d21' title='Show/Hide attributes'><svg class='icon xr-icon-file-text2'><use xlink:href='#icon-file-text2'></use></svg></label><input id='data-12badd2a-7515-45ee-a7ed-7d4f0a09388f' class='xr-var-data-in' type='checkbox'><label for='data-12badd2a-7515-45ee-a7ed-7d4f0a09388f' title='Show/Hide data repr'><svg class='icon xr-icon-database'><use xlink:href='#icon-database'></use></svg></label><div class='xr-var-attrs'><dl class='xr-attrs'><dt><span>grid_mapping :</span></dt><dd>crs</dd><dt><span>valid_min :</span></dt><dd>0</dd><dt><span>valid_max :</span></dt><dd>366</dd><dt><span>long_name :</span></dt><dd>ordinal day of burn</dd><dt><span>water :</span></dt><dd>-2</dd></dl></div><div class='xr-var-data'><pre>[216286504 values with dtype=float64]</pre></div></li><li class='xr-var-item'><div class='xr-var-name'><span>FireMask</span></div><div class='xr-var-dims'>(time, y, x)</div><div class='xr-var-dtype'>float32</div><div class='xr-var-preview xr-preview'>...</div><input id='attrs-34084f2c-cab9-4e57-aeff-6e05b4a6d2e7' class='xr-var-attrs-in' type='checkbox' ><label for='attrs-34084f2c-cab9-4e57-aeff-6e05b4a6d2e7' title='Show/Hide attributes'><svg class='icon xr-icon-file-text2'><use xlink:href='#icon-file-text2'></use></svg></label><input id='data-4fde45ba-eb8a-4595-b0e8-e28256ef3596' class='xr-var-data-in' type='checkbox'><label for='data-4fde45ba-eb8a-4595-b0e8-e28256ef3596' title='Show/Hide data repr'><svg class='icon xr-icon-database'><use xlink:href='#icon-database'></use></svg></label><div class='xr-var-attrs'><dl class='xr-attrs'><dt><span>valid_min :</span></dt><dd>0</dd><dt><span>valid_max :</span></dt><dd>9</dd><dt><span>long_name :</span></dt><dd>FireMask</dd><dt><span>legend :</span></dt><dd>Classes:\n0 missing input data\n1 not processed (obsolete)\n2 not processed (obsolete)\n3 non-fire water\n4 cloud\n5 non-fire land\n6 unknown\n7 fire (low confidence)\n8 fire (nominal confidence)\n9 fire (high confidence)</dd><dt><span>grid_mapping :</span></dt><dd>crs</dd></dl></div><div class='xr-var-data'><pre>[216286504 values with dtype=float32]</pre></div></li><li class='xr-var-item'><div class='xr-var-name'><span>LST_Day_1km</span></div><div class='xr-var-dims'>(time, y, x)</div><div class='xr-var-dtype'>float64</div><div class='xr-var-preview xr-preview'>...</div><input id='attrs-2e31a56f-0fac-490e-8c04-ef9c413a51d0' class='xr-var-attrs-in' type='checkbox' ><label for='attrs-2e31a56f-0fac-490e-8c04-ef9c413a51d0' title='Show/Hide attributes'><svg class='icon xr-icon-file-text2'><use xlink:href='#icon-file-text2'></use></svg></label><input id='data-cfe1edd9-5c7a-4028-ae08-9190f97c8dab' class='xr-var-data-in' type='checkbox'><label for='data-cfe1edd9-5c7a-4028-ae08-9190f97c8dab' title='Show/Hide data repr'><svg class='icon xr-icon-database'><use xlink:href='#icon-database'></use></svg></label><div class='xr-var-attrs'><dl class='xr-attrs'><dt><span>valid_min :</span></dt><dd>7500</dd><dt><span>valid_max :</span></dt><dd>65535</dd><dt><span>long_name :</span></dt><dd>Daily daytime 1km grid Land-surface Temperature</dd><dt><span>units :</span></dt><dd>K</dd><dt><span>Number_Type :</span></dt><dd>uint16</dd><dt><span>LST :</span></dt><dd>LST data * scale_factor</dd><dt><span>scale_factor_err :</span></dt><dd>0.0</dd><dt><span>add_offset_err :</span></dt><dd>0.0</dd><dt><span>calibrated_nt :</span></dt><dd>5</dd><dt><span>grid_mapping :</span></dt><dd>crs</dd></dl></div><div class='xr-var-data'><pre>[216286504 values with dtype=float64]</pre></div></li><li class='xr-var-item'><div class='xr-var-name'><span>LST_Night_1km</span></div><div class='xr-var-dims'>(time, y, x)</div><div class='xr-var-dtype'>float64</div><div class='xr-var-preview xr-preview'>...</div><input id='attrs-f0bfb6e9-faea-4997-87f2-3ea397880647' class='xr-var-attrs-in' type='checkbox' ><label for='attrs-f0bfb6e9-faea-4997-87f2-3ea397880647' title='Show/Hide attributes'><svg class='icon xr-icon-file-text2'><use xlink:href='#icon-file-text2'></use></svg></label><input id='data-391df91e-9163-4152-8ca8-03f9036ff84d' class='xr-var-data-in' type='checkbox'><label for='data-391df91e-9163-4152-8ca8-03f9036ff84d' title='Show/Hide data repr'><svg class='icon xr-icon-database'><use xlink:href='#icon-database'></use></svg></label><div class='xr-var-attrs'><dl class='xr-attrs'><dt><span>valid_min :</span></dt><dd>7500</dd><dt><span>valid_max :</span></dt><dd>65535</dd><dt><span>long_name :</span></dt><dd>Daily nighttime 1km grid Land-surface Temperature</dd><dt><span>units :</span></dt><dd>K</dd><dt><span>Number_Type :</span></dt><dd>uint16</dd><dt><span>LST :</span></dt><dd>LST data * scale_factor</dd><dt><span>scale_factor_err :</span></dt><dd>0.0</dd><dt><span>add_offset_err :</span></dt><dd>0.0</dd><dt><span>calibrated_nt :</span></dt><dd>5</dd><dt><span>grid_mapping :</span></dt><dd>crs</dd></dl></div><div class='xr-var-data'><pre>[216286504 values with dtype=float64]</pre></div></li><li class='xr-var-item'><div class='xr-var-name'><span>_1_km_16_days_EVI</span></div><div class='xr-var-dims'>(time, y, x)</div><div class='xr-var-dtype'>float64</div><div class='xr-var-preview xr-preview'>...</div><input id='attrs-da6f6c13-15ca-463c-a0e6-e135555d9462' class='xr-var-attrs-in' type='checkbox' ><label for='attrs-da6f6c13-15ca-463c-a0e6-e135555d9462' title='Show/Hide attributes'><svg class='icon xr-icon-file-text2'><use xlink:href='#icon-file-text2'></use></svg></label><input id='data-24175fef-d343-464a-9bad-b3074f7c1efe' class='xr-var-data-in' type='checkbox'><label for='data-24175fef-d343-464a-9bad-b3074f7c1efe' title='Show/Hide data repr'><svg class='icon xr-icon-database'><use xlink:href='#icon-database'></use></svg></label><div class='xr-var-attrs'><dl class='xr-attrs'><dt><span>grid_mapping :</span></dt><dd>crs</dd><dt><span>valid_min :</span></dt><dd>-2000</dd><dt><span>valid_max :</span></dt><dd>10000</dd><dt><span>long_name :</span></dt><dd>1 km 16 days EVI</dd><dt><span>units :</span></dt><dd>EVI</dd><dt><span>scale_factor_err :</span></dt><dd>0.0</dd><dt><span>add_offset_err :</span></dt><dd>0.0</dd><dt><span>calibrated_nt :</span></dt><dd>5</dd></dl></div><div class='xr-var-data'><pre>[216286504 values with dtype=float64]</pre></div></li></ul></div></li><li class='xr-section-item'><input id='section-bf40d8c7-151d-4451-8f55-923169367675' class='xr-section-summary-in' type='checkbox'  checked><label for='section-bf40d8c7-151d-4451-8f55-923169367675' class='xr-section-summary' >Attributes: <span>(2)</span></label><div class='xr-section-inline-details'></div><div class='xr-section-details'><dl class='xr-attrs'><dt><span>Conventions :</span></dt><dd>CF-1.6</dd><dt><span>history :</span></dt><dd>2022-09-15 13:57:35 GMT by grib_to_netcdf-2.25.1: /opt/ecmwf/mars-client/bin/grib_to_netcdf.bin -S param -o /cache/data2/adaptor.mars.internal-1663249407.7272627-22718-12-e830357e-7728-41cf-9b2b-b7f34cabf652.nc /cache/tmp/e830357e-7728-41cf-9b2b-b7f34cabf652-adaptor.mars.internal-1663236313.8703027-22718-23-tmp.grib</dd></dl></div></li></ul></div></div>"
     },
     "execution_count": 28,
     "metadata": {},
     "output_type": "execute_result"
    }
   ],
   "source": [
    "datacube"
   ],
   "metadata": {
    "collapsed": false,
    "pycharm": {
     "name": "#%%\n"
    }
   }
  },
  {
   "cell_type": "code",
   "execution_count": 6,
   "outputs": [
    {
     "ename": "NameError",
     "evalue": "name 'D' is not defined",
     "output_type": "error",
     "traceback": [
      "\u001B[1;31m---------------------------------------------------------------------------\u001B[0m",
      "\u001B[1;31mNameError\u001B[0m                                 Traceback (most recent call last)",
      "Cell \u001B[1;32mIn [6], line 1\u001B[0m\n\u001B[1;32m----> 1\u001B[0m \u001B[43mD\u001B[49m\u001B[38;5;66;03m# Cut the original datacube to a smaller one: half of the full time\u001B[39;00m\n\u001B[0;32m      2\u001B[0m datacube \u001B[38;5;241m=\u001B[39m datacube\u001B[38;5;241m.\u001B[39misel(time\u001B[38;5;241m=\u001B[39m\u001B[38;5;28mslice\u001B[39m(\u001B[38;5;241m180\u001B[39m, \u001B[38;5;241m250\u001B[39m))\n",
      "\u001B[1;31mNameError\u001B[0m: name 'D' is not defined"
     ]
    }
   ],
   "source": [
    "D# Cut the original datacube to a smaller one: half of the full time\n",
    "datacube = datacube.isel(time=slice(180, 250))\n"
   ],
   "metadata": {
    "collapsed": false,
    "pycharm": {
     "name": "#%%\n"
    }
   }
  },
  {
   "cell_type": "markdown",
   "source": [
    "We have a data set with 16 columns and datarray 19,696,656 rows. Let's look at the columns.\n"
   ],
   "metadata": {
    "collapsed": false,
    "pycharm": {
     "name": "#%% md\n"
    }
   }
  },
  {
   "cell_type": "code",
   "execution_count": 29,
   "outputs": [
    {
     "ename": "MemoryError",
     "evalue": "Unable to allocate 1.61 GiB for an array with shape (216286504,) and data type int64",
     "output_type": "error",
     "traceback": [
      "\u001B[1;31m---------------------------------------------------------------------------\u001B[0m",
      "\u001B[1;31mMemoryError\u001B[0m                               Traceback (most recent call last)",
      "Cell \u001B[1;32mIn [29], line 1\u001B[0m\n\u001B[1;32m----> 1\u001B[0m df \u001B[38;5;241m=\u001B[39m \u001B[43mdatacube\u001B[49m\u001B[38;5;241;43m.\u001B[39;49m\u001B[43mto_dataframe\u001B[49m\u001B[43m(\u001B[49m\u001B[43m)\u001B[49m\n",
      "File \u001B[1;32m~\\anaconda3\\envs\\forecast\\lib\\site-packages\\xarray\\core\\dataset.py:6181\u001B[0m, in \u001B[0;36mDataset.to_dataframe\u001B[1;34m(self, dim_order)\u001B[0m\n\u001B[0;32m   6153\u001B[0m \u001B[38;5;124;03m\"\"\"Convert this dataset into a pandas.DataFrame.\u001B[39;00m\n\u001B[0;32m   6154\u001B[0m \n\u001B[0;32m   6155\u001B[0m \u001B[38;5;124;03mNon-index variables in this dataset form the columns of the\u001B[39;00m\n\u001B[1;32m   (...)\u001B[0m\n\u001B[0;32m   6176\u001B[0m \n\u001B[0;32m   6177\u001B[0m \u001B[38;5;124;03m\"\"\"\u001B[39;00m\n\u001B[0;32m   6179\u001B[0m ordered_dims \u001B[38;5;241m=\u001B[39m \u001B[38;5;28mself\u001B[39m\u001B[38;5;241m.\u001B[39m_normalize_dim_order(dim_order\u001B[38;5;241m=\u001B[39mdim_order)\n\u001B[1;32m-> 6181\u001B[0m \u001B[38;5;28;01mreturn\u001B[39;00m \u001B[38;5;28;43mself\u001B[39;49m\u001B[38;5;241;43m.\u001B[39;49m\u001B[43m_to_dataframe\u001B[49m\u001B[43m(\u001B[49m\u001B[43mordered_dims\u001B[49m\u001B[38;5;241;43m=\u001B[39;49m\u001B[43mordered_dims\u001B[49m\u001B[43m)\u001B[49m\n",
      "File \u001B[1;32m~\\anaconda3\\envs\\forecast\\lib\\site-packages\\xarray\\core\\dataset.py:6149\u001B[0m, in \u001B[0;36mDataset._to_dataframe\u001B[1;34m(self, ordered_dims)\u001B[0m\n\u001B[0;32m   6144\u001B[0m columns \u001B[38;5;241m=\u001B[39m [k \u001B[38;5;28;01mfor\u001B[39;00m k \u001B[38;5;129;01min\u001B[39;00m \u001B[38;5;28mself\u001B[39m\u001B[38;5;241m.\u001B[39mvariables \u001B[38;5;28;01mif\u001B[39;00m k \u001B[38;5;129;01mnot\u001B[39;00m \u001B[38;5;129;01min\u001B[39;00m \u001B[38;5;28mself\u001B[39m\u001B[38;5;241m.\u001B[39mdims]\n\u001B[0;32m   6145\u001B[0m data \u001B[38;5;241m=\u001B[39m [\n\u001B[0;32m   6146\u001B[0m     \u001B[38;5;28mself\u001B[39m\u001B[38;5;241m.\u001B[39m_variables[k]\u001B[38;5;241m.\u001B[39mset_dims(ordered_dims)\u001B[38;5;241m.\u001B[39mvalues\u001B[38;5;241m.\u001B[39mreshape(\u001B[38;5;241m-\u001B[39m\u001B[38;5;241m1\u001B[39m)\n\u001B[0;32m   6147\u001B[0m     \u001B[38;5;28;01mfor\u001B[39;00m k \u001B[38;5;129;01min\u001B[39;00m columns\n\u001B[0;32m   6148\u001B[0m ]\n\u001B[1;32m-> 6149\u001B[0m index \u001B[38;5;241m=\u001B[39m \u001B[38;5;28;43mself\u001B[39;49m\u001B[38;5;241;43m.\u001B[39;49m\u001B[43mcoords\u001B[49m\u001B[38;5;241;43m.\u001B[39;49m\u001B[43mto_index\u001B[49m\u001B[43m(\u001B[49m\u001B[43m[\u001B[49m\u001B[38;5;241;43m*\u001B[39;49m\u001B[43mordered_dims\u001B[49m\u001B[43m]\u001B[49m\u001B[43m)\u001B[49m\n\u001B[0;32m   6150\u001B[0m \u001B[38;5;28;01mreturn\u001B[39;00m pd\u001B[38;5;241m.\u001B[39mDataFrame(\u001B[38;5;28mdict\u001B[39m(\u001B[38;5;28mzip\u001B[39m(columns, data)), index\u001B[38;5;241m=\u001B[39mindex)\n",
      "File \u001B[1;32m~\\anaconda3\\envs\\forecast\\lib\\site-packages\\xarray\\core\\coordinates.py:150\u001B[0m, in \u001B[0;36mCoordinates.to_index\u001B[1;34m(self, ordered_dims)\u001B[0m\n\u001B[0;32m    147\u001B[0m     levels \u001B[38;5;241m=\u001B[39m [level]\n\u001B[0;32m    149\u001B[0m \u001B[38;5;66;03m# compute the cartesian product\u001B[39;00m\n\u001B[1;32m--> 150\u001B[0m code_list \u001B[38;5;241m+\u001B[39m\u001B[38;5;241m=\u001B[39m [\n\u001B[0;32m    151\u001B[0m     np\u001B[38;5;241m.\u001B[39mtile(np\u001B[38;5;241m.\u001B[39mrepeat(code, repeat_counts[i]), tile_counts[i])\n\u001B[0;32m    152\u001B[0m     \u001B[38;5;28;01mfor\u001B[39;00m code \u001B[38;5;129;01min\u001B[39;00m codes\n\u001B[0;32m    153\u001B[0m ]\n\u001B[0;32m    154\u001B[0m level_list \u001B[38;5;241m+\u001B[39m\u001B[38;5;241m=\u001B[39m levels\n\u001B[0;32m    155\u001B[0m names \u001B[38;5;241m+\u001B[39m\u001B[38;5;241m=\u001B[39m index\u001B[38;5;241m.\u001B[39mnames\n",
      "File \u001B[1;32m~\\anaconda3\\envs\\forecast\\lib\\site-packages\\xarray\\core\\coordinates.py:151\u001B[0m, in \u001B[0;36m<listcomp>\u001B[1;34m(.0)\u001B[0m\n\u001B[0;32m    147\u001B[0m     levels \u001B[38;5;241m=\u001B[39m [level]\n\u001B[0;32m    149\u001B[0m \u001B[38;5;66;03m# compute the cartesian product\u001B[39;00m\n\u001B[0;32m    150\u001B[0m code_list \u001B[38;5;241m+\u001B[39m\u001B[38;5;241m=\u001B[39m [\n\u001B[1;32m--> 151\u001B[0m     np\u001B[38;5;241m.\u001B[39mtile(\u001B[43mnp\u001B[49m\u001B[38;5;241;43m.\u001B[39;49m\u001B[43mrepeat\u001B[49m\u001B[43m(\u001B[49m\u001B[43mcode\u001B[49m\u001B[43m,\u001B[49m\u001B[43m \u001B[49m\u001B[43mrepeat_counts\u001B[49m\u001B[43m[\u001B[49m\u001B[43mi\u001B[49m\u001B[43m]\u001B[49m\u001B[43m)\u001B[49m, tile_counts[i])\n\u001B[0;32m    152\u001B[0m     \u001B[38;5;28;01mfor\u001B[39;00m code \u001B[38;5;129;01min\u001B[39;00m codes\n\u001B[0;32m    153\u001B[0m ]\n\u001B[0;32m    154\u001B[0m level_list \u001B[38;5;241m+\u001B[39m\u001B[38;5;241m=\u001B[39m levels\n\u001B[0;32m    155\u001B[0m names \u001B[38;5;241m+\u001B[39m\u001B[38;5;241m=\u001B[39m index\u001B[38;5;241m.\u001B[39mnames\n",
      "File \u001B[1;32m<__array_function__ internals>:180\u001B[0m, in \u001B[0;36mrepeat\u001B[1;34m(*args, **kwargs)\u001B[0m\n",
      "File \u001B[1;32m~\\anaconda3\\envs\\forecast\\lib\\site-packages\\numpy\\core\\fromnumeric.py:479\u001B[0m, in \u001B[0;36mrepeat\u001B[1;34m(a, repeats, axis)\u001B[0m\n\u001B[0;32m    436\u001B[0m \u001B[38;5;129m@array_function_dispatch\u001B[39m(_repeat_dispatcher)\n\u001B[0;32m    437\u001B[0m \u001B[38;5;28;01mdef\u001B[39;00m \u001B[38;5;21mrepeat\u001B[39m(a, repeats, axis\u001B[38;5;241m=\u001B[39m\u001B[38;5;28;01mNone\u001B[39;00m):\n\u001B[0;32m    438\u001B[0m     \u001B[38;5;124;03m\"\"\"\u001B[39;00m\n\u001B[0;32m    439\u001B[0m \u001B[38;5;124;03m    Repeat elements of an array.\u001B[39;00m\n\u001B[0;32m    440\u001B[0m \n\u001B[1;32m   (...)\u001B[0m\n\u001B[0;32m    477\u001B[0m \n\u001B[0;32m    478\u001B[0m \u001B[38;5;124;03m    \"\"\"\u001B[39;00m\n\u001B[1;32m--> 479\u001B[0m     \u001B[38;5;28;01mreturn\u001B[39;00m \u001B[43m_wrapfunc\u001B[49m\u001B[43m(\u001B[49m\u001B[43ma\u001B[49m\u001B[43m,\u001B[49m\u001B[43m \u001B[49m\u001B[38;5;124;43m'\u001B[39;49m\u001B[38;5;124;43mrepeat\u001B[39;49m\u001B[38;5;124;43m'\u001B[39;49m\u001B[43m,\u001B[49m\u001B[43m \u001B[49m\u001B[43mrepeats\u001B[49m\u001B[43m,\u001B[49m\u001B[43m \u001B[49m\u001B[43maxis\u001B[49m\u001B[38;5;241;43m=\u001B[39;49m\u001B[43maxis\u001B[49m\u001B[43m)\u001B[49m\n",
      "File \u001B[1;32m~\\anaconda3\\envs\\forecast\\lib\\site-packages\\numpy\\core\\fromnumeric.py:57\u001B[0m, in \u001B[0;36m_wrapfunc\u001B[1;34m(obj, method, *args, **kwds)\u001B[0m\n\u001B[0;32m     54\u001B[0m     \u001B[38;5;28;01mreturn\u001B[39;00m _wrapit(obj, method, \u001B[38;5;241m*\u001B[39margs, \u001B[38;5;241m*\u001B[39m\u001B[38;5;241m*\u001B[39mkwds)\n\u001B[0;32m     56\u001B[0m \u001B[38;5;28;01mtry\u001B[39;00m:\n\u001B[1;32m---> 57\u001B[0m     \u001B[38;5;28;01mreturn\u001B[39;00m bound(\u001B[38;5;241m*\u001B[39margs, \u001B[38;5;241m*\u001B[39m\u001B[38;5;241m*\u001B[39mkwds)\n\u001B[0;32m     58\u001B[0m \u001B[38;5;28;01mexcept\u001B[39;00m \u001B[38;5;167;01mTypeError\u001B[39;00m:\n\u001B[0;32m     59\u001B[0m     \u001B[38;5;66;03m# A TypeError occurs if the object does have such a method in its\u001B[39;00m\n\u001B[0;32m     60\u001B[0m     \u001B[38;5;66;03m# class, but its signature is not identical to that of NumPy's. This\u001B[39;00m\n\u001B[1;32m   (...)\u001B[0m\n\u001B[0;32m     64\u001B[0m     \u001B[38;5;66;03m# Call _wrapit from within the except clause to ensure a potential\u001B[39;00m\n\u001B[0;32m     65\u001B[0m     \u001B[38;5;66;03m# exception has a traceback chain.\u001B[39;00m\n\u001B[0;32m     66\u001B[0m     \u001B[38;5;28;01mreturn\u001B[39;00m _wrapit(obj, method, \u001B[38;5;241m*\u001B[39margs, \u001B[38;5;241m*\u001B[39m\u001B[38;5;241m*\u001B[39mkwds)\n",
      "\u001B[1;31mMemoryError\u001B[0m: Unable to allocate 1.61 GiB for an array with shape (216286504,) and data type int64"
     ]
    }
   ],
   "source": [
    "df = datacube.to_dataframe()"
   ],
   "metadata": {
    "collapsed": false,
    "pycharm": {
     "name": "#%%\n"
    }
   }
  },
  {
   "cell_type": "code",
   "execution_count": 9,
   "outputs": [
    {
     "data": {
      "text/plain": "                                                crs  ET_500m  Fpar_500m  band  \\\nx             y            time                                                 \n329415.341451 5.032039e+06 2010-01-01 00:00:00    0      NaN        NaN     1   \n                           2010-01-02 00:00:00    0      NaN        NaN     1   \n                           2010-01-03 00:00:00    0      NaN        NaN     1   \n                           2010-01-04 00:00:00    0      NaN        NaN     1   \n                           2010-01-05 00:00:00    0      NaN        NaN     1   \n                           2010-01-06 00:00:00    0      NaN        NaN     1   \n                           2010-01-07 00:00:00    0      NaN        NaN     1   \n                           2010-01-08 00:00:00    0      NaN        NaN     1   \n                           2010-01-09 00:00:00    0      NaN        NaN     1   \n                           2010-01-10 00:00:00    0      NaN        NaN     1   \n                           2010-01-11 00:00:00    0      NaN        NaN     1   \n                           2010-01-12 00:00:00    0      NaN        NaN     1   \n                           2010-01-13 00:00:00    0      NaN        NaN     1   \n                           2010-01-14 00:00:00    0      NaN        NaN     1   \n                           2010-01-15 00:00:00    0      NaN        NaN     1   \n                           2010-01-16 00:00:00    0      NaN        NaN     1   \n                           2010-01-17 00:00:00    0      NaN        NaN     1   \n                           2010-01-18 00:00:00    0      NaN        NaN     1   \n                           2010-01-19 00:00:00    0      NaN        NaN     1   \n                           2010-01-20 00:00:00    0      NaN        NaN     1   \n\n                                                spatial_ref  density  u10  \\\nx             y            time                                             \n329415.341451 5.032039e+06 2010-01-01 00:00:00            0      NaN  NaN   \n                           2010-01-02 00:00:00            0      NaN  NaN   \n                           2010-01-03 00:00:00            0      NaN  NaN   \n                           2010-01-04 00:00:00            0      NaN  NaN   \n                           2010-01-05 00:00:00            0      NaN  NaN   \n                           2010-01-06 00:00:00            0      NaN  NaN   \n                           2010-01-07 00:00:00            0      NaN  NaN   \n                           2010-01-08 00:00:00            0      NaN  NaN   \n                           2010-01-09 00:00:00            0      NaN  NaN   \n                           2010-01-10 00:00:00            0      NaN  NaN   \n                           2010-01-11 00:00:00            0      NaN  NaN   \n                           2010-01-12 00:00:00            0      NaN  NaN   \n                           2010-01-13 00:00:00            0      NaN  NaN   \n                           2010-01-14 00:00:00            0      NaN  NaN   \n                           2010-01-15 00:00:00            0      NaN  NaN   \n                           2010-01-16 00:00:00            0      NaN  NaN   \n                           2010-01-17 00:00:00            0      NaN  NaN   \n                           2010-01-18 00:00:00            0      NaN  NaN   \n                           2010-01-19 00:00:00            0      NaN  NaN   \n                           2010-01-20 00:00:00            0      NaN  NaN   \n\n                                                v10  t2m  tp  First_Day  \\\nx             y            time                                           \n329415.341451 5.032039e+06 2010-01-01 00:00:00  NaN  NaN NaN        NaN   \n                           2010-01-02 00:00:00  NaN  NaN NaN        NaN   \n                           2010-01-03 00:00:00  NaN  NaN NaN        NaN   \n                           2010-01-04 00:00:00  NaN  NaN NaN        NaN   \n                           2010-01-05 00:00:00  NaN  NaN NaN        NaN   \n                           2010-01-06 00:00:00  NaN  NaN NaN        NaN   \n                           2010-01-07 00:00:00  NaN  NaN NaN        NaN   \n                           2010-01-08 00:00:00  NaN  NaN NaN        NaN   \n                           2010-01-09 00:00:00  NaN  NaN NaN        NaN   \n                           2010-01-10 00:00:00  NaN  NaN NaN        NaN   \n                           2010-01-11 00:00:00  NaN  NaN NaN        NaN   \n                           2010-01-12 00:00:00  NaN  NaN NaN        NaN   \n                           2010-01-13 00:00:00  NaN  NaN NaN        NaN   \n                           2010-01-14 00:00:00  NaN  NaN NaN        NaN   \n                           2010-01-15 00:00:00  NaN  NaN NaN        NaN   \n                           2010-01-16 00:00:00  NaN  NaN NaN        NaN   \n                           2010-01-17 00:00:00  NaN  NaN NaN        NaN   \n                           2010-01-18 00:00:00  NaN  NaN NaN        NaN   \n                           2010-01-19 00:00:00  NaN  NaN NaN        NaN   \n                           2010-01-20 00:00:00  NaN  NaN NaN        NaN   \n\n                                                Last_Day  Burn_Date  FireMask  \\\nx             y            time                                                 \n329415.341451 5.032039e+06 2010-01-01 00:00:00       NaN        NaN       NaN   \n                           2010-01-02 00:00:00       NaN        NaN       NaN   \n                           2010-01-03 00:00:00       NaN        NaN       NaN   \n                           2010-01-04 00:00:00       NaN        NaN       NaN   \n                           2010-01-05 00:00:00       NaN        NaN       NaN   \n                           2010-01-06 00:00:00       NaN        NaN       NaN   \n                           2010-01-07 00:00:00       NaN        NaN       NaN   \n                           2010-01-08 00:00:00       NaN        NaN       NaN   \n                           2010-01-09 00:00:00       NaN        NaN       NaN   \n                           2010-01-10 00:00:00       NaN        NaN       NaN   \n                           2010-01-11 00:00:00       NaN        NaN       NaN   \n                           2010-01-12 00:00:00       NaN        NaN       NaN   \n                           2010-01-13 00:00:00       NaN        NaN       NaN   \n                           2010-01-14 00:00:00       NaN        NaN       NaN   \n                           2010-01-15 00:00:00       NaN        NaN       NaN   \n                           2010-01-16 00:00:00       NaN        NaN       NaN   \n                           2010-01-17 00:00:00       NaN        NaN       NaN   \n                           2010-01-18 00:00:00       NaN        NaN       NaN   \n                           2010-01-19 00:00:00       NaN        NaN       NaN   \n                           2010-01-20 00:00:00       NaN        NaN       NaN   \n\n                                                LST_Day_1km  LST_Night_1km  \\\nx             y            time                                              \n329415.341451 5.032039e+06 2010-01-01 00:00:00          NaN            NaN   \n                           2010-01-02 00:00:00          NaN            NaN   \n                           2010-01-03 00:00:00          NaN            NaN   \n                           2010-01-04 00:00:00          NaN            NaN   \n                           2010-01-05 00:00:00          NaN            NaN   \n                           2010-01-06 00:00:00          NaN            NaN   \n                           2010-01-07 00:00:00          NaN            NaN   \n                           2010-01-08 00:00:00          NaN            NaN   \n                           2010-01-09 00:00:00          NaN            NaN   \n                           2010-01-10 00:00:00          NaN            NaN   \n                           2010-01-11 00:00:00          NaN            NaN   \n                           2010-01-12 00:00:00          NaN            NaN   \n                           2010-01-13 00:00:00          NaN            NaN   \n                           2010-01-14 00:00:00          NaN            NaN   \n                           2010-01-15 00:00:00          NaN            NaN   \n                           2010-01-16 00:00:00          NaN            NaN   \n                           2010-01-17 00:00:00          NaN            NaN   \n                           2010-01-18 00:00:00          NaN            NaN   \n                           2010-01-19 00:00:00          NaN            NaN   \n                           2010-01-20 00:00:00          NaN            NaN   \n\n                                                _1_km_16_days_EVI  \nx             y            time                                    \n329415.341451 5.032039e+06 2010-01-01 00:00:00                NaN  \n                           2010-01-02 00:00:00                NaN  \n                           2010-01-03 00:00:00                NaN  \n                           2010-01-04 00:00:00                NaN  \n                           2010-01-05 00:00:00                NaN  \n                           2010-01-06 00:00:00                NaN  \n                           2010-01-07 00:00:00                NaN  \n                           2010-01-08 00:00:00                NaN  \n                           2010-01-09 00:00:00                NaN  \n                           2010-01-10 00:00:00                NaN  \n                           2010-01-11 00:00:00                NaN  \n                           2010-01-12 00:00:00                NaN  \n                           2010-01-13 00:00:00                NaN  \n                           2010-01-14 00:00:00                NaN  \n                           2010-01-15 00:00:00                NaN  \n                           2010-01-16 00:00:00                NaN  \n                           2010-01-17 00:00:00                NaN  \n                           2010-01-18 00:00:00                NaN  \n                           2010-01-19 00:00:00                NaN  \n                           2010-01-20 00:00:00                NaN  ",
      "text/html": "<div>\n<style scoped>\n    .dataframe tbody tr th:only-of-type {\n        vertical-align: middle;\n    }\n\n    .dataframe tbody tr th {\n        vertical-align: top;\n    }\n\n    .dataframe thead th {\n        text-align: right;\n    }\n</style>\n<table border=\"1\" class=\"dataframe\">\n  <thead>\n    <tr style=\"text-align: right;\">\n      <th></th>\n      <th></th>\n      <th></th>\n      <th>crs</th>\n      <th>ET_500m</th>\n      <th>Fpar_500m</th>\n      <th>band</th>\n      <th>spatial_ref</th>\n      <th>density</th>\n      <th>u10</th>\n      <th>v10</th>\n      <th>t2m</th>\n      <th>tp</th>\n      <th>First_Day</th>\n      <th>Last_Day</th>\n      <th>Burn_Date</th>\n      <th>FireMask</th>\n      <th>LST_Day_1km</th>\n      <th>LST_Night_1km</th>\n      <th>_1_km_16_days_EVI</th>\n    </tr>\n    <tr>\n      <th>x</th>\n      <th>y</th>\n      <th>time</th>\n      <th></th>\n      <th></th>\n      <th></th>\n      <th></th>\n      <th></th>\n      <th></th>\n      <th></th>\n      <th></th>\n      <th></th>\n      <th></th>\n      <th></th>\n      <th></th>\n      <th></th>\n      <th></th>\n      <th></th>\n      <th></th>\n      <th></th>\n    </tr>\n  </thead>\n  <tbody>\n    <tr>\n      <th rowspan=\"20\" valign=\"top\">329415.341451</th>\n      <th rowspan=\"20\" valign=\"top\">5.032039e+06</th>\n      <th>2010-01-01 00:00:00</th>\n      <td>0</td>\n      <td>NaN</td>\n      <td>NaN</td>\n      <td>1</td>\n      <td>0</td>\n      <td>NaN</td>\n      <td>NaN</td>\n      <td>NaN</td>\n      <td>NaN</td>\n      <td>NaN</td>\n      <td>NaN</td>\n      <td>NaN</td>\n      <td>NaN</td>\n      <td>NaN</td>\n      <td>NaN</td>\n      <td>NaN</td>\n      <td>NaN</td>\n    </tr>\n    <tr>\n      <th>2010-01-02 00:00:00</th>\n      <td>0</td>\n      <td>NaN</td>\n      <td>NaN</td>\n      <td>1</td>\n      <td>0</td>\n      <td>NaN</td>\n      <td>NaN</td>\n      <td>NaN</td>\n      <td>NaN</td>\n      <td>NaN</td>\n      <td>NaN</td>\n      <td>NaN</td>\n      <td>NaN</td>\n      <td>NaN</td>\n      <td>NaN</td>\n      <td>NaN</td>\n      <td>NaN</td>\n    </tr>\n    <tr>\n      <th>2010-01-03 00:00:00</th>\n      <td>0</td>\n      <td>NaN</td>\n      <td>NaN</td>\n      <td>1</td>\n      <td>0</td>\n      <td>NaN</td>\n      <td>NaN</td>\n      <td>NaN</td>\n      <td>NaN</td>\n      <td>NaN</td>\n      <td>NaN</td>\n      <td>NaN</td>\n      <td>NaN</td>\n      <td>NaN</td>\n      <td>NaN</td>\n      <td>NaN</td>\n      <td>NaN</td>\n    </tr>\n    <tr>\n      <th>2010-01-04 00:00:00</th>\n      <td>0</td>\n      <td>NaN</td>\n      <td>NaN</td>\n      <td>1</td>\n      <td>0</td>\n      <td>NaN</td>\n      <td>NaN</td>\n      <td>NaN</td>\n      <td>NaN</td>\n      <td>NaN</td>\n      <td>NaN</td>\n      <td>NaN</td>\n      <td>NaN</td>\n      <td>NaN</td>\n      <td>NaN</td>\n      <td>NaN</td>\n      <td>NaN</td>\n    </tr>\n    <tr>\n      <th>2010-01-05 00:00:00</th>\n      <td>0</td>\n      <td>NaN</td>\n      <td>NaN</td>\n      <td>1</td>\n      <td>0</td>\n      <td>NaN</td>\n      <td>NaN</td>\n      <td>NaN</td>\n      <td>NaN</td>\n      <td>NaN</td>\n      <td>NaN</td>\n      <td>NaN</td>\n      <td>NaN</td>\n      <td>NaN</td>\n      <td>NaN</td>\n      <td>NaN</td>\n      <td>NaN</td>\n    </tr>\n    <tr>\n      <th>2010-01-06 00:00:00</th>\n      <td>0</td>\n      <td>NaN</td>\n      <td>NaN</td>\n      <td>1</td>\n      <td>0</td>\n      <td>NaN</td>\n      <td>NaN</td>\n      <td>NaN</td>\n      <td>NaN</td>\n      <td>NaN</td>\n      <td>NaN</td>\n      <td>NaN</td>\n      <td>NaN</td>\n      <td>NaN</td>\n      <td>NaN</td>\n      <td>NaN</td>\n      <td>NaN</td>\n    </tr>\n    <tr>\n      <th>2010-01-07 00:00:00</th>\n      <td>0</td>\n      <td>NaN</td>\n      <td>NaN</td>\n      <td>1</td>\n      <td>0</td>\n      <td>NaN</td>\n      <td>NaN</td>\n      <td>NaN</td>\n      <td>NaN</td>\n      <td>NaN</td>\n      <td>NaN</td>\n      <td>NaN</td>\n      <td>NaN</td>\n      <td>NaN</td>\n      <td>NaN</td>\n      <td>NaN</td>\n      <td>NaN</td>\n    </tr>\n    <tr>\n      <th>2010-01-08 00:00:00</th>\n      <td>0</td>\n      <td>NaN</td>\n      <td>NaN</td>\n      <td>1</td>\n      <td>0</td>\n      <td>NaN</td>\n      <td>NaN</td>\n      <td>NaN</td>\n      <td>NaN</td>\n      <td>NaN</td>\n      <td>NaN</td>\n      <td>NaN</td>\n      <td>NaN</td>\n      <td>NaN</td>\n      <td>NaN</td>\n      <td>NaN</td>\n      <td>NaN</td>\n    </tr>\n    <tr>\n      <th>2010-01-09 00:00:00</th>\n      <td>0</td>\n      <td>NaN</td>\n      <td>NaN</td>\n      <td>1</td>\n      <td>0</td>\n      <td>NaN</td>\n      <td>NaN</td>\n      <td>NaN</td>\n      <td>NaN</td>\n      <td>NaN</td>\n      <td>NaN</td>\n      <td>NaN</td>\n      <td>NaN</td>\n      <td>NaN</td>\n      <td>NaN</td>\n      <td>NaN</td>\n      <td>NaN</td>\n    </tr>\n    <tr>\n      <th>2010-01-10 00:00:00</th>\n      <td>0</td>\n      <td>NaN</td>\n      <td>NaN</td>\n      <td>1</td>\n      <td>0</td>\n      <td>NaN</td>\n      <td>NaN</td>\n      <td>NaN</td>\n      <td>NaN</td>\n      <td>NaN</td>\n      <td>NaN</td>\n      <td>NaN</td>\n      <td>NaN</td>\n      <td>NaN</td>\n      <td>NaN</td>\n      <td>NaN</td>\n      <td>NaN</td>\n    </tr>\n    <tr>\n      <th>2010-01-11 00:00:00</th>\n      <td>0</td>\n      <td>NaN</td>\n      <td>NaN</td>\n      <td>1</td>\n      <td>0</td>\n      <td>NaN</td>\n      <td>NaN</td>\n      <td>NaN</td>\n      <td>NaN</td>\n      <td>NaN</td>\n      <td>NaN</td>\n      <td>NaN</td>\n      <td>NaN</td>\n      <td>NaN</td>\n      <td>NaN</td>\n      <td>NaN</td>\n      <td>NaN</td>\n    </tr>\n    <tr>\n      <th>2010-01-12 00:00:00</th>\n      <td>0</td>\n      <td>NaN</td>\n      <td>NaN</td>\n      <td>1</td>\n      <td>0</td>\n      <td>NaN</td>\n      <td>NaN</td>\n      <td>NaN</td>\n      <td>NaN</td>\n      <td>NaN</td>\n      <td>NaN</td>\n      <td>NaN</td>\n      <td>NaN</td>\n      <td>NaN</td>\n      <td>NaN</td>\n      <td>NaN</td>\n      <td>NaN</td>\n    </tr>\n    <tr>\n      <th>2010-01-13 00:00:00</th>\n      <td>0</td>\n      <td>NaN</td>\n      <td>NaN</td>\n      <td>1</td>\n      <td>0</td>\n      <td>NaN</td>\n      <td>NaN</td>\n      <td>NaN</td>\n      <td>NaN</td>\n      <td>NaN</td>\n      <td>NaN</td>\n      <td>NaN</td>\n      <td>NaN</td>\n      <td>NaN</td>\n      <td>NaN</td>\n      <td>NaN</td>\n      <td>NaN</td>\n    </tr>\n    <tr>\n      <th>2010-01-14 00:00:00</th>\n      <td>0</td>\n      <td>NaN</td>\n      <td>NaN</td>\n      <td>1</td>\n      <td>0</td>\n      <td>NaN</td>\n      <td>NaN</td>\n      <td>NaN</td>\n      <td>NaN</td>\n      <td>NaN</td>\n      <td>NaN</td>\n      <td>NaN</td>\n      <td>NaN</td>\n      <td>NaN</td>\n      <td>NaN</td>\n      <td>NaN</td>\n      <td>NaN</td>\n    </tr>\n    <tr>\n      <th>2010-01-15 00:00:00</th>\n      <td>0</td>\n      <td>NaN</td>\n      <td>NaN</td>\n      <td>1</td>\n      <td>0</td>\n      <td>NaN</td>\n      <td>NaN</td>\n      <td>NaN</td>\n      <td>NaN</td>\n      <td>NaN</td>\n      <td>NaN</td>\n      <td>NaN</td>\n      <td>NaN</td>\n      <td>NaN</td>\n      <td>NaN</td>\n      <td>NaN</td>\n      <td>NaN</td>\n    </tr>\n    <tr>\n      <th>2010-01-16 00:00:00</th>\n      <td>0</td>\n      <td>NaN</td>\n      <td>NaN</td>\n      <td>1</td>\n      <td>0</td>\n      <td>NaN</td>\n      <td>NaN</td>\n      <td>NaN</td>\n      <td>NaN</td>\n      <td>NaN</td>\n      <td>NaN</td>\n      <td>NaN</td>\n      <td>NaN</td>\n      <td>NaN</td>\n      <td>NaN</td>\n      <td>NaN</td>\n      <td>NaN</td>\n    </tr>\n    <tr>\n      <th>2010-01-17 00:00:00</th>\n      <td>0</td>\n      <td>NaN</td>\n      <td>NaN</td>\n      <td>1</td>\n      <td>0</td>\n      <td>NaN</td>\n      <td>NaN</td>\n      <td>NaN</td>\n      <td>NaN</td>\n      <td>NaN</td>\n      <td>NaN</td>\n      <td>NaN</td>\n      <td>NaN</td>\n      <td>NaN</td>\n      <td>NaN</td>\n      <td>NaN</td>\n      <td>NaN</td>\n    </tr>\n    <tr>\n      <th>2010-01-18 00:00:00</th>\n      <td>0</td>\n      <td>NaN</td>\n      <td>NaN</td>\n      <td>1</td>\n      <td>0</td>\n      <td>NaN</td>\n      <td>NaN</td>\n      <td>NaN</td>\n      <td>NaN</td>\n      <td>NaN</td>\n      <td>NaN</td>\n      <td>NaN</td>\n      <td>NaN</td>\n      <td>NaN</td>\n      <td>NaN</td>\n      <td>NaN</td>\n      <td>NaN</td>\n    </tr>\n    <tr>\n      <th>2010-01-19 00:00:00</th>\n      <td>0</td>\n      <td>NaN</td>\n      <td>NaN</td>\n      <td>1</td>\n      <td>0</td>\n      <td>NaN</td>\n      <td>NaN</td>\n      <td>NaN</td>\n      <td>NaN</td>\n      <td>NaN</td>\n      <td>NaN</td>\n      <td>NaN</td>\n      <td>NaN</td>\n      <td>NaN</td>\n      <td>NaN</td>\n      <td>NaN</td>\n      <td>NaN</td>\n    </tr>\n    <tr>\n      <th>2010-01-20 00:00:00</th>\n      <td>0</td>\n      <td>NaN</td>\n      <td>NaN</td>\n      <td>1</td>\n      <td>0</td>\n      <td>NaN</td>\n      <td>NaN</td>\n      <td>NaN</td>\n      <td>NaN</td>\n      <td>NaN</td>\n      <td>NaN</td>\n      <td>NaN</td>\n      <td>NaN</td>\n      <td>NaN</td>\n      <td>NaN</td>\n      <td>NaN</td>\n      <td>NaN</td>\n    </tr>\n  </tbody>\n</table>\n</div>"
     },
     "execution_count": 9,
     "metadata": {},
     "output_type": "execute_result"
    }
   ],
   "source": [
    "df.head(20)"
   ],
   "metadata": {
    "collapsed": false,
    "pycharm": {
     "name": "#%%\n"
    }
   }
  },
  {
   "cell_type": "code",
   "execution_count": 10,
   "outputs": [],
   "source": [
    "# Drop the columns we don't need: crs, band, spatial_ref\n",
    "df = df.drop(columns=['crs', 'band', 'spatial_ref'])"
   ],
   "metadata": {
    "collapsed": false,
    "pycharm": {
     "name": "#%%\n"
    }
   }
  },
  {
   "cell_type": "code",
   "execution_count": 11,
   "outputs": [
    {
     "data": {
      "text/plain": "ET_500m              0.072618\nFpar_500m            0.007860\ndensity              0.069942\nu10                  0.203498\nv10                  0.203498\nt2m                  0.203498\ntp                   0.203498\nFirst_Day            0.012365\nLast_Day             0.012365\nBurn_Date            0.012365\nFireMask             0.002081\nLST_Day_1km          0.003486\nLST_Night_1km        0.002898\n_1_km_16_days_EVI    0.002081\ndtype: float64"
     },
     "execution_count": 11,
     "metadata": {},
     "output_type": "execute_result"
    }
   ],
   "source": [
    "# Count the percentage of missing values in each column\n",
    "df.isnull().sum() / len(df)"
   ],
   "metadata": {
    "collapsed": false,
    "pycharm": {
     "name": "#%%\n"
    }
   }
  },
  {
   "cell_type": "code",
   "execution_count": 12,
   "outputs": [],
   "source": [
    "# Drop all the missing values\n",
    "df = df.dropna()"
   ],
   "metadata": {
    "collapsed": false,
    "pycharm": {
     "name": "#%%\n"
    }
   }
  },
  {
   "cell_type": "code",
   "execution_count": 13,
   "outputs": [
    {
     "data": {
      "text/plain": "ET_500m              0.0\nFpar_500m            0.0\ndensity              0.0\nu10                  0.0\nv10                  0.0\nt2m                  0.0\ntp                   0.0\nFirst_Day            0.0\nLast_Day             0.0\nBurn_Date            0.0\nFireMask             0.0\nLST_Day_1km          0.0\nLST_Night_1km        0.0\n_1_km_16_days_EVI    0.0\ndtype: float64"
     },
     "execution_count": 13,
     "metadata": {},
     "output_type": "execute_result"
    }
   ],
   "source": [
    "# Check the percentage of missing values in each column\n",
    "df.isnull().sum() / len(df)"
   ],
   "metadata": {
    "collapsed": false,
    "pycharm": {
     "name": "#%%\n"
    }
   }
  },
  {
   "cell_type": "code",
   "execution_count": 14,
   "outputs": [
    {
     "data": {
      "text/plain": "(15570006, 14)"
     },
     "execution_count": 14,
     "metadata": {},
     "output_type": "execute_result"
    }
   ],
   "source": [
    "# Structure of the dataframe\n",
    "df.shape"
   ],
   "metadata": {
    "collapsed": false,
    "pycharm": {
     "name": "#%%\n"
    }
   }
  },
  {
   "cell_type": "code",
   "execution_count": 15,
   "outputs": [
    {
     "data": {
      "text/plain": "5.0    14993489\n4.0      534871\n3.0       40726\n8.0         848\n9.0          48\n7.0          24\nName: FireMask, dtype: int64"
     },
     "execution_count": 15,
     "metadata": {},
     "output_type": "execute_result"
    }
   ],
   "source": [
    "# Count the number of unique values in FireMask\n",
    "df['FireMask'].value_counts()"
   ],
   "metadata": {
    "collapsed": false,
    "pycharm": {
     "name": "#%%\n"
    }
   }
  },
  {
   "cell_type": "code",
   "execution_count": 16,
   "outputs": [],
   "source": [
    "# Change the value of FireMAsk to 0 and 1. 0 = no fire, 1 = fire . If FireMask is 7,8,9 then it is a fire. If not, it is not a fire.\n",
    "df['FireMask'] = df['FireMask'].replace([0,1,2,3,4,5,6], 0)\n",
    "df['FireMask'] = df['FireMask'].replace([7,8,9], 1)\n"
   ],
   "metadata": {
    "collapsed": false,
    "pycharm": {
     "name": "#%%\n"
    }
   }
  },
  {
   "cell_type": "code",
   "execution_count": 17,
   "outputs": [
    {
     "data": {
      "text/plain": "0.0    15569086\n1.0         920\nName: FireMask, dtype: int64"
     },
     "execution_count": 17,
     "metadata": {},
     "output_type": "execute_result"
    }
   ],
   "source": [
    "# Counthe number of fires and no fires\n",
    "df['FireMask'].value_counts()\n"
   ],
   "metadata": {
    "collapsed": false,
    "pycharm": {
     "name": "#%%\n"
    }
   }
  },
  {
   "cell_type": "code",
   "execution_count": 19,
   "outputs": [
    {
     "name": "stderr",
     "output_type": "stream",
     "text": [
      "C:\\Users\\Quentin\\AppData\\Local\\Temp\\ipykernel_12056\\2366296675.py:2: FutureWarning: The frame.append method is deprecated and will be removed from pandas in a future version. Use pandas.concat instead.\n",
      "  df = df[df['FireMask'] == 1].append(df[df['FireMask'] == 0].sample(n=1000, random_state=1))\n"
     ]
    }
   ],
   "source": [
    "# Keep all the observations with FireMask = 1 and keep 1000 observations with FireMask = 0 randomly\n",
    "df = df[df['FireMask'] == 1].append(df[df['FireMask'] == 0].sample(n=1000, random_state=1))\n"
   ],
   "metadata": {
    "collapsed": false,
    "pycharm": {
     "name": "#%%\n"
    }
   }
  },
  {
   "cell_type": "code",
   "execution_count": 20,
   "outputs": [
    {
     "data": {
      "text/plain": "0.0    1000\n1.0     920\nName: FireMask, dtype: int64"
     },
     "execution_count": 20,
     "metadata": {},
     "output_type": "execute_result"
    }
   ],
   "source": [
    "df['FireMask'].value_counts()"
   ],
   "metadata": {
    "collapsed": false,
    "pycharm": {
     "name": "#%%\n"
    }
   }
  },
  {
   "cell_type": "code",
   "execution_count": 22,
   "outputs": [],
   "source": [
    "# export the dataframe to a csv file\n",
    "df.to_csv(path_data + 'datacube_balanced.csv')"
   ],
   "metadata": {
    "collapsed": false,
    "pycharm": {
     "name": "#%%\n"
    }
   }
  },
  {
   "cell_type": "code",
   "execution_count": 25,
   "outputs": [
    {
     "ename": "ModuleNotFoundError",
     "evalue": "No module named 'pycaret'",
     "output_type": "error",
     "traceback": [
      "\u001B[1;31m---------------------------------------------------------------------------\u001B[0m",
      "\u001B[1;31mModuleNotFoundError\u001B[0m                       Traceback (most recent call last)",
      "Cell \u001B[1;32mIn [25], line 1\u001B[0m\n\u001B[1;32m----> 1\u001B[0m \u001B[38;5;28;01mfrom\u001B[39;00m \u001B[38;5;21;01mpycaret\u001B[39;00m\u001B[38;5;21;01m.\u001B[39;00m\u001B[38;5;21;01mclassification\u001B[39;00m \u001B[38;5;28;01mimport\u001B[39;00m \u001B[38;5;241m*\u001B[39m\n",
      "\u001B[1;31mModuleNotFoundError\u001B[0m: No module named 'pycaret'"
     ]
    }
   ],
   "source": [
    "from pycaret.classification import *"
   ],
   "metadata": {
    "collapsed": false,
    "pycharm": {
     "name": "#%%\n"
    }
   }
  },
  {
   "cell_type": "code",
   "execution_count": null,
   "outputs": [],
   "source": [],
   "metadata": {
    "collapsed": false,
    "pycharm": {
     "name": "#%%\n"
    }
   }
  }
 ],
 "metadata": {
  "kernelspec": {
   "display_name": "Python 3",
   "language": "python",
   "name": "python3"
  },
  "language_info": {
   "codemirror_mode": {
    "name": "ipython",
    "version": 2
   },
   "file_extension": ".py",
   "mimetype": "text/x-python",
   "name": "python",
   "nbconvert_exporter": "python",
   "pygments_lexer": "ipython2",
   "version": "2.7.6"
  }
 },
 "nbformat": 4,
 "nbformat_minor": 0
}