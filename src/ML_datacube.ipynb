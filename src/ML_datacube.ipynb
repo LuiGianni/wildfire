{
 "cells": [
  {
   "cell_type": "markdown",
   "source": [
    "# Auto_Ml on a subset of the datacube"
   ],
   "metadata": {
    "collapsed": false,
    "pycharm": {
     "name": "#%% md\n"
    }
   }
  },
  {
   "cell_type": "code",
   "execution_count": 6,
   "outputs": [],
   "source": [
    "import numpy as np\n",
    "import rasterio\n",
    "import matplotlib.pyplot as plt\n",
    "import xarray as xr\n",
    "import rioxarray as rxr\n",
    "import geopandas as gpd\n",
    "import harmonize as hz"
   ],
   "metadata": {
    "collapsed": false,
    "pycharm": {
     "name": "#%%\n"
    }
   }
  },
  {
   "cell_type": "code",
   "execution_count": 7,
   "outputs": [],
   "source": [
    "# Open the dataset with xarray\n",
    "path_data = \"../data/final/\""
   ],
   "metadata": {
    "collapsed": false,
    "pycharm": {
     "name": "#%%\n"
    }
   }
  },
  {
   "cell_type": "code",
   "execution_count": 8,
   "outputs": [],
   "source": [
    "# Open the datacube5 as an xarray dataset\n",
    "datacube = xr.open_dataset(path_data+ 'final_datacube_gps.nc')"
   ],
   "metadata": {
    "collapsed": false,
    "pycharm": {
     "name": "#%%\n"
    }
   }
  },
  {
   "cell_type": "code",
   "execution_count": 9,
   "outputs": [
    {
     "data": {
      "text/plain": "<xarray.Dataset>\nDimensions:                 (x: 309, y: 182, time: 4019)\nCoordinates:\n  * x                       (x) float64 4.08 4.09 4.1 4.11 ... 7.112 7.122 7.132\n  * y                       (y) float64 45.25 45.24 45.23 ... 43.48 43.47 43.46\n  * time                    (time) object 2010-01-01 00:00:00 ... 2021-01-01 ...\n    band                    int32 ...\nData variables: (12/25)\n    crs                     int32 ...\n    ET_500m                 (time, y, x) float32 ...\n    Fpar_500m               (time, y, x) float64 ...\n    spatial_ref             int32 ...\n    density                 (y, x) float32 ...\n    u10                     (time, y, x) float64 ...\n    ...                      ...\n    v10_mean                (time, y, x) float64 ...\n    t2m_mean                (time, y, x) float64 ...\n    tp_mean                 (time, y, x) float64 ...\n    LST_Day_1km_mean        (time, y, x) float64 ...\n    LST_Night_1km_mean      (time, y, x) float64 ...\n    _1_km_16_days_EVI_mean  (time, y, x) float64 ...\nAttributes:\n    Conventions:  CF-1.6\n    history:      2022-09-15 13:57:35 GMT by grib_to_netcdf-2.25.1: /opt/ecmw...",
      "text/html": "<div><svg style=\"position: absolute; width: 0; height: 0; overflow: hidden\">\n<defs>\n<symbol id=\"icon-database\" viewBox=\"0 0 32 32\">\n<path d=\"M16 0c-8.837 0-16 2.239-16 5v4c0 2.761 7.163 5 16 5s16-2.239 16-5v-4c0-2.761-7.163-5-16-5z\"></path>\n<path d=\"M16 17c-8.837 0-16-2.239-16-5v6c0 2.761 7.163 5 16 5s16-2.239 16-5v-6c0 2.761-7.163 5-16 5z\"></path>\n<path d=\"M16 26c-8.837 0-16-2.239-16-5v6c0 2.761 7.163 5 16 5s16-2.239 16-5v-6c0 2.761-7.163 5-16 5z\"></path>\n</symbol>\n<symbol id=\"icon-file-text2\" viewBox=\"0 0 32 32\">\n<path d=\"M28.681 7.159c-0.694-0.947-1.662-2.053-2.724-3.116s-2.169-2.030-3.116-2.724c-1.612-1.182-2.393-1.319-2.841-1.319h-15.5c-1.378 0-2.5 1.121-2.5 2.5v27c0 1.378 1.122 2.5 2.5 2.5h23c1.378 0 2.5-1.122 2.5-2.5v-19.5c0-0.448-0.137-1.23-1.319-2.841zM24.543 5.457c0.959 0.959 1.712 1.825 2.268 2.543h-4.811v-4.811c0.718 0.556 1.584 1.309 2.543 2.268zM28 29.5c0 0.271-0.229 0.5-0.5 0.5h-23c-0.271 0-0.5-0.229-0.5-0.5v-27c0-0.271 0.229-0.5 0.5-0.5 0 0 15.499-0 15.5 0v7c0 0.552 0.448 1 1 1h7v19.5z\"></path>\n<path d=\"M23 26h-14c-0.552 0-1-0.448-1-1s0.448-1 1-1h14c0.552 0 1 0.448 1 1s-0.448 1-1 1z\"></path>\n<path d=\"M23 22h-14c-0.552 0-1-0.448-1-1s0.448-1 1-1h14c0.552 0 1 0.448 1 1s-0.448 1-1 1z\"></path>\n<path d=\"M23 18h-14c-0.552 0-1-0.448-1-1s0.448-1 1-1h14c0.552 0 1 0.448 1 1s-0.448 1-1 1z\"></path>\n</symbol>\n</defs>\n</svg>\n<style>/* CSS stylesheet for displaying xarray objects in jupyterlab.\n *\n */\n\n:root {\n  --xr-font-color0: var(--jp-content-font-color0, rgba(0, 0, 0, 1));\n  --xr-font-color2: var(--jp-content-font-color2, rgba(0, 0, 0, 0.54));\n  --xr-font-color3: var(--jp-content-font-color3, rgba(0, 0, 0, 0.38));\n  --xr-border-color: var(--jp-border-color2, #e0e0e0);\n  --xr-disabled-color: var(--jp-layout-color3, #bdbdbd);\n  --xr-background-color: var(--jp-layout-color0, white);\n  --xr-background-color-row-even: var(--jp-layout-color1, white);\n  --xr-background-color-row-odd: var(--jp-layout-color2, #eeeeee);\n}\n\nhtml[theme=dark],\nbody[data-theme=dark],\nbody.vscode-dark {\n  --xr-font-color0: rgba(255, 255, 255, 1);\n  --xr-font-color2: rgba(255, 255, 255, 0.54);\n  --xr-font-color3: rgba(255, 255, 255, 0.38);\n  --xr-border-color: #1F1F1F;\n  --xr-disabled-color: #515151;\n  --xr-background-color: #111111;\n  --xr-background-color-row-even: #111111;\n  --xr-background-color-row-odd: #313131;\n}\n\n.xr-wrap {\n  display: block !important;\n  min-width: 300px;\n  max-width: 700px;\n}\n\n.xr-text-repr-fallback {\n  /* fallback to plain text repr when CSS is not injected (untrusted notebook) */\n  display: none;\n}\n\n.xr-header {\n  padding-top: 6px;\n  padding-bottom: 6px;\n  margin-bottom: 4px;\n  border-bottom: solid 1px var(--xr-border-color);\n}\n\n.xr-header > div,\n.xr-header > ul {\n  display: inline;\n  margin-top: 0;\n  margin-bottom: 0;\n}\n\n.xr-obj-type,\n.xr-array-name {\n  margin-left: 2px;\n  margin-right: 10px;\n}\n\n.xr-obj-type {\n  color: var(--xr-font-color2);\n}\n\n.xr-sections {\n  padding-left: 0 !important;\n  display: grid;\n  grid-template-columns: 150px auto auto 1fr 20px 20px;\n}\n\n.xr-section-item {\n  display: contents;\n}\n\n.xr-section-item input {\n  display: none;\n}\n\n.xr-section-item input + label {\n  color: var(--xr-disabled-color);\n}\n\n.xr-section-item input:enabled + label {\n  cursor: pointer;\n  color: var(--xr-font-color2);\n}\n\n.xr-section-item input:enabled + label:hover {\n  color: var(--xr-font-color0);\n}\n\n.xr-section-summary {\n  grid-column: 1;\n  color: var(--xr-font-color2);\n  font-weight: 500;\n}\n\n.xr-section-summary > span {\n  display: inline-block;\n  padding-left: 0.5em;\n}\n\n.xr-section-summary-in:disabled + label {\n  color: var(--xr-font-color2);\n}\n\n.xr-section-summary-in + label:before {\n  display: inline-block;\n  content: '►';\n  font-size: 11px;\n  width: 15px;\n  text-align: center;\n}\n\n.xr-section-summary-in:disabled + label:before {\n  color: var(--xr-disabled-color);\n}\n\n.xr-section-summary-in:checked + label:before {\n  content: '▼';\n}\n\n.xr-section-summary-in:checked + label > span {\n  display: none;\n}\n\n.xr-section-summary,\n.xr-section-inline-details {\n  padding-top: 4px;\n  padding-bottom: 4px;\n}\n\n.xr-section-inline-details {\n  grid-column: 2 / -1;\n}\n\n.xr-section-details {\n  display: none;\n  grid-column: 1 / -1;\n  margin-bottom: 5px;\n}\n\n.xr-section-summary-in:checked ~ .xr-section-details {\n  display: contents;\n}\n\n.xr-array-wrap {\n  grid-column: 1 / -1;\n  display: grid;\n  grid-template-columns: 20px auto;\n}\n\n.xr-array-wrap > label {\n  grid-column: 1;\n  vertical-align: top;\n}\n\n.xr-preview {\n  color: var(--xr-font-color3);\n}\n\n.xr-array-preview,\n.xr-array-data {\n  padding: 0 5px !important;\n  grid-column: 2;\n}\n\n.xr-array-data,\n.xr-array-in:checked ~ .xr-array-preview {\n  display: none;\n}\n\n.xr-array-in:checked ~ .xr-array-data,\n.xr-array-preview {\n  display: inline-block;\n}\n\n.xr-dim-list {\n  display: inline-block !important;\n  list-style: none;\n  padding: 0 !important;\n  margin: 0;\n}\n\n.xr-dim-list li {\n  display: inline-block;\n  padding: 0;\n  margin: 0;\n}\n\n.xr-dim-list:before {\n  content: '(';\n}\n\n.xr-dim-list:after {\n  content: ')';\n}\n\n.xr-dim-list li:not(:last-child):after {\n  content: ',';\n  padding-right: 5px;\n}\n\n.xr-has-index {\n  font-weight: bold;\n}\n\n.xr-var-list,\n.xr-var-item {\n  display: contents;\n}\n\n.xr-var-item > div,\n.xr-var-item label,\n.xr-var-item > .xr-var-name span {\n  background-color: var(--xr-background-color-row-even);\n  margin-bottom: 0;\n}\n\n.xr-var-item > .xr-var-name:hover span {\n  padding-right: 5px;\n}\n\n.xr-var-list > li:nth-child(odd) > div,\n.xr-var-list > li:nth-child(odd) > label,\n.xr-var-list > li:nth-child(odd) > .xr-var-name span {\n  background-color: var(--xr-background-color-row-odd);\n}\n\n.xr-var-name {\n  grid-column: 1;\n}\n\n.xr-var-dims {\n  grid-column: 2;\n}\n\n.xr-var-dtype {\n  grid-column: 3;\n  text-align: right;\n  color: var(--xr-font-color2);\n}\n\n.xr-var-preview {\n  grid-column: 4;\n}\n\n.xr-var-name,\n.xr-var-dims,\n.xr-var-dtype,\n.xr-preview,\n.xr-attrs dt {\n  white-space: nowrap;\n  overflow: hidden;\n  text-overflow: ellipsis;\n  padding-right: 10px;\n}\n\n.xr-var-name:hover,\n.xr-var-dims:hover,\n.xr-var-dtype:hover,\n.xr-attrs dt:hover {\n  overflow: visible;\n  width: auto;\n  z-index: 1;\n}\n\n.xr-var-attrs,\n.xr-var-data {\n  display: none;\n  background-color: var(--xr-background-color) !important;\n  padding-bottom: 5px !important;\n}\n\n.xr-var-attrs-in:checked ~ .xr-var-attrs,\n.xr-var-data-in:checked ~ .xr-var-data {\n  display: block;\n}\n\n.xr-var-data > table {\n  float: right;\n}\n\n.xr-var-name span,\n.xr-var-data,\n.xr-attrs {\n  padding-left: 25px !important;\n}\n\n.xr-attrs,\n.xr-var-attrs,\n.xr-var-data {\n  grid-column: 1 / -1;\n}\n\ndl.xr-attrs {\n  padding: 0;\n  margin: 0;\n  display: grid;\n  grid-template-columns: 125px auto;\n}\n\n.xr-attrs dt,\n.xr-attrs dd {\n  padding: 0;\n  margin: 0;\n  float: left;\n  padding-right: 10px;\n  width: auto;\n}\n\n.xr-attrs dt {\n  font-weight: normal;\n  grid-column: 1;\n}\n\n.xr-attrs dt:hover span {\n  display: inline-block;\n  background: var(--xr-background-color);\n  padding-right: 10px;\n}\n\n.xr-attrs dd {\n  grid-column: 2;\n  white-space: pre-wrap;\n  word-break: break-all;\n}\n\n.xr-icon-database,\n.xr-icon-file-text2 {\n  display: inline-block;\n  vertical-align: middle;\n  width: 1em;\n  height: 1.5em !important;\n  stroke-width: 0;\n  stroke: currentColor;\n  fill: currentColor;\n}\n</style><pre class='xr-text-repr-fallback'>&lt;xarray.Dataset&gt;\nDimensions:                 (x: 309, y: 182, time: 4019)\nCoordinates:\n  * x                       (x) float64 4.08 4.09 4.1 4.11 ... 7.112 7.122 7.132\n  * y                       (y) float64 45.25 45.24 45.23 ... 43.48 43.47 43.46\n  * time                    (time) object 2010-01-01 00:00:00 ... 2021-01-01 ...\n    band                    int32 1\nData variables: (12/25)\n    crs                     int32 0\n    ET_500m                 (time, y, x) float32 ...\n    Fpar_500m               (time, y, x) float64 ...\n    spatial_ref             int32 0\n    density                 (y, x) float32 nan nan nan nan ... nan nan nan nan\n    u10                     (time, y, x) float64 ...\n    ...                      ...\n    v10_mean                (time, y, x) float64 ...\n    t2m_mean                (time, y, x) float64 ...\n    tp_mean                 (time, y, x) float64 ...\n    LST_Day_1km_mean        (time, y, x) float64 ...\n    LST_Night_1km_mean      (time, y, x) float64 ...\n    _1_km_16_days_EVI_mean  (time, y, x) float64 ...\nAttributes:\n    Conventions:  CF-1.6\n    history:      2022-09-15 13:57:35 GMT by grib_to_netcdf-2.25.1: /opt/ecmw...</pre><div class='xr-wrap' style='display:none'><div class='xr-header'><div class='xr-obj-type'>xarray.Dataset</div></div><ul class='xr-sections'><li class='xr-section-item'><input id='section-cbe9bdfa-a8a3-4053-94d8-12592180e5ef' class='xr-section-summary-in' type='checkbox' disabled ><label for='section-cbe9bdfa-a8a3-4053-94d8-12592180e5ef' class='xr-section-summary'  title='Expand/collapse section'>Dimensions:</label><div class='xr-section-inline-details'><ul class='xr-dim-list'><li><span class='xr-has-index'>x</span>: 309</li><li><span class='xr-has-index'>y</span>: 182</li><li><span class='xr-has-index'>time</span>: 4019</li></ul></div><div class='xr-section-details'></div></li><li class='xr-section-item'><input id='section-da36b3c2-c174-453e-b2b8-bc3fe440c659' class='xr-section-summary-in' type='checkbox'  checked><label for='section-da36b3c2-c174-453e-b2b8-bc3fe440c659' class='xr-section-summary' >Coordinates: <span>(4)</span></label><div class='xr-section-inline-details'></div><div class='xr-section-details'><ul class='xr-var-list'><li class='xr-var-item'><div class='xr-var-name'><span class='xr-has-index'>x</span></div><div class='xr-var-dims'>(x)</div><div class='xr-var-dtype'>float64</div><div class='xr-var-preview xr-preview'>4.08 4.09 4.1 ... 7.112 7.122 7.132</div><input id='attrs-6c152ea6-1a88-4e33-bb64-8e1655474d90' class='xr-var-attrs-in' type='checkbox' ><label for='attrs-6c152ea6-1a88-4e33-bb64-8e1655474d90' title='Show/Hide attributes'><svg class='icon xr-icon-file-text2'><use xlink:href='#icon-file-text2'></use></svg></label><input id='data-56c178ad-386b-433b-9c61-748fbcc370b6' class='xr-var-data-in' type='checkbox'><label for='data-56c178ad-386b-433b-9c61-748fbcc370b6' title='Show/Hide data repr'><svg class='icon xr-icon-database'><use xlink:href='#icon-database'></use></svg></label><div class='xr-var-attrs'><dl class='xr-attrs'><dt><span>axis :</span></dt><dd>X</dd><dt><span>long_name :</span></dt><dd>longitude</dd><dt><span>standard_name :</span></dt><dd>longitude</dd><dt><span>units :</span></dt><dd>degrees_east</dd></dl></div><div class='xr-var-data'><pre>array([4.079935, 4.089845, 4.099754, ..., 7.112173, 7.122082, 7.131991])</pre></div></li><li class='xr-var-item'><div class='xr-var-name'><span class='xr-has-index'>y</span></div><div class='xr-var-dims'>(y)</div><div class='xr-var-dtype'>float64</div><div class='xr-var-preview xr-preview'>45.25 45.24 45.23 ... 43.47 43.46</div><input id='attrs-a73bad26-3747-4ff4-b1a6-54dea65bd7e0' class='xr-var-attrs-in' type='checkbox' ><label for='attrs-a73bad26-3747-4ff4-b1a6-54dea65bd7e0' title='Show/Hide attributes'><svg class='icon xr-icon-file-text2'><use xlink:href='#icon-file-text2'></use></svg></label><input id='data-29c7de84-56eb-48b6-8882-0faed4f85bd1' class='xr-var-data-in' type='checkbox'><label for='data-29c7de84-56eb-48b6-8882-0faed4f85bd1' title='Show/Hide data repr'><svg class='icon xr-icon-database'><use xlink:href='#icon-database'></use></svg></label><div class='xr-var-attrs'><dl class='xr-attrs'><dt><span>axis :</span></dt><dd>Y</dd><dt><span>long_name :</span></dt><dd>latitude</dd><dt><span>standard_name :</span></dt><dd>latitude</dd><dt><span>units :</span></dt><dd>degrees_north</dd></dl></div><div class='xr-var-data'><pre>array([45.253379, 45.243469, 45.23356 , 45.223651, 45.213742, 45.203832,\n       45.193923, 45.184014, 45.174105, 45.164195, 45.154286, 45.144377,\n       45.134467, 45.124558, 45.114649, 45.10474 , 45.09483 , 45.084921,\n       45.075012, 45.065103, 45.055193, 45.045284, 45.035375, 45.025465,\n       45.015556, 45.005647, 44.995738, 44.985828, 44.975919, 44.96601 ,\n       44.956101, 44.946191, 44.936282, 44.926373, 44.916463, 44.906554,\n       44.896645, 44.886736, 44.876826, 44.866917, 44.857008, 44.847099,\n       44.837189, 44.82728 , 44.817371, 44.807461, 44.797552, 44.787643,\n       44.777734, 44.767824, 44.757915, 44.748006, 44.738097, 44.728187,\n       44.718278, 44.708369, 44.698459, 44.68855 , 44.678641, 44.668732,\n       44.658822, 44.648913, 44.639004, 44.629095, 44.619185, 44.609276,\n       44.599367, 44.589457, 44.579548, 44.569639, 44.55973 , 44.54982 ,\n       44.539911, 44.530002, 44.520093, 44.510183, 44.500274, 44.490365,\n       44.480455, 44.470546, 44.460637, 44.450728, 44.440818, 44.430909,\n       44.421   , 44.411091, 44.401181, 44.391272, 44.381363, 44.371453,\n       44.361544, 44.351635, 44.341726, 44.331816, 44.321907, 44.311998,\n       44.302089, 44.292179, 44.28227 , 44.272361, 44.262452, 44.252542,\n       44.242633, 44.232724, 44.222814, 44.212905, 44.202996, 44.193087,\n       44.183177, 44.173268, 44.163359, 44.15345 , 44.14354 , 44.133631,\n       44.123722, 44.113812, 44.103903, 44.093994, 44.084085, 44.074175,\n       44.064266, 44.054357, 44.044448, 44.034538, 44.024629, 44.01472 ,\n       44.00481 , 43.994901, 43.984992, 43.975083, 43.965173, 43.955264,\n       43.945355, 43.935446, 43.925536, 43.915627, 43.905718, 43.895808,\n       43.885899, 43.87599 , 43.866081, 43.856171, 43.846262, 43.836353,\n       43.826444, 43.816534, 43.806625, 43.796716, 43.786806, 43.776897,\n       43.766988, 43.757079, 43.747169, 43.73726 , 43.727351, 43.717442,\n       43.707532, 43.697623, 43.687714, 43.677804, 43.667895, 43.657986,\n       43.648077, 43.638167, 43.628258, 43.618349, 43.60844 , 43.59853 ,\n       43.588621, 43.578712, 43.568802, 43.558893, 43.548984, 43.539075,\n       43.529165, 43.519256, 43.509347, 43.499438, 43.489528, 43.479619,\n       43.46971 , 43.4598  ])</pre></div></li><li class='xr-var-item'><div class='xr-var-name'><span class='xr-has-index'>time</span></div><div class='xr-var-dims'>(time)</div><div class='xr-var-dtype'>object</div><div class='xr-var-preview xr-preview'>2010-01-01 00:00:00 ... 2021-01-...</div><input id='attrs-1d4addea-fc46-46fa-987d-b91f39609b58' class='xr-var-attrs-in' type='checkbox' ><label for='attrs-1d4addea-fc46-46fa-987d-b91f39609b58' title='Show/Hide attributes'><svg class='icon xr-icon-file-text2'><use xlink:href='#icon-file-text2'></use></svg></label><input id='data-7d48838a-7710-47bb-a8b3-a9b559ed4ac0' class='xr-var-data-in' type='checkbox'><label for='data-7d48838a-7710-47bb-a8b3-a9b559ed4ac0' title='Show/Hide data repr'><svg class='icon xr-icon-database'><use xlink:href='#icon-database'></use></svg></label><div class='xr-var-attrs'><dl class='xr-attrs'><dt><span>standard_name :</span></dt><dd>time</dd><dt><span>axis :</span></dt><dd>T</dd><dt><span>long_name :</span></dt><dd>time</dd></dl></div><div class='xr-var-data'><pre>array([cftime.DatetimeJulian(2010, 1, 1, 0, 0, 0, 0, has_year_zero=False),\n       cftime.DatetimeJulian(2010, 1, 2, 0, 0, 0, 0, has_year_zero=False),\n       cftime.DatetimeJulian(2010, 1, 3, 0, 0, 0, 0, has_year_zero=False), ...,\n       cftime.DatetimeJulian(2020, 12, 30, 0, 0, 0, 0, has_year_zero=False),\n       cftime.DatetimeJulian(2020, 12, 31, 0, 0, 0, 0, has_year_zero=False),\n       cftime.DatetimeJulian(2021, 1, 1, 0, 0, 0, 0, has_year_zero=False)],\n      dtype=object)</pre></div></li><li class='xr-var-item'><div class='xr-var-name'><span>band</span></div><div class='xr-var-dims'>()</div><div class='xr-var-dtype'>int32</div><div class='xr-var-preview xr-preview'>...</div><input id='attrs-4cb362ce-8bc4-455f-b7bc-58b7b808e448' class='xr-var-attrs-in' type='checkbox' disabled><label for='attrs-4cb362ce-8bc4-455f-b7bc-58b7b808e448' title='Show/Hide attributes'><svg class='icon xr-icon-file-text2'><use xlink:href='#icon-file-text2'></use></svg></label><input id='data-89a4b2f5-0829-4d82-b3e7-7d7300eca40a' class='xr-var-data-in' type='checkbox'><label for='data-89a4b2f5-0829-4d82-b3e7-7d7300eca40a' title='Show/Hide data repr'><svg class='icon xr-icon-database'><use xlink:href='#icon-database'></use></svg></label><div class='xr-var-attrs'><dl class='xr-attrs'></dl></div><div class='xr-var-data'><pre>array(1)</pre></div></li></ul></div></li><li class='xr-section-item'><input id='section-d47bd88f-4238-4108-be16-c611f5853286' class='xr-section-summary-in' type='checkbox'  ><label for='section-d47bd88f-4238-4108-be16-c611f5853286' class='xr-section-summary' >Data variables: <span>(25)</span></label><div class='xr-section-inline-details'></div><div class='xr-section-details'><ul class='xr-var-list'><li class='xr-var-item'><div class='xr-var-name'><span>crs</span></div><div class='xr-var-dims'>()</div><div class='xr-var-dtype'>int32</div><div class='xr-var-preview xr-preview'>...</div><input id='attrs-47a2e4b2-7453-418c-8a02-74dc26a56c4c' class='xr-var-attrs-in' type='checkbox' ><label for='attrs-47a2e4b2-7453-418c-8a02-74dc26a56c4c' title='Show/Hide attributes'><svg class='icon xr-icon-file-text2'><use xlink:href='#icon-file-text2'></use></svg></label><input id='data-d000c6ab-8636-439a-b242-7f342463a0b4' class='xr-var-data-in' type='checkbox'><label for='data-d000c6ab-8636-439a-b242-7f342463a0b4' title='Show/Hide data repr'><svg class='icon xr-icon-database'><use xlink:href='#icon-database'></use></svg></label><div class='xr-var-attrs'><dl class='xr-attrs'><dt><span>crs_wkt :</span></dt><dd>GEOGCS[&quot;WGS 84&quot;,DATUM[&quot;WGS_1984&quot;,SPHEROID[&quot;WGS 84&quot;,6378137,298.257223563,AUTHORITY[&quot;EPSG&quot;,&quot;7030&quot;]],AUTHORITY[&quot;EPSG&quot;,&quot;6326&quot;]],PRIMEM[&quot;Greenwich&quot;,0,AUTHORITY[&quot;EPSG&quot;,&quot;8901&quot;]],UNIT[&quot;degree&quot;,0.0174532925199433,AUTHORITY[&quot;EPSG&quot;,&quot;9122&quot;]],AXIS[&quot;Latitude&quot;,NORTH],AXIS[&quot;Longitude&quot;,EAST],AUTHORITY[&quot;EPSG&quot;,&quot;4326&quot;]]</dd><dt><span>semi_major_axis :</span></dt><dd>6378137.0</dd><dt><span>semi_minor_axis :</span></dt><dd>6356752.314245179</dd><dt><span>inverse_flattening :</span></dt><dd>298.257223563</dd><dt><span>reference_ellipsoid_name :</span></dt><dd>WGS 84</dd><dt><span>longitude_of_prime_meridian :</span></dt><dd>0.0</dd><dt><span>prime_meridian_name :</span></dt><dd>Greenwich</dd><dt><span>geographic_crs_name :</span></dt><dd>WGS 84</dd><dt><span>grid_mapping_name :</span></dt><dd>latitude_longitude</dd><dt><span>spatial_ref :</span></dt><dd>GEOGCS[&quot;WGS 84&quot;,DATUM[&quot;WGS_1984&quot;,SPHEROID[&quot;WGS 84&quot;,6378137,298.257223563,AUTHORITY[&quot;EPSG&quot;,&quot;7030&quot;]],AUTHORITY[&quot;EPSG&quot;,&quot;6326&quot;]],PRIMEM[&quot;Greenwich&quot;,0,AUTHORITY[&quot;EPSG&quot;,&quot;8901&quot;]],UNIT[&quot;degree&quot;,0.0174532925199433,AUTHORITY[&quot;EPSG&quot;,&quot;9122&quot;]],AXIS[&quot;Latitude&quot;,NORTH],AXIS[&quot;Longitude&quot;,EAST],AUTHORITY[&quot;EPSG&quot;,&quot;4326&quot;]]</dd><dt><span>GeoTransform :</span></dt><dd>4.074980761564709 0.009909271868350375 0.0 45.258333329269014 0.0 -0.009909271868350375</dd></dl></div><div class='xr-var-data'><pre>array(0)</pre></div></li><li class='xr-var-item'><div class='xr-var-name'><span>ET_500m</span></div><div class='xr-var-dims'>(time, y, x)</div><div class='xr-var-dtype'>float32</div><div class='xr-var-preview xr-preview'>...</div><input id='attrs-fe0e555f-6fb4-436b-8291-57822ac0979e' class='xr-var-attrs-in' type='checkbox' ><label for='attrs-fe0e555f-6fb4-436b-8291-57822ac0979e' title='Show/Hide attributes'><svg class='icon xr-icon-file-text2'><use xlink:href='#icon-file-text2'></use></svg></label><input id='data-5317f946-19b2-47b8-b905-c27e16ebda49' class='xr-var-data-in' type='checkbox'><label for='data-5317f946-19b2-47b8-b905-c27e16ebda49' title='Show/Hide data repr'><svg class='icon xr-icon-database'><use xlink:href='#icon-database'></use></svg></label><div class='xr-var-attrs'><dl class='xr-attrs'><dt><span>valid_min :</span></dt><dd>-32767</dd><dt><span>valid_max :</span></dt><dd>32700</dd><dt><span>long_name :</span></dt><dd>MODIS Gridded 500m 8-day Composite Evapotranspiration (ET)</dd><dt><span>units :</span></dt><dd>kg/m^2/8day</dd><dt><span>scale_factor_err :</span></dt><dd>0.0</dd><dt><span>add_offset_err :</span></dt><dd>0.0</dd><dt><span>calibrated_nt :</span></dt><dd>22</dd><dt><span>grid_mapping :</span></dt><dd>crs</dd></dl></div><div class='xr-var-data'><pre>[226020522 values with dtype=float32]</pre></div></li><li class='xr-var-item'><div class='xr-var-name'><span>Fpar_500m</span></div><div class='xr-var-dims'>(time, y, x)</div><div class='xr-var-dtype'>float64</div><div class='xr-var-preview xr-preview'>...</div><input id='attrs-f207d3cc-2b6a-43e8-a534-69d55ac74d1c' class='xr-var-attrs-in' type='checkbox' ><label for='attrs-f207d3cc-2b6a-43e8-a534-69d55ac74d1c' title='Show/Hide attributes'><svg class='icon xr-icon-file-text2'><use xlink:href='#icon-file-text2'></use></svg></label><input id='data-4e7b276a-fb27-44b7-9eaa-7bcaa97e2060' class='xr-var-data-in' type='checkbox'><label for='data-4e7b276a-fb27-44b7-9eaa-7bcaa97e2060' title='Show/Hide data repr'><svg class='icon xr-icon-database'><use xlink:href='#icon-database'></use></svg></label><div class='xr-var-attrs'><dl class='xr-attrs'><dt><span>valid_min :</span></dt><dd>0</dd><dt><span>valid_max :</span></dt><dd>100</dd><dt><span>scale_factor_err :</span></dt><dd>0.0</dd><dt><span>add_offset_err :</span></dt><dd>0.0</dd><dt><span>calibrated_nt :</span></dt><dd>21</dd><dt><span>long_name :</span></dt><dd>MOD15A2H MODIS/Terra Gridded 500M FPAR (8-day composite)</dd><dt><span>units :</span></dt><dd>Percent</dd><dt><span>MOD15A2_FILLVALUE_DOC :</span></dt><dd>MOD15A2 FILL VALUE LEGEND\n255 = _Fillvalue, assigned when:\n    * the MOD09GA suf. reflectance for channel VIS, NIR was assigned its _Fillvalue, or\n    * land cover pixel itself was assigned _Fillvalus 255 or 254.\n254 = land cover assigned as perennial salt or inland fresh water.\n253 = land cover assigned as barren, sparse vegetation (rock, tundra, desert.)\n252 = land cover assigned as perennial snow, ice.\n251 = land cover assigned as &quot;permanent&quot; wetlands/inundated marshlands.\n250 = land cover assigned as urban/built-up.\n249 = land cover assigned as &quot;unclassified&quot; or not able to determine.\n</dd><dt><span>grid_mapping :</span></dt><dd>crs</dd></dl></div><div class='xr-var-data'><pre>[226020522 values with dtype=float64]</pre></div></li><li class='xr-var-item'><div class='xr-var-name'><span>spatial_ref</span></div><div class='xr-var-dims'>()</div><div class='xr-var-dtype'>int32</div><div class='xr-var-preview xr-preview'>...</div><input id='attrs-471d0cc6-0798-4c94-b6cc-e75c9a8fa897' class='xr-var-attrs-in' type='checkbox' ><label for='attrs-471d0cc6-0798-4c94-b6cc-e75c9a8fa897' title='Show/Hide attributes'><svg class='icon xr-icon-file-text2'><use xlink:href='#icon-file-text2'></use></svg></label><input id='data-d2bce528-dd8e-462b-8c2c-07fde8408122' class='xr-var-data-in' type='checkbox'><label for='data-d2bce528-dd8e-462b-8c2c-07fde8408122' title='Show/Hide data repr'><svg class='icon xr-icon-database'><use xlink:href='#icon-database'></use></svg></label><div class='xr-var-attrs'><dl class='xr-attrs'><dt><span>crs_wkt :</span></dt><dd>GEOGCS[&quot;WGS 84&quot;,DATUM[&quot;WGS_1984&quot;,SPHEROID[&quot;WGS 84&quot;,6378137,298.257223563,AUTHORITY[&quot;EPSG&quot;,&quot;7030&quot;]],AUTHORITY[&quot;EPSG&quot;,&quot;6326&quot;]],PRIMEM[&quot;Greenwich&quot;,0,AUTHORITY[&quot;EPSG&quot;,&quot;8901&quot;]],UNIT[&quot;degree&quot;,0.0174532925199433,AUTHORITY[&quot;EPSG&quot;,&quot;9122&quot;]],AXIS[&quot;Latitude&quot;,NORTH],AXIS[&quot;Longitude&quot;,EAST],AUTHORITY[&quot;EPSG&quot;,&quot;4326&quot;]]</dd><dt><span>semi_major_axis :</span></dt><dd>6378137.0</dd><dt><span>semi_minor_axis :</span></dt><dd>6356752.314245179</dd><dt><span>inverse_flattening :</span></dt><dd>298.257223563</dd><dt><span>reference_ellipsoid_name :</span></dt><dd>WGS 84</dd><dt><span>longitude_of_prime_meridian :</span></dt><dd>0.0</dd><dt><span>prime_meridian_name :</span></dt><dd>Greenwich</dd><dt><span>geographic_crs_name :</span></dt><dd>WGS 84</dd><dt><span>grid_mapping_name :</span></dt><dd>latitude_longitude</dd><dt><span>spatial_ref :</span></dt><dd>GEOGCS[&quot;WGS 84&quot;,DATUM[&quot;WGS_1984&quot;,SPHEROID[&quot;WGS 84&quot;,6378137,298.257223563,AUTHORITY[&quot;EPSG&quot;,&quot;7030&quot;]],AUTHORITY[&quot;EPSG&quot;,&quot;6326&quot;]],PRIMEM[&quot;Greenwich&quot;,0,AUTHORITY[&quot;EPSG&quot;,&quot;8901&quot;]],UNIT[&quot;degree&quot;,0.0174532925199433,AUTHORITY[&quot;EPSG&quot;,&quot;9122&quot;]],AXIS[&quot;Latitude&quot;,NORTH],AXIS[&quot;Longitude&quot;,EAST],AUTHORITY[&quot;EPSG&quot;,&quot;4326&quot;]]</dd><dt><span>GeoTransform :</span></dt><dd>4.074980761564709 0.009909271868350375 0.0 45.258333329269014 0.0 -0.009909271868350375</dd></dl></div><div class='xr-var-data'><pre>array(0)</pre></div></li><li class='xr-var-item'><div class='xr-var-name'><span>density</span></div><div class='xr-var-dims'>(y, x)</div><div class='xr-var-dtype'>float32</div><div class='xr-var-preview xr-preview'>...</div><input id='attrs-802633af-b3bb-4c66-8bb8-a2318970fb02' class='xr-var-attrs-in' type='checkbox' ><label for='attrs-802633af-b3bb-4c66-8bb8-a2318970fb02' title='Show/Hide attributes'><svg class='icon xr-icon-file-text2'><use xlink:href='#icon-file-text2'></use></svg></label><input id='data-80b9f0cd-f581-4f20-963d-bb373db2cfb7' class='xr-var-data-in' type='checkbox'><label for='data-80b9f0cd-f581-4f20-963d-bb373db2cfb7' title='Show/Hide data repr'><svg class='icon xr-icon-database'><use xlink:href='#icon-database'></use></svg></label><div class='xr-var-attrs'><dl class='xr-attrs'><dt><span>AREA_OR_POINT :</span></dt><dd>Area</dd><dt><span>STATISTICS_MAXIMUM :</span></dt><dd>53646.03515625</dd><dt><span>STATISTICS_MEAN :</span></dt><dd>119.46772920052</dd><dt><span>STATISTICS_MINIMUM :</span></dt><dd>0</dd><dt><span>STATISTICS_STDDEV :</span></dt><dd>644.66432858711</dd><dt><span>grid_mapping :</span></dt><dd>spatial_ref</dd></dl></div><div class='xr-var-data'><pre>array([[nan, nan, nan, ..., nan, nan, nan],\n       [nan, nan, nan, ..., nan, nan, nan],\n       [nan, nan, nan, ..., nan, nan, nan],\n       ...,\n       [nan, nan, nan, ..., nan, nan, nan],\n       [nan, nan, nan, ..., nan, nan, nan],\n       [nan, nan, nan, ..., nan, nan, nan]], dtype=float32)</pre></div></li><li class='xr-var-item'><div class='xr-var-name'><span>u10</span></div><div class='xr-var-dims'>(time, y, x)</div><div class='xr-var-dtype'>float64</div><div class='xr-var-preview xr-preview'>...</div><input id='attrs-7285a9a5-0644-4276-87c2-b45a2514cd5d' class='xr-var-attrs-in' type='checkbox' ><label for='attrs-7285a9a5-0644-4276-87c2-b45a2514cd5d' title='Show/Hide attributes'><svg class='icon xr-icon-file-text2'><use xlink:href='#icon-file-text2'></use></svg></label><input id='data-8debf107-fec2-486b-8389-16befcbd2b6c' class='xr-var-data-in' type='checkbox'><label for='data-8debf107-fec2-486b-8389-16befcbd2b6c' title='Show/Hide data repr'><svg class='icon xr-icon-database'><use xlink:href='#icon-database'></use></svg></label><div class='xr-var-attrs'><dl class='xr-attrs'><dt><span>units :</span></dt><dd>m s**-1</dd><dt><span>long_name :</span></dt><dd>10 metre U wind component</dd><dt><span>grid_mapping :</span></dt><dd>spatial_ref</dd></dl></div><div class='xr-var-data'><pre>[226020522 values with dtype=float64]</pre></div></li><li class='xr-var-item'><div class='xr-var-name'><span>v10</span></div><div class='xr-var-dims'>(time, y, x)</div><div class='xr-var-dtype'>float64</div><div class='xr-var-preview xr-preview'>...</div><input id='attrs-d4696e52-2f4f-4398-b3bf-49342ce6a8db' class='xr-var-attrs-in' type='checkbox' ><label for='attrs-d4696e52-2f4f-4398-b3bf-49342ce6a8db' title='Show/Hide attributes'><svg class='icon xr-icon-file-text2'><use xlink:href='#icon-file-text2'></use></svg></label><input id='data-bd808e97-f358-483f-8991-6d524bdf182f' class='xr-var-data-in' type='checkbox'><label for='data-bd808e97-f358-483f-8991-6d524bdf182f' title='Show/Hide data repr'><svg class='icon xr-icon-database'><use xlink:href='#icon-database'></use></svg></label><div class='xr-var-attrs'><dl class='xr-attrs'><dt><span>units :</span></dt><dd>m s**-1</dd><dt><span>long_name :</span></dt><dd>10 metre V wind component</dd><dt><span>grid_mapping :</span></dt><dd>spatial_ref</dd></dl></div><div class='xr-var-data'><pre>[226020522 values with dtype=float64]</pre></div></li><li class='xr-var-item'><div class='xr-var-name'><span>t2m</span></div><div class='xr-var-dims'>(time, y, x)</div><div class='xr-var-dtype'>float64</div><div class='xr-var-preview xr-preview'>...</div><input id='attrs-ebd404ac-f3b2-495e-a88d-df9015fcb9c4' class='xr-var-attrs-in' type='checkbox' ><label for='attrs-ebd404ac-f3b2-495e-a88d-df9015fcb9c4' title='Show/Hide attributes'><svg class='icon xr-icon-file-text2'><use xlink:href='#icon-file-text2'></use></svg></label><input id='data-126db861-96c3-49e2-ad51-c191c9845351' class='xr-var-data-in' type='checkbox'><label for='data-126db861-96c3-49e2-ad51-c191c9845351' title='Show/Hide data repr'><svg class='icon xr-icon-database'><use xlink:href='#icon-database'></use></svg></label><div class='xr-var-attrs'><dl class='xr-attrs'><dt><span>units :</span></dt><dd>K</dd><dt><span>long_name :</span></dt><dd>2 metre temperature</dd><dt><span>grid_mapping :</span></dt><dd>spatial_ref</dd></dl></div><div class='xr-var-data'><pre>[226020522 values with dtype=float64]</pre></div></li><li class='xr-var-item'><div class='xr-var-name'><span>tp</span></div><div class='xr-var-dims'>(time, y, x)</div><div class='xr-var-dtype'>float64</div><div class='xr-var-preview xr-preview'>...</div><input id='attrs-2f0b05aa-984c-4bbe-8a66-09a523942206' class='xr-var-attrs-in' type='checkbox' ><label for='attrs-2f0b05aa-984c-4bbe-8a66-09a523942206' title='Show/Hide attributes'><svg class='icon xr-icon-file-text2'><use xlink:href='#icon-file-text2'></use></svg></label><input id='data-d04ce5a9-2739-4707-a06f-e31f583f020f' class='xr-var-data-in' type='checkbox'><label for='data-d04ce5a9-2739-4707-a06f-e31f583f020f' title='Show/Hide data repr'><svg class='icon xr-icon-database'><use xlink:href='#icon-database'></use></svg></label><div class='xr-var-attrs'><dl class='xr-attrs'><dt><span>units :</span></dt><dd>m</dd><dt><span>long_name :</span></dt><dd>Total precipitation</dd><dt><span>grid_mapping :</span></dt><dd>spatial_ref</dd></dl></div><div class='xr-var-data'><pre>[226020522 values with dtype=float64]</pre></div></li><li class='xr-var-item'><div class='xr-var-name'><span>First_Day</span></div><div class='xr-var-dims'>(time, y, x)</div><div class='xr-var-dtype'>float64</div><div class='xr-var-preview xr-preview'>...</div><input id='attrs-87e8ce1d-4b06-479d-a94b-407009050968' class='xr-var-attrs-in' type='checkbox' ><label for='attrs-87e8ce1d-4b06-479d-a94b-407009050968' title='Show/Hide attributes'><svg class='icon xr-icon-file-text2'><use xlink:href='#icon-file-text2'></use></svg></label><input id='data-dc39baeb-eb97-4298-9d73-28e20c5eee26' class='xr-var-data-in' type='checkbox'><label for='data-dc39baeb-eb97-4298-9d73-28e20c5eee26' title='Show/Hide data repr'><svg class='icon xr-icon-database'><use xlink:href='#icon-database'></use></svg></label><div class='xr-var-attrs'><dl class='xr-attrs'><dt><span>valid_min :</span></dt><dd>1</dd><dt><span>valid_max :</span></dt><dd>366</dd><dt><span>long_name :</span></dt><dd>first day of reliable change detection</dd><dt><span>water :</span></dt><dd>-2</dd><dt><span>grid_mapping :</span></dt><dd>crs</dd></dl></div><div class='xr-var-data'><pre>[226020522 values with dtype=float64]</pre></div></li><li class='xr-var-item'><div class='xr-var-name'><span>Last_Day</span></div><div class='xr-var-dims'>(time, y, x)</div><div class='xr-var-dtype'>float64</div><div class='xr-var-preview xr-preview'>...</div><input id='attrs-6c0d3247-2939-49f0-8e45-39f67d8b2250' class='xr-var-attrs-in' type='checkbox' ><label for='attrs-6c0d3247-2939-49f0-8e45-39f67d8b2250' title='Show/Hide attributes'><svg class='icon xr-icon-file-text2'><use xlink:href='#icon-file-text2'></use></svg></label><input id='data-bddbec51-53de-41cd-8579-1f6102c7f0e6' class='xr-var-data-in' type='checkbox'><label for='data-bddbec51-53de-41cd-8579-1f6102c7f0e6' title='Show/Hide data repr'><svg class='icon xr-icon-database'><use xlink:href='#icon-database'></use></svg></label><div class='xr-var-attrs'><dl class='xr-attrs'><dt><span>valid_min :</span></dt><dd>1</dd><dt><span>valid_max :</span></dt><dd>366</dd><dt><span>long_name :</span></dt><dd>last day of reliable change detection</dd><dt><span>water :</span></dt><dd>-2</dd><dt><span>grid_mapping :</span></dt><dd>crs</dd></dl></div><div class='xr-var-data'><pre>[226020522 values with dtype=float64]</pre></div></li><li class='xr-var-item'><div class='xr-var-name'><span>Burn_Date</span></div><div class='xr-var-dims'>(time, y, x)</div><div class='xr-var-dtype'>float64</div><div class='xr-var-preview xr-preview'>...</div><input id='attrs-43d0ab0d-7c93-495a-9a25-96fae0838934' class='xr-var-attrs-in' type='checkbox' ><label for='attrs-43d0ab0d-7c93-495a-9a25-96fae0838934' title='Show/Hide attributes'><svg class='icon xr-icon-file-text2'><use xlink:href='#icon-file-text2'></use></svg></label><input id='data-db91cc8f-711c-49b9-8e32-e921810a2415' class='xr-var-data-in' type='checkbox'><label for='data-db91cc8f-711c-49b9-8e32-e921810a2415' title='Show/Hide data repr'><svg class='icon xr-icon-database'><use xlink:href='#icon-database'></use></svg></label><div class='xr-var-attrs'><dl class='xr-attrs'><dt><span>valid_min :</span></dt><dd>0</dd><dt><span>valid_max :</span></dt><dd>366</dd><dt><span>long_name :</span></dt><dd>ordinal day of burn</dd><dt><span>water :</span></dt><dd>-2</dd><dt><span>grid_mapping :</span></dt><dd>crs</dd></dl></div><div class='xr-var-data'><pre>[226020522 values with dtype=float64]</pre></div></li><li class='xr-var-item'><div class='xr-var-name'><span>FireMask</span></div><div class='xr-var-dims'>(time, y, x)</div><div class='xr-var-dtype'>float32</div><div class='xr-var-preview xr-preview'>...</div><input id='attrs-53bae8d2-5bca-492c-b682-5e482dc08327' class='xr-var-attrs-in' type='checkbox' ><label for='attrs-53bae8d2-5bca-492c-b682-5e482dc08327' title='Show/Hide attributes'><svg class='icon xr-icon-file-text2'><use xlink:href='#icon-file-text2'></use></svg></label><input id='data-599b16c5-9f2b-405f-9d5e-11823623fd10' class='xr-var-data-in' type='checkbox'><label for='data-599b16c5-9f2b-405f-9d5e-11823623fd10' title='Show/Hide data repr'><svg class='icon xr-icon-database'><use xlink:href='#icon-database'></use></svg></label><div class='xr-var-attrs'><dl class='xr-attrs'><dt><span>valid_min :</span></dt><dd>0</dd><dt><span>valid_max :</span></dt><dd>9</dd><dt><span>long_name :</span></dt><dd>FireMask</dd><dt><span>legend :</span></dt><dd>Classes:\n0 missing input data\n1 not processed (obsolete)\n2 not processed (obsolete)\n3 non-fire water\n4 cloud\n5 non-fire land\n6 unknown\n7 fire (low confidence)\n8 fire (nominal confidence)\n9 fire (high confidence)</dd><dt><span>grid_mapping :</span></dt><dd>crs</dd></dl></div><div class='xr-var-data'><pre>[226020522 values with dtype=float32]</pre></div></li><li class='xr-var-item'><div class='xr-var-name'><span>LST_Day_1km</span></div><div class='xr-var-dims'>(time, y, x)</div><div class='xr-var-dtype'>float64</div><div class='xr-var-preview xr-preview'>...</div><input id='attrs-594e740e-a35b-4375-9c93-7059b3169d03' class='xr-var-attrs-in' type='checkbox' ><label for='attrs-594e740e-a35b-4375-9c93-7059b3169d03' title='Show/Hide attributes'><svg class='icon xr-icon-file-text2'><use xlink:href='#icon-file-text2'></use></svg></label><input id='data-f128ca5c-a64d-4f2c-862c-99d828034d42' class='xr-var-data-in' type='checkbox'><label for='data-f128ca5c-a64d-4f2c-862c-99d828034d42' title='Show/Hide data repr'><svg class='icon xr-icon-database'><use xlink:href='#icon-database'></use></svg></label><div class='xr-var-attrs'><dl class='xr-attrs'><dt><span>valid_min :</span></dt><dd>7500</dd><dt><span>valid_max :</span></dt><dd>65535</dd><dt><span>long_name :</span></dt><dd>Daily daytime 1km grid Land-surface Temperature</dd><dt><span>units :</span></dt><dd>K</dd><dt><span>Number_Type :</span></dt><dd>uint16</dd><dt><span>LST :</span></dt><dd>LST data * scale_factor</dd><dt><span>scale_factor_err :</span></dt><dd>0.0</dd><dt><span>add_offset_err :</span></dt><dd>0.0</dd><dt><span>calibrated_nt :</span></dt><dd>5</dd><dt><span>grid_mapping :</span></dt><dd>crs</dd></dl></div><div class='xr-var-data'><pre>[226020522 values with dtype=float64]</pre></div></li><li class='xr-var-item'><div class='xr-var-name'><span>LST_Night_1km</span></div><div class='xr-var-dims'>(time, y, x)</div><div class='xr-var-dtype'>float64</div><div class='xr-var-preview xr-preview'>...</div><input id='attrs-e19912f6-ae2c-46c8-a26a-337c884924e8' class='xr-var-attrs-in' type='checkbox' ><label for='attrs-e19912f6-ae2c-46c8-a26a-337c884924e8' title='Show/Hide attributes'><svg class='icon xr-icon-file-text2'><use xlink:href='#icon-file-text2'></use></svg></label><input id='data-c0983980-d5d9-4334-8edc-df67d07c2f64' class='xr-var-data-in' type='checkbox'><label for='data-c0983980-d5d9-4334-8edc-df67d07c2f64' title='Show/Hide data repr'><svg class='icon xr-icon-database'><use xlink:href='#icon-database'></use></svg></label><div class='xr-var-attrs'><dl class='xr-attrs'><dt><span>valid_min :</span></dt><dd>7500</dd><dt><span>valid_max :</span></dt><dd>65535</dd><dt><span>long_name :</span></dt><dd>Daily nighttime 1km grid Land-surface Temperature</dd><dt><span>units :</span></dt><dd>K</dd><dt><span>Number_Type :</span></dt><dd>uint16</dd><dt><span>LST :</span></dt><dd>LST data * scale_factor</dd><dt><span>scale_factor_err :</span></dt><dd>0.0</dd><dt><span>add_offset_err :</span></dt><dd>0.0</dd><dt><span>calibrated_nt :</span></dt><dd>5</dd><dt><span>grid_mapping :</span></dt><dd>crs</dd></dl></div><div class='xr-var-data'><pre>[226020522 values with dtype=float64]</pre></div></li><li class='xr-var-item'><div class='xr-var-name'><span>_1_km_16_days_EVI</span></div><div class='xr-var-dims'>(time, y, x)</div><div class='xr-var-dtype'>float64</div><div class='xr-var-preview xr-preview'>...</div><input id='attrs-419f47ca-02e5-4c92-a7ae-a9c441cf0574' class='xr-var-attrs-in' type='checkbox' ><label for='attrs-419f47ca-02e5-4c92-a7ae-a9c441cf0574' title='Show/Hide attributes'><svg class='icon xr-icon-file-text2'><use xlink:href='#icon-file-text2'></use></svg></label><input id='data-370ead78-aaef-468b-9f8a-bc3e43c5b626' class='xr-var-data-in' type='checkbox'><label for='data-370ead78-aaef-468b-9f8a-bc3e43c5b626' title='Show/Hide data repr'><svg class='icon xr-icon-database'><use xlink:href='#icon-database'></use></svg></label><div class='xr-var-attrs'><dl class='xr-attrs'><dt><span>valid_min :</span></dt><dd>-2000</dd><dt><span>valid_max :</span></dt><dd>10000</dd><dt><span>long_name :</span></dt><dd>1 km 16 days EVI</dd><dt><span>units :</span></dt><dd>EVI</dd><dt><span>scale_factor_err :</span></dt><dd>0.0</dd><dt><span>add_offset_err :</span></dt><dd>0.0</dd><dt><span>calibrated_nt :</span></dt><dd>5</dd><dt><span>grid_mapping :</span></dt><dd>spatial_ref</dd></dl></div><div class='xr-var-data'><pre>[226020522 values with dtype=float64]</pre></div></li><li class='xr-var-item'><div class='xr-var-name'><span>ET_500m_mean</span></div><div class='xr-var-dims'>(time, y, x)</div><div class='xr-var-dtype'>float64</div><div class='xr-var-preview xr-preview'>...</div><input id='attrs-474c5f7e-7538-4ba4-9f76-8ddebf24311f' class='xr-var-attrs-in' type='checkbox' ><label for='attrs-474c5f7e-7538-4ba4-9f76-8ddebf24311f' title='Show/Hide attributes'><svg class='icon xr-icon-file-text2'><use xlink:href='#icon-file-text2'></use></svg></label><input id='data-91b01d86-b982-465c-a3c2-8b6dde38f948' class='xr-var-data-in' type='checkbox'><label for='data-91b01d86-b982-465c-a3c2-8b6dde38f948' title='Show/Hide data repr'><svg class='icon xr-icon-database'><use xlink:href='#icon-database'></use></svg></label><div class='xr-var-attrs'><dl class='xr-attrs'><dt><span>valid_min :</span></dt><dd>-32767</dd><dt><span>valid_max :</span></dt><dd>32700</dd><dt><span>long_name :</span></dt><dd>MODIS Gridded 500m 8-day Composite Evapotranspiration (ET)</dd><dt><span>units :</span></dt><dd>kg/m^2/8day</dd><dt><span>scale_factor_err :</span></dt><dd>0.0</dd><dt><span>add_offset_err :</span></dt><dd>0.0</dd><dt><span>calibrated_nt :</span></dt><dd>22</dd></dl></div><div class='xr-var-data'><pre>[226020522 values with dtype=float64]</pre></div></li><li class='xr-var-item'><div class='xr-var-name'><span>Fpar_500m_mean</span></div><div class='xr-var-dims'>(time, y, x)</div><div class='xr-var-dtype'>float64</div><div class='xr-var-preview xr-preview'>...</div><input id='attrs-ba1f9b97-4a91-4749-8b74-21e4871cec1e' class='xr-var-attrs-in' type='checkbox' ><label for='attrs-ba1f9b97-4a91-4749-8b74-21e4871cec1e' title='Show/Hide attributes'><svg class='icon xr-icon-file-text2'><use xlink:href='#icon-file-text2'></use></svg></label><input id='data-e54ec8a7-a572-42d7-af84-edfb1a81d4f9' class='xr-var-data-in' type='checkbox'><label for='data-e54ec8a7-a572-42d7-af84-edfb1a81d4f9' title='Show/Hide data repr'><svg class='icon xr-icon-database'><use xlink:href='#icon-database'></use></svg></label><div class='xr-var-attrs'><dl class='xr-attrs'><dt><span>valid_min :</span></dt><dd>0</dd><dt><span>valid_max :</span></dt><dd>100</dd><dt><span>scale_factor_err :</span></dt><dd>0.0</dd><dt><span>add_offset_err :</span></dt><dd>0.0</dd><dt><span>calibrated_nt :</span></dt><dd>21</dd><dt><span>long_name :</span></dt><dd>MOD15A2H MODIS/Terra Gridded 500M FPAR (8-day composite)</dd><dt><span>units :</span></dt><dd>Percent</dd><dt><span>MOD15A2_FILLVALUE_DOC :</span></dt><dd>MOD15A2 FILL VALUE LEGEND\n255 = _Fillvalue, assigned when:\n    * the MOD09GA suf. reflectance for channel VIS, NIR was assigned its _Fillvalue, or\n    * land cover pixel itself was assigned _Fillvalus 255 or 254.\n254 = land cover assigned as perennial salt or inland fresh water.\n253 = land cover assigned as barren, sparse vegetation (rock, tundra, desert.)\n252 = land cover assigned as perennial snow, ice.\n251 = land cover assigned as &quot;permanent&quot; wetlands/inundated marshlands.\n250 = land cover assigned as urban/built-up.\n249 = land cover assigned as &quot;unclassified&quot; or not able to determine.\n</dd></dl></div><div class='xr-var-data'><pre>[226020522 values with dtype=float64]</pre></div></li><li class='xr-var-item'><div class='xr-var-name'><span>u10_mean</span></div><div class='xr-var-dims'>(time, y, x)</div><div class='xr-var-dtype'>float64</div><div class='xr-var-preview xr-preview'>...</div><input id='attrs-ce11fcfe-d02a-40c7-bd5e-8c8d3135edaa' class='xr-var-attrs-in' type='checkbox' ><label for='attrs-ce11fcfe-d02a-40c7-bd5e-8c8d3135edaa' title='Show/Hide attributes'><svg class='icon xr-icon-file-text2'><use xlink:href='#icon-file-text2'></use></svg></label><input id='data-14dfef94-4957-4b29-af5e-e449fea1c242' class='xr-var-data-in' type='checkbox'><label for='data-14dfef94-4957-4b29-af5e-e449fea1c242' title='Show/Hide data repr'><svg class='icon xr-icon-database'><use xlink:href='#icon-database'></use></svg></label><div class='xr-var-attrs'><dl class='xr-attrs'><dt><span>units :</span></dt><dd>m s**-1</dd><dt><span>long_name :</span></dt><dd>10 metre U wind component</dd></dl></div><div class='xr-var-data'><pre>[226020522 values with dtype=float64]</pre></div></li><li class='xr-var-item'><div class='xr-var-name'><span>v10_mean</span></div><div class='xr-var-dims'>(time, y, x)</div><div class='xr-var-dtype'>float64</div><div class='xr-var-preview xr-preview'>...</div><input id='attrs-969136fa-fbdf-4364-b496-b9cf2d587542' class='xr-var-attrs-in' type='checkbox' ><label for='attrs-969136fa-fbdf-4364-b496-b9cf2d587542' title='Show/Hide attributes'><svg class='icon xr-icon-file-text2'><use xlink:href='#icon-file-text2'></use></svg></label><input id='data-26850103-e749-4d8c-8429-f55e6106d543' class='xr-var-data-in' type='checkbox'><label for='data-26850103-e749-4d8c-8429-f55e6106d543' title='Show/Hide data repr'><svg class='icon xr-icon-database'><use xlink:href='#icon-database'></use></svg></label><div class='xr-var-attrs'><dl class='xr-attrs'><dt><span>units :</span></dt><dd>m s**-1</dd><dt><span>long_name :</span></dt><dd>10 metre V wind component</dd></dl></div><div class='xr-var-data'><pre>[226020522 values with dtype=float64]</pre></div></li><li class='xr-var-item'><div class='xr-var-name'><span>t2m_mean</span></div><div class='xr-var-dims'>(time, y, x)</div><div class='xr-var-dtype'>float64</div><div class='xr-var-preview xr-preview'>...</div><input id='attrs-b19a33d0-6f07-44b8-bc04-53355427d177' class='xr-var-attrs-in' type='checkbox' ><label for='attrs-b19a33d0-6f07-44b8-bc04-53355427d177' title='Show/Hide attributes'><svg class='icon xr-icon-file-text2'><use xlink:href='#icon-file-text2'></use></svg></label><input id='data-0dcd36f5-b6fc-4518-acc8-1519651019b9' class='xr-var-data-in' type='checkbox'><label for='data-0dcd36f5-b6fc-4518-acc8-1519651019b9' title='Show/Hide data repr'><svg class='icon xr-icon-database'><use xlink:href='#icon-database'></use></svg></label><div class='xr-var-attrs'><dl class='xr-attrs'><dt><span>units :</span></dt><dd>K</dd><dt><span>long_name :</span></dt><dd>2 metre temperature</dd></dl></div><div class='xr-var-data'><pre>[226020522 values with dtype=float64]</pre></div></li><li class='xr-var-item'><div class='xr-var-name'><span>tp_mean</span></div><div class='xr-var-dims'>(time, y, x)</div><div class='xr-var-dtype'>float64</div><div class='xr-var-preview xr-preview'>...</div><input id='attrs-9bd34434-ca81-4a18-8b23-912cf3b93894' class='xr-var-attrs-in' type='checkbox' ><label for='attrs-9bd34434-ca81-4a18-8b23-912cf3b93894' title='Show/Hide attributes'><svg class='icon xr-icon-file-text2'><use xlink:href='#icon-file-text2'></use></svg></label><input id='data-0bf79407-b6de-447c-b68b-d8356a11a411' class='xr-var-data-in' type='checkbox'><label for='data-0bf79407-b6de-447c-b68b-d8356a11a411' title='Show/Hide data repr'><svg class='icon xr-icon-database'><use xlink:href='#icon-database'></use></svg></label><div class='xr-var-attrs'><dl class='xr-attrs'><dt><span>units :</span></dt><dd>m</dd><dt><span>long_name :</span></dt><dd>Total precipitation</dd></dl></div><div class='xr-var-data'><pre>[226020522 values with dtype=float64]</pre></div></li><li class='xr-var-item'><div class='xr-var-name'><span>LST_Day_1km_mean</span></div><div class='xr-var-dims'>(time, y, x)</div><div class='xr-var-dtype'>float64</div><div class='xr-var-preview xr-preview'>...</div><input id='attrs-58b0cce0-001c-4713-96b6-adc470c1c09e' class='xr-var-attrs-in' type='checkbox' ><label for='attrs-58b0cce0-001c-4713-96b6-adc470c1c09e' title='Show/Hide attributes'><svg class='icon xr-icon-file-text2'><use xlink:href='#icon-file-text2'></use></svg></label><input id='data-97dc9bb9-8dd1-40c5-87bd-6dbb4639fef2' class='xr-var-data-in' type='checkbox'><label for='data-97dc9bb9-8dd1-40c5-87bd-6dbb4639fef2' title='Show/Hide data repr'><svg class='icon xr-icon-database'><use xlink:href='#icon-database'></use></svg></label><div class='xr-var-attrs'><dl class='xr-attrs'><dt><span>valid_min :</span></dt><dd>7500</dd><dt><span>valid_max :</span></dt><dd>65535</dd><dt><span>long_name :</span></dt><dd>Daily daytime 1km grid Land-surface Temperature</dd><dt><span>units :</span></dt><dd>K</dd><dt><span>Number_Type :</span></dt><dd>uint16</dd><dt><span>LST :</span></dt><dd>LST data * scale_factor</dd><dt><span>scale_factor_err :</span></dt><dd>0.0</dd><dt><span>add_offset_err :</span></dt><dd>0.0</dd><dt><span>calibrated_nt :</span></dt><dd>5</dd></dl></div><div class='xr-var-data'><pre>[226020522 values with dtype=float64]</pre></div></li><li class='xr-var-item'><div class='xr-var-name'><span>LST_Night_1km_mean</span></div><div class='xr-var-dims'>(time, y, x)</div><div class='xr-var-dtype'>float64</div><div class='xr-var-preview xr-preview'>...</div><input id='attrs-2b9985e8-3a30-4832-9d3f-d7a182eacad7' class='xr-var-attrs-in' type='checkbox' ><label for='attrs-2b9985e8-3a30-4832-9d3f-d7a182eacad7' title='Show/Hide attributes'><svg class='icon xr-icon-file-text2'><use xlink:href='#icon-file-text2'></use></svg></label><input id='data-2e494b4f-b390-46a8-9847-c4a713086e4c' class='xr-var-data-in' type='checkbox'><label for='data-2e494b4f-b390-46a8-9847-c4a713086e4c' title='Show/Hide data repr'><svg class='icon xr-icon-database'><use xlink:href='#icon-database'></use></svg></label><div class='xr-var-attrs'><dl class='xr-attrs'><dt><span>valid_min :</span></dt><dd>7500</dd><dt><span>valid_max :</span></dt><dd>65535</dd><dt><span>long_name :</span></dt><dd>Daily nighttime 1km grid Land-surface Temperature</dd><dt><span>units :</span></dt><dd>K</dd><dt><span>Number_Type :</span></dt><dd>uint16</dd><dt><span>LST :</span></dt><dd>LST data * scale_factor</dd><dt><span>scale_factor_err :</span></dt><dd>0.0</dd><dt><span>add_offset_err :</span></dt><dd>0.0</dd><dt><span>calibrated_nt :</span></dt><dd>5</dd></dl></div><div class='xr-var-data'><pre>[226020522 values with dtype=float64]</pre></div></li><li class='xr-var-item'><div class='xr-var-name'><span>_1_km_16_days_EVI_mean</span></div><div class='xr-var-dims'>(time, y, x)</div><div class='xr-var-dtype'>float64</div><div class='xr-var-preview xr-preview'>...</div><input id='attrs-b81bb1f6-7c24-4bf7-afe8-2b5626328064' class='xr-var-attrs-in' type='checkbox' ><label for='attrs-b81bb1f6-7c24-4bf7-afe8-2b5626328064' title='Show/Hide attributes'><svg class='icon xr-icon-file-text2'><use xlink:href='#icon-file-text2'></use></svg></label><input id='data-6f4abd7f-c8bf-43b7-90c8-693b55ede3eb' class='xr-var-data-in' type='checkbox'><label for='data-6f4abd7f-c8bf-43b7-90c8-693b55ede3eb' title='Show/Hide data repr'><svg class='icon xr-icon-database'><use xlink:href='#icon-database'></use></svg></label><div class='xr-var-attrs'><dl class='xr-attrs'><dt><span>valid_min :</span></dt><dd>-2000</dd><dt><span>valid_max :</span></dt><dd>10000</dd><dt><span>long_name :</span></dt><dd>1 km 16 days EVI</dd><dt><span>units :</span></dt><dd>EVI</dd><dt><span>scale_factor_err :</span></dt><dd>0.0</dd><dt><span>add_offset_err :</span></dt><dd>0.0</dd><dt><span>calibrated_nt :</span></dt><dd>5</dd></dl></div><div class='xr-var-data'><pre>[226020522 values with dtype=float64]</pre></div></li></ul></div></li><li class='xr-section-item'><input id='section-9bf3c148-8296-46e7-af5e-141d7ec2ab58' class='xr-section-summary-in' type='checkbox'  checked><label for='section-9bf3c148-8296-46e7-af5e-141d7ec2ab58' class='xr-section-summary' >Attributes: <span>(2)</span></label><div class='xr-section-inline-details'></div><div class='xr-section-details'><dl class='xr-attrs'><dt><span>Conventions :</span></dt><dd>CF-1.6</dd><dt><span>history :</span></dt><dd>2022-09-15 13:57:35 GMT by grib_to_netcdf-2.25.1: /opt/ecmwf/mars-client/bin/grib_to_netcdf.bin -S param -o /cache/data2/adaptor.mars.internal-1663249407.7272627-22718-12-e830357e-7728-41cf-9b2b-b7f34cabf652.nc /cache/tmp/e830357e-7728-41cf-9b2b-b7f34cabf652-adaptor.mars.internal-1663236313.8703027-22718-23-tmp.grib</dd></dl></div></li></ul></div></div>"
     },
     "execution_count": 9,
     "metadata": {},
     "output_type": "execute_result"
    }
   ],
   "source": [
    "datacube"
   ],
   "metadata": {
    "collapsed": false,
    "pycharm": {
     "name": "#%%\n"
    }
   }
  },
  {
   "cell_type": "code",
   "execution_count": 10,
   "outputs": [
    {
     "ename": "ImportError",
     "evalue": "Plotting of arrays of cftime.datetime objects or arrays indexed by cftime.datetime objects requires the optional `nc-time-axis` (v1.2.0 or later) package.",
     "output_type": "error",
     "traceback": [
      "\u001B[1;31m---------------------------------------------------------------------------\u001B[0m",
      "\u001B[1;31mImportError\u001B[0m                               Traceback (most recent call last)",
      "Cell \u001B[1;32mIn [10], line 2\u001B[0m\n\u001B[0;32m      1\u001B[0m \u001B[38;5;66;03m#Plot the t2m_mean variable along the time dimension for a single pixel\u001B[39;00m\n\u001B[1;32m----> 2\u001B[0m \u001B[43mdatacube\u001B[49m\u001B[38;5;241;43m.\u001B[39;49m\u001B[43mt2m_mean\u001B[49m\u001B[38;5;241;43m.\u001B[39;49m\u001B[43misel\u001B[49m\u001B[43m(\u001B[49m\u001B[43mx\u001B[49m\u001B[38;5;241;43m=\u001B[39;49m\u001B[38;5;241;43m100\u001B[39;49m\u001B[43m,\u001B[49m\u001B[43m \u001B[49m\u001B[43my\u001B[49m\u001B[38;5;241;43m=\u001B[39;49m\u001B[38;5;241;43m100\u001B[39;49m\u001B[43m)\u001B[49m\u001B[38;5;241;43m.\u001B[39;49m\u001B[43mplot\u001B[49m\u001B[43m(\u001B[49m\u001B[43m)\u001B[49m\n",
      "File \u001B[1;32m~\\anaconda3\\envs\\forecast\\lib\\site-packages\\xarray\\plot\\plot.py:547\u001B[0m, in \u001B[0;36m_PlotMethods.__call__\u001B[1;34m(self, **kwargs)\u001B[0m\n\u001B[0;32m    546\u001B[0m \u001B[38;5;28;01mdef\u001B[39;00m \u001B[38;5;21m__call__\u001B[39m(\u001B[38;5;28mself\u001B[39m, \u001B[38;5;241m*\u001B[39m\u001B[38;5;241m*\u001B[39mkwargs):\n\u001B[1;32m--> 547\u001B[0m     \u001B[38;5;28;01mreturn\u001B[39;00m plot(\u001B[38;5;28mself\u001B[39m\u001B[38;5;241m.\u001B[39m_da, \u001B[38;5;241m*\u001B[39m\u001B[38;5;241m*\u001B[39mkwargs)\n",
      "File \u001B[1;32m~\\anaconda3\\envs\\forecast\\lib\\site-packages\\xarray\\plot\\plot.py:298\u001B[0m, in \u001B[0;36mplot\u001B[1;34m(darray, row, col, col_wrap, ax, hue, rtol, subplot_kws, **kwargs)\u001B[0m\n\u001B[0;32m    294\u001B[0m     plotfunc \u001B[38;5;241m=\u001B[39m hist\n\u001B[0;32m    296\u001B[0m kwargs[\u001B[38;5;124m\"\u001B[39m\u001B[38;5;124max\u001B[39m\u001B[38;5;124m\"\u001B[39m] \u001B[38;5;241m=\u001B[39m ax\n\u001B[1;32m--> 298\u001B[0m \u001B[38;5;28;01mreturn\u001B[39;00m plotfunc(darray, \u001B[38;5;241m*\u001B[39m\u001B[38;5;241m*\u001B[39mkwargs)\n",
      "File \u001B[1;32m~\\anaconda3\\envs\\forecast\\lib\\site-packages\\xarray\\plot\\plot.py:404\u001B[0m, in \u001B[0;36mline\u001B[1;34m(darray, row, col, figsize, aspect, size, ax, hue, x, y, xincrease, yincrease, xscale, yscale, xticks, yticks, xlim, ylim, add_legend, _labels, *args, **kwargs)\u001B[0m\n\u001B[0;32m    401\u001B[0m xlabel \u001B[38;5;241m=\u001B[39m label_from_attrs(xplt, extra\u001B[38;5;241m=\u001B[39mx_suffix)\n\u001B[0;32m    402\u001B[0m ylabel \u001B[38;5;241m=\u001B[39m label_from_attrs(yplt, extra\u001B[38;5;241m=\u001B[39my_suffix)\n\u001B[1;32m--> 404\u001B[0m \u001B[43m_ensure_plottable\u001B[49m\u001B[43m(\u001B[49m\u001B[43mxplt_val\u001B[49m\u001B[43m,\u001B[49m\u001B[43m \u001B[49m\u001B[43myplt_val\u001B[49m\u001B[43m)\u001B[49m\n\u001B[0;32m    406\u001B[0m primitive \u001B[38;5;241m=\u001B[39m ax\u001B[38;5;241m.\u001B[39mplot(xplt_val, yplt_val, \u001B[38;5;241m*\u001B[39margs, \u001B[38;5;241m*\u001B[39m\u001B[38;5;241m*\u001B[39mkwargs)\n\u001B[0;32m    408\u001B[0m \u001B[38;5;28;01mif\u001B[39;00m _labels:\n",
      "File \u001B[1;32m~\\anaconda3\\envs\\forecast\\lib\\site-packages\\xarray\\plot\\utils.py:694\u001B[0m, in \u001B[0;36m_ensure_plottable\u001B[1;34m(*args)\u001B[0m\n\u001B[0;32m    684\u001B[0m     \u001B[38;5;28;01mraise\u001B[39;00m \u001B[38;5;167;01mTypeError\u001B[39;00m(\n\u001B[0;32m    685\u001B[0m         \u001B[38;5;124m\"\u001B[39m\u001B[38;5;124mPlotting requires coordinates to be numeric, boolean, \u001B[39m\u001B[38;5;124m\"\u001B[39m\n\u001B[0;32m    686\u001B[0m         \u001B[38;5;124m\"\u001B[39m\u001B[38;5;124mor dates of type numpy.datetime64, \u001B[39m\u001B[38;5;124m\"\u001B[39m\n\u001B[0;32m    687\u001B[0m         \u001B[38;5;124m\"\u001B[39m\u001B[38;5;124mdatetime.datetime, cftime.datetime or \u001B[39m\u001B[38;5;124m\"\u001B[39m\n\u001B[0;32m    688\u001B[0m         \u001B[38;5;124mf\u001B[39m\u001B[38;5;124m\"\u001B[39m\u001B[38;5;124mpandas.Interval. Received data of type \u001B[39m\u001B[38;5;132;01m{\u001B[39;00mnp\u001B[38;5;241m.\u001B[39marray(x)\u001B[38;5;241m.\u001B[39mdtype\u001B[38;5;132;01m}\u001B[39;00m\u001B[38;5;124m instead.\u001B[39m\u001B[38;5;124m\"\u001B[39m\n\u001B[0;32m    689\u001B[0m     )\n\u001B[0;32m    690\u001B[0m \u001B[38;5;28;01mif\u001B[39;00m (\n\u001B[0;32m    691\u001B[0m     _valid_other_type(np\u001B[38;5;241m.\u001B[39marray(x), cftime_datetime_types)\n\u001B[0;32m    692\u001B[0m     \u001B[38;5;129;01mand\u001B[39;00m \u001B[38;5;129;01mnot\u001B[39;00m nc_time_axis_available\n\u001B[0;32m    693\u001B[0m ):\n\u001B[1;32m--> 694\u001B[0m     \u001B[38;5;28;01mraise\u001B[39;00m \u001B[38;5;167;01mImportError\u001B[39;00m(\n\u001B[0;32m    695\u001B[0m         \u001B[38;5;124m\"\u001B[39m\u001B[38;5;124mPlotting of arrays of cftime.datetime \u001B[39m\u001B[38;5;124m\"\u001B[39m\n\u001B[0;32m    696\u001B[0m         \u001B[38;5;124m\"\u001B[39m\u001B[38;5;124mobjects or arrays indexed by \u001B[39m\u001B[38;5;124m\"\u001B[39m\n\u001B[0;32m    697\u001B[0m         \u001B[38;5;124m\"\u001B[39m\u001B[38;5;124mcftime.datetime objects requires the \u001B[39m\u001B[38;5;124m\"\u001B[39m\n\u001B[0;32m    698\u001B[0m         \u001B[38;5;124m\"\u001B[39m\u001B[38;5;124moptional `nc-time-axis` (v1.2.0 or later) \u001B[39m\u001B[38;5;124m\"\u001B[39m\n\u001B[0;32m    699\u001B[0m         \u001B[38;5;124m\"\u001B[39m\u001B[38;5;124mpackage.\u001B[39m\u001B[38;5;124m\"\u001B[39m\n\u001B[0;32m    700\u001B[0m     )\n",
      "\u001B[1;31mImportError\u001B[0m: Plotting of arrays of cftime.datetime objects or arrays indexed by cftime.datetime objects requires the optional `nc-time-axis` (v1.2.0 or later) package."
     ]
    },
    {
     "data": {
      "text/plain": "<Figure size 640x480 with 1 Axes>",
      "image/png": "[encoded data removed]"
     },
     "metadata": {},
     "output_type": "display_data"
    }
   ],
   "source": [
    "#Plot the t2m_mean variable along the time dimension for a single pixel\n",
    "datacube.t2m_mean.isel(x=100, y=100).plot()\n"
   ],
   "metadata": {
    "collapsed": false,
    "pycharm": {
     "name": "#%%\n"
    }
   }
  },
  {
   "cell_type": "code",
   "execution_count": 5,
   "outputs": [
    {
     "name": "stdout",
     "output_type": "stream",
     "text": [
      "<xarray.Dataset>\n",
      "Dimensions:            ()\n",
      "Coordinates:\n",
      "    band               int32 1\n",
      "Data variables: (12/16)\n",
      "    crs                float64 0.0\n",
      "    ET_500m            float64 0.06787\n",
      "    Fpar_500m          float64 0.07374\n",
      "    spatial_ref        float64 0.0\n",
      "    density            float64 0.1356\n",
      "    u10                float64 0.3252\n",
      "    ...                 ...\n",
      "    Last_Day           float64 0.0733\n",
      "    Burn_Date          float64 0.0733\n",
      "    FireMask           float64 0.06188\n",
      "    LST_Day_1km        float64 0.06444\n",
      "    LST_Night_1km      float64 0.06429\n",
      "    _1_km_16_days_EVI  float64 0.06188\n"
     ]
    }
   ],
   "source": [
    "# print the percentage of missing values\n",
    "print(datacube.isnull().sum()/datacube.count())"
   ],
   "metadata": {
    "collapsed": false,
    "pycharm": {
     "name": "#%%\n"
    }
   }
  },
  {
   "cell_type": "code",
   "execution_count": 10,
   "outputs": [],
   "source": [
    "# Cut the original datacube to a smaller one: half of the full time\n",
    "datacube = datacube.isel(time=slice(180, 250))\n"
   ],
   "metadata": {
    "collapsed": false,
    "pycharm": {
     "name": "#%%\n"
    }
   }
  },
  {
   "cell_type": "markdown",
   "source": [
    "We have a data set with 16 columns and datarray 19,696,656 rows. Let's look at the columns.\n"
   ],
   "metadata": {
    "collapsed": false,
    "pycharm": {
     "name": "#%% md\n"
    }
   }
  },
  {
   "cell_type": "code",
   "execution_count": 11,
   "outputs": [],
   "source": [
    "df = datacube.to_dataframe()"
   ],
   "metadata": {
    "collapsed": false,
    "pycharm": {
     "name": "#%%\n"
    }
   }
  },
  {
   "cell_type": "code",
   "execution_count": 12,
   "outputs": [
    {
     "data": {
      "text/plain": "                                        band  crs  ET_500m  Fpar_500m  \\\nx        y         time                                                 \n4.079935 45.253379 2010-06-30 00:00:00     1    0      NaN        NaN   \n                   2010-07-01 00:00:00     1    0      NaN        NaN   \n                   2010-07-02 00:00:00     1    0      NaN        NaN   \n                   2010-07-03 00:00:00     1    0      NaN        NaN   \n                   2010-07-04 00:00:00     1    0      NaN        NaN   \n                   2010-07-05 00:00:00     1    0      NaN        NaN   \n                   2010-07-06 00:00:00     1    0      NaN        NaN   \n                   2010-07-07 00:00:00     1    0      NaN        NaN   \n                   2010-07-08 00:00:00     1    0      NaN        NaN   \n                   2010-07-09 00:00:00     1    0      NaN        NaN   \n                   2010-07-10 00:00:00     1    0      NaN        NaN   \n                   2010-07-11 00:00:00     1    0      NaN        NaN   \n                   2010-07-12 00:00:00     1    0      NaN        NaN   \n                   2010-07-13 00:00:00     1    0      NaN        NaN   \n                   2010-07-14 00:00:00     1    0      NaN        NaN   \n                   2010-07-15 00:00:00     1    0      NaN        NaN   \n                   2010-07-16 00:00:00     1    0      NaN        NaN   \n                   2010-07-17 00:00:00     1    0      NaN        NaN   \n                   2010-07-18 00:00:00     1    0      NaN        NaN   \n                   2010-07-19 00:00:00     1    0      NaN        NaN   \n\n                                        spatial_ref  density  u10  v10  t2m  \\\nx        y         time                                                       \n4.079935 45.253379 2010-06-30 00:00:00            0      NaN  NaN  NaN  NaN   \n                   2010-07-01 00:00:00            0      NaN  NaN  NaN  NaN   \n                   2010-07-02 00:00:00            0      NaN  NaN  NaN  NaN   \n                   2010-07-03 00:00:00            0      NaN  NaN  NaN  NaN   \n                   2010-07-04 00:00:00            0      NaN  NaN  NaN  NaN   \n                   2010-07-05 00:00:00            0      NaN  NaN  NaN  NaN   \n                   2010-07-06 00:00:00            0      NaN  NaN  NaN  NaN   \n                   2010-07-07 00:00:00            0      NaN  NaN  NaN  NaN   \n                   2010-07-08 00:00:00            0      NaN  NaN  NaN  NaN   \n                   2010-07-09 00:00:00            0      NaN  NaN  NaN  NaN   \n                   2010-07-10 00:00:00            0      NaN  NaN  NaN  NaN   \n                   2010-07-11 00:00:00            0      NaN  NaN  NaN  NaN   \n                   2010-07-12 00:00:00            0      NaN  NaN  NaN  NaN   \n                   2010-07-13 00:00:00            0      NaN  NaN  NaN  NaN   \n                   2010-07-14 00:00:00            0      NaN  NaN  NaN  NaN   \n                   2010-07-15 00:00:00            0      NaN  NaN  NaN  NaN   \n                   2010-07-16 00:00:00            0      NaN  NaN  NaN  NaN   \n                   2010-07-17 00:00:00            0      NaN  NaN  NaN  NaN   \n                   2010-07-18 00:00:00            0      NaN  NaN  NaN  NaN   \n                   2010-07-19 00:00:00            0      NaN  NaN  NaN  NaN   \n\n                                        tp  First_Day  Last_Day  Burn_Date  \\\nx        y         time                                                      \n4.079935 45.253379 2010-06-30 00:00:00 NaN        NaN       NaN        NaN   \n                   2010-07-01 00:00:00 NaN        NaN       NaN        NaN   \n                   2010-07-02 00:00:00 NaN        NaN       NaN        NaN   \n                   2010-07-03 00:00:00 NaN        NaN       NaN        NaN   \n                   2010-07-04 00:00:00 NaN        NaN       NaN        NaN   \n                   2010-07-05 00:00:00 NaN        NaN       NaN        NaN   \n                   2010-07-06 00:00:00 NaN        NaN       NaN        NaN   \n                   2010-07-07 00:00:00 NaN        NaN       NaN        NaN   \n                   2010-07-08 00:00:00 NaN        NaN       NaN        NaN   \n                   2010-07-09 00:00:00 NaN        NaN       NaN        NaN   \n                   2010-07-10 00:00:00 NaN        NaN       NaN        NaN   \n                   2010-07-11 00:00:00 NaN        NaN       NaN        NaN   \n                   2010-07-12 00:00:00 NaN        NaN       NaN        NaN   \n                   2010-07-13 00:00:00 NaN        NaN       NaN        NaN   \n                   2010-07-14 00:00:00 NaN        NaN       NaN        NaN   \n                   2010-07-15 00:00:00 NaN        NaN       NaN        NaN   \n                   2010-07-16 00:00:00 NaN        NaN       NaN        NaN   \n                   2010-07-17 00:00:00 NaN        NaN       NaN        NaN   \n                   2010-07-18 00:00:00 NaN        NaN       NaN        NaN   \n                   2010-07-19 00:00:00 NaN        NaN       NaN        NaN   \n\n                                        FireMask  LST_Day_1km  LST_Night_1km  \\\nx        y         time                                                        \n4.079935 45.253379 2010-06-30 00:00:00       NaN          NaN            NaN   \n                   2010-07-01 00:00:00       NaN          NaN            NaN   \n                   2010-07-02 00:00:00       NaN          NaN            NaN   \n                   2010-07-03 00:00:00       NaN          NaN            NaN   \n                   2010-07-04 00:00:00       NaN          NaN            NaN   \n                   2010-07-05 00:00:00       NaN          NaN            NaN   \n                   2010-07-06 00:00:00       NaN          NaN            NaN   \n                   2010-07-07 00:00:00       NaN          NaN            NaN   \n                   2010-07-08 00:00:00       NaN          NaN            NaN   \n                   2010-07-09 00:00:00       NaN          NaN            NaN   \n                   2010-07-10 00:00:00       NaN          NaN            NaN   \n                   2010-07-11 00:00:00       NaN          NaN            NaN   \n                   2010-07-12 00:00:00       NaN          NaN            NaN   \n                   2010-07-13 00:00:00       NaN          NaN            NaN   \n                   2010-07-14 00:00:00       NaN          NaN            NaN   \n                   2010-07-15 00:00:00       NaN          NaN            NaN   \n                   2010-07-16 00:00:00       NaN          NaN            NaN   \n                   2010-07-17 00:00:00       NaN          NaN            NaN   \n                   2010-07-18 00:00:00       NaN          NaN            NaN   \n                   2010-07-19 00:00:00       NaN          NaN            NaN   \n\n                                        _1_km_16_days_EVI  \nx        y         time                                    \n4.079935 45.253379 2010-06-30 00:00:00                NaN  \n                   2010-07-01 00:00:00                NaN  \n                   2010-07-02 00:00:00                NaN  \n                   2010-07-03 00:00:00                NaN  \n                   2010-07-04 00:00:00                NaN  \n                   2010-07-05 00:00:00                NaN  \n                   2010-07-06 00:00:00                NaN  \n                   2010-07-07 00:00:00                NaN  \n                   2010-07-08 00:00:00                NaN  \n                   2010-07-09 00:00:00                NaN  \n                   2010-07-10 00:00:00                NaN  \n                   2010-07-11 00:00:00                NaN  \n                   2010-07-12 00:00:00                NaN  \n                   2010-07-13 00:00:00                NaN  \n                   2010-07-14 00:00:00                NaN  \n                   2010-07-15 00:00:00                NaN  \n                   2010-07-16 00:00:00                NaN  \n                   2010-07-17 00:00:00                NaN  \n                   2010-07-18 00:00:00                NaN  \n                   2010-07-19 00:00:00                NaN  ",
      "text/html": "<div>\n<style scoped>\n    .dataframe tbody tr th:only-of-type {\n        vertical-align: middle;\n    }\n\n    .dataframe tbody tr th {\n        vertical-align: top;\n    }\n\n    .dataframe thead th {\n        text-align: right;\n    }\n</style>\n<table border=\"1\" class=\"dataframe\">\n  <thead>\n    <tr style=\"text-align: right;\">\n      <th></th>\n      <th></th>\n      <th></th>\n      <th>band</th>\n      <th>crs</th>\n      <th>ET_500m</th>\n      <th>Fpar_500m</th>\n      <th>spatial_ref</th>\n      <th>density</th>\n      <th>u10</th>\n      <th>v10</th>\n      <th>t2m</th>\n      <th>tp</th>\n      <th>First_Day</th>\n      <th>Last_Day</th>\n      <th>Burn_Date</th>\n      <th>FireMask</th>\n      <th>LST_Day_1km</th>\n      <th>LST_Night_1km</th>\n      <th>_1_km_16_days_EVI</th>\n    </tr>\n    <tr>\n      <th>x</th>\n      <th>y</th>\n      <th>time</th>\n      <th></th>\n      <th></th>\n      <th></th>\n      <th></th>\n      <th></th>\n      <th></th>\n      <th></th>\n      <th></th>\n      <th></th>\n      <th></th>\n      <th></th>\n      <th></th>\n      <th></th>\n      <th></th>\n      <th></th>\n      <th></th>\n      <th></th>\n    </tr>\n  </thead>\n  <tbody>\n    <tr>\n      <th rowspan=\"20\" valign=\"top\">4.079935</th>\n      <th rowspan=\"20\" valign=\"top\">45.253379</th>\n      <th>2010-06-30 00:00:00</th>\n      <td>1</td>\n      <td>0</td>\n      <td>NaN</td>\n      <td>NaN</td>\n      <td>0</td>\n      <td>NaN</td>\n      <td>NaN</td>\n      <td>NaN</td>\n      <td>NaN</td>\n      <td>NaN</td>\n      <td>NaN</td>\n      <td>NaN</td>\n      <td>NaN</td>\n      <td>NaN</td>\n      <td>NaN</td>\n      <td>NaN</td>\n      <td>NaN</td>\n    </tr>\n    <tr>\n      <th>2010-07-01 00:00:00</th>\n      <td>1</td>\n      <td>0</td>\n      <td>NaN</td>\n      <td>NaN</td>\n      <td>0</td>\n      <td>NaN</td>\n      <td>NaN</td>\n      <td>NaN</td>\n      <td>NaN</td>\n      <td>NaN</td>\n      <td>NaN</td>\n      <td>NaN</td>\n      <td>NaN</td>\n      <td>NaN</td>\n      <td>NaN</td>\n      <td>NaN</td>\n      <td>NaN</td>\n    </tr>\n    <tr>\n      <th>2010-07-02 00:00:00</th>\n      <td>1</td>\n      <td>0</td>\n      <td>NaN</td>\n      <td>NaN</td>\n      <td>0</td>\n      <td>NaN</td>\n      <td>NaN</td>\n      <td>NaN</td>\n      <td>NaN</td>\n      <td>NaN</td>\n      <td>NaN</td>\n      <td>NaN</td>\n      <td>NaN</td>\n      <td>NaN</td>\n      <td>NaN</td>\n      <td>NaN</td>\n      <td>NaN</td>\n    </tr>\n    <tr>\n      <th>2010-07-03 00:00:00</th>\n      <td>1</td>\n      <td>0</td>\n      <td>NaN</td>\n      <td>NaN</td>\n      <td>0</td>\n      <td>NaN</td>\n      <td>NaN</td>\n      <td>NaN</td>\n      <td>NaN</td>\n      <td>NaN</td>\n      <td>NaN</td>\n      <td>NaN</td>\n      <td>NaN</td>\n      <td>NaN</td>\n      <td>NaN</td>\n      <td>NaN</td>\n      <td>NaN</td>\n    </tr>\n    <tr>\n      <th>2010-07-04 00:00:00</th>\n      <td>1</td>\n      <td>0</td>\n      <td>NaN</td>\n      <td>NaN</td>\n      <td>0</td>\n      <td>NaN</td>\n      <td>NaN</td>\n      <td>NaN</td>\n      <td>NaN</td>\n      <td>NaN</td>\n      <td>NaN</td>\n      <td>NaN</td>\n      <td>NaN</td>\n      <td>NaN</td>\n      <td>NaN</td>\n      <td>NaN</td>\n      <td>NaN</td>\n    </tr>\n    <tr>\n      <th>2010-07-05 00:00:00</th>\n      <td>1</td>\n      <td>0</td>\n      <td>NaN</td>\n      <td>NaN</td>\n      <td>0</td>\n      <td>NaN</td>\n      <td>NaN</td>\n      <td>NaN</td>\n      <td>NaN</td>\n      <td>NaN</td>\n      <td>NaN</td>\n      <td>NaN</td>\n      <td>NaN</td>\n      <td>NaN</td>\n      <td>NaN</td>\n      <td>NaN</td>\n      <td>NaN</td>\n    </tr>\n    <tr>\n      <th>2010-07-06 00:00:00</th>\n      <td>1</td>\n      <td>0</td>\n      <td>NaN</td>\n      <td>NaN</td>\n      <td>0</td>\n      <td>NaN</td>\n      <td>NaN</td>\n      <td>NaN</td>\n      <td>NaN</td>\n      <td>NaN</td>\n      <td>NaN</td>\n      <td>NaN</td>\n      <td>NaN</td>\n      <td>NaN</td>\n      <td>NaN</td>\n      <td>NaN</td>\n      <td>NaN</td>\n    </tr>\n    <tr>\n      <th>2010-07-07 00:00:00</th>\n      <td>1</td>\n      <td>0</td>\n      <td>NaN</td>\n      <td>NaN</td>\n      <td>0</td>\n      <td>NaN</td>\n      <td>NaN</td>\n      <td>NaN</td>\n      <td>NaN</td>\n      <td>NaN</td>\n      <td>NaN</td>\n      <td>NaN</td>\n      <td>NaN</td>\n      <td>NaN</td>\n      <td>NaN</td>\n      <td>NaN</td>\n      <td>NaN</td>\n    </tr>\n    <tr>\n      <th>2010-07-08 00:00:00</th>\n      <td>1</td>\n      <td>0</td>\n      <td>NaN</td>\n      <td>NaN</td>\n      <td>0</td>\n      <td>NaN</td>\n      <td>NaN</td>\n      <td>NaN</td>\n      <td>NaN</td>\n      <td>NaN</td>\n      <td>NaN</td>\n      <td>NaN</td>\n      <td>NaN</td>\n      <td>NaN</td>\n      <td>NaN</td>\n      <td>NaN</td>\n      <td>NaN</td>\n    </tr>\n    <tr>\n      <th>2010-07-09 00:00:00</th>\n      <td>1</td>\n      <td>0</td>\n      <td>NaN</td>\n      <td>NaN</td>\n      <td>0</td>\n      <td>NaN</td>\n      <td>NaN</td>\n      <td>NaN</td>\n      <td>NaN</td>\n      <td>NaN</td>\n      <td>NaN</td>\n      <td>NaN</td>\n      <td>NaN</td>\n      <td>NaN</td>\n      <td>NaN</td>\n      <td>NaN</td>\n      <td>NaN</td>\n    </tr>\n    <tr>\n      <th>2010-07-10 00:00:00</th>\n      <td>1</td>\n      <td>0</td>\n      <td>NaN</td>\n      <td>NaN</td>\n      <td>0</td>\n      <td>NaN</td>\n      <td>NaN</td>\n      <td>NaN</td>\n      <td>NaN</td>\n      <td>NaN</td>\n      <td>NaN</td>\n      <td>NaN</td>\n      <td>NaN</td>\n      <td>NaN</td>\n      <td>NaN</td>\n      <td>NaN</td>\n      <td>NaN</td>\n    </tr>\n    <tr>\n      <th>2010-07-11 00:00:00</th>\n      <td>1</td>\n      <td>0</td>\n      <td>NaN</td>\n      <td>NaN</td>\n      <td>0</td>\n      <td>NaN</td>\n      <td>NaN</td>\n      <td>NaN</td>\n      <td>NaN</td>\n      <td>NaN</td>\n      <td>NaN</td>\n      <td>NaN</td>\n      <td>NaN</td>\n      <td>NaN</td>\n      <td>NaN</td>\n      <td>NaN</td>\n      <td>NaN</td>\n    </tr>\n    <tr>\n      <th>2010-07-12 00:00:00</th>\n      <td>1</td>\n      <td>0</td>\n      <td>NaN</td>\n      <td>NaN</td>\n      <td>0</td>\n      <td>NaN</td>\n      <td>NaN</td>\n      <td>NaN</td>\n      <td>NaN</td>\n      <td>NaN</td>\n      <td>NaN</td>\n      <td>NaN</td>\n      <td>NaN</td>\n      <td>NaN</td>\n      <td>NaN</td>\n      <td>NaN</td>\n      <td>NaN</td>\n    </tr>\n    <tr>\n      <th>2010-07-13 00:00:00</th>\n      <td>1</td>\n      <td>0</td>\n      <td>NaN</td>\n      <td>NaN</td>\n      <td>0</td>\n      <td>NaN</td>\n      <td>NaN</td>\n      <td>NaN</td>\n      <td>NaN</td>\n      <td>NaN</td>\n      <td>NaN</td>\n      <td>NaN</td>\n      <td>NaN</td>\n      <td>NaN</td>\n      <td>NaN</td>\n      <td>NaN</td>\n      <td>NaN</td>\n    </tr>\n    <tr>\n      <th>2010-07-14 00:00:00</th>\n      <td>1</td>\n      <td>0</td>\n      <td>NaN</td>\n      <td>NaN</td>\n      <td>0</td>\n      <td>NaN</td>\n      <td>NaN</td>\n      <td>NaN</td>\n      <td>NaN</td>\n      <td>NaN</td>\n      <td>NaN</td>\n      <td>NaN</td>\n      <td>NaN</td>\n      <td>NaN</td>\n      <td>NaN</td>\n      <td>NaN</td>\n      <td>NaN</td>\n    </tr>\n    <tr>\n      <th>2010-07-15 00:00:00</th>\n      <td>1</td>\n      <td>0</td>\n      <td>NaN</td>\n      <td>NaN</td>\n      <td>0</td>\n      <td>NaN</td>\n      <td>NaN</td>\n      <td>NaN</td>\n      <td>NaN</td>\n      <td>NaN</td>\n      <td>NaN</td>\n      <td>NaN</td>\n      <td>NaN</td>\n      <td>NaN</td>\n      <td>NaN</td>\n      <td>NaN</td>\n      <td>NaN</td>\n    </tr>\n    <tr>\n      <th>2010-07-16 00:00:00</th>\n      <td>1</td>\n      <td>0</td>\n      <td>NaN</td>\n      <td>NaN</td>\n      <td>0</td>\n      <td>NaN</td>\n      <td>NaN</td>\n      <td>NaN</td>\n      <td>NaN</td>\n      <td>NaN</td>\n      <td>NaN</td>\n      <td>NaN</td>\n      <td>NaN</td>\n      <td>NaN</td>\n      <td>NaN</td>\n      <td>NaN</td>\n      <td>NaN</td>\n    </tr>\n    <tr>\n      <th>2010-07-17 00:00:00</th>\n      <td>1</td>\n      <td>0</td>\n      <td>NaN</td>\n      <td>NaN</td>\n      <td>0</td>\n      <td>NaN</td>\n      <td>NaN</td>\n      <td>NaN</td>\n      <td>NaN</td>\n      <td>NaN</td>\n      <td>NaN</td>\n      <td>NaN</td>\n      <td>NaN</td>\n      <td>NaN</td>\n      <td>NaN</td>\n      <td>NaN</td>\n      <td>NaN</td>\n    </tr>\n    <tr>\n      <th>2010-07-18 00:00:00</th>\n      <td>1</td>\n      <td>0</td>\n      <td>NaN</td>\n      <td>NaN</td>\n      <td>0</td>\n      <td>NaN</td>\n      <td>NaN</td>\n      <td>NaN</td>\n      <td>NaN</td>\n      <td>NaN</td>\n      <td>NaN</td>\n      <td>NaN</td>\n      <td>NaN</td>\n      <td>NaN</td>\n      <td>NaN</td>\n      <td>NaN</td>\n      <td>NaN</td>\n    </tr>\n    <tr>\n      <th>2010-07-19 00:00:00</th>\n      <td>1</td>\n      <td>0</td>\n      <td>NaN</td>\n      <td>NaN</td>\n      <td>0</td>\n      <td>NaN</td>\n      <td>NaN</td>\n      <td>NaN</td>\n      <td>NaN</td>\n      <td>NaN</td>\n      <td>NaN</td>\n      <td>NaN</td>\n      <td>NaN</td>\n      <td>NaN</td>\n      <td>NaN</td>\n      <td>NaN</td>\n      <td>NaN</td>\n    </tr>\n  </tbody>\n</table>\n</div>"
     },
     "execution_count": 12,
     "metadata": {},
     "output_type": "execute_result"
    }
   ],
   "source": [
    "df.head(20)"
   ],
   "metadata": {
    "collapsed": false,
    "pycharm": {
     "name": "#%%\n"
    }
   }
  },
  {
   "cell_type": "code",
   "execution_count": 13,
   "outputs": [],
   "source": [
    "# Drop the columns we don't need: crs, band, spatial_ref\n",
    "df = df.drop(columns=['crs', 'band', 'spatial_ref'])"
   ],
   "metadata": {
    "collapsed": false,
    "pycharm": {
     "name": "#%%\n"
    }
   }
  },
  {
   "cell_type": "code",
   "execution_count": 14,
   "outputs": [
    {
     "data": {
      "text/plain": "ET_500m              0.064034\nFpar_500m            0.068672\ndensity              0.119421\nu10                  0.245226\nv10                  0.245226\nt2m                  0.245226\ntp                   0.245226\nFirst_Day            0.068281\nLast_Day             0.068281\nBurn_Date            0.068281\nFireMask             0.058270\nLST_Day_1km          0.058270\nLST_Night_1km        0.058270\n_1_km_16_days_EVI    0.058270\ndtype: float64"
     },
     "execution_count": 14,
     "metadata": {},
     "output_type": "execute_result"
    }
   ],
   "source": [
    "# Count the percentage of missing values in each column\n",
    "df.isnull().sum() / len(df)"
   ],
   "metadata": {
    "collapsed": false,
    "pycharm": {
     "name": "#%%\n"
    }
   }
  },
  {
   "cell_type": "code",
   "execution_count": 15,
   "outputs": [],
   "source": [
    "# Drop all the missing values\n",
    "df = df.dropna()"
   ],
   "metadata": {
    "collapsed": false,
    "pycharm": {
     "name": "#%%\n"
    }
   }
  },
  {
   "cell_type": "code",
   "execution_count": 16,
   "outputs": [
    {
     "data": {
      "text/plain": "ET_500m              0.0\nFpar_500m            0.0\ndensity              0.0\nu10                  0.0\nv10                  0.0\nt2m                  0.0\ntp                   0.0\nFirst_Day            0.0\nLast_Day             0.0\nBurn_Date            0.0\nFireMask             0.0\nLST_Day_1km          0.0\nLST_Night_1km        0.0\n_1_km_16_days_EVI    0.0\ndtype: float64"
     },
     "execution_count": 16,
     "metadata": {},
     "output_type": "execute_result"
    }
   ],
   "source": [
    "# Check the percentage of missing values in each column\n",
    "df.isnull().sum() / len(df)"
   ],
   "metadata": {
    "collapsed": false,
    "pycharm": {
     "name": "#%%\n"
    }
   }
  },
  {
   "cell_type": "code",
   "execution_count": 14,
   "outputs": [
    {
     "data": {
      "text/plain": "(15570006, 14)"
     },
     "execution_count": 14,
     "metadata": {},
     "output_type": "execute_result"
    }
   ],
   "source": [
    "# Structure of the dataframe\n",
    "df.shape"
   ],
   "metadata": {
    "collapsed": false,
    "pycharm": {
     "name": "#%%\n"
    }
   }
  },
  {
   "cell_type": "code",
   "execution_count": 15,
   "outputs": [
    {
     "data": {
      "text/plain": "5.0    14993489\n4.0      534871\n3.0       40726\n8.0         848\n9.0          48\n7.0          24\nName: FireMask, dtype: int64"
     },
     "execution_count": 15,
     "metadata": {},
     "output_type": "execute_result"
    }
   ],
   "source": [
    "# Count the number of unique values in FireMask\n",
    "df['FireMask'].value_counts()"
   ],
   "metadata": {
    "collapsed": false,
    "pycharm": {
     "name": "#%%\n"
    }
   }
  },
  {
   "cell_type": "code",
   "execution_count": 16,
   "outputs": [],
   "source": [
    "# Change the value of FireMAsk to 0 and 1. 0 = no fire, 1 = fire . If FireMask is 7,8,9 then it is a fire. If not, it is not a fire.\n",
    "df['FireMask'] = df['FireMask'].replace([0,1,2,3,4,5,6], 0)\n",
    "df['FireMask'] = df['FireMask'].replace([7,8,9], 1)\n"
   ],
   "metadata": {
    "collapsed": false,
    "pycharm": {
     "name": "#%%\n"
    }
   }
  },
  {
   "cell_type": "code",
   "execution_count": 17,
   "outputs": [
    {
     "data": {
      "text/plain": "0.0    15569086\n1.0         920\nName: FireMask, dtype: int64"
     },
     "execution_count": 17,
     "metadata": {},
     "output_type": "execute_result"
    }
   ],
   "source": [
    "# Counthe number of fires and no fires\n",
    "df['FireMask'].value_counts()\n"
   ],
   "metadata": {
    "collapsed": false,
    "pycharm": {
     "name": "#%%\n"
    }
   }
  },
  {
   "cell_type": "code",
   "execution_count": 19,
   "outputs": [
    {
     "name": "stderr",
     "output_type": "stream",
     "text": [
      "C:\\Users\\Quentin\\AppData\\Local\\Temp\\ipykernel_12056\\2366296675.py:2: FutureWarning: The frame.append method is deprecated and will be removed from pandas in a future version. Use pandas.concat instead.\n",
      "  df = df[df['FireMask'] == 1].append(df[df['FireMask'] == 0].sample(n=1000, random_state=1))\n"
     ]
    }
   ],
   "source": [
    "# Keep all the observations with FireMask = 1 and keep 1000 observations with FireMask = 0 randomly\n",
    "df = df[df['FireMask'] == 1].append(df[df['FireMask'] == 0].sample(n=1000, random_state=1))\n"
   ],
   "metadata": {
    "collapsed": false,
    "pycharm": {
     "name": "#%%\n"
    }
   }
  },
  {
   "cell_type": "code",
   "execution_count": 20,
   "outputs": [
    {
     "data": {
      "text/plain": "0.0    1000\n1.0     920\nName: FireMask, dtype: int64"
     },
     "execution_count": 20,
     "metadata": {},
     "output_type": "execute_result"
    }
   ],
   "source": [
    "df['FireMask'].value_counts()"
   ],
   "metadata": {
    "collapsed": false,
    "pycharm": {
     "name": "#%%\n"
    }
   }
  },
  {
   "cell_type": "code",
   "execution_count": 22,
   "outputs": [],
   "source": [
    "# export the dataframe to a csv file\n",
    "df.to_csv(path_data + 'datacube_balanced.csv')"
   ],
   "metadata": {
    "collapsed": false,
    "pycharm": {
     "name": "#%%\n"
    }
   }
  },
  {
   "cell_type": "code",
   "execution_count": 25,
   "outputs": [
    {
     "ename": "ModuleNotFoundError",
     "evalue": "No module named 'pycaret'",
     "output_type": "error",
     "traceback": [
      "\u001B[1;31m---------------------------------------------------------------------------\u001B[0m",
      "\u001B[1;31mModuleNotFoundError\u001B[0m                       Traceback (most recent call last)",
      "Cell \u001B[1;32mIn [25], line 1\u001B[0m\n\u001B[1;32m----> 1\u001B[0m \u001B[38;5;28;01mfrom\u001B[39;00m \u001B[38;5;21;01mpycaret\u001B[39;00m\u001B[38;5;21;01m.\u001B[39;00m\u001B[38;5;21;01mclassification\u001B[39;00m \u001B[38;5;28;01mimport\u001B[39;00m \u001B[38;5;241m*\u001B[39m\n",
      "\u001B[1;31mModuleNotFoundError\u001B[0m: No module named 'pycaret'"
     ]
    }
   ],
   "source": [
    "from pycaret.classification import *"
   ],
   "metadata": {
    "collapsed": false,
    "pycharm": {
     "name": "#%%\n"
    }
   }
  },
  {
   "cell_type": "code",
   "execution_count": null,
   "outputs": [],
   "source": [],
   "metadata": {
    "collapsed": false,
    "pycharm": {
     "name": "#%%\n"
    }
   }
  }
 ],
 "metadata": {
  "kernelspec": {
   "display_name": "Python 3",
   "language": "python",
   "name": "python3"
  },
  "language_info": {
   "codemirror_mode": {
    "name": "ipython",
    "version": 2
   },
   "file_extension": ".py",
   "mimetype": "text/x-python",
   "name": "python",
   "nbconvert_exporter": "python",
   "pygments_lexer": "ipython2",
   "version": "2.7.6"
  }
 },
 "nbformat": 4,
 "nbformat_minor": 0
}