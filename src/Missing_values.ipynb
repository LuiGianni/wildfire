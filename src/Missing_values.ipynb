{
 "cells": [
  {
   "cell_type": "markdown",
   "source": [
    "# Missing values\n",
    "\n",
    "After the merging, we have noticed that the number of missing values were very high (around 50% for MODIS products and up to 70% for Era product. Let's see how many missing values we have for each product exactly."
   ],
   "metadata": {
    "collapsed": false,
    "pycharm": {
     "name": "#%% md\n"
    }
   }
  },
  {
   "cell_type": "markdown",
   "source": [
    "## Importing datasets"
   ],
   "metadata": {
    "collapsed": false,
    "pycharm": {
     "name": "#%% md\n"
    }
   },
   "execution_count": 1
  },
  {
   "cell_type": "code",
   "execution_count": 3,
   "outputs": [],
   "source": [
    "import numpy as np\n",
    "import rasterio\n",
    "import matplotlib.pyplot as plt\n",
    "import xarray as xr\n",
    "import rioxarray as rxr\n",
    "import geopandas as gpd\n",
    "import harmonize as hz\n",
    "import matplotlib.dates as mdates\n",
    "from matplotlib.widgets import Cursor\n",
    "from matplotlib import animation\n"
   ],
   "metadata": {
    "collapsed": false,
    "pycharm": {
     "name": "#%%\n"
    }
   }
  },
  {
   "cell_type": "code",
   "execution_count": 4,
   "outputs": [],
   "source": [
    "# Open the dataset with xarray\n",
    "path_data = \"../data/Raw/\"\n",
    "ndvi = xr.open_dataset(path_data +'Raw_NDVI_16D_1km.nc')\n",
    "lai = xr.open_dataset(path_data +'Raw_LAI_8D_500m.nc')\n",
    "evap = xr.open_dataset(path_data +'Raw_Evap_8D_500m.nc')\n",
    "era = xr.open_dataset(path_data +'Raw_weather_4H_9km.nc')\n",
    "lst_night = xr.open_dataset(path_data +'Raw_LST_Night_1D_1km.nc')\n",
    "lst_day = xr.open_dataset(path_data +'Raw_LST_Day_1D_1km.nc')\n",
    "active_fire = xr.open_dataset(path_data +'Raw_ActiveFire_500m.nc')\n",
    "burn_mask = xr.open_dataset(path_data +'Raw_BurnMask_1km.nc')\n",
    "fwi = xr.open_mfdataset(path_data+'/Raw_Fwi/*.nc', combine='by_coords', chunks=None)\n",
    "density = rxr.open_rasterio(path_data +'fra_pd_2015_1km_UNadj.tif').squeeze()\n",
    "ndvi_large = xr.open_dataset(path_data +'Raw_NDVI_Large.nc')\n",
    "ndvi_ideal = xr.open_dataset(path_data +'Raw_NDVI_Ideal.nc')"
   ],
   "metadata": {
    "collapsed": false,
    "pycharm": {
     "name": "#%%\n"
    }
   }
  },
  {
   "cell_type": "code",
   "execution_count": 6,
   "outputs": [],
   "source": [
    "# Select the variables of interest\n",
    "ndvi_filter = ndvi['_1_km_16_days_EVI']\n",
    "lai_filter = lai['Fpar_500m']\n",
    "evap_filter = evap['ET_500m']\n",
    "era_filter = era[['u10', 'v10', 't2m', 'tp']]\n",
    "lst_night_filter = lst_night['LST_Night_1km']\n",
    "lst_day_filter = lst_day['LST_Day_1km']\n",
    "# fwi_filter = fwi['fwi-daily-proj']\n",
    "active_fire_filter = active_fire[['First_Day', 'Last_Day', 'Burn_Date']]\n",
    "burn_mask_filter = burn_mask['FireMask']"
   ],
   "metadata": {
    "collapsed": false,
    "pycharm": {
     "name": "#%%\n"
    }
   }
  },
  {
   "cell_type": "markdown",
   "source": [
    "# Import the datacube1\n"
   ],
   "metadata": {
    "collapsed": false,
    "pycharm": {
     "name": "#%% md\n"
    }
   }
  },
  {
   "cell_type": "code",
   "execution_count": 8,
   "outputs": [],
   "source": [
    "# Import the datacube\n",
    "datacube1 = xr.open_dataset(path_data +'datacube1.nc')"
   ],
   "metadata": {
    "collapsed": false,
    "pycharm": {
     "name": "#%%\n"
    }
   }
  },
  {
   "cell_type": "code",
   "execution_count": 11,
   "outputs": [
    {
     "data": {
      "text/plain": "<xarray.Dataset>\nDimensions:            (x: 298, y: 253, time: 4019)\nCoordinates:\n  * x                  (x) float64 3.415e+05 3.424e+05 ... 6.157e+05 6.167e+05\n  * y                  (y) float64 5.018e+06 5.017e+06 ... 4.786e+06 4.785e+06\n  * time               (time) object 2010-01-01 00:00:00 ... 2021-01-01 00:00:00\n    band               int32 1\nData variables: (12/14)\n    crs                int32 0\n    ET_500m            (time, y, x) float32 nan nan nan nan ... nan nan nan nan\n    Fpar_500m          (time, y, x) float64 nan nan nan nan ... nan nan nan nan\n    spatial_ref        int32 0\n    density            (y, x) float32 nan nan nan nan nan ... nan nan nan nan\n    u10                (time, y, x) float64 nan nan nan nan ... nan nan nan nan\n    ...                 ...\n    tp                 (time, y, x) float64 nan nan nan nan ... nan nan nan nan\n    First_Day          (time, y, x) float64 nan nan nan nan ... nan nan nan nan\n    Last_Day           (time, y, x) float64 nan nan nan nan ... nan nan nan nan\n    Burn_Date          (time, y, x) float64 nan nan nan nan ... nan nan nan nan\n    FireMask           (time, y, x) float32 nan nan nan nan ... nan nan nan nan\n    _1_km_16_days_EVI  (time, y, x) float64 nan nan nan nan ... nan nan nan nan\nAttributes:\n    Conventions:  CF-1.6\n    history:      2022-09-15 13:57:35 GMT by grib_to_netcdf-2.25.1: /opt/ecmw...",
      "text/html": "<div><svg style=\"position: absolute; width: 0; height: 0; overflow: hidden\">\n<defs>\n<symbol id=\"icon-database\" viewBox=\"0 0 32 32\">\n<path d=\"M16 0c-8.837 0-16 2.239-16 5v4c0 2.761 7.163 5 16 5s16-2.239 16-5v-4c0-2.761-7.163-5-16-5z\"></path>\n<path d=\"M16 17c-8.837 0-16-2.239-16-5v6c0 2.761 7.163 5 16 5s16-2.239 16-5v-6c0 2.761-7.163 5-16 5z\"></path>\n<path d=\"M16 26c-8.837 0-16-2.239-16-5v6c0 2.761 7.163 5 16 5s16-2.239 16-5v-6c0 2.761-7.163 5-16 5z\"></path>\n</symbol>\n<symbol id=\"icon-file-text2\" viewBox=\"0 0 32 32\">\n<path d=\"M28.681 7.159c-0.694-0.947-1.662-2.053-2.724-3.116s-2.169-2.030-3.116-2.724c-1.612-1.182-2.393-1.319-2.841-1.319h-15.5c-1.378 0-2.5 1.121-2.5 2.5v27c0 1.378 1.122 2.5 2.5 2.5h23c1.378 0 2.5-1.122 2.5-2.5v-19.5c0-0.448-0.137-1.23-1.319-2.841zM24.543 5.457c0.959 0.959 1.712 1.825 2.268 2.543h-4.811v-4.811c0.718 0.556 1.584 1.309 2.543 2.268zM28 29.5c0 0.271-0.229 0.5-0.5 0.5h-23c-0.271 0-0.5-0.229-0.5-0.5v-27c0-0.271 0.229-0.5 0.5-0.5 0 0 15.499-0 15.5 0v7c0 0.552 0.448 1 1 1h7v19.5z\"></path>\n<path d=\"M23 26h-14c-0.552 0-1-0.448-1-1s0.448-1 1-1h14c0.552 0 1 0.448 1 1s-0.448 1-1 1z\"></path>\n<path d=\"M23 22h-14c-0.552 0-1-0.448-1-1s0.448-1 1-1h14c0.552 0 1 0.448 1 1s-0.448 1-1 1z\"></path>\n<path d=\"M23 18h-14c-0.552 0-1-0.448-1-1s0.448-1 1-1h14c0.552 0 1 0.448 1 1s-0.448 1-1 1z\"></path>\n</symbol>\n</defs>\n</svg>\n<style>/* CSS stylesheet for displaying xarray objects in jupyterlab.\n *\n */\n\n:root {\n  --xr-font-color0: var(--jp-content-font-color0, rgba(0, 0, 0, 1));\n  --xr-font-color2: var(--jp-content-font-color2, rgba(0, 0, 0, 0.54));\n  --xr-font-color3: var(--jp-content-font-color3, rgba(0, 0, 0, 0.38));\n  --xr-border-color: var(--jp-border-color2, #e0e0e0);\n  --xr-disabled-color: var(--jp-layout-color3, #bdbdbd);\n  --xr-background-color: var(--jp-layout-color0, white);\n  --xr-background-color-row-even: var(--jp-layout-color1, white);\n  --xr-background-color-row-odd: var(--jp-layout-color2, #eeeeee);\n}\n\nhtml[theme=dark],\nbody[data-theme=dark],\nbody.vscode-dark {\n  --xr-font-color0: rgba(255, 255, 255, 1);\n  --xr-font-color2: rgba(255, 255, 255, 0.54);\n  --xr-font-color3: rgba(255, 255, 255, 0.38);\n  --xr-border-color: #1F1F1F;\n  --xr-disabled-color: #515151;\n  --xr-background-color: #111111;\n  --xr-background-color-row-even: #111111;\n  --xr-background-color-row-odd: #313131;\n}\n\n.xr-wrap {\n  display: block !important;\n  min-width: 300px;\n  max-width: 700px;\n}\n\n.xr-text-repr-fallback {\n  /* fallback to plain text repr when CSS is not injected (untrusted notebook) */\n  display: none;\n}\n\n.xr-header {\n  padding-top: 6px;\n  padding-bottom: 6px;\n  margin-bottom: 4px;\n  border-bottom: solid 1px var(--xr-border-color);\n}\n\n.xr-header > div,\n.xr-header > ul {\n  display: inline;\n  margin-top: 0;\n  margin-bottom: 0;\n}\n\n.xr-obj-type,\n.xr-array-name {\n  margin-left: 2px;\n  margin-right: 10px;\n}\n\n.xr-obj-type {\n  color: var(--xr-font-color2);\n}\n\n.xr-sections {\n  padding-left: 0 !important;\n  display: grid;\n  grid-template-columns: 150px auto auto 1fr 20px 20px;\n}\n\n.xr-section-item {\n  display: contents;\n}\n\n.xr-section-item input {\n  display: none;\n}\n\n.xr-section-item input + label {\n  color: var(--xr-disabled-color);\n}\n\n.xr-section-item input:enabled + label {\n  cursor: pointer;\n  color: var(--xr-font-color2);\n}\n\n.xr-section-item input:enabled + label:hover {\n  color: var(--xr-font-color0);\n}\n\n.xr-section-summary {\n  grid-column: 1;\n  color: var(--xr-font-color2);\n  font-weight: 500;\n}\n\n.xr-section-summary > span {\n  display: inline-block;\n  padding-left: 0.5em;\n}\n\n.xr-section-summary-in:disabled + label {\n  color: var(--xr-font-color2);\n}\n\n.xr-section-summary-in + label:before {\n  display: inline-block;\n  content: '►';\n  font-size: 11px;\n  width: 15px;\n  text-align: center;\n}\n\n.xr-section-summary-in:disabled + label:before {\n  color: var(--xr-disabled-color);\n}\n\n.xr-section-summary-in:checked + label:before {\n  content: '▼';\n}\n\n.xr-section-summary-in:checked + label > span {\n  display: none;\n}\n\n.xr-section-summary,\n.xr-section-inline-details {\n  padding-top: 4px;\n  padding-bottom: 4px;\n}\n\n.xr-section-inline-details {\n  grid-column: 2 / -1;\n}\n\n.xr-section-details {\n  display: none;\n  grid-column: 1 / -1;\n  margin-bottom: 5px;\n}\n\n.xr-section-summary-in:checked ~ .xr-section-details {\n  display: contents;\n}\n\n.xr-array-wrap {\n  grid-column: 1 / -1;\n  display: grid;\n  grid-template-columns: 20px auto;\n}\n\n.xr-array-wrap > label {\n  grid-column: 1;\n  vertical-align: top;\n}\n\n.xr-preview {\n  color: var(--xr-font-color3);\n}\n\n.xr-array-preview,\n.xr-array-data {\n  padding: 0 5px !important;\n  grid-column: 2;\n}\n\n.xr-array-data,\n.xr-array-in:checked ~ .xr-array-preview {\n  display: none;\n}\n\n.xr-array-in:checked ~ .xr-array-data,\n.xr-array-preview {\n  display: inline-block;\n}\n\n.xr-dim-list {\n  display: inline-block !important;\n  list-style: none;\n  padding: 0 !important;\n  margin: 0;\n}\n\n.xr-dim-list li {\n  display: inline-block;\n  padding: 0;\n  margin: 0;\n}\n\n.xr-dim-list:before {\n  content: '(';\n}\n\n.xr-dim-list:after {\n  content: ')';\n}\n\n.xr-dim-list li:not(:last-child):after {\n  content: ',';\n  padding-right: 5px;\n}\n\n.xr-has-index {\n  font-weight: bold;\n}\n\n.xr-var-list,\n.xr-var-item {\n  display: contents;\n}\n\n.xr-var-item > div,\n.xr-var-item label,\n.xr-var-item > .xr-var-name span {\n  background-color: var(--xr-background-color-row-even);\n  margin-bottom: 0;\n}\n\n.xr-var-item > .xr-var-name:hover span {\n  padding-right: 5px;\n}\n\n.xr-var-list > li:nth-child(odd) > div,\n.xr-var-list > li:nth-child(odd) > label,\n.xr-var-list > li:nth-child(odd) > .xr-var-name span {\n  background-color: var(--xr-background-color-row-odd);\n}\n\n.xr-var-name {\n  grid-column: 1;\n}\n\n.xr-var-dims {\n  grid-column: 2;\n}\n\n.xr-var-dtype {\n  grid-column: 3;\n  text-align: right;\n  color: var(--xr-font-color2);\n}\n\n.xr-var-preview {\n  grid-column: 4;\n}\n\n.xr-var-name,\n.xr-var-dims,\n.xr-var-dtype,\n.xr-preview,\n.xr-attrs dt {\n  white-space: nowrap;\n  overflow: hidden;\n  text-overflow: ellipsis;\n  padding-right: 10px;\n}\n\n.xr-var-name:hover,\n.xr-var-dims:hover,\n.xr-var-dtype:hover,\n.xr-attrs dt:hover {\n  overflow: visible;\n  width: auto;\n  z-index: 1;\n}\n\n.xr-var-attrs,\n.xr-var-data {\n  display: none;\n  background-color: var(--xr-background-color) !important;\n  padding-bottom: 5px !important;\n}\n\n.xr-var-attrs-in:checked ~ .xr-var-attrs,\n.xr-var-data-in:checked ~ .xr-var-data {\n  display: block;\n}\n\n.xr-var-data > table {\n  float: right;\n}\n\n.xr-var-name span,\n.xr-var-data,\n.xr-attrs {\n  padding-left: 25px !important;\n}\n\n.xr-attrs,\n.xr-var-attrs,\n.xr-var-data {\n  grid-column: 1 / -1;\n}\n\ndl.xr-attrs {\n  padding: 0;\n  margin: 0;\n  display: grid;\n  grid-template-columns: 125px auto;\n}\n\n.xr-attrs dt,\n.xr-attrs dd {\n  padding: 0;\n  margin: 0;\n  float: left;\n  padding-right: 10px;\n  width: auto;\n}\n\n.xr-attrs dt {\n  font-weight: normal;\n  grid-column: 1;\n}\n\n.xr-attrs dt:hover span {\n  display: inline-block;\n  background: var(--xr-background-color);\n  padding-right: 10px;\n}\n\n.xr-attrs dd {\n  grid-column: 2;\n  white-space: pre-wrap;\n  word-break: break-all;\n}\n\n.xr-icon-database,\n.xr-icon-file-text2 {\n  display: inline-block;\n  vertical-align: middle;\n  width: 1em;\n  height: 1.5em !important;\n  stroke-width: 0;\n  stroke: currentColor;\n  fill: currentColor;\n}\n</style><pre class='xr-text-repr-fallback'>&lt;xarray.Dataset&gt;\nDimensions:            (x: 298, y: 253, time: 4019)\nCoordinates:\n  * x                  (x) float64 3.415e+05 3.424e+05 ... 6.157e+05 6.167e+05\n  * y                  (y) float64 5.018e+06 5.017e+06 ... 4.786e+06 4.785e+06\n  * time               (time) object 2010-01-01 00:00:00 ... 2021-01-01 00:00:00\n    band               int32 1\nData variables: (12/14)\n    crs                int32 0\n    ET_500m            (time, y, x) float32 nan nan nan nan ... nan nan nan nan\n    Fpar_500m          (time, y, x) float64 nan nan nan nan ... nan nan nan nan\n    spatial_ref        int32 0\n    density            (y, x) float32 nan nan nan nan nan ... nan nan nan nan\n    u10                (time, y, x) float64 nan nan nan nan ... nan nan nan nan\n    ...                 ...\n    tp                 (time, y, x) float64 nan nan nan nan ... nan nan nan nan\n    First_Day          (time, y, x) float64 nan nan nan nan ... nan nan nan nan\n    Last_Day           (time, y, x) float64 nan nan nan nan ... nan nan nan nan\n    Burn_Date          (time, y, x) float64 nan nan nan nan ... nan nan nan nan\n    FireMask           (time, y, x) float32 nan nan nan nan ... nan nan nan nan\n    _1_km_16_days_EVI  (time, y, x) float64 nan nan nan nan ... nan nan nan nan\nAttributes:\n    Conventions:  CF-1.6\n    history:      2022-09-15 13:57:35 GMT by grib_to_netcdf-2.25.1: /opt/ecmw...</pre><div class='xr-wrap' style='display:none'><div class='xr-header'><div class='xr-obj-type'>xarray.Dataset</div></div><ul class='xr-sections'><li class='xr-section-item'><input id='section-fd24e379-06bf-41f0-89f9-29fa361225dc' class='xr-section-summary-in' type='checkbox' disabled ><label for='section-fd24e379-06bf-41f0-89f9-29fa361225dc' class='xr-section-summary'  title='Expand/collapse section'>Dimensions:</label><div class='xr-section-inline-details'><ul class='xr-dim-list'><li><span class='xr-has-index'>x</span>: 298</li><li><span class='xr-has-index'>y</span>: 253</li><li><span class='xr-has-index'>time</span>: 4019</li></ul></div><div class='xr-section-details'></div></li><li class='xr-section-item'><input id='section-e87f50d4-0b37-4fc1-9927-2998bd3c9919' class='xr-section-summary-in' type='checkbox'  checked><label for='section-e87f50d4-0b37-4fc1-9927-2998bd3c9919' class='xr-section-summary' >Coordinates: <span>(4)</span></label><div class='xr-section-inline-details'></div><div class='xr-section-details'><ul class='xr-var-list'><li class='xr-var-item'><div class='xr-var-name'><span class='xr-has-index'>x</span></div><div class='xr-var-dims'>(x)</div><div class='xr-var-dtype'>float64</div><div class='xr-var-preview xr-preview'>3.415e+05 3.424e+05 ... 6.167e+05</div><input id='attrs-85cf3781-c39d-4344-8fd2-96b471adab25' class='xr-var-attrs-in' type='checkbox' ><label for='attrs-85cf3781-c39d-4344-8fd2-96b471adab25' title='Show/Hide attributes'><svg class='icon xr-icon-file-text2'><use xlink:href='#icon-file-text2'></use></svg></label><input id='data-45a2f150-43e9-4d8e-8b95-bdf41297d9a1' class='xr-var-data-in' type='checkbox'><label for='data-45a2f150-43e9-4d8e-8b95-bdf41297d9a1' title='Show/Hide data repr'><svg class='icon xr-icon-database'><use xlink:href='#icon-database'></use></svg></label><div class='xr-var-attrs'><dl class='xr-attrs'><dt><span>axis :</span></dt><dd>X</dd><dt><span>long_name :</span></dt><dd>x coordinate of projection</dd><dt><span>standard_name :</span></dt><dd>projection_x_coordinate</dd><dt><span>units :</span></dt><dd>metre</dd></dl></div><div class='xr-var-data'><pre>array([341461.472081, 342388.097514, 343314.722947, ..., 614815.974832,\n       615742.600265, 616669.225698])</pre></div></li><li class='xr-var-item'><div class='xr-var-name'><span class='xr-has-index'>y</span></div><div class='xr-var-dims'>(y)</div><div class='xr-var-dtype'>float64</div><div class='xr-var-preview xr-preview'>5.018e+06 5.017e+06 ... 4.785e+06</div><input id='attrs-d198ac79-b88e-4467-8e4c-63d04364be43' class='xr-var-attrs-in' type='checkbox' ><label for='attrs-d198ac79-b88e-4467-8e4c-63d04364be43' title='Show/Hide attributes'><svg class='icon xr-icon-file-text2'><use xlink:href='#icon-file-text2'></use></svg></label><input id='data-471afa58-d605-49ba-aed9-bc77bc86df05' class='xr-var-data-in' type='checkbox'><label for='data-471afa58-d605-49ba-aed9-bc77bc86df05' title='Show/Hide data repr'><svg class='icon xr-icon-database'><use xlink:href='#icon-database'></use></svg></label><div class='xr-var-attrs'><dl class='xr-attrs'><dt><span>axis :</span></dt><dd>Y</dd><dt><span>long_name :</span></dt><dd>y coordinate of projection</dd><dt><span>standard_name :</span></dt><dd>projection_y_coordinate</dd><dt><span>units :</span></dt><dd>metre</dd></dl></div><div class='xr-var-data'><pre>array([5018140.032712, 5017213.407279, 5016286.781846, ..., 4786483.674448,\n       4785557.049015, 4784630.423582])</pre></div></li><li class='xr-var-item'><div class='xr-var-name'><span class='xr-has-index'>time</span></div><div class='xr-var-dims'>(time)</div><div class='xr-var-dtype'>object</div><div class='xr-var-preview xr-preview'>2010-01-01 00:00:00 ... 2021-01-...</div><input id='attrs-8feb464f-343c-40e6-b6ba-dd14d09e914f' class='xr-var-attrs-in' type='checkbox' ><label for='attrs-8feb464f-343c-40e6-b6ba-dd14d09e914f' title='Show/Hide attributes'><svg class='icon xr-icon-file-text2'><use xlink:href='#icon-file-text2'></use></svg></label><input id='data-d6ca6e3f-484a-4ec6-bdd1-612b1fc8a888' class='xr-var-data-in' type='checkbox'><label for='data-d6ca6e3f-484a-4ec6-bdd1-612b1fc8a888' title='Show/Hide data repr'><svg class='icon xr-icon-database'><use xlink:href='#icon-database'></use></svg></label><div class='xr-var-attrs'><dl class='xr-attrs'><dt><span>standard_name :</span></dt><dd>time</dd><dt><span>axis :</span></dt><dd>T</dd><dt><span>long_name :</span></dt><dd>time</dd></dl></div><div class='xr-var-data'><pre>array([cftime.DatetimeJulian(2010, 1, 1, 0, 0, 0, 0, has_year_zero=False),\n       cftime.DatetimeJulian(2010, 1, 2, 0, 0, 0, 0, has_year_zero=False),\n       cftime.DatetimeJulian(2010, 1, 3, 0, 0, 0, 0, has_year_zero=False), ...,\n       cftime.DatetimeJulian(2020, 12, 30, 0, 0, 0, 0, has_year_zero=False),\n       cftime.DatetimeJulian(2020, 12, 31, 0, 0, 0, 0, has_year_zero=False),\n       cftime.DatetimeJulian(2021, 1, 1, 0, 0, 0, 0, has_year_zero=False)],\n      dtype=object)</pre></div></li><li class='xr-var-item'><div class='xr-var-name'><span>band</span></div><div class='xr-var-dims'>()</div><div class='xr-var-dtype'>int32</div><div class='xr-var-preview xr-preview'>1</div><input id='attrs-a4adf17c-48ef-413c-88aa-44a1914a3b22' class='xr-var-attrs-in' type='checkbox' disabled><label for='attrs-a4adf17c-48ef-413c-88aa-44a1914a3b22' title='Show/Hide attributes'><svg class='icon xr-icon-file-text2'><use xlink:href='#icon-file-text2'></use></svg></label><input id='data-cf97f2e8-f3bc-4f72-89dc-eeda5ad14d9b' class='xr-var-data-in' type='checkbox'><label for='data-cf97f2e8-f3bc-4f72-89dc-eeda5ad14d9b' title='Show/Hide data repr'><svg class='icon xr-icon-database'><use xlink:href='#icon-database'></use></svg></label><div class='xr-var-attrs'><dl class='xr-attrs'></dl></div><div class='xr-var-data'><pre>array(1)</pre></div></li></ul></div></li><li class='xr-section-item'><input id='section-dc7f7c2d-2e79-4ae8-af71-e8ff5b578cb1' class='xr-section-summary-in' type='checkbox'  checked><label for='section-dc7f7c2d-2e79-4ae8-af71-e8ff5b578cb1' class='xr-section-summary' >Data variables: <span>(14)</span></label><div class='xr-section-inline-details'></div><div class='xr-section-details'><ul class='xr-var-list'><li class='xr-var-item'><div class='xr-var-name'><span>crs</span></div><div class='xr-var-dims'>()</div><div class='xr-var-dtype'>int32</div><div class='xr-var-preview xr-preview'>0</div><input id='attrs-5acd4d5f-e18a-4b94-bd69-ae9b38a5b8d0' class='xr-var-attrs-in' type='checkbox' ><label for='attrs-5acd4d5f-e18a-4b94-bd69-ae9b38a5b8d0' title='Show/Hide attributes'><svg class='icon xr-icon-file-text2'><use xlink:href='#icon-file-text2'></use></svg></label><input id='data-e4f3b315-1842-43d8-b101-66bf4aa9d846' class='xr-var-data-in' type='checkbox'><label for='data-e4f3b315-1842-43d8-b101-66bf4aa9d846' title='Show/Hide data repr'><svg class='icon xr-icon-database'><use xlink:href='#icon-database'></use></svg></label><div class='xr-var-attrs'><dl class='xr-attrs'><dt><span>crs_wkt :</span></dt><dd>PROJCS[&quot;unknown&quot;,GEOGCS[&quot;unknown&quot;,DATUM[&quot;unknown&quot;,SPHEROID[&quot;unknown&quot;,6371007.181,0]],PRIMEM[&quot;Greenwich&quot;,0,AUTHORITY[&quot;EPSG&quot;,&quot;8901&quot;]],UNIT[&quot;degree&quot;,0.0174532925199433,AUTHORITY[&quot;EPSG&quot;,&quot;9122&quot;]]],PROJECTION[&quot;Sinusoidal&quot;],PARAMETER[&quot;longitude_of_center&quot;,0],PARAMETER[&quot;false_easting&quot;,0],PARAMETER[&quot;false_northing&quot;,0],UNIT[&quot;metre&quot;,1,AUTHORITY[&quot;EPSG&quot;,&quot;9001&quot;]],AXIS[&quot;Easting&quot;,EAST],AXIS[&quot;Northing&quot;,NORTH]]</dd><dt><span>semi_major_axis :</span></dt><dd>6371007.181</dd><dt><span>semi_minor_axis :</span></dt><dd>6371007.181</dd><dt><span>inverse_flattening :</span></dt><dd>0.0</dd><dt><span>reference_ellipsoid_name :</span></dt><dd>unknown</dd><dt><span>longitude_of_prime_meridian :</span></dt><dd>0.0</dd><dt><span>prime_meridian_name :</span></dt><dd>Greenwich</dd><dt><span>geographic_crs_name :</span></dt><dd>unknown</dd><dt><span>horizontal_datum_name :</span></dt><dd>unknown</dd><dt><span>projected_crs_name :</span></dt><dd>unknown</dd><dt><span>grid_mapping_name :</span></dt><dd>sinusoidal</dd><dt><span>longitude_of_projection_origin :</span></dt><dd>0.0</dd><dt><span>false_easting :</span></dt><dd>0.0</dd><dt><span>false_northing :</span></dt><dd>0.0</dd><dt><span>spatial_ref :</span></dt><dd>PROJCS[&quot;unknown&quot;,GEOGCS[&quot;unknown&quot;,DATUM[&quot;unknown&quot;,SPHEROID[&quot;unknown&quot;,6371007.181,0]],PRIMEM[&quot;Greenwich&quot;,0,AUTHORITY[&quot;EPSG&quot;,&quot;8901&quot;]],UNIT[&quot;degree&quot;,0.0174532925199433,AUTHORITY[&quot;EPSG&quot;,&quot;9122&quot;]]],PROJECTION[&quot;Sinusoidal&quot;],PARAMETER[&quot;longitude_of_center&quot;,0],PARAMETER[&quot;false_easting&quot;,0],PARAMETER[&quot;false_northing&quot;,0],UNIT[&quot;metre&quot;,1,AUTHORITY[&quot;EPSG&quot;,&quot;9001&quot;]],AXIS[&quot;Easting&quot;,EAST],AXIS[&quot;Northing&quot;,NORTH]]</dd><dt><span>GeoTransform :</span></dt><dd>340998.1593644446 926.6254330555558 0.0 5018603.345428891 0.0 -926.6254330555546</dd></dl></div><div class='xr-var-data'><pre>array(0)</pre></div></li><li class='xr-var-item'><div class='xr-var-name'><span>ET_500m</span></div><div class='xr-var-dims'>(time, y, x)</div><div class='xr-var-dtype'>float32</div><div class='xr-var-preview xr-preview'>nan nan nan nan ... nan nan nan nan</div><input id='attrs-0cd09d06-5bf2-425d-8e3b-fcbb437247da' class='xr-var-attrs-in' type='checkbox' ><label for='attrs-0cd09d06-5bf2-425d-8e3b-fcbb437247da' title='Show/Hide attributes'><svg class='icon xr-icon-file-text2'><use xlink:href='#icon-file-text2'></use></svg></label><input id='data-2e7de531-0c8a-42f5-83f1-023c130605c9' class='xr-var-data-in' type='checkbox'><label for='data-2e7de531-0c8a-42f5-83f1-023c130605c9' title='Show/Hide data repr'><svg class='icon xr-icon-database'><use xlink:href='#icon-database'></use></svg></label><div class='xr-var-attrs'><dl class='xr-attrs'><dt><span>valid_min :</span></dt><dd>-32767</dd><dt><span>valid_max :</span></dt><dd>32700</dd><dt><span>long_name :</span></dt><dd>MODIS Gridded 500m 8-day Composite Evapotranspiration (ET)</dd><dt><span>units :</span></dt><dd>kg/m^2/8day</dd><dt><span>scale_factor_err :</span></dt><dd>0.0</dd><dt><span>add_offset_err :</span></dt><dd>0.0</dd><dt><span>calibrated_nt :</span></dt><dd>22</dd><dt><span>coordinates :</span></dt><dd>time ydim xdim</dd><dt><span>grid_mapping :</span></dt><dd>crs</dd></dl></div><div class='xr-var-data'><pre>array([[[nan, nan, ..., nan, nan],\n        [nan, nan, ..., nan, nan],\n        ...,\n        [nan, nan, ..., nan, nan],\n        [nan, nan, ..., nan, nan]],\n\n       [[nan, nan, ..., nan, nan],\n        [nan, nan, ..., nan, nan],\n        ...,\n        [nan, nan, ..., nan, nan],\n        [nan, nan, ..., nan, nan]],\n\n       ...,\n\n       [[nan, nan, ..., nan, nan],\n        [nan, nan, ..., nan, nan],\n        ...,\n        [nan, nan, ..., nan, nan],\n        [nan, nan, ..., nan, nan]],\n\n       [[nan, nan, ..., nan, nan],\n        [nan, nan, ..., nan, nan],\n        ...,\n        [nan, nan, ..., nan, nan],\n        [nan, nan, ..., nan, nan]]], dtype=float32)</pre></div></li><li class='xr-var-item'><div class='xr-var-name'><span>Fpar_500m</span></div><div class='xr-var-dims'>(time, y, x)</div><div class='xr-var-dtype'>float64</div><div class='xr-var-preview xr-preview'>nan nan nan nan ... nan nan nan nan</div><input id='attrs-f3f83588-9545-4ae0-9c85-74860e242091' class='xr-var-attrs-in' type='checkbox' ><label for='attrs-f3f83588-9545-4ae0-9c85-74860e242091' title='Show/Hide attributes'><svg class='icon xr-icon-file-text2'><use xlink:href='#icon-file-text2'></use></svg></label><input id='data-b50164d0-2ee8-4473-a9b7-0066604dbe36' class='xr-var-data-in' type='checkbox'><label for='data-b50164d0-2ee8-4473-a9b7-0066604dbe36' title='Show/Hide data repr'><svg class='icon xr-icon-database'><use xlink:href='#icon-database'></use></svg></label><div class='xr-var-attrs'><dl class='xr-attrs'><dt><span>grid_mapping :</span></dt><dd>crs</dd><dt><span>valid_min :</span></dt><dd>0</dd><dt><span>valid_max :</span></dt><dd>100</dd><dt><span>scale_factor_err :</span></dt><dd>0.0</dd><dt><span>add_offset_err :</span></dt><dd>0.0</dd><dt><span>calibrated_nt :</span></dt><dd>21</dd><dt><span>long_name :</span></dt><dd>MOD15A2H MODIS/Terra Gridded 500M FPAR (8-day composite)</dd><dt><span>units :</span></dt><dd>Percent</dd><dt><span>MOD15A2_FILLVALUE_DOC :</span></dt><dd>MOD15A2 FILL VALUE LEGEND\n255 = _Fillvalue, assigned when:\n    * the MOD09GA suf. reflectance for channel VIS, NIR was assigned its _Fillvalue, or\n    * land cover pixel itself was assigned _Fillvalus 255 or 254.\n254 = land cover assigned as perennial salt or inland fresh water.\n253 = land cover assigned as barren, sparse vegetation (rock, tundra, desert.)\n252 = land cover assigned as perennial snow, ice.\n251 = land cover assigned as &quot;permanent&quot; wetlands/inundated marshlands.\n250 = land cover assigned as urban/built-up.\n249 = land cover assigned as &quot;unclassified&quot; or not able to determine.\n</dd></dl></div><div class='xr-var-data'><pre>array([[[nan, nan, ..., nan, nan],\n        [nan, nan, ..., nan, nan],\n        ...,\n        [nan, nan, ..., nan, nan],\n        [nan, nan, ..., nan, nan]],\n\n       [[nan, nan, ..., nan, nan],\n        [nan, nan, ..., nan, nan],\n        ...,\n        [nan, nan, ..., nan, nan],\n        [nan, nan, ..., nan, nan]],\n\n       ...,\n\n       [[nan, nan, ..., nan, nan],\n        [nan, nan, ..., nan, nan],\n        ...,\n        [nan, nan, ..., nan, nan],\n        [nan, nan, ..., nan, nan]],\n\n       [[nan, nan, ..., nan, nan],\n        [nan, nan, ..., nan, nan],\n        ...,\n        [nan, nan, ..., nan, nan],\n        [nan, nan, ..., nan, nan]]])</pre></div></li><li class='xr-var-item'><div class='xr-var-name'><span>spatial_ref</span></div><div class='xr-var-dims'>()</div><div class='xr-var-dtype'>int32</div><div class='xr-var-preview xr-preview'>0</div><input id='attrs-3ffcabf0-bb67-402e-aa4d-98f21cce929d' class='xr-var-attrs-in' type='checkbox' ><label for='attrs-3ffcabf0-bb67-402e-aa4d-98f21cce929d' title='Show/Hide attributes'><svg class='icon xr-icon-file-text2'><use xlink:href='#icon-file-text2'></use></svg></label><input id='data-4fca0cd1-abea-4685-b3f2-2ae6cc8f3ab0' class='xr-var-data-in' type='checkbox'><label for='data-4fca0cd1-abea-4685-b3f2-2ae6cc8f3ab0' title='Show/Hide data repr'><svg class='icon xr-icon-database'><use xlink:href='#icon-database'></use></svg></label><div class='xr-var-attrs'><dl class='xr-attrs'><dt><span>crs_wkt :</span></dt><dd>PROJCS[&quot;unknown&quot;,GEOGCS[&quot;unknown&quot;,DATUM[&quot;unknown&quot;,SPHEROID[&quot;unknown&quot;,6371007.181,0]],PRIMEM[&quot;Greenwich&quot;,0,AUTHORITY[&quot;EPSG&quot;,&quot;8901&quot;]],UNIT[&quot;degree&quot;,0.0174532925199433,AUTHORITY[&quot;EPSG&quot;,&quot;9122&quot;]]],PROJECTION[&quot;Sinusoidal&quot;],PARAMETER[&quot;longitude_of_center&quot;,0],PARAMETER[&quot;false_easting&quot;,0],PARAMETER[&quot;false_northing&quot;,0],UNIT[&quot;metre&quot;,1,AUTHORITY[&quot;EPSG&quot;,&quot;9001&quot;]],AXIS[&quot;Easting&quot;,EAST],AXIS[&quot;Northing&quot;,NORTH]]</dd><dt><span>semi_major_axis :</span></dt><dd>6371007.181</dd><dt><span>semi_minor_axis :</span></dt><dd>6371007.181</dd><dt><span>inverse_flattening :</span></dt><dd>0.0</dd><dt><span>reference_ellipsoid_name :</span></dt><dd>unknown</dd><dt><span>longitude_of_prime_meridian :</span></dt><dd>0.0</dd><dt><span>prime_meridian_name :</span></dt><dd>Greenwich</dd><dt><span>geographic_crs_name :</span></dt><dd>unknown</dd><dt><span>horizontal_datum_name :</span></dt><dd>unknown</dd><dt><span>projected_crs_name :</span></dt><dd>unknown</dd><dt><span>grid_mapping_name :</span></dt><dd>sinusoidal</dd><dt><span>longitude_of_projection_origin :</span></dt><dd>0.0</dd><dt><span>false_easting :</span></dt><dd>0.0</dd><dt><span>false_northing :</span></dt><dd>0.0</dd><dt><span>spatial_ref :</span></dt><dd>PROJCS[&quot;unknown&quot;,GEOGCS[&quot;unknown&quot;,DATUM[&quot;unknown&quot;,SPHEROID[&quot;unknown&quot;,6371007.181,0]],PRIMEM[&quot;Greenwich&quot;,0,AUTHORITY[&quot;EPSG&quot;,&quot;8901&quot;]],UNIT[&quot;degree&quot;,0.0174532925199433,AUTHORITY[&quot;EPSG&quot;,&quot;9122&quot;]]],PROJECTION[&quot;Sinusoidal&quot;],PARAMETER[&quot;longitude_of_center&quot;,0],PARAMETER[&quot;false_easting&quot;,0],PARAMETER[&quot;false_northing&quot;,0],UNIT[&quot;metre&quot;,1,AUTHORITY[&quot;EPSG&quot;,&quot;9001&quot;]],AXIS[&quot;Easting&quot;,EAST],AXIS[&quot;Northing&quot;,NORTH]]</dd><dt><span>GeoTransform :</span></dt><dd>340998.1593644446 926.6254330555558 0.0 5018603.345428891 0.0 -926.6254330555546</dd></dl></div><div class='xr-var-data'><pre>array(0)</pre></div></li><li class='xr-var-item'><div class='xr-var-name'><span>density</span></div><div class='xr-var-dims'>(y, x)</div><div class='xr-var-dtype'>float32</div><div class='xr-var-preview xr-preview'>nan nan nan nan ... nan nan nan nan</div><input id='attrs-37201985-7dcc-48b3-844b-d949c69ea624' class='xr-var-attrs-in' type='checkbox' ><label for='attrs-37201985-7dcc-48b3-844b-d949c69ea624' title='Show/Hide attributes'><svg class='icon xr-icon-file-text2'><use xlink:href='#icon-file-text2'></use></svg></label><input id='data-b4ef0f84-ff74-4af4-8530-4322e2a1d780' class='xr-var-data-in' type='checkbox'><label for='data-b4ef0f84-ff74-4af4-8530-4322e2a1d780' title='Show/Hide data repr'><svg class='icon xr-icon-database'><use xlink:href='#icon-database'></use></svg></label><div class='xr-var-attrs'><dl class='xr-attrs'><dt><span>AREA_OR_POINT :</span></dt><dd>Area</dd><dt><span>STATISTICS_MAXIMUM :</span></dt><dd>53646.03515625</dd><dt><span>STATISTICS_MEAN :</span></dt><dd>119.46772920052</dd><dt><span>STATISTICS_MINIMUM :</span></dt><dd>0</dd><dt><span>STATISTICS_STDDEV :</span></dt><dd>644.66432858711</dd><dt><span>grid_mapping :</span></dt><dd>spatial_ref</dd></dl></div><div class='xr-var-data'><pre>array([[nan, nan, nan, ..., nan, nan, nan],\n       [nan, nan, nan, ..., nan, nan, nan],\n       [nan, nan, nan, ..., nan, nan, nan],\n       ...,\n       [nan, nan, nan, ..., nan, nan, nan],\n       [nan, nan, nan, ..., nan, nan, nan],\n       [nan, nan, nan, ..., nan, nan, nan]], dtype=float32)</pre></div></li><li class='xr-var-item'><div class='xr-var-name'><span>u10</span></div><div class='xr-var-dims'>(time, y, x)</div><div class='xr-var-dtype'>float64</div><div class='xr-var-preview xr-preview'>nan nan nan nan ... nan nan nan nan</div><input id='attrs-aec56b5d-4f74-49b7-adcf-5e999fdbb7de' class='xr-var-attrs-in' type='checkbox' ><label for='attrs-aec56b5d-4f74-49b7-adcf-5e999fdbb7de' title='Show/Hide attributes'><svg class='icon xr-icon-file-text2'><use xlink:href='#icon-file-text2'></use></svg></label><input id='data-a0c4c7c3-5fff-46ff-a730-0a43996825db' class='xr-var-data-in' type='checkbox'><label for='data-a0c4c7c3-5fff-46ff-a730-0a43996825db' title='Show/Hide data repr'><svg class='icon xr-icon-database'><use xlink:href='#icon-database'></use></svg></label><div class='xr-var-attrs'><dl class='xr-attrs'><dt><span>units :</span></dt><dd>m s**-1</dd><dt><span>long_name :</span></dt><dd>10 metre U wind component</dd><dt><span>grid_mapping :</span></dt><dd>spatial_ref</dd></dl></div><div class='xr-var-data'><pre>array([[[nan, nan, ..., nan, nan],\n        [nan, nan, ..., nan, nan],\n        ...,\n        [nan, nan, ..., nan, nan],\n        [nan, nan, ..., nan, nan]],\n\n       [[nan, nan, ..., nan, nan],\n        [nan, nan, ..., nan, nan],\n        ...,\n        [nan, nan, ..., nan, nan],\n        [nan, nan, ..., nan, nan]],\n\n       ...,\n\n       [[nan, nan, ..., nan, nan],\n        [nan, nan, ..., nan, nan],\n        ...,\n        [nan, nan, ..., nan, nan],\n        [nan, nan, ..., nan, nan]],\n\n       [[nan, nan, ..., nan, nan],\n        [nan, nan, ..., nan, nan],\n        ...,\n        [nan, nan, ..., nan, nan],\n        [nan, nan, ..., nan, nan]]])</pre></div></li><li class='xr-var-item'><div class='xr-var-name'><span>v10</span></div><div class='xr-var-dims'>(time, y, x)</div><div class='xr-var-dtype'>float64</div><div class='xr-var-preview xr-preview'>nan nan nan nan ... nan nan nan nan</div><input id='attrs-cba5a47a-f5b6-4c81-866e-2eb18ee55f3e' class='xr-var-attrs-in' type='checkbox' ><label for='attrs-cba5a47a-f5b6-4c81-866e-2eb18ee55f3e' title='Show/Hide attributes'><svg class='icon xr-icon-file-text2'><use xlink:href='#icon-file-text2'></use></svg></label><input id='data-632c2820-735d-4b1b-83c1-f290fa6e9ff8' class='xr-var-data-in' type='checkbox'><label for='data-632c2820-735d-4b1b-83c1-f290fa6e9ff8' title='Show/Hide data repr'><svg class='icon xr-icon-database'><use xlink:href='#icon-database'></use></svg></label><div class='xr-var-attrs'><dl class='xr-attrs'><dt><span>units :</span></dt><dd>m s**-1</dd><dt><span>long_name :</span></dt><dd>10 metre V wind component</dd><dt><span>grid_mapping :</span></dt><dd>spatial_ref</dd></dl></div><div class='xr-var-data'><pre>array([[[nan, nan, ..., nan, nan],\n        [nan, nan, ..., nan, nan],\n        ...,\n        [nan, nan, ..., nan, nan],\n        [nan, nan, ..., nan, nan]],\n\n       [[nan, nan, ..., nan, nan],\n        [nan, nan, ..., nan, nan],\n        ...,\n        [nan, nan, ..., nan, nan],\n        [nan, nan, ..., nan, nan]],\n\n       ...,\n\n       [[nan, nan, ..., nan, nan],\n        [nan, nan, ..., nan, nan],\n        ...,\n        [nan, nan, ..., nan, nan],\n        [nan, nan, ..., nan, nan]],\n\n       [[nan, nan, ..., nan, nan],\n        [nan, nan, ..., nan, nan],\n        ...,\n        [nan, nan, ..., nan, nan],\n        [nan, nan, ..., nan, nan]]])</pre></div></li><li class='xr-var-item'><div class='xr-var-name'><span>t2m</span></div><div class='xr-var-dims'>(time, y, x)</div><div class='xr-var-dtype'>float64</div><div class='xr-var-preview xr-preview'>nan nan nan nan ... nan nan nan nan</div><input id='attrs-539735df-0a8f-4e20-8cd9-d31146c3259a' class='xr-var-attrs-in' type='checkbox' ><label for='attrs-539735df-0a8f-4e20-8cd9-d31146c3259a' title='Show/Hide attributes'><svg class='icon xr-icon-file-text2'><use xlink:href='#icon-file-text2'></use></svg></label><input id='data-5d988104-d9b8-49cd-9aa4-710c27c46852' class='xr-var-data-in' type='checkbox'><label for='data-5d988104-d9b8-49cd-9aa4-710c27c46852' title='Show/Hide data repr'><svg class='icon xr-icon-database'><use xlink:href='#icon-database'></use></svg></label><div class='xr-var-attrs'><dl class='xr-attrs'><dt><span>units :</span></dt><dd>K</dd><dt><span>long_name :</span></dt><dd>2 metre temperature</dd><dt><span>grid_mapping :</span></dt><dd>spatial_ref</dd></dl></div><div class='xr-var-data'><pre>array([[[nan, nan, ..., nan, nan],\n        [nan, nan, ..., nan, nan],\n        ...,\n        [nan, nan, ..., nan, nan],\n        [nan, nan, ..., nan, nan]],\n\n       [[nan, nan, ..., nan, nan],\n        [nan, nan, ..., nan, nan],\n        ...,\n        [nan, nan, ..., nan, nan],\n        [nan, nan, ..., nan, nan]],\n\n       ...,\n\n       [[nan, nan, ..., nan, nan],\n        [nan, nan, ..., nan, nan],\n        ...,\n        [nan, nan, ..., nan, nan],\n        [nan, nan, ..., nan, nan]],\n\n       [[nan, nan, ..., nan, nan],\n        [nan, nan, ..., nan, nan],\n        ...,\n        [nan, nan, ..., nan, nan],\n        [nan, nan, ..., nan, nan]]])</pre></div></li><li class='xr-var-item'><div class='xr-var-name'><span>tp</span></div><div class='xr-var-dims'>(time, y, x)</div><div class='xr-var-dtype'>float64</div><div class='xr-var-preview xr-preview'>nan nan nan nan ... nan nan nan nan</div><input id='attrs-6a589e5e-cfec-4bd0-a0c3-431269b37a93' class='xr-var-attrs-in' type='checkbox' ><label for='attrs-6a589e5e-cfec-4bd0-a0c3-431269b37a93' title='Show/Hide attributes'><svg class='icon xr-icon-file-text2'><use xlink:href='#icon-file-text2'></use></svg></label><input id='data-a187483c-d503-4591-99da-cbaa79413dac' class='xr-var-data-in' type='checkbox'><label for='data-a187483c-d503-4591-99da-cbaa79413dac' title='Show/Hide data repr'><svg class='icon xr-icon-database'><use xlink:href='#icon-database'></use></svg></label><div class='xr-var-attrs'><dl class='xr-attrs'><dt><span>units :</span></dt><dd>m</dd><dt><span>long_name :</span></dt><dd>Total precipitation</dd><dt><span>grid_mapping :</span></dt><dd>spatial_ref</dd></dl></div><div class='xr-var-data'><pre>array([[[nan, nan, ..., nan, nan],\n        [nan, nan, ..., nan, nan],\n        ...,\n        [nan, nan, ..., nan, nan],\n        [nan, nan, ..., nan, nan]],\n\n       [[nan, nan, ..., nan, nan],\n        [nan, nan, ..., nan, nan],\n        ...,\n        [nan, nan, ..., nan, nan],\n        [nan, nan, ..., nan, nan]],\n\n       ...,\n\n       [[nan, nan, ..., nan, nan],\n        [nan, nan, ..., nan, nan],\n        ...,\n        [nan, nan, ..., nan, nan],\n        [nan, nan, ..., nan, nan]],\n\n       [[nan, nan, ..., nan, nan],\n        [nan, nan, ..., nan, nan],\n        ...,\n        [nan, nan, ..., nan, nan],\n        [nan, nan, ..., nan, nan]]])</pre></div></li><li class='xr-var-item'><div class='xr-var-name'><span>First_Day</span></div><div class='xr-var-dims'>(time, y, x)</div><div class='xr-var-dtype'>float64</div><div class='xr-var-preview xr-preview'>nan nan nan nan ... nan nan nan nan</div><input id='attrs-bbfa679f-5275-46ca-9627-ddc88884abca' class='xr-var-attrs-in' type='checkbox' ><label for='attrs-bbfa679f-5275-46ca-9627-ddc88884abca' title='Show/Hide attributes'><svg class='icon xr-icon-file-text2'><use xlink:href='#icon-file-text2'></use></svg></label><input id='data-02208f16-2406-4d86-bd2a-b6c7c528a98d' class='xr-var-data-in' type='checkbox'><label for='data-02208f16-2406-4d86-bd2a-b6c7c528a98d' title='Show/Hide data repr'><svg class='icon xr-icon-database'><use xlink:href='#icon-database'></use></svg></label><div class='xr-var-attrs'><dl class='xr-attrs'><dt><span>grid_mapping :</span></dt><dd>crs</dd><dt><span>valid_min :</span></dt><dd>1</dd><dt><span>valid_max :</span></dt><dd>366</dd><dt><span>long_name :</span></dt><dd>first day of reliable change detection</dd><dt><span>water :</span></dt><dd>-2</dd></dl></div><div class='xr-var-data'><pre>array([[[nan, nan, ..., nan, nan],\n        [nan, nan, ..., nan, nan],\n        ...,\n        [nan, nan, ..., nan, nan],\n        [nan, nan, ..., nan, nan]],\n\n       [[nan, nan, ..., nan, nan],\n        [nan, nan, ..., nan, nan],\n        ...,\n        [nan, nan, ..., nan, nan],\n        [nan, nan, ..., nan, nan]],\n\n       ...,\n\n       [[nan, nan, ..., nan, nan],\n        [nan, nan, ..., nan, nan],\n        ...,\n        [nan, nan, ..., nan, nan],\n        [nan, nan, ..., nan, nan]],\n\n       [[nan, nan, ..., nan, nan],\n        [nan, nan, ..., nan, nan],\n        ...,\n        [nan, nan, ..., nan, nan],\n        [nan, nan, ..., nan, nan]]])</pre></div></li><li class='xr-var-item'><div class='xr-var-name'><span>Last_Day</span></div><div class='xr-var-dims'>(time, y, x)</div><div class='xr-var-dtype'>float64</div><div class='xr-var-preview xr-preview'>nan nan nan nan ... nan nan nan nan</div><input id='attrs-57f1085f-a2f0-4ad3-9fa5-d0427546e215' class='xr-var-attrs-in' type='checkbox' ><label for='attrs-57f1085f-a2f0-4ad3-9fa5-d0427546e215' title='Show/Hide attributes'><svg class='icon xr-icon-file-text2'><use xlink:href='#icon-file-text2'></use></svg></label><input id='data-71e7cf6f-b7cf-4bca-8897-e9c806420cfe' class='xr-var-data-in' type='checkbox'><label for='data-71e7cf6f-b7cf-4bca-8897-e9c806420cfe' title='Show/Hide data repr'><svg class='icon xr-icon-database'><use xlink:href='#icon-database'></use></svg></label><div class='xr-var-attrs'><dl class='xr-attrs'><dt><span>grid_mapping :</span></dt><dd>crs</dd><dt><span>valid_min :</span></dt><dd>1</dd><dt><span>valid_max :</span></dt><dd>366</dd><dt><span>long_name :</span></dt><dd>last day of reliable change detection</dd><dt><span>water :</span></dt><dd>-2</dd></dl></div><div class='xr-var-data'><pre>array([[[nan, nan, ..., nan, nan],\n        [nan, nan, ..., nan, nan],\n        ...,\n        [nan, nan, ..., nan, nan],\n        [nan, nan, ..., nan, nan]],\n\n       [[nan, nan, ..., nan, nan],\n        [nan, nan, ..., nan, nan],\n        ...,\n        [nan, nan, ..., nan, nan],\n        [nan, nan, ..., nan, nan]],\n\n       ...,\n\n       [[nan, nan, ..., nan, nan],\n        [nan, nan, ..., nan, nan],\n        ...,\n        [nan, nan, ..., nan, nan],\n        [nan, nan, ..., nan, nan]],\n\n       [[nan, nan, ..., nan, nan],\n        [nan, nan, ..., nan, nan],\n        ...,\n        [nan, nan, ..., nan, nan],\n        [nan, nan, ..., nan, nan]]])</pre></div></li><li class='xr-var-item'><div class='xr-var-name'><span>Burn_Date</span></div><div class='xr-var-dims'>(time, y, x)</div><div class='xr-var-dtype'>float64</div><div class='xr-var-preview xr-preview'>nan nan nan nan ... nan nan nan nan</div><input id='attrs-54d13723-b438-40c8-82f3-099346768a3a' class='xr-var-attrs-in' type='checkbox' ><label for='attrs-54d13723-b438-40c8-82f3-099346768a3a' title='Show/Hide attributes'><svg class='icon xr-icon-file-text2'><use xlink:href='#icon-file-text2'></use></svg></label><input id='data-5c151701-418b-42e0-a889-359d743f46fc' class='xr-var-data-in' type='checkbox'><label for='data-5c151701-418b-42e0-a889-359d743f46fc' title='Show/Hide data repr'><svg class='icon xr-icon-database'><use xlink:href='#icon-database'></use></svg></label><div class='xr-var-attrs'><dl class='xr-attrs'><dt><span>grid_mapping :</span></dt><dd>crs</dd><dt><span>valid_min :</span></dt><dd>0</dd><dt><span>valid_max :</span></dt><dd>366</dd><dt><span>long_name :</span></dt><dd>ordinal day of burn</dd><dt><span>water :</span></dt><dd>-2</dd></dl></div><div class='xr-var-data'><pre>array([[[nan, nan, ..., nan, nan],\n        [nan, nan, ..., nan, nan],\n        ...,\n        [nan, nan, ..., nan, nan],\n        [nan, nan, ..., nan, nan]],\n\n       [[nan, nan, ..., nan, nan],\n        [nan, nan, ..., nan, nan],\n        ...,\n        [nan, nan, ..., nan, nan],\n        [nan, nan, ..., nan, nan]],\n\n       ...,\n\n       [[nan, nan, ..., nan, nan],\n        [nan, nan, ..., nan, nan],\n        ...,\n        [nan, nan, ..., nan, nan],\n        [nan, nan, ..., nan, nan]],\n\n       [[nan, nan, ..., nan, nan],\n        [nan, nan, ..., nan, nan],\n        ...,\n        [nan, nan, ..., nan, nan],\n        [nan, nan, ..., nan, nan]]])</pre></div></li><li class='xr-var-item'><div class='xr-var-name'><span>FireMask</span></div><div class='xr-var-dims'>(time, y, x)</div><div class='xr-var-dtype'>float32</div><div class='xr-var-preview xr-preview'>nan nan nan nan ... nan nan nan nan</div><input id='attrs-437d99c2-122a-4819-9cb1-d8f4fe1354ce' class='xr-var-attrs-in' type='checkbox' ><label for='attrs-437d99c2-122a-4819-9cb1-d8f4fe1354ce' title='Show/Hide attributes'><svg class='icon xr-icon-file-text2'><use xlink:href='#icon-file-text2'></use></svg></label><input id='data-fc2f8e39-7536-499b-8dda-365945c688bf' class='xr-var-data-in' type='checkbox'><label for='data-fc2f8e39-7536-499b-8dda-365945c688bf' title='Show/Hide data repr'><svg class='icon xr-icon-database'><use xlink:href='#icon-database'></use></svg></label><div class='xr-var-attrs'><dl class='xr-attrs'><dt><span>valid_min :</span></dt><dd>0</dd><dt><span>valid_max :</span></dt><dd>9</dd><dt><span>long_name :</span></dt><dd>FireMask</dd><dt><span>legend :</span></dt><dd>Classes:\n0 missing input data\n1 not processed (obsolete)\n2 not processed (obsolete)\n3 non-fire water\n4 cloud\n5 non-fire land\n6 unknown\n7 fire (low confidence)\n8 fire (nominal confidence)\n9 fire (high confidence)</dd><dt><span>coordinates :</span></dt><dd>time ydim xdim</dd><dt><span>grid_mapping :</span></dt><dd>crs</dd></dl></div><div class='xr-var-data'><pre>array([[[nan, nan, ..., nan, nan],\n        [nan, nan, ..., nan, nan],\n        ...,\n        [nan, nan, ..., nan, nan],\n        [nan, nan, ..., nan, nan]],\n\n       [[nan, nan, ..., nan, nan],\n        [nan, nan, ..., nan, nan],\n        ...,\n        [nan, nan, ..., nan, nan],\n        [nan, nan, ..., nan, nan]],\n\n       ...,\n\n       [[nan, nan, ..., nan, nan],\n        [nan, nan, ..., nan, nan],\n        ...,\n        [nan, nan, ..., nan, nan],\n        [nan, nan, ..., nan, nan]],\n\n       [[nan, nan, ..., nan, nan],\n        [nan, nan, ..., nan, nan],\n        ...,\n        [nan, nan, ..., nan, nan],\n        [nan, nan, ..., nan, nan]]], dtype=float32)</pre></div></li><li class='xr-var-item'><div class='xr-var-name'><span>_1_km_16_days_EVI</span></div><div class='xr-var-dims'>(time, y, x)</div><div class='xr-var-dtype'>float64</div><div class='xr-var-preview xr-preview'>nan nan nan nan ... nan nan nan nan</div><input id='attrs-61bbfbc2-f13b-4855-915a-6e471b5773df' class='xr-var-attrs-in' type='checkbox' ><label for='attrs-61bbfbc2-f13b-4855-915a-6e471b5773df' title='Show/Hide attributes'><svg class='icon xr-icon-file-text2'><use xlink:href='#icon-file-text2'></use></svg></label><input id='data-af5f7f9d-53c0-4c8e-be33-859e8c6158ae' class='xr-var-data-in' type='checkbox'><label for='data-af5f7f9d-53c0-4c8e-be33-859e8c6158ae' title='Show/Hide data repr'><svg class='icon xr-icon-database'><use xlink:href='#icon-database'></use></svg></label><div class='xr-var-attrs'><dl class='xr-attrs'><dt><span>grid_mapping :</span></dt><dd>crs</dd><dt><span>valid_min :</span></dt><dd>-2000</dd><dt><span>valid_max :</span></dt><dd>10000</dd><dt><span>long_name :</span></dt><dd>1 km 16 days EVI</dd><dt><span>units :</span></dt><dd>EVI</dd><dt><span>scale_factor_err :</span></dt><dd>0.0</dd><dt><span>add_offset_err :</span></dt><dd>0.0</dd><dt><span>calibrated_nt :</span></dt><dd>5</dd></dl></div><div class='xr-var-data'><pre>array([[[nan, nan, ..., nan, nan],\n        [nan, nan, ..., nan, nan],\n        ...,\n        [nan, nan, ..., nan, nan],\n        [nan, nan, ..., nan, nan]],\n\n       [[nan, nan, ..., nan, nan],\n        [nan, nan, ..., nan, nan],\n        ...,\n        [nan, nan, ..., nan, nan],\n        [nan, nan, ..., nan, nan]],\n\n       ...,\n\n       [[nan, nan, ..., nan, nan],\n        [nan, nan, ..., nan, nan],\n        ...,\n        [nan, nan, ..., nan, nan],\n        [nan, nan, ..., nan, nan]],\n\n       [[nan, nan, ..., nan, nan],\n        [nan, nan, ..., nan, nan],\n        ...,\n        [nan, nan, ..., nan, nan],\n        [nan, nan, ..., nan, nan]]])</pre></div></li></ul></div></li><li class='xr-section-item'><input id='section-be010390-160e-46c7-bcc7-32ad474274ad' class='xr-section-summary-in' type='checkbox'  checked><label for='section-be010390-160e-46c7-bcc7-32ad474274ad' class='xr-section-summary' >Attributes: <span>(2)</span></label><div class='xr-section-inline-details'></div><div class='xr-section-details'><dl class='xr-attrs'><dt><span>Conventions :</span></dt><dd>CF-1.6</dd><dt><span>history :</span></dt><dd>2022-09-15 13:57:35 GMT by grib_to_netcdf-2.25.1: /opt/ecmwf/mars-client/bin/grib_to_netcdf.bin -S param -o /cache/data2/adaptor.mars.internal-1663249407.7272627-22718-12-e830357e-7728-41cf-9b2b-b7f34cabf652.nc /cache/tmp/e830357e-7728-41cf-9b2b-b7f34cabf652-adaptor.mars.internal-1663236313.8703027-22718-23-tmp.grib</dd></dl></div></li></ul></div></div>"
     },
     "execution_count": 11,
     "metadata": {},
     "output_type": "execute_result"
    }
   ],
   "source": [
    "datacube1"
   ],
   "metadata": {
    "collapsed": false,
    "pycharm": {
     "name": "#%%\n"
    }
   }
  },
  {
   "cell_type": "code",
   "execution_count": 12,
   "outputs": [
    {
     "name": "stdout",
     "output_type": "stream",
     "text": [
      "Percentage of missing values in EVI :  50.8763144013069\n",
      "Percentage of missing values in LAI :  50.647266360718355\n",
      "Percentage of missing values in Evap :  50.06233917818395\n",
      "Percentage of missing values in u10 :  61.1471607432143\n",
      "Percentage of missing values in v10 :  61.1471607432143\n",
      "Percentage of missing values in t2m :  61.1471607432143\n",
      "Percentage of missing values in tp :  61.1471607432143\n"
     ]
    },
    {
     "ename": "KeyError",
     "evalue": "''",
     "output_type": "error",
     "traceback": [
      "\u001B[1;31m---------------------------------------------------------------------------\u001B[0m",
      "\u001B[1;31mKeyError\u001B[0m                                  Traceback (most recent call last)",
      "File \u001B[1;32m~\\anaconda3\\envs\\forecast\\lib\\site-packages\\xarray\\core\\dataset.py:1319\u001B[0m, in \u001B[0;36mDataset._construct_dataarray\u001B[1;34m(self, name)\u001B[0m\n\u001B[0;32m   1318\u001B[0m \u001B[38;5;28;01mtry\u001B[39;00m:\n\u001B[1;32m-> 1319\u001B[0m     variable \u001B[38;5;241m=\u001B[39m \u001B[38;5;28;43mself\u001B[39;49m\u001B[38;5;241;43m.\u001B[39;49m\u001B[43m_variables\u001B[49m\u001B[43m[\u001B[49m\u001B[43mname\u001B[49m\u001B[43m]\u001B[49m\n\u001B[0;32m   1320\u001B[0m \u001B[38;5;28;01mexcept\u001B[39;00m \u001B[38;5;167;01mKeyError\u001B[39;00m:\n",
      "\u001B[1;31mKeyError\u001B[0m: ''",
      "\nDuring handling of the above exception, another exception occurred:\n",
      "\u001B[1;31mKeyError\u001B[0m                                  Traceback (most recent call last)",
      "Cell \u001B[1;32mIn [12], line 9\u001B[0m\n\u001B[0;32m      7\u001B[0m \u001B[38;5;28mprint\u001B[39m(\u001B[38;5;124m\"\u001B[39m\u001B[38;5;124mPercentage of missing values in t2m : \u001B[39m\u001B[38;5;124m\"\u001B[39m, datacube1[\u001B[38;5;124m\"\u001B[39m\u001B[38;5;124mt2m\u001B[39m\u001B[38;5;124m\"\u001B[39m]\u001B[38;5;241m.\u001B[39misnull()\u001B[38;5;241m.\u001B[39msum()\u001B[38;5;241m.\u001B[39mvalues \u001B[38;5;241m/\u001B[39mdatacube1[\u001B[38;5;124m\"\u001B[39m\u001B[38;5;124mt2m\u001B[39m\u001B[38;5;124m\"\u001B[39m]\u001B[38;5;241m.\u001B[39msize\u001B[38;5;241m*\u001B[39m\u001B[38;5;241m100\u001B[39m)\n\u001B[0;32m      8\u001B[0m \u001B[38;5;28mprint\u001B[39m(\u001B[38;5;124m\"\u001B[39m\u001B[38;5;124mPercentage of missing values in tp : \u001B[39m\u001B[38;5;124m\"\u001B[39m, datacube1[\u001B[38;5;124m\"\u001B[39m\u001B[38;5;124mtp\u001B[39m\u001B[38;5;124m\"\u001B[39m]\u001B[38;5;241m.\u001B[39misnull()\u001B[38;5;241m.\u001B[39msum()\u001B[38;5;241m.\u001B[39mvalues \u001B[38;5;241m/\u001B[39mdatacube1[\u001B[38;5;124m\"\u001B[39m\u001B[38;5;124mtp\u001B[39m\u001B[38;5;124m\"\u001B[39m]\u001B[38;5;241m.\u001B[39msize\u001B[38;5;241m*\u001B[39m\u001B[38;5;241m100\u001B[39m)\n\u001B[1;32m----> 9\u001B[0m \u001B[38;5;28mprint\u001B[39m(\u001B[38;5;124m\"\u001B[39m\u001B[38;5;124mPercentage of missing values in LST_Night : \u001B[39m\u001B[38;5;124m\"\u001B[39m, datacube1[\u001B[38;5;124m\"\u001B[39m\u001B[38;5;124m\"\u001B[39m]\u001B[38;5;241m.\u001B[39misnull()\u001B[38;5;241m.\u001B[39msum()\u001B[38;5;241m.\u001B[39mvalues \u001B[38;5;241m/\u001B[39mdatacube1[\u001B[38;5;124m\"\u001B[39m\u001B[38;5;124mLST_Night_1km\u001B[39m\u001B[38;5;124m\"\u001B[39m]\u001B[38;5;241m.\u001B[39msize\u001B[38;5;241m*\u001B[39m\u001B[38;5;241m100\u001B[39m)\n\u001B[0;32m     10\u001B[0m \u001B[38;5;66;03m#print(\"Percentage of missing values in LST_Day : \", datacube1[\"LST_Day_1km\"].isnull().sum().values /datacube1[\"LST_Day_1km\"].size*100)\u001B[39;00m\n\u001B[0;32m     11\u001B[0m \u001B[38;5;66;03m#print(\"Percentage of missing values in First_Day : \", datacube1[\"First_Day\"].isnull().sum().values /datacube1[\"First_Day\"].size*100)\u001B[39;00m\n\u001B[0;32m     12\u001B[0m \u001B[38;5;28mprint\u001B[39m(\u001B[38;5;124m\"\u001B[39m\u001B[38;5;124mPercentage of missing values in Last_Day : \u001B[39m\u001B[38;5;124m\"\u001B[39m, datacube1[\u001B[38;5;124m\"\u001B[39m\u001B[38;5;124mLast_Day\u001B[39m\u001B[38;5;124m\"\u001B[39m]\u001B[38;5;241m.\u001B[39misnull()\u001B[38;5;241m.\u001B[39msum()\u001B[38;5;241m.\u001B[39mvalues \u001B[38;5;241m/\u001B[39mdatacube1[\u001B[38;5;124m\"\u001B[39m\u001B[38;5;124mLast_Day\u001B[39m\u001B[38;5;124m\"\u001B[39m]\u001B[38;5;241m.\u001B[39msize\u001B[38;5;241m*\u001B[39m\u001B[38;5;241m100\u001B[39m)\n",
      "File \u001B[1;32m~\\anaconda3\\envs\\forecast\\lib\\site-packages\\xarray\\core\\dataset.py:1418\u001B[0m, in \u001B[0;36mDataset.__getitem__\u001B[1;34m(self, key)\u001B[0m\n\u001B[0;32m   1416\u001B[0m     \u001B[38;5;28;01mreturn\u001B[39;00m \u001B[38;5;28mself\u001B[39m\u001B[38;5;241m.\u001B[39misel(\u001B[38;5;241m*\u001B[39m\u001B[38;5;241m*\u001B[39mkey)\n\u001B[0;32m   1417\u001B[0m \u001B[38;5;28;01mif\u001B[39;00m utils\u001B[38;5;241m.\u001B[39mhashable(key):\n\u001B[1;32m-> 1418\u001B[0m     \u001B[38;5;28;01mreturn\u001B[39;00m \u001B[38;5;28;43mself\u001B[39;49m\u001B[38;5;241;43m.\u001B[39;49m\u001B[43m_construct_dataarray\u001B[49m\u001B[43m(\u001B[49m\u001B[43mkey\u001B[49m\u001B[43m)\u001B[49m\n\u001B[0;32m   1419\u001B[0m \u001B[38;5;28;01mif\u001B[39;00m utils\u001B[38;5;241m.\u001B[39miterable_of_hashable(key):\n\u001B[0;32m   1420\u001B[0m     \u001B[38;5;28;01mreturn\u001B[39;00m \u001B[38;5;28mself\u001B[39m\u001B[38;5;241m.\u001B[39m_copy_listed(key)\n",
      "File \u001B[1;32m~\\anaconda3\\envs\\forecast\\lib\\site-packages\\xarray\\core\\dataset.py:1321\u001B[0m, in \u001B[0;36mDataset._construct_dataarray\u001B[1;34m(self, name)\u001B[0m\n\u001B[0;32m   1319\u001B[0m     variable \u001B[38;5;241m=\u001B[39m \u001B[38;5;28mself\u001B[39m\u001B[38;5;241m.\u001B[39m_variables[name]\n\u001B[0;32m   1320\u001B[0m \u001B[38;5;28;01mexcept\u001B[39;00m \u001B[38;5;167;01mKeyError\u001B[39;00m:\n\u001B[1;32m-> 1321\u001B[0m     _, name, variable \u001B[38;5;241m=\u001B[39m \u001B[43m_get_virtual_variable\u001B[49m\u001B[43m(\u001B[49m\u001B[38;5;28;43mself\u001B[39;49m\u001B[38;5;241;43m.\u001B[39;49m\u001B[43m_variables\u001B[49m\u001B[43m,\u001B[49m\u001B[43m \u001B[49m\u001B[43mname\u001B[49m\u001B[43m,\u001B[49m\u001B[43m \u001B[49m\u001B[38;5;28;43mself\u001B[39;49m\u001B[38;5;241;43m.\u001B[39;49m\u001B[43mdims\u001B[49m\u001B[43m)\u001B[49m\n\u001B[0;32m   1323\u001B[0m needed_dims \u001B[38;5;241m=\u001B[39m \u001B[38;5;28mset\u001B[39m(variable\u001B[38;5;241m.\u001B[39mdims)\n\u001B[0;32m   1325\u001B[0m coords: \u001B[38;5;28mdict\u001B[39m[Hashable, Variable] \u001B[38;5;241m=\u001B[39m {}\n",
      "File \u001B[1;32m~\\anaconda3\\envs\\forecast\\lib\\site-packages\\xarray\\core\\dataset.py:176\u001B[0m, in \u001B[0;36m_get_virtual_variable\u001B[1;34m(variables, key, dim_sizes)\u001B[0m\n\u001B[0;32m    174\u001B[0m split_key \u001B[38;5;241m=\u001B[39m key\u001B[38;5;241m.\u001B[39msplit(\u001B[38;5;124m\"\u001B[39m\u001B[38;5;124m.\u001B[39m\u001B[38;5;124m\"\u001B[39m, \u001B[38;5;241m1\u001B[39m)\n\u001B[0;32m    175\u001B[0m \u001B[38;5;28;01mif\u001B[39;00m \u001B[38;5;28mlen\u001B[39m(split_key) \u001B[38;5;241m!=\u001B[39m \u001B[38;5;241m2\u001B[39m:\n\u001B[1;32m--> 176\u001B[0m     \u001B[38;5;28;01mraise\u001B[39;00m \u001B[38;5;167;01mKeyError\u001B[39;00m(key)\n\u001B[0;32m    178\u001B[0m ref_name, var_name \u001B[38;5;241m=\u001B[39m split_key\n\u001B[0;32m    179\u001B[0m ref_var \u001B[38;5;241m=\u001B[39m variables[ref_name]\n",
      "\u001B[1;31mKeyError\u001B[0m: ''"
     ]
    }
   ],
   "source": [
    "# Measure percentage of missing values of all variables in datacube1\n",
    "print(\"Percentage of missing values in EVI : \", datacube1[\"_1_km_16_days_EVI\"].isnull().sum().values /datacube1[\"_1_km_16_days_EVI\"].size*100)\n",
    "print(\"Percentage of missing values in LAI : \", datacube1[\"Fpar_500m\"].isnull().sum().values /datacube1[\"Fpar_500m\"].size*100)\n",
    "print(\"Percentage of missing values in Evap : \", datacube1[\"ET_500m\"].isnull().sum().values /datacube1[\"ET_500m\"].size*100)\n",
    "print(\"Percentage of missing values in u10 : \", datacube1[\"u10\"].isnull().sum().values /datacube1[\"u10\"].size*100)\n",
    "print(\"Percentage of missing values in v10 : \", datacube1[\"v10\"].isnull().sum().values /datacube1[\"v10\"].size*100)\n",
    "print(\"Percentage of missing values in t2m : \", datacube1[\"t2m\"].isnull().sum().values /datacube1[\"t2m\"].size*100)\n",
    "print(\"Percentage of missing values in tp : \", datacube1[\"tp\"].isnull().sum().values /datacube1[\"tp\"].size*100)\n",
    "print(\"Percentage of missing values in LST_Night : \", datacube1[\"\"].isnull().sum().values /datacube1[\"LST_Night_1km\"].size*100)\n",
    "#print(\"Percentage of missing values in LST_Day : \", datacube1[\"LST_Day_1km\"].isnull().sum().values /datacube1[\"LST_Day_1km\"].size*100)\n",
    "#print(\"Percentage of missing values in First_Day : \", datacube1[\"First_Day\"].isnull().sum().values /datacube1[\"First_Day\"].size*100)\n",
    "print(\"Percentage of missing values in Last_Day : \", datacube1[\"Last_Day\"].isnull().sum().values /datacube1[\"Last_Day\"].size*100)\n",
    "print(\"Percentage of missing values in Burn_Date : \", datacube1[\"Burn_Date\"].isnull().sum().values /datacube1[\"Burn_Date\"].size*100)\n",
    "print(\"Percentage of missing values in FireMask : \", datacube1[\"FireMask\"].isnull().sum().values /datacube1[\"FireMask\"].size*100)\n",
    "\n",
    "\n",
    "\n"
   ],
   "metadata": {
    "collapsed": false,
    "pycharm": {
     "name": "#%%\n"
    }
   }
  },
  {
   "cell_type": "code",
   "execution_count": 7,
   "outputs": [
    {
     "name": "stdout",
     "output_type": "stream",
     "text": [
      "Percentage of missing values in NDVI dataset :  50.737450160571704\n",
      "Percentage of missing values in LAI dataset :  50.45910641484317\n",
      "Percentage of missing values in Evaporation dataset :  50.424827356685256\n",
      "Percentage of missing values in ERA5 dataset :  19.973544973544975\n",
      "Percentage of missing values in LST Night dataset :  73.6891316325865\n",
      "Percentage of missing values in LST Day dataset :  71.74670294292552\n",
      "Percentage of missing values in Active Fire dataset :  52.32569436292081\n",
      "Percentage of missing values in Burn Mask dataset :  50.06101281269066\n"
     ]
    }
   ],
   "source": [
    "# Measure percentage of missing values in all datasets\n",
    "print(\"Percentage of missing values in NDVI dataset : \", ndvi_filter.isnull().sum().values / ndvi_filter.size * 100)\n",
    "print(\"Percentage of missing values in LAI dataset : \", lai_filter.isnull().sum().values / lai_filter.size * 100)\n",
    "print(\"Percentage of missing values in Evaporation dataset : \", evap_filter.isnull().sum().values / evap_filter.size * 100)\n",
    "print(\"Percentage of missing values in ERA5 dataset : \", era_filter['t2m'].isnull().sum().values / era_filter['t2m'].size * 100)\n",
    "print(\"Percentage of missing values in LST Night dataset : \", lst_night_filter.isnull().sum().values / lst_night_filter.size * 100)\n",
    "print(\"Percentage of missing values in LST Day dataset : \", lst_day_filter.isnull().sum().values / lst_day_filter.size * 100)\n",
    "print(\"Percentage of missing values in Active Fire dataset : \", active_fire_filter['Burn_Date'].isnull().sum().values / active_fire_filter['Burn_Date'].size * 100)\n",
    "print(\"Percentage of missing values in Burn Mask dataset : \", burn_mask_filter.isnull().sum().values / burn_mask_filter.size * 100)\n",
    "# print(\"Percentage of missing values in FWI dataset : \", fwi_filter.isnull().sum().values / fwi_filter.size * 100)\n"
   ],
   "metadata": {
    "collapsed": false,
    "pycharm": {
     "name": "#%%\n"
    }
   }
  },
  {
   "cell_type": "markdown",
   "source": [
    "We notice that the number of missing value from the MODIS are quiet similar in the original dataset and in the final datacube. However, th number of missing value from ERA 5 is much higher in the final datacube. It went from 19% to 61%. The ERA dataset has been much more process than the MODIS ones. So we will create ERA objects for each transformation and look at the missing values when it increased the most."
   ],
   "metadata": {
    "collapsed": false,
    "pycharm": {
     "name": "#%% md\n"
    }
   }
  },
  {
   "cell_type": "code",
   "execution_count": 13,
   "outputs": [],
   "source": [
    "# Get the subset of the era_filter for the variable 't2m' and the year 2018\n",
    "era_filter_subset = era_filter['t2m'].sel(time='2018')"
   ],
   "metadata": {
    "collapsed": false,
    "pycharm": {
     "name": "#%%\n"
    }
   }
  },
  {
   "cell_type": "code",
   "execution_count": 15,
   "outputs": [],
   "source": [
    "# Write CRS\n",
    "era_filter_subset_crs = hz.define_crs(era_filter_subset, 4326)\n",
    "# Define the AOI\n",
    "aoi = hz.define_area_of_interest(path_data + 'AreaOfInterest.zip')\n",
    "# Clip the data sets to the AOI\n",
    "era_filter_subset_crs_clip = hz.clip_to_aoi(era_filter_subset, aoi)"
   ],
   "metadata": {
    "collapsed": false,
    "pycharm": {
     "name": "#%%\n"
    }
   }
  },
  {
   "cell_type": "code",
   "execution_count": 16,
   "outputs": [],
   "source": [
    "era_filter_subset_crs_clip_daily = hz.resample_to_daily(era_filter_subset_crs_clip)"
   ],
   "metadata": {
    "collapsed": false,
    "pycharm": {
     "name": "#%%\n"
    }
   }
  },
  {
   "cell_type": "code",
   "execution_count": 17,
   "outputs": [],
   "source": [
    " #   Definition of the common grid\n",
    "common_grid = rxr.open_rasterio(path_data + 'Raw_LST_Day_1D_1km.nc').isel(time=0)\n",
    "# Create a CRS object from a poj4 string for sinuoidal projection\n",
    "crs_sinu = rasterio.crs.CRS.from_string(\"+proj=sinu +lon_0=0 +x_0=0 +y_0=0 +a=6371007.181 +b=6371007.181 +units=m +no_defs\")\n",
    "# Projection of the era into sinuoidal projection\n",
    "era_sinu = era_filter_subset_crs_clip_daily.rio.reproject(crs_sinu)\n",
    "# Regrid the era data to the common grid\n",
    "era_filter_final = hz.interpolate_to_common_grid(era_sinu, common_grid)\n",
    "# Directly regrid the era data to the common grid\n",
    "era_filter_final_direct = hz.interpolate_to_common_grid(era_filter_subset_crs_clip_daily, common_grid)"
   ],
   "metadata": {
    "collapsed": false,
    "pycharm": {
     "name": "#%%\n"
    }
   }
  },
  {
   "cell_type": "code",
   "execution_count": 21,
   "outputs": [
    {
     "name": "stdout",
     "output_type": "stream",
     "text": [
      "Original t2m\n",
      "The percentage of missing value is:  19.973544973544975\n",
      "-------------------\n",
      "Original t2m subset\n",
      "The percentage of missing value is:  19.973544973544975\n",
      "-------------------\n",
      "Original t2m subset crs\n",
      "The percentage of missing value is:  19.973544973544975\n",
      "-------------------\n",
      "Original t2m subset crs clip\n",
      "The percentage of missing value is:  47.878787878787875\n",
      "-------------------\n",
      "Original t2m subset crs clip daily\n",
      "The percentage of missing value is:  48.02158572021586\n",
      "-------------------\n",
      "Original t2m subset crs clip daily sinu\n",
      "The percentage of missing value is:  46.106925418569254\n",
      "-------------------\n",
      "Original t2m subset crs clip daily sinu common grid\n",
      "The percentage of missing value is:  51.03890756904096\n",
      "-------------------\n",
      "Original t2m subset crs clip daily common grid\n",
      "The percentage of missing value is:  50.90809522650144\n",
      "-------------------\n",
      "Percentage of missing values in the final datacube (after merge):  61.137491047032924\n"
     ]
    }
   ],
   "source": [
    "# Measure the percentage of missing value for the variable t2m in the all version of era_filter\n",
    "print('Original t2m')\n",
    "print('The percentage of missing value is: ', era_filter['t2m'].isnull().sum().values / era_filter['t2m'].size * 100)\n",
    "print('-------------------')\n",
    "print('Original t2m subset')\n",
    "print('The percentage of missing value is: ', era_filter_subset.isnull().sum().values / era_filter_subset.size * 100)\n",
    "print('-------------------')\n",
    "print('Original t2m subset crs')\n",
    "print('The percentage of missing value is: ', era_filter_subset_crs.isnull().sum().values / era_filter_subset_crs.size * 100)\n",
    "print('-------------------')\n",
    "print('Original t2m subset crs clip')\n",
    "print('The percentage of missing value is: ', era_filter_subset_crs_clip.isnull().sum().values / era_filter_subset_crs_clip.size * 100)\n",
    "print('-------------------')\n",
    "print('Original t2m subset crs clip daily')\n",
    "print('The percentage of missing value is: ', era_filter_subset_crs_clip_daily.isnull().sum().values / era_filter_subset_crs_clip_daily.size * 100)\n",
    "print('-------------------')\n",
    "print('Original t2m subset crs clip daily sinu')\n",
    "print('The percentage of missing value is: ', era_sinu.isnull().sum().values / era_sinu.size * 100)\n",
    "print('-------------------')\n",
    "print('Original t2m subset crs clip daily sinu common grid')\n",
    "print('The percentage of missing value is: ', era_filter_final.isnull().sum().values / era_filter_final.size * 100)\n",
    "print('-------------------')\n",
    "print('Original t2m subset crs clip daily common grid')\n",
    "print('The percentage of missing value is: ', era_filter_final_direct.isnull().sum().values / era_filter_final_direct.size * 100)\n",
    "print('-------------------')\n",
    "print(\"Percentage of missing values in the final datacube (after merge): \", datacube1[\"u10\"].sel(time='2018').isnull().sum().values /datacube1[\"u10\"].sel(time='2018').size*100)"
   ],
   "metadata": {
    "collapsed": false,
    "pycharm": {
     "name": "#%%\n"
    }
   }
  },
  {
   "cell_type": "markdown",
   "source": [
    "It's interesting that the biggest gap appeard while clipping the data to the AOI. It went from 19% to 48%. We will look at the data to see if there is a problem with the AOI. Indeed, we have been optimist while preparing our AOI which contains a lot of edges which is not recommended. We will create new AOI and test it.\n"
   ],
   "metadata": {
    "collapsed": false,
    "pycharm": {
     "name": "#%% md\n"
    }
   }
  },
  {
   "cell_type": "markdown",
   "source": [
    "We have two AOI. Both are rectangular. One is almost as the same size as the original AOI, (NDVI_large). Another is small, and does not include any sea nor mountains (NDVI_ideal)."
   ],
   "metadata": {
    "collapsed": false,
    "pycharm": {
     "name": "#%% md\n"
    }
   }
  },
  {
   "cell_type": "code",
   "execution_count": null,
   "outputs": [],
   "source": [
    "ndvi_large = xr.open_dataset(path_data +'Raw_NDVI_Large.nc')\n",
    "ndvi_ideal = xr.open_dataset(path_data +'Raw_NDVI_Ideal.nc')"
   ],
   "metadata": {
    "collapsed": false,
    "pycharm": {
     "name": "#%%\n"
    }
   }
  },
  {
   "cell_type": "code",
   "execution_count": 22,
   "outputs": [],
   "source": [
    "# Set the time range of ndvi dataset to the same time range for as ndvi_large dataset\n",
    "ndvi_subset = ndvi.sel(time=slice(ndvi_large.time[0].values, ndvi_large.time[-1].values))"
   ],
   "metadata": {
    "collapsed": false,
    "pycharm": {
     "name": "#%%\n"
    }
   }
  },
  {
   "cell_type": "code",
   "execution_count": 23,
   "outputs": [],
   "source": [
    "# Subset ndvi, nedvi_large and ndvi_ideal datasets to only keep the '_1_km_16_days_EVI' variable\n",
    "ndvi_subset = ndvi_subset['_1_km_16_days_EVI']\n",
    "ndvi_large = ndvi_large['_1_km_16_days_EVI']\n",
    "ndvi_ideal = ndvi_ideal['_1_km_16_days_EVI']"
   ],
   "metadata": {
    "collapsed": false,
    "pycharm": {
     "name": "#%%\n"
    }
   }
  },
  {
   "cell_type": "code",
   "execution_count": 24,
   "outputs": [
    {
     "name": "stdout",
     "output_type": "stream",
     "text": [
      " NDVI:  50.710469501746545 %\n",
      " NDVI Large:  7.627092928265254 %\n",
      " NDVI Ideal:  5.747248199134796 %\n"
     ]
    }
   ],
   "source": [
    "# Measure percentage of missing values\n",
    "print(' NDVI: ', ndvi_subset.isnull().sum().values / ndvi_subset.size * 100, '%')\n",
    "print(' NDVI Large: ', ndvi_large.isnull().sum().values / ndvi_large.size * 100, '%')\n",
    "print(' NDVI Ideal: ', ndvi_ideal.isnull().sum().values / ndvi_ideal.size * 100, '%')"
   ],
   "metadata": {
    "collapsed": false,
    "pycharm": {
     "name": "#%%\n"
    }
   }
  },
  {
   "cell_type": "markdown",
   "source": [
    "Our hypothesis was right. By just clipping the data to the AOI, we lost a lot of data because it was really edgy. The difference induced by sea and mountains is not that big. We will use a new area of interest , the large one here and rebuild our datacube."
   ],
   "metadata": {
    "collapsed": false,
    "pycharm": {
     "name": "#%% md\n"
    }
   }
  },
  {
   "cell_type": "code",
   "execution_count": null,
   "outputs": [],
   "source": [],
   "metadata": {
    "collapsed": false,
    "pycharm": {
     "name": "#%%\n"
    }
   }
  }
 ],
 "metadata": {
  "kernelspec": {
   "display_name": "Python 3",
   "language": "python",
   "name": "python3"
  },
  "language_info": {
   "codemirror_mode": {
    "name": "ipython",
    "version": 2
   },
   "file_extension": ".py",
   "mimetype": "text/x-python",
   "name": "python",
   "nbconvert_exporter": "python",
   "pygments_lexer": "ipython2",
   "version": "2.7.6"
  }
 },
 "nbformat": 4,
 "nbformat_minor": 0
}