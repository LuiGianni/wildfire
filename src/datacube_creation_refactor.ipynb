{
 "cells": [
  {
   "cell_type": "code",
   "execution_count": 1,
   "id": "f16611fb",
   "metadata": {
    "pycharm": {
     "name": "#%%\n"
    }
   },
   "outputs": [
    {
     "data": {
      "application/javascript": "IPython.notebook.set_autosave_interval(60000)"
     },
     "metadata": {},
     "output_type": "display_data"
    },
    {
     "name": "stdout",
     "output_type": "stream",
     "text": [
      "Autosaving every 60 seconds\n"
     ]
    }
   ],
   "source": [
    "# Displays or modifies the intervals between automatic Notebook saves. The default setting is every 120 seconds.\n",
    "%autosave 60\n",
    "# Load all the import for every execution of a script.\n",
    "%load_ext autoreload\n",
    "%autoreload 2"
   ]
  },
  {
   "cell_type": "markdown",
   "id": "73ff712e",
   "metadata": {
    "pycharm": {
     "name": "#%% md\n"
    }
   },
   "source": [
    "# Import"
   ]
  },
  {
   "cell_type": "code",
   "execution_count": 2,
   "id": "d7493245",
   "metadata": {
    "pycharm": {
     "name": "#%%\n"
    }
   },
   "outputs": [],
   "source": [
    "import harmonize as hz\n",
    "import numpy as np\n",
    "import rasterio\n",
    "import matplotlib.pyplot as plt\n",
    "import xarray as xr\n",
    "import rioxarray as rxr\n",
    "import geopandas as gpd\n",
    "from shapely.geometry import mapping"
   ]
  },
  {
   "cell_type": "markdown",
   "id": "5a105037",
   "metadata": {
    "pycharm": {
     "name": "#%% md\n"
    }
   },
   "source": [
    "If issue with cfgrib -->  pip install eccodes>=2.21.0"
   ]
  },
  {
   "cell_type": "markdown",
   "id": "74532d12",
   "metadata": {
    "pycharm": {
     "name": "#%% md\n"
    }
   },
   "source": [
    "# Load data sets"
   ]
  },
  {
   "cell_type": "code",
   "execution_count": 3,
   "id": "82955bc9",
   "metadata": {
    "pycharm": {
     "name": "#%%\n"
    }
   },
   "outputs": [],
   "source": [
    "# Create a path to the data directory\n",
    "path_data = \"../data/Raw/\""
   ]
  },
  {
   "cell_type": "code",
   "execution_count": 4,
   "id": "7216e555",
   "metadata": {
    "pycharm": {
     "name": "#%%\n"
    }
   },
   "outputs": [],
   "source": [
    "# Load the data set\n",
    "ndvi = xr.open_dataset(path_data +'Raw_NDVI_16D_1km.nc')\n",
    "lai = xr.open_dataset(path_data +'Raw_LAI_8D_500m.nc')\n",
    "evap = xr.open_dataset(path_data +'Raw_Evap_8D_500m.nc')\n",
    "era = xr.open_dataset(path_data +'Raw_weather_4H_9km.nc')\n",
    "lst_night = xr.open_dataset(path_data +'Raw_LST_Night_1D_1km.nc')\n",
    "lst_day = xr.open_dataset(path_data +'Raw_LST_Day_1D_1km.nc')\n",
    "active_fire = xr.open_dataset(path_data +'Raw_ActiveFire_500m.nc')\n",
    "burn_mask =xr.open_dataset(path_data +'Raw_BurnMask_1km.nc')\n",
    "fwi = xr.open_mfdataset(path_data+'/Raw_Fwi/*.nc', combine='by_coords', chunks=None)\n",
    "density = rxr.open_rasterio(path_data +'fra_pd_2015_1km_UNadj.tif', masked=True).squeeze()"
   ]
  },
  {
   "cell_type": "markdown",
   "id": "cde59436",
   "metadata": {
    "pycharm": {
     "name": "#%% md\n"
    }
   },
   "source": [
    "# Pre-process the datasets"
   ]
  },
  {
   "cell_type": "markdown",
   "source": [
    "## Variables selection"
   ],
   "metadata": {
    "collapsed": false,
    "pycharm": {
     "name": "#%% md\n"
    }
   }
  },
  {
   "cell_type": "markdown",
   "source": [
    "Variables of interest:\n",
    "- Fpar_500m: Fraction of Photosynthetically Active Radiation (continuous) min: 0 max: 2.54 unit: percentage\n",
    "- _1_km_16_days_EVI: Ehanced Vegetation Index (continuous) min: -02 max: 0.8983 unit: none\n",
    "- ET_500m: Total Evapotranspiration (continuous) min: 0 max: 3.277e+03 unit: kg/m²/8day\n",
    "- u10: Eastward component of the 10m wind (continuous) min: -17.09 max: 15.15 unit: m/s\n",
    "- v10: Northward component of the 10m wind (continuous) min: -15.89 max: 14.17 unit: m/s\n",
    "- t2m: Temperature of air at 2m above the surface of land, sea or in-land waters. The temperature measured in kelvin can be converted to degrees Celsius (°C) by subtracting 273.15. (continuous) min: 244 max: 317 unit: K\n",
    "- tp: precipitation (continuous) min: 0 max: 0.122 unit: m\n",
    "- LST_Day_1km: Land Surface Temperature day (continuous) min: 240.0 max: 332.9 unit: K\n",
    "- LST_Night_1km:**Land Surface Temperature day (continuous) min: 227.3 max: 321.2 unit: K\n",
    "- fwi-daily-proj: Fire Weather Index (continuous) min: 1 max: 473 unit: dimensionless\n",
    "- First_Day: First day of the year of reliable change detection (categorical) min: 0 max: 366 unit: day\n",
    "- Last_Day: Last day of the year of reliable change detection (categorical) min: 0 max: 366 unit: day\n",
    "- FireMask"
   ],
   "metadata": {
    "collapsed": false,
    "pycharm": {
     "name": "#%% md\n"
    }
   }
  },
  {
   "cell_type": "code",
   "execution_count": 5,
   "outputs": [],
   "source": [
    "# Select the variables of interest\n",
    "ndvi_filter = ndvi['_1_km_16_days_EVI']\n",
    "lai_filter = lai['Fpar_500m']\n",
    "evap_filter = evap['ET_500m']\n",
    "era_filter = era[['u10', 'v10', 't2m', 'tp']]\n",
    "lst_night_filter = lst_night['LST_Night_1km']\n",
    "lst_day_filter = lst_day['LST_Day_1km']\n",
    "fwi_filter = fwi['fwi-daily-proj']\n",
    "active_fire_filter = active_fire[['First_Day', 'Last_Day']]\n",
    "burn_mask_filter = burn_mask['FireMask']"
   ],
   "metadata": {
    "collapsed": false,
    "pycharm": {
     "name": "#%%\n"
    }
   }
  },
  {
   "cell_type": "markdown",
   "id": "6a56d508",
   "metadata": {
    "pycharm": {
     "name": "#%% md\n"
    }
   },
   "source": [
    "## Setting the CRS of the datasets"
   ]
  },
  {
   "cell_type": "code",
   "execution_count": 10,
   "outputs": [
    {
     "ename": "AttributeError",
     "evalue": "'Dataset' object has no attribute 'filter'",
     "output_type": "error",
     "traceback": [
      "\u001B[1;31m---------------------------------------------------------------------------\u001B[0m",
      "\u001B[1;31mAttributeError\u001B[0m                            Traceback (most recent call last)",
      "Cell \u001B[1;32mIn [10], line 1\u001B[0m\n\u001B[1;32m----> 1\u001B[0m era\u001B[38;5;241m.\u001B[39mfilter\n",
      "File \u001B[1;32m~\\anaconda3\\envs\\forecast\\lib\\site-packages\\xarray\\core\\common.py:269\u001B[0m, in \u001B[0;36mAttrAccessMixin.__getattr__\u001B[1;34m(self, name)\u001B[0m\n\u001B[0;32m    267\u001B[0m         \u001B[38;5;28;01mwith\u001B[39;00m suppress(\u001B[38;5;167;01mKeyError\u001B[39;00m):\n\u001B[0;32m    268\u001B[0m             \u001B[38;5;28;01mreturn\u001B[39;00m source[name]\n\u001B[1;32m--> 269\u001B[0m \u001B[38;5;28;01mraise\u001B[39;00m \u001B[38;5;167;01mAttributeError\u001B[39;00m(\n\u001B[0;32m    270\u001B[0m     \u001B[38;5;124mf\u001B[39m\u001B[38;5;124m\"\u001B[39m\u001B[38;5;132;01m{\u001B[39;00m\u001B[38;5;28mtype\u001B[39m(\u001B[38;5;28mself\u001B[39m)\u001B[38;5;241m.\u001B[39m\u001B[38;5;18m__name__\u001B[39m\u001B[38;5;132;01m!r}\u001B[39;00m\u001B[38;5;124m object has no attribute \u001B[39m\u001B[38;5;132;01m{\u001B[39;00mname\u001B[38;5;132;01m!r}\u001B[39;00m\u001B[38;5;124m\"\u001B[39m\n\u001B[0;32m    271\u001B[0m )\n",
      "\u001B[1;31mAttributeError\u001B[0m: 'Dataset' object has no attribute 'filter'"
     ]
    }
   ],
   "source": [
    "era.filter"
   ],
   "metadata": {
    "collapsed": false,
    "pycharm": {
     "name": "#%%\n"
    }
   }
  },
  {
   "cell_type": "code",
   "execution_count": 8,
   "outputs": [
    {
     "ename": "ValueError",
     "evalue": "cannot rename 'x' because it is not a dimension in this dataset",
     "output_type": "error",
     "traceback": [
      "\u001B[1;31m---------------------------------------------------------------------------\u001B[0m",
      "\u001B[1;31mValueError\u001B[0m                                Traceback (most recent call last)",
      "Cell \u001B[1;32mIn [8], line 2\u001B[0m\n\u001B[0;32m      1\u001B[0m \u001B[38;5;66;03m# rename dimesion of era5\u001B[39;00m\n\u001B[1;32m----> 2\u001B[0m era_filter \u001B[38;5;241m=\u001B[39m era_filter\u001B[38;5;241m.\u001B[39mrename_dims({\u001B[38;5;124m'\u001B[39m\u001B[38;5;124mx\u001B[39m\u001B[38;5;124m'\u001B[39m: \u001B[38;5;124m'\u001B[39m\u001B[38;5;124mxdim\u001B[39m\u001B[38;5;124m'\u001B[39m, \u001B[38;5;124m'\u001B[39m\u001B[38;5;124my\u001B[39m\u001B[38;5;124m'\u001B[39m: \u001B[38;5;124m'\u001B[39m\u001B[38;5;124mydim\u001B[39m\u001B[38;5;124m'\u001B[39m})\n",
      "File \u001B[1;32m~\\anaconda3\\envs\\forecast\\lib\\site-packages\\xarray\\core\\dataset.py:3668\u001B[0m, in \u001B[0;36mDataset.rename_dims\u001B[1;34m(self, dims_dict, **dims)\u001B[0m\n\u001B[0;32m   3666\u001B[0m \u001B[38;5;28;01mfor\u001B[39;00m k, v \u001B[38;5;129;01min\u001B[39;00m dims_dict\u001B[38;5;241m.\u001B[39mitems():\n\u001B[0;32m   3667\u001B[0m     \u001B[38;5;28;01mif\u001B[39;00m k \u001B[38;5;129;01mnot\u001B[39;00m \u001B[38;5;129;01min\u001B[39;00m \u001B[38;5;28mself\u001B[39m\u001B[38;5;241m.\u001B[39mdims:\n\u001B[1;32m-> 3668\u001B[0m         \u001B[38;5;28;01mraise\u001B[39;00m \u001B[38;5;167;01mValueError\u001B[39;00m(\n\u001B[0;32m   3669\u001B[0m             \u001B[38;5;124mf\u001B[39m\u001B[38;5;124m\"\u001B[39m\u001B[38;5;124mcannot rename \u001B[39m\u001B[38;5;132;01m{\u001B[39;00mk\u001B[38;5;132;01m!r}\u001B[39;00m\u001B[38;5;124m because it is not a \u001B[39m\u001B[38;5;124m\"\u001B[39m\n\u001B[0;32m   3670\u001B[0m             \u001B[38;5;124m\"\u001B[39m\u001B[38;5;124mdimension in this dataset\u001B[39m\u001B[38;5;124m\"\u001B[39m\n\u001B[0;32m   3671\u001B[0m         )\n\u001B[0;32m   3672\u001B[0m     \u001B[38;5;28;01mif\u001B[39;00m v \u001B[38;5;129;01min\u001B[39;00m \u001B[38;5;28mself\u001B[39m\u001B[38;5;241m.\u001B[39mdims \u001B[38;5;129;01mor\u001B[39;00m v \u001B[38;5;129;01min\u001B[39;00m \u001B[38;5;28mself\u001B[39m:\n\u001B[0;32m   3673\u001B[0m         \u001B[38;5;28;01mraise\u001B[39;00m \u001B[38;5;167;01mValueError\u001B[39;00m(\n\u001B[0;32m   3674\u001B[0m             \u001B[38;5;124mf\u001B[39m\u001B[38;5;124m\"\u001B[39m\u001B[38;5;124mCannot rename \u001B[39m\u001B[38;5;132;01m{\u001B[39;00mk\u001B[38;5;132;01m}\u001B[39;00m\u001B[38;5;124m to \u001B[39m\u001B[38;5;132;01m{\u001B[39;00mv\u001B[38;5;132;01m}\u001B[39;00m\u001B[38;5;124m because \u001B[39m\u001B[38;5;132;01m{\u001B[39;00mv\u001B[38;5;132;01m}\u001B[39;00m\u001B[38;5;124m already exists. \u001B[39m\u001B[38;5;124m\"\u001B[39m\n\u001B[0;32m   3675\u001B[0m             \u001B[38;5;124m\"\u001B[39m\u001B[38;5;124mTry using swap_dims instead.\u001B[39m\u001B[38;5;124m\"\u001B[39m\n\u001B[0;32m   3676\u001B[0m         )\n",
      "\u001B[1;31mValueError\u001B[0m: cannot rename 'x' because it is not a dimension in this dataset"
     ]
    }
   ],
   "source": [
    "# rename dimesion of era5\n",
    "era_filter = era_filter.rename_dims({'x': 'xdim', 'y': 'ydim'})\n"
   ],
   "metadata": {
    "collapsed": false,
    "pycharm": {
     "name": "#%%\n"
    }
   }
  },
  {
   "cell_type": "code",
   "execution_count": 6,
   "outputs": [
    {
     "ename": "ValueError",
     "evalue": "cannot swap from dimension 'x' because it is not an existing dimension",
     "output_type": "error",
     "traceback": [
      "\u001B[1;31m---------------------------------------------------------------------------\u001B[0m",
      "\u001B[1;31mValueError\u001B[0m                                Traceback (most recent call last)",
      "Cell \u001B[1;32mIn [6], line 2\u001B[0m\n\u001B[0;32m      1\u001B[0m \u001B[38;5;66;03m# Swap dimensions of era5\u001B[39;00m\n\u001B[1;32m----> 2\u001B[0m era_filter \u001B[38;5;241m=\u001B[39m era_filter\u001B[38;5;241m.\u001B[39mswap_dims({\u001B[38;5;124m'\u001B[39m\u001B[38;5;124mx\u001B[39m\u001B[38;5;124m'\u001B[39m: \u001B[38;5;124m'\u001B[39m\u001B[38;5;124mxdim\u001B[39m\u001B[38;5;124m'\u001B[39m, \u001B[38;5;124m'\u001B[39m\u001B[38;5;124my\u001B[39m\u001B[38;5;124m'\u001B[39m: \u001B[38;5;124m'\u001B[39m\u001B[38;5;124mydim\u001B[39m\u001B[38;5;124m'\u001B[39m})\n",
      "File \u001B[1;32m~\\anaconda3\\envs\\forecast\\lib\\site-packages\\xarray\\core\\dataset.py:3788\u001B[0m, in \u001B[0;36mDataset.swap_dims\u001B[1;34m(self, dims_dict, **dims_kwargs)\u001B[0m\n\u001B[0;32m   3786\u001B[0m \u001B[38;5;28;01mfor\u001B[39;00m k, v \u001B[38;5;129;01min\u001B[39;00m dims_dict\u001B[38;5;241m.\u001B[39mitems():\n\u001B[0;32m   3787\u001B[0m     \u001B[38;5;28;01mif\u001B[39;00m k \u001B[38;5;129;01mnot\u001B[39;00m \u001B[38;5;129;01min\u001B[39;00m \u001B[38;5;28mself\u001B[39m\u001B[38;5;241m.\u001B[39mdims:\n\u001B[1;32m-> 3788\u001B[0m         \u001B[38;5;28;01mraise\u001B[39;00m \u001B[38;5;167;01mValueError\u001B[39;00m(\n\u001B[0;32m   3789\u001B[0m             \u001B[38;5;124mf\u001B[39m\u001B[38;5;124m\"\u001B[39m\u001B[38;5;124mcannot swap from dimension \u001B[39m\u001B[38;5;132;01m{\u001B[39;00mk\u001B[38;5;132;01m!r}\u001B[39;00m\u001B[38;5;124m because it is \u001B[39m\u001B[38;5;124m\"\u001B[39m\n\u001B[0;32m   3790\u001B[0m             \u001B[38;5;124m\"\u001B[39m\u001B[38;5;124mnot an existing dimension\u001B[39m\u001B[38;5;124m\"\u001B[39m\n\u001B[0;32m   3791\u001B[0m         )\n\u001B[0;32m   3792\u001B[0m     \u001B[38;5;28;01mif\u001B[39;00m v \u001B[38;5;129;01min\u001B[39;00m \u001B[38;5;28mself\u001B[39m\u001B[38;5;241m.\u001B[39mvariables \u001B[38;5;129;01mand\u001B[39;00m \u001B[38;5;28mself\u001B[39m\u001B[38;5;241m.\u001B[39mvariables[v]\u001B[38;5;241m.\u001B[39mdims \u001B[38;5;241m!=\u001B[39m (k,):\n\u001B[0;32m   3793\u001B[0m         \u001B[38;5;28;01mraise\u001B[39;00m \u001B[38;5;167;01mValueError\u001B[39;00m(\n\u001B[0;32m   3794\u001B[0m             \u001B[38;5;124mf\u001B[39m\u001B[38;5;124m\"\u001B[39m\u001B[38;5;124mreplacement dimension \u001B[39m\u001B[38;5;132;01m{\u001B[39;00mv\u001B[38;5;132;01m!r}\u001B[39;00m\u001B[38;5;124m is not a 1D \u001B[39m\u001B[38;5;124m\"\u001B[39m\n\u001B[0;32m   3795\u001B[0m             \u001B[38;5;124mf\u001B[39m\u001B[38;5;124m\"\u001B[39m\u001B[38;5;124mvariable along the old dimension \u001B[39m\u001B[38;5;132;01m{\u001B[39;00mk\u001B[38;5;132;01m!r}\u001B[39;00m\u001B[38;5;124m\"\u001B[39m\n\u001B[0;32m   3796\u001B[0m         )\n",
      "\u001B[1;31mValueError\u001B[0m: cannot swap from dimension 'x' because it is not an existing dimension"
     ]
    }
   ],
   "source": [
    "# Swap dimensions of era5\n",
    "era_filter = era_filter.swap_dims({'x': 'xdim', 'y': 'ydim'})"
   ],
   "metadata": {
    "collapsed": false,
    "pycharm": {
     "name": "#%%\n"
    }
   }
  },
  {
   "cell_type": "code",
   "execution_count": 11,
   "outputs": [],
   "source": [
    "# Create a dictionary with the CRS of the datasets\n",
    "crs = {'ndvi': ndvi_filter.rio.crs,\n",
    "       'lai': lai_filter.rio.crs,\n",
    "       'evap': evap_filter.rio.crs,\n",
    "       'era': era_filter.rio.crs,\n",
    "       'lst_night': lst_night_filter.rio.crs,\n",
    "       'lst_day': lst_day_filter.rio.crs,\n",
    "       'fwi': fwi_filter.rio.crs,\n",
    "       'active_fire': active_fire_filter.rio.crs,\n",
    "       'burn_mask': burn_mask_filter.rio.crs,\n",
    "       'density': density.rio.crs}\n",
    "\n"
   ],
   "metadata": {
    "collapsed": false,
    "pycharm": {
     "name": "#%%\n"
    }
   }
  },
  {
   "cell_type": "markdown",
   "source": [
    "## Setting the extent of the datasets"
   ],
   "metadata": {
    "collapsed": false,
    "pycharm": {
     "name": "#%% md\n"
    }
   }
  },
  {
   "cell_type": "code",
   "execution_count": 12,
   "outputs": [],
   "source": [
    "# Create a CRS object from a poj4 string for sinuoidal projection\n",
    "crs_sinu = rasterio.crs.CRS.from_string(\"+proj=sinu +lon_0=0 +x_0=0 +y_0=0 +a=6371007.181 +b=6371007.181 +units=m +no_defs\")"
   ],
   "metadata": {
    "collapsed": false,
    "pycharm": {
     "name": "#%%\n"
    }
   }
  },
  {
   "cell_type": "code",
   "execution_count": 13,
   "outputs": [],
   "source": [
    "# Define a crs for rotated pole\n",
    "crs_rotated_pole = rasterio.crs.CRS.from_string(\"+proj=ob_tran +o_proj=longlat +o_lon_p=-162 +o_lat_p=39.25 +lon_0=180 +to_meter=0.01745329\")"
   ],
   "metadata": {
    "collapsed": false,
    "pycharm": {
     "name": "#%%\n"
    }
   }
  },
  {
   "cell_type": "code",
   "execution_count": 14,
   "outputs": [],
   "source": [
    "# Set the CRS of the data sets with hz.define_crs()\n",
    "ndvi_filter = hz.define_crs(ndvi_filter, crs_sinu)\n",
    "lai_filter = hz.define_crs(lai_filter, crs_sinu)\n",
    "evap_filter = hz.define_crs(evap_filter, crs_sinu)\n",
    "era_filter = hz.define_crs(era_filter, 4326)\n",
    "lst_night_filter = hz.define_crs(lst_night_filter, crs_sinu)\n",
    "lst_day_filter = hz.define_crs(lst_day_filter, crs_sinu)\n",
    "fwi_filter = hz.define_crs(fwi_filter, crs_rotated_pole)\n",
    "active_fire_filter = hz.define_crs(active_fire_filter, crs_sinu)\n",
    "burn_mask_filter = hz.define_crs(burn_mask_filter, crs_sinu)\n",
    "density = hz.define_crs(density, 4326)"
   ],
   "metadata": {
    "collapsed": false,
    "pycharm": {
     "name": "#%%\n"
    }
   }
  },
  {
   "cell_type": "code",
   "execution_count": 15,
   "outputs": [],
   "source": [
    "# Define the AOI\n",
    "aoi = hz.define_area_of_interest(path_data+'AreaOfInterest.zip')"
   ],
   "metadata": {
    "collapsed": false,
    "pycharm": {
     "name": "#%%\n"
    }
   }
  },
  {
   "cell_type": "code",
   "execution_count": 16,
   "outputs": [],
   "source": [
    "# Clip the data sets to the AOI\n",
    "era_filter = hz.clip_to_aoi(era_filter, aoi)\n",
    "density = hz.clip_to_aoi(density, aoi)"
   ],
   "metadata": {
    "collapsed": false,
    "pycharm": {
     "name": "#%%\n"
    }
   }
  },
  {
   "cell_type": "code",
   "execution_count": 17,
   "outputs": [
    {
     "ename": "NameError",
     "evalue": "name 'f' is not defined",
     "output_type": "error",
     "traceback": [
      "\u001B[1;31m---------------------------------------------------------------------------\u001B[0m",
      "\u001B[1;31mNameError\u001B[0m                                 Traceback (most recent call last)",
      "Cell \u001B[1;32mIn [17], line 1\u001B[0m\n\u001B[1;32m----> 1\u001B[0m f\n",
      "\u001B[1;31mNameError\u001B[0m: name 'f' is not defined"
     ]
    }
   ],
   "source": [
    "f#wi_filter = hz.clip_to_aoi(fwi_filter, aoi)\n",
    "# Error: \"NoDataInBounds: No data found in bounds. Data variable: fwi-daily-proj"
   ],
   "metadata": {
    "collapsed": false,
    "pycharm": {
     "name": "#%%\n"
    }
   }
  },
  {
   "cell_type": "code",
   "execution_count": 18,
   "outputs": [],
   "source": [
    "# Projection of fwidailyproj to EPSG 4326\n",
    "#fwi_filter = fwi_filter.rio.reproject('EPSG:4326')"
   ],
   "metadata": {
    "collapsed": false,
    "pycharm": {
     "name": "#%%\n"
    }
   }
  },
  {
   "cell_type": "markdown",
   "source": [],
   "metadata": {
    "collapsed": false,
    "pycharm": {
     "name": "#%% md\n"
    }
   }
  },
  {
   "cell_type": "markdown",
   "source": [
    "## Projection and regridding of the datasets"
   ],
   "metadata": {
    "collapsed": false,
    "pycharm": {
     "name": "#%% md\n"
    }
   }
  },
  {
   "cell_type": "code",
   "execution_count": 19,
   "outputs": [],
   "source": [
    "# create a common grid\n",
    "common_grid = rxr.open_rasterio(path_data +'Raw_LST_Day_1D_1km.nc').isel(time=0)"
   ],
   "metadata": {
    "collapsed": false,
    "pycharm": {
     "name": "#%%\n"
    }
   }
  },
  {
   "cell_type": "code",
   "execution_count": 20,
   "outputs": [],
   "source": [
    "# Interpolate density to common grid\n",
    "density_proj = density.rio.reproject_match(common_grid, resampling=rasterio.enums.Resampling.bilinear)"
   ],
   "metadata": {
    "collapsed": false,
    "pycharm": {
     "name": "#%%\n"
    }
   }
  },
  {
   "cell_type": "code",
   "execution_count": 21,
   "outputs": [],
   "source": [
    "# Interpolate lai to common grid\n",
    "lai_proj = lai_filter.rio.reproject_match(common_grid, resampling=rasterio.enums.Resampling.bilinear)"
   ],
   "metadata": {
    "collapsed": false,
    "pycharm": {
     "name": "#%%\n"
    }
   }
  },
  {
   "cell_type": "code",
   "execution_count": 22,
   "outputs": [],
   "source": [
    "# Interpolate evap to common grid\n",
    "evap_proj = evap_filter.rio.reproject_match(common_grid, resampling=rasterio.enums.Resampling.bilinear)"
   ],
   "metadata": {
    "collapsed": false,
    "pycharm": {
     "name": "#%%\n"
    }
   }
  },
  {
   "cell_type": "code",
   "execution_count": 23,
   "outputs": [],
   "source": [
    "# Different method to interpolate the active fire data set\n",
    "active_fire_filter_proj = active_fire_filter.interp(ydim=ndvi[\"ydim\"], xdim=ndvi['xdim'])"
   ],
   "metadata": {
    "collapsed": false,
    "pycharm": {
     "name": "#%%\n"
    }
   }
  },
  {
   "cell_type": "code",
   "execution_count": 24,
   "outputs": [
    {
     "name": "stdout",
     "output_type": "stream",
     "text": [
      "None\n"
     ]
    }
   ],
   "source": [
    "print(density_proj.name)"
   ],
   "metadata": {
    "collapsed": false,
    "pycharm": {
     "name": "#%%\n"
    }
   }
  },
  {
   "cell_type": "code",
   "execution_count": null,
   "outputs": [],
   "source": [
    "# rename dimension of density\n",
    "density_proj = density_proj.rename_dims({'latitude': 'ydim', 'longitude': 'xdim'})"
   ],
   "metadata": {
    "collapsed": false,
    "pycharm": {
     "name": "#%%\n"
    }
   }
  },
  {
   "cell_type": "code",
   "execution_count": 34,
   "outputs": [],
   "source": [
    "density_proj.name = 'density'"
   ],
   "metadata": {
    "collapsed": false,
    "pycharm": {
     "name": "#%%\n"
    }
   }
  },
  {
   "cell_type": "code",
   "execution_count": 21,
   "outputs": [
    {
     "name": "stdout",
     "output_type": "stream",
     "text": [
      "None\n",
      "Fpar_500m\n",
      "ET_500m\n",
      "_1_km_16_days_EVI\n",
      "LST_Night_1km\n",
      "LST_Day_1km\n"
     ]
    },
    {
     "ename": "AttributeError",
     "evalue": "'Dataset' object has no attribute 'name'",
     "output_type": "error",
     "traceback": [
      "\u001B[1;31m---------------------------------------------------------------------------\u001B[0m",
      "\u001B[1;31mAttributeError\u001B[0m                            Traceback (most recent call last)",
      "Cell \u001B[1;32mIn [21], line 8\u001B[0m\n\u001B[0;32m      6\u001B[0m \u001B[38;5;28mprint\u001B[39m(lst_night_filter\u001B[38;5;241m.\u001B[39mname)\n\u001B[0;32m      7\u001B[0m \u001B[38;5;28mprint\u001B[39m(lst_day_filter\u001B[38;5;241m.\u001B[39mname)\n\u001B[1;32m----> 8\u001B[0m \u001B[38;5;28mprint\u001B[39m(era_filter\u001B[38;5;241m.\u001B[39mname)\n\u001B[0;32m      9\u001B[0m \u001B[38;5;28mprint\u001B[39m(burn_mask_filter\u001B[38;5;241m.\u001B[39mname)\n",
      "File \u001B[1;32m~\\anaconda3\\envs\\forecast\\lib\\site-packages\\xarray\\core\\common.py:269\u001B[0m, in \u001B[0;36mAttrAccessMixin.__getattr__\u001B[1;34m(self, name)\u001B[0m\n\u001B[0;32m    267\u001B[0m         \u001B[38;5;28;01mwith\u001B[39;00m suppress(\u001B[38;5;167;01mKeyError\u001B[39;00m):\n\u001B[0;32m    268\u001B[0m             \u001B[38;5;28;01mreturn\u001B[39;00m source[name]\n\u001B[1;32m--> 269\u001B[0m \u001B[38;5;28;01mraise\u001B[39;00m \u001B[38;5;167;01mAttributeError\u001B[39;00m(\n\u001B[0;32m    270\u001B[0m     \u001B[38;5;124mf\u001B[39m\u001B[38;5;124m\"\u001B[39m\u001B[38;5;132;01m{\u001B[39;00m\u001B[38;5;28mtype\u001B[39m(\u001B[38;5;28mself\u001B[39m)\u001B[38;5;241m.\u001B[39m\u001B[38;5;18m__name__\u001B[39m\u001B[38;5;132;01m!r}\u001B[39;00m\u001B[38;5;124m object has no attribute \u001B[39m\u001B[38;5;132;01m{\u001B[39;00mname\u001B[38;5;132;01m!r}\u001B[39;00m\u001B[38;5;124m\"\u001B[39m\n\u001B[0;32m    271\u001B[0m )\n",
      "\u001B[1;31mAttributeError\u001B[0m: 'Dataset' object has no attribute 'name'"
     ]
    }
   ],
   "source": [
    "# Print the name of all the data set\n",
    "print(density_proj.name)\n",
    "print(lai_proj.name)\n",
    "print(evap_proj.name)\n",
    "print(ndvi_filter.name)\n",
    "print(lst_night_filter.name)\n",
    "print(lst_day_filter.name)\n",
    "print(era_filter.name)\n",
    "print(burn_mask_filter.name)\n",
    "\n"
   ],
   "metadata": {
    "collapsed": false,
    "pycharm": {
     "name": "#%%\n"
    }
   }
  },
  {
   "cell_type": "markdown",
   "source": [
    "#### Interpolate the era data set to the same grid as the lst_day_filter data set"
   ],
   "metadata": {
    "collapsed": false,
    "pycharm": {
     "name": "#%% md\n"
    }
   }
  },
  {
   "cell_type": "code",
   "execution_count": 25,
   "outputs": [],
   "source": [
    "# Project era to sinuoidal projection\n",
    "era_sinu = era_filter.rio.reproject(crs_sinu)"
   ],
   "metadata": {
    "collapsed": false,
    "pycharm": {
     "name": "#%%\n"
    }
   }
  },
  {
   "cell_type": "code",
   "execution_count": 26,
   "outputs": [
    {
     "data": {
      "text/plain": "<xarray.Dataset>\nDimensions:      (x: 30, y: 24, time: 22975)\nCoordinates:\n  * x            (x) float64 3.385e+05 3.478e+05 3.57e+05 ... 5.977e+05 6.07e+05\n  * y            (y) float64 5.005e+06 4.995e+06 ... 4.801e+06 4.792e+06\n  * time         (time) datetime64[ns] 2010-01-01T04:00:00 ... 2022-07-31T20:...\n    spatial_ref  int32 0\nData variables:\n    u10          (time, y, x) float32 nan nan nan nan nan ... nan nan nan nan\n    v10          (time, y, x) float32 nan nan nan nan nan ... nan nan nan nan\n    t2m          (time, y, x) float32 nan nan nan nan nan ... nan nan nan nan\n    tp           (time, y, x) float32 nan nan nan nan nan ... nan nan nan nan\nAttributes:\n    Conventions:  CF-1.6\n    history:      2022-09-15 13:57:35 GMT by grib_to_netcdf-2.25.1: /opt/ecmw...",
      "text/html": "<div><svg style=\"position: absolute; width: 0; height: 0; overflow: hidden\">\n<defs>\n<symbol id=\"icon-database\" viewBox=\"0 0 32 32\">\n<path d=\"M16 0c-8.837 0-16 2.239-16 5v4c0 2.761 7.163 5 16 5s16-2.239 16-5v-4c0-2.761-7.163-5-16-5z\"></path>\n<path d=\"M16 17c-8.837 0-16-2.239-16-5v6c0 2.761 7.163 5 16 5s16-2.239 16-5v-6c0 2.761-7.163 5-16 5z\"></path>\n<path d=\"M16 26c-8.837 0-16-2.239-16-5v6c0 2.761 7.163 5 16 5s16-2.239 16-5v-6c0 2.761-7.163 5-16 5z\"></path>\n</symbol>\n<symbol id=\"icon-file-text2\" viewBox=\"0 0 32 32\">\n<path d=\"M28.681 7.159c-0.694-0.947-1.662-2.053-2.724-3.116s-2.169-2.030-3.116-2.724c-1.612-1.182-2.393-1.319-2.841-1.319h-15.5c-1.378 0-2.5 1.121-2.5 2.5v27c0 1.378 1.122 2.5 2.5 2.5h23c1.378 0 2.5-1.122 2.5-2.5v-19.5c0-0.448-0.137-1.23-1.319-2.841zM24.543 5.457c0.959 0.959 1.712 1.825 2.268 2.543h-4.811v-4.811c0.718 0.556 1.584 1.309 2.543 2.268zM28 29.5c0 0.271-0.229 0.5-0.5 0.5h-23c-0.271 0-0.5-0.229-0.5-0.5v-27c0-0.271 0.229-0.5 0.5-0.5 0 0 15.499-0 15.5 0v7c0 0.552 0.448 1 1 1h7v19.5z\"></path>\n<path d=\"M23 26h-14c-0.552 0-1-0.448-1-1s0.448-1 1-1h14c0.552 0 1 0.448 1 1s-0.448 1-1 1z\"></path>\n<path d=\"M23 22h-14c-0.552 0-1-0.448-1-1s0.448-1 1-1h14c0.552 0 1 0.448 1 1s-0.448 1-1 1z\"></path>\n<path d=\"M23 18h-14c-0.552 0-1-0.448-1-1s0.448-1 1-1h14c0.552 0 1 0.448 1 1s-0.448 1-1 1z\"></path>\n</symbol>\n</defs>\n</svg>\n<style>/* CSS stylesheet for displaying xarray objects in jupyterlab.\n *\n */\n\n:root {\n  --xr-font-color0: var(--jp-content-font-color0, rgba(0, 0, 0, 1));\n  --xr-font-color2: var(--jp-content-font-color2, rgba(0, 0, 0, 0.54));\n  --xr-font-color3: var(--jp-content-font-color3, rgba(0, 0, 0, 0.38));\n  --xr-border-color: var(--jp-border-color2, #e0e0e0);\n  --xr-disabled-color: var(--jp-layout-color3, #bdbdbd);\n  --xr-background-color: var(--jp-layout-color0, white);\n  --xr-background-color-row-even: var(--jp-layout-color1, white);\n  --xr-background-color-row-odd: var(--jp-layout-color2, #eeeeee);\n}\n\nhtml[theme=dark],\nbody[data-theme=dark],\nbody.vscode-dark {\n  --xr-font-color0: rgba(255, 255, 255, 1);\n  --xr-font-color2: rgba(255, 255, 255, 0.54);\n  --xr-font-color3: rgba(255, 255, 255, 0.38);\n  --xr-border-color: #1F1F1F;\n  --xr-disabled-color: #515151;\n  --xr-background-color: #111111;\n  --xr-background-color-row-even: #111111;\n  --xr-background-color-row-odd: #313131;\n}\n\n.xr-wrap {\n  display: block !important;\n  min-width: 300px;\n  max-width: 700px;\n}\n\n.xr-text-repr-fallback {\n  /* fallback to plain text repr when CSS is not injected (untrusted notebook) */\n  display: none;\n}\n\n.xr-header {\n  padding-top: 6px;\n  padding-bottom: 6px;\n  margin-bottom: 4px;\n  border-bottom: solid 1px var(--xr-border-color);\n}\n\n.xr-header > div,\n.xr-header > ul {\n  display: inline;\n  margin-top: 0;\n  margin-bottom: 0;\n}\n\n.xr-obj-type,\n.xr-array-name {\n  margin-left: 2px;\n  margin-right: 10px;\n}\n\n.xr-obj-type {\n  color: var(--xr-font-color2);\n}\n\n.xr-sections {\n  padding-left: 0 !important;\n  display: grid;\n  grid-template-columns: 150px auto auto 1fr 20px 20px;\n}\n\n.xr-section-item {\n  display: contents;\n}\n\n.xr-section-item input {\n  display: none;\n}\n\n.xr-section-item input + label {\n  color: var(--xr-disabled-color);\n}\n\n.xr-section-item input:enabled + label {\n  cursor: pointer;\n  color: var(--xr-font-color2);\n}\n\n.xr-section-item input:enabled + label:hover {\n  color: var(--xr-font-color0);\n}\n\n.xr-section-summary {\n  grid-column: 1;\n  color: var(--xr-font-color2);\n  font-weight: 500;\n}\n\n.xr-section-summary > span {\n  display: inline-block;\n  padding-left: 0.5em;\n}\n\n.xr-section-summary-in:disabled + label {\n  color: var(--xr-font-color2);\n}\n\n.xr-section-summary-in + label:before {\n  display: inline-block;\n  content: '►';\n  font-size: 11px;\n  width: 15px;\n  text-align: center;\n}\n\n.xr-section-summary-in:disabled + label:before {\n  color: var(--xr-disabled-color);\n}\n\n.xr-section-summary-in:checked + label:before {\n  content: '▼';\n}\n\n.xr-section-summary-in:checked + label > span {\n  display: none;\n}\n\n.xr-section-summary,\n.xr-section-inline-details {\n  padding-top: 4px;\n  padding-bottom: 4px;\n}\n\n.xr-section-inline-details {\n  grid-column: 2 / -1;\n}\n\n.xr-section-details {\n  display: none;\n  grid-column: 1 / -1;\n  margin-bottom: 5px;\n}\n\n.xr-section-summary-in:checked ~ .xr-section-details {\n  display: contents;\n}\n\n.xr-array-wrap {\n  grid-column: 1 / -1;\n  display: grid;\n  grid-template-columns: 20px auto;\n}\n\n.xr-array-wrap > label {\n  grid-column: 1;\n  vertical-align: top;\n}\n\n.xr-preview {\n  color: var(--xr-font-color3);\n}\n\n.xr-array-preview,\n.xr-array-data {\n  padding: 0 5px !important;\n  grid-column: 2;\n}\n\n.xr-array-data,\n.xr-array-in:checked ~ .xr-array-preview {\n  display: none;\n}\n\n.xr-array-in:checked ~ .xr-array-data,\n.xr-array-preview {\n  display: inline-block;\n}\n\n.xr-dim-list {\n  display: inline-block !important;\n  list-style: none;\n  padding: 0 !important;\n  margin: 0;\n}\n\n.xr-dim-list li {\n  display: inline-block;\n  padding: 0;\n  margin: 0;\n}\n\n.xr-dim-list:before {\n  content: '(';\n}\n\n.xr-dim-list:after {\n  content: ')';\n}\n\n.xr-dim-list li:not(:last-child):after {\n  content: ',';\n  padding-right: 5px;\n}\n\n.xr-has-index {\n  font-weight: bold;\n}\n\n.xr-var-list,\n.xr-var-item {\n  display: contents;\n}\n\n.xr-var-item > div,\n.xr-var-item label,\n.xr-var-item > .xr-var-name span {\n  background-color: var(--xr-background-color-row-even);\n  margin-bottom: 0;\n}\n\n.xr-var-item > .xr-var-name:hover span {\n  padding-right: 5px;\n}\n\n.xr-var-list > li:nth-child(odd) > div,\n.xr-var-list > li:nth-child(odd) > label,\n.xr-var-list > li:nth-child(odd) > .xr-var-name span {\n  background-color: var(--xr-background-color-row-odd);\n}\n\n.xr-var-name {\n  grid-column: 1;\n}\n\n.xr-var-dims {\n  grid-column: 2;\n}\n\n.xr-var-dtype {\n  grid-column: 3;\n  text-align: right;\n  color: var(--xr-font-color2);\n}\n\n.xr-var-preview {\n  grid-column: 4;\n}\n\n.xr-var-name,\n.xr-var-dims,\n.xr-var-dtype,\n.xr-preview,\n.xr-attrs dt {\n  white-space: nowrap;\n  overflow: hidden;\n  text-overflow: ellipsis;\n  padding-right: 10px;\n}\n\n.xr-var-name:hover,\n.xr-var-dims:hover,\n.xr-var-dtype:hover,\n.xr-attrs dt:hover {\n  overflow: visible;\n  width: auto;\n  z-index: 1;\n}\n\n.xr-var-attrs,\n.xr-var-data {\n  display: none;\n  background-color: var(--xr-background-color) !important;\n  padding-bottom: 5px !important;\n}\n\n.xr-var-attrs-in:checked ~ .xr-var-attrs,\n.xr-var-data-in:checked ~ .xr-var-data {\n  display: block;\n}\n\n.xr-var-data > table {\n  float: right;\n}\n\n.xr-var-name span,\n.xr-var-data,\n.xr-attrs {\n  padding-left: 25px !important;\n}\n\n.xr-attrs,\n.xr-var-attrs,\n.xr-var-data {\n  grid-column: 1 / -1;\n}\n\ndl.xr-attrs {\n  padding: 0;\n  margin: 0;\n  display: grid;\n  grid-template-columns: 125px auto;\n}\n\n.xr-attrs dt,\n.xr-attrs dd {\n  padding: 0;\n  margin: 0;\n  float: left;\n  padding-right: 10px;\n  width: auto;\n}\n\n.xr-attrs dt {\n  font-weight: normal;\n  grid-column: 1;\n}\n\n.xr-attrs dt:hover span {\n  display: inline-block;\n  background: var(--xr-background-color);\n  padding-right: 10px;\n}\n\n.xr-attrs dd {\n  grid-column: 2;\n  white-space: pre-wrap;\n  word-break: break-all;\n}\n\n.xr-icon-database,\n.xr-icon-file-text2 {\n  display: inline-block;\n  vertical-align: middle;\n  width: 1em;\n  height: 1.5em !important;\n  stroke-width: 0;\n  stroke: currentColor;\n  fill: currentColor;\n}\n</style><pre class='xr-text-repr-fallback'>&lt;xarray.Dataset&gt;\nDimensions:      (x: 30, y: 24, time: 22975)\nCoordinates:\n  * x            (x) float64 3.385e+05 3.478e+05 3.57e+05 ... 5.977e+05 6.07e+05\n  * y            (y) float64 5.005e+06 4.995e+06 ... 4.801e+06 4.792e+06\n  * time         (time) datetime64[ns] 2010-01-01T04:00:00 ... 2022-07-31T20:...\n    spatial_ref  int32 0\nData variables:\n    u10          (time, y, x) float32 nan nan nan nan nan ... nan nan nan nan\n    v10          (time, y, x) float32 nan nan nan nan nan ... nan nan nan nan\n    t2m          (time, y, x) float32 nan nan nan nan nan ... nan nan nan nan\n    tp           (time, y, x) float32 nan nan nan nan nan ... nan nan nan nan\nAttributes:\n    Conventions:  CF-1.6\n    history:      2022-09-15 13:57:35 GMT by grib_to_netcdf-2.25.1: /opt/ecmw...</pre><div class='xr-wrap' style='display:none'><div class='xr-header'><div class='xr-obj-type'>xarray.Dataset</div></div><ul class='xr-sections'><li class='xr-section-item'><input id='section-e3e1f24b-665e-459b-af36-dd5cf3d82fab' class='xr-section-summary-in' type='checkbox' disabled ><label for='section-e3e1f24b-665e-459b-af36-dd5cf3d82fab' class='xr-section-summary'  title='Expand/collapse section'>Dimensions:</label><div class='xr-section-inline-details'><ul class='xr-dim-list'><li><span class='xr-has-index'>x</span>: 30</li><li><span class='xr-has-index'>y</span>: 24</li><li><span class='xr-has-index'>time</span>: 22975</li></ul></div><div class='xr-section-details'></div></li><li class='xr-section-item'><input id='section-70806594-74ff-4bd9-bf89-c23cbdbbe9fc' class='xr-section-summary-in' type='checkbox'  checked><label for='section-70806594-74ff-4bd9-bf89-c23cbdbbe9fc' class='xr-section-summary' >Coordinates: <span>(4)</span></label><div class='xr-section-inline-details'></div><div class='xr-section-details'><ul class='xr-var-list'><li class='xr-var-item'><div class='xr-var-name'><span class='xr-has-index'>x</span></div><div class='xr-var-dims'>(x)</div><div class='xr-var-dtype'>float64</div><div class='xr-var-preview xr-preview'>3.385e+05 3.478e+05 ... 6.07e+05</div><input id='attrs-b85e1922-392b-43e6-8fd4-e6e70830ed18' class='xr-var-attrs-in' type='checkbox' ><label for='attrs-b85e1922-392b-43e6-8fd4-e6e70830ed18' title='Show/Hide attributes'><svg class='icon xr-icon-file-text2'><use xlink:href='#icon-file-text2'></use></svg></label><input id='data-e4770771-5f16-46b1-aded-a42108bd679b' class='xr-var-data-in' type='checkbox'><label for='data-e4770771-5f16-46b1-aded-a42108bd679b' title='Show/Hide data repr'><svg class='icon xr-icon-database'><use xlink:href='#icon-database'></use></svg></label><div class='xr-var-attrs'><dl class='xr-attrs'><dt><span>axis :</span></dt><dd>X</dd><dt><span>long_name :</span></dt><dd>x coordinate of projection</dd><dt><span>standard_name :</span></dt><dd>projection_x_coordinate</dd><dt><span>units :</span></dt><dd>metre</dd></dl></div><div class='xr-var-data'><pre>array([338501.424315, 347760.13329 , 357018.842265, 366277.55124 ,\n       375536.260215, 384794.96919 , 394053.678165, 403312.387139,\n       412571.096114, 421829.805089, 431088.514064, 440347.223039,\n       449605.932014, 458864.640989, 468123.349964, 477382.058939,\n       486640.767914, 495899.476889, 505158.185864, 514416.894839,\n       523675.603814, 532934.312789, 542193.021764, 551451.730739,\n       560710.439714, 569969.148689, 579227.857664, 588486.566639,\n       597745.275613, 607003.984588])</pre></div></li><li class='xr-var-item'><div class='xr-var-name'><span class='xr-has-index'>y</span></div><div class='xr-var-dims'>(y)</div><div class='xr-var-dtype'>float64</div><div class='xr-var-preview xr-preview'>5.005e+06 4.995e+06 ... 4.792e+06</div><input id='attrs-80e686a9-b324-4a8d-a0e4-f118002c8a12' class='xr-var-attrs-in' type='checkbox' ><label for='attrs-80e686a9-b324-4a8d-a0e4-f118002c8a12' title='Show/Hide attributes'><svg class='icon xr-icon-file-text2'><use xlink:href='#icon-file-text2'></use></svg></label><input id='data-01a43aa3-7a2b-43b1-be0e-165efa72e1e2' class='xr-var-data-in' type='checkbox'><label for='data-01a43aa3-7a2b-43b1-be0e-165efa72e1e2' title='Show/Hide data repr'><svg class='icon xr-icon-database'><use xlink:href='#icon-database'></use></svg></label><div class='xr-var-attrs'><dl class='xr-attrs'><dt><span>axis :</span></dt><dd>Y</dd><dt><span>long_name :</span></dt><dd>y coordinate of projection</dd><dt><span>standard_name :</span></dt><dd>projection_y_coordinate</dd><dt><span>units :</span></dt><dd>metre</dd></dl></div><div class='xr-var-data'><pre>array([5004707.741526, 4995449.032551, 4986190.323576, 4976931.614601,\n       4967672.905626, 4958414.196651, 4949155.487676, 4939896.778701,\n       4930638.069726, 4921379.360751, 4912120.651776, 4902861.942801,\n       4893603.233826, 4884344.524851, 4875085.815876, 4865827.106901,\n       4856568.397926, 4847309.688952, 4838050.979977, 4828792.271002,\n       4819533.562027, 4810274.853052, 4801016.144077, 4791757.435102])</pre></div></li><li class='xr-var-item'><div class='xr-var-name'><span class='xr-has-index'>time</span></div><div class='xr-var-dims'>(time)</div><div class='xr-var-dtype'>datetime64[ns]</div><div class='xr-var-preview xr-preview'>2010-01-01T04:00:00 ... 2022-07-...</div><input id='attrs-fd77a0e0-1396-42b6-8f22-b5fd73dfd167' class='xr-var-attrs-in' type='checkbox' ><label for='attrs-fd77a0e0-1396-42b6-8f22-b5fd73dfd167' title='Show/Hide attributes'><svg class='icon xr-icon-file-text2'><use xlink:href='#icon-file-text2'></use></svg></label><input id='data-46f9fe5c-b394-48d3-92f3-8e91adb98169' class='xr-var-data-in' type='checkbox'><label for='data-46f9fe5c-b394-48d3-92f3-8e91adb98169' title='Show/Hide data repr'><svg class='icon xr-icon-database'><use xlink:href='#icon-database'></use></svg></label><div class='xr-var-attrs'><dl class='xr-attrs'><dt><span>long_name :</span></dt><dd>time</dd></dl></div><div class='xr-var-data'><pre>array([&#x27;2010-01-01T04:00:00.000000000&#x27;, &#x27;2010-01-01T08:00:00.000000000&#x27;,\n       &#x27;2010-01-01T12:00:00.000000000&#x27;, ..., &#x27;2022-07-31T12:00:00.000000000&#x27;,\n       &#x27;2022-07-31T16:00:00.000000000&#x27;, &#x27;2022-07-31T20:00:00.000000000&#x27;],\n      dtype=&#x27;datetime64[ns]&#x27;)</pre></div></li><li class='xr-var-item'><div class='xr-var-name'><span>spatial_ref</span></div><div class='xr-var-dims'>()</div><div class='xr-var-dtype'>int32</div><div class='xr-var-preview xr-preview'>0</div><input id='attrs-e5519e0a-a3e0-4423-829e-73226d67058d' class='xr-var-attrs-in' type='checkbox' ><label for='attrs-e5519e0a-a3e0-4423-829e-73226d67058d' title='Show/Hide attributes'><svg class='icon xr-icon-file-text2'><use xlink:href='#icon-file-text2'></use></svg></label><input id='data-297092d8-ec53-4814-9503-d663f3d7f82f' class='xr-var-data-in' type='checkbox'><label for='data-297092d8-ec53-4814-9503-d663f3d7f82f' title='Show/Hide data repr'><svg class='icon xr-icon-database'><use xlink:href='#icon-database'></use></svg></label><div class='xr-var-attrs'><dl class='xr-attrs'><dt><span>crs_wkt :</span></dt><dd>PROJCS[&quot;unknown&quot;,GEOGCS[&quot;unknown&quot;,DATUM[&quot;unknown&quot;,SPHEROID[&quot;unknown&quot;,6371007.181,0]],PRIMEM[&quot;Greenwich&quot;,0,AUTHORITY[&quot;EPSG&quot;,&quot;8901&quot;]],UNIT[&quot;degree&quot;,0.0174532925199433,AUTHORITY[&quot;EPSG&quot;,&quot;9122&quot;]]],PROJECTION[&quot;Sinusoidal&quot;],PARAMETER[&quot;longitude_of_center&quot;,0],PARAMETER[&quot;false_easting&quot;,0],PARAMETER[&quot;false_northing&quot;,0],UNIT[&quot;metre&quot;,1,AUTHORITY[&quot;EPSG&quot;,&quot;9001&quot;]],AXIS[&quot;Easting&quot;,EAST],AXIS[&quot;Northing&quot;,NORTH]]</dd><dt><span>semi_major_axis :</span></dt><dd>6371007.181</dd><dt><span>semi_minor_axis :</span></dt><dd>6371007.181</dd><dt><span>inverse_flattening :</span></dt><dd>0.0</dd><dt><span>reference_ellipsoid_name :</span></dt><dd>unknown</dd><dt><span>longitude_of_prime_meridian :</span></dt><dd>0.0</dd><dt><span>prime_meridian_name :</span></dt><dd>Greenwich</dd><dt><span>geographic_crs_name :</span></dt><dd>unknown</dd><dt><span>horizontal_datum_name :</span></dt><dd>unknown</dd><dt><span>projected_crs_name :</span></dt><dd>unknown</dd><dt><span>grid_mapping_name :</span></dt><dd>sinusoidal</dd><dt><span>longitude_of_projection_origin :</span></dt><dd>0.0</dd><dt><span>false_easting :</span></dt><dd>0.0</dd><dt><span>false_northing :</span></dt><dd>0.0</dd><dt><span>spatial_ref :</span></dt><dd>PROJCS[&quot;unknown&quot;,GEOGCS[&quot;unknown&quot;,DATUM[&quot;unknown&quot;,SPHEROID[&quot;unknown&quot;,6371007.181,0]],PRIMEM[&quot;Greenwich&quot;,0,AUTHORITY[&quot;EPSG&quot;,&quot;8901&quot;]],UNIT[&quot;degree&quot;,0.0174532925199433,AUTHORITY[&quot;EPSG&quot;,&quot;9122&quot;]]],PROJECTION[&quot;Sinusoidal&quot;],PARAMETER[&quot;longitude_of_center&quot;,0],PARAMETER[&quot;false_easting&quot;,0],PARAMETER[&quot;false_northing&quot;,0],UNIT[&quot;metre&quot;,1,AUTHORITY[&quot;EPSG&quot;,&quot;9001&quot;]],AXIS[&quot;Easting&quot;,EAST],AXIS[&quot;Northing&quot;,NORTH]]</dd><dt><span>GeoTransform :</span></dt><dd>333872.06982731516 9258.708974953268 0.0 5009337.096013192 0.0 -9258.708974953268</dd></dl></div><div class='xr-var-data'><pre>array(0)</pre></div></li></ul></div></li><li class='xr-section-item'><input id='section-b58fe692-cc0e-468e-b71f-5b408751e2d6' class='xr-section-summary-in' type='checkbox'  checked><label for='section-b58fe692-cc0e-468e-b71f-5b408751e2d6' class='xr-section-summary' >Data variables: <span>(4)</span></label><div class='xr-section-inline-details'></div><div class='xr-section-details'><ul class='xr-var-list'><li class='xr-var-item'><div class='xr-var-name'><span>u10</span></div><div class='xr-var-dims'>(time, y, x)</div><div class='xr-var-dtype'>float32</div><div class='xr-var-preview xr-preview'>nan nan nan nan ... nan nan nan nan</div><input id='attrs-48f2be51-a521-4d9b-b0c2-c3eac4062d2d' class='xr-var-attrs-in' type='checkbox' ><label for='attrs-48f2be51-a521-4d9b-b0c2-c3eac4062d2d' title='Show/Hide attributes'><svg class='icon xr-icon-file-text2'><use xlink:href='#icon-file-text2'></use></svg></label><input id='data-ad7d7292-eb2e-4565-9b02-bf250fa1612c' class='xr-var-data-in' type='checkbox'><label for='data-ad7d7292-eb2e-4565-9b02-bf250fa1612c' title='Show/Hide data repr'><svg class='icon xr-icon-database'><use xlink:href='#icon-database'></use></svg></label><div class='xr-var-attrs'><dl class='xr-attrs'><dt><span>units :</span></dt><dd>m s**-1</dd><dt><span>long_name :</span></dt><dd>10 metre U wind component</dd></dl></div><div class='xr-var-data'><pre>array([[[nan, nan, nan, ..., nan, nan, nan],\n        [nan, nan, nan, ..., nan, nan, nan],\n        [nan, nan, nan, ..., nan, nan, nan],\n        ...,\n        [nan, nan, nan, ..., nan, nan, nan],\n        [nan, nan, nan, ..., nan, nan, nan],\n        [nan, nan, nan, ..., nan, nan, nan]],\n\n       [[nan, nan, nan, ..., nan, nan, nan],\n        [nan, nan, nan, ..., nan, nan, nan],\n        [nan, nan, nan, ..., nan, nan, nan],\n        ...,\n        [nan, nan, nan, ..., nan, nan, nan],\n        [nan, nan, nan, ..., nan, nan, nan],\n        [nan, nan, nan, ..., nan, nan, nan]],\n\n       [[nan, nan, nan, ..., nan, nan, nan],\n        [nan, nan, nan, ..., nan, nan, nan],\n        [nan, nan, nan, ..., nan, nan, nan],\n        ...,\n...\n        ...,\n        [nan, nan, nan, ..., nan, nan, nan],\n        [nan, nan, nan, ..., nan, nan, nan],\n        [nan, nan, nan, ..., nan, nan, nan]],\n\n       [[nan, nan, nan, ..., nan, nan, nan],\n        [nan, nan, nan, ..., nan, nan, nan],\n        [nan, nan, nan, ..., nan, nan, nan],\n        ...,\n        [nan, nan, nan, ..., nan, nan, nan],\n        [nan, nan, nan, ..., nan, nan, nan],\n        [nan, nan, nan, ..., nan, nan, nan]],\n\n       [[nan, nan, nan, ..., nan, nan, nan],\n        [nan, nan, nan, ..., nan, nan, nan],\n        [nan, nan, nan, ..., nan, nan, nan],\n        ...,\n        [nan, nan, nan, ..., nan, nan, nan],\n        [nan, nan, nan, ..., nan, nan, nan],\n        [nan, nan, nan, ..., nan, nan, nan]]], dtype=float32)</pre></div></li><li class='xr-var-item'><div class='xr-var-name'><span>v10</span></div><div class='xr-var-dims'>(time, y, x)</div><div class='xr-var-dtype'>float32</div><div class='xr-var-preview xr-preview'>nan nan nan nan ... nan nan nan nan</div><input id='attrs-5916d74d-76f7-4062-a418-e0cfbc4e2a8f' class='xr-var-attrs-in' type='checkbox' ><label for='attrs-5916d74d-76f7-4062-a418-e0cfbc4e2a8f' title='Show/Hide attributes'><svg class='icon xr-icon-file-text2'><use xlink:href='#icon-file-text2'></use></svg></label><input id='data-c99ac36d-bde5-4d25-a316-aba5aed108ba' class='xr-var-data-in' type='checkbox'><label for='data-c99ac36d-bde5-4d25-a316-aba5aed108ba' title='Show/Hide data repr'><svg class='icon xr-icon-database'><use xlink:href='#icon-database'></use></svg></label><div class='xr-var-attrs'><dl class='xr-attrs'><dt><span>units :</span></dt><dd>m s**-1</dd><dt><span>long_name :</span></dt><dd>10 metre V wind component</dd></dl></div><div class='xr-var-data'><pre>array([[[nan, nan, nan, ..., nan, nan, nan],\n        [nan, nan, nan, ..., nan, nan, nan],\n        [nan, nan, nan, ..., nan, nan, nan],\n        ...,\n        [nan, nan, nan, ..., nan, nan, nan],\n        [nan, nan, nan, ..., nan, nan, nan],\n        [nan, nan, nan, ..., nan, nan, nan]],\n\n       [[nan, nan, nan, ..., nan, nan, nan],\n        [nan, nan, nan, ..., nan, nan, nan],\n        [nan, nan, nan, ..., nan, nan, nan],\n        ...,\n        [nan, nan, nan, ..., nan, nan, nan],\n        [nan, nan, nan, ..., nan, nan, nan],\n        [nan, nan, nan, ..., nan, nan, nan]],\n\n       [[nan, nan, nan, ..., nan, nan, nan],\n        [nan, nan, nan, ..., nan, nan, nan],\n        [nan, nan, nan, ..., nan, nan, nan],\n        ...,\n...\n        ...,\n        [nan, nan, nan, ..., nan, nan, nan],\n        [nan, nan, nan, ..., nan, nan, nan],\n        [nan, nan, nan, ..., nan, nan, nan]],\n\n       [[nan, nan, nan, ..., nan, nan, nan],\n        [nan, nan, nan, ..., nan, nan, nan],\n        [nan, nan, nan, ..., nan, nan, nan],\n        ...,\n        [nan, nan, nan, ..., nan, nan, nan],\n        [nan, nan, nan, ..., nan, nan, nan],\n        [nan, nan, nan, ..., nan, nan, nan]],\n\n       [[nan, nan, nan, ..., nan, nan, nan],\n        [nan, nan, nan, ..., nan, nan, nan],\n        [nan, nan, nan, ..., nan, nan, nan],\n        ...,\n        [nan, nan, nan, ..., nan, nan, nan],\n        [nan, nan, nan, ..., nan, nan, nan],\n        [nan, nan, nan, ..., nan, nan, nan]]], dtype=float32)</pre></div></li><li class='xr-var-item'><div class='xr-var-name'><span>t2m</span></div><div class='xr-var-dims'>(time, y, x)</div><div class='xr-var-dtype'>float32</div><div class='xr-var-preview xr-preview'>nan nan nan nan ... nan nan nan nan</div><input id='attrs-63c93789-1d03-4964-97b6-eae75a7e4a6c' class='xr-var-attrs-in' type='checkbox' ><label for='attrs-63c93789-1d03-4964-97b6-eae75a7e4a6c' title='Show/Hide attributes'><svg class='icon xr-icon-file-text2'><use xlink:href='#icon-file-text2'></use></svg></label><input id='data-ddfb4cee-d29c-4aef-91ac-f6792a97bf3e' class='xr-var-data-in' type='checkbox'><label for='data-ddfb4cee-d29c-4aef-91ac-f6792a97bf3e' title='Show/Hide data repr'><svg class='icon xr-icon-database'><use xlink:href='#icon-database'></use></svg></label><div class='xr-var-attrs'><dl class='xr-attrs'><dt><span>units :</span></dt><dd>K</dd><dt><span>long_name :</span></dt><dd>2 metre temperature</dd></dl></div><div class='xr-var-data'><pre>array([[[nan, nan, nan, ..., nan, nan, nan],\n        [nan, nan, nan, ..., nan, nan, nan],\n        [nan, nan, nan, ..., nan, nan, nan],\n        ...,\n        [nan, nan, nan, ..., nan, nan, nan],\n        [nan, nan, nan, ..., nan, nan, nan],\n        [nan, nan, nan, ..., nan, nan, nan]],\n\n       [[nan, nan, nan, ..., nan, nan, nan],\n        [nan, nan, nan, ..., nan, nan, nan],\n        [nan, nan, nan, ..., nan, nan, nan],\n        ...,\n        [nan, nan, nan, ..., nan, nan, nan],\n        [nan, nan, nan, ..., nan, nan, nan],\n        [nan, nan, nan, ..., nan, nan, nan]],\n\n       [[nan, nan, nan, ..., nan, nan, nan],\n        [nan, nan, nan, ..., nan, nan, nan],\n        [nan, nan, nan, ..., nan, nan, nan],\n        ...,\n...\n        ...,\n        [nan, nan, nan, ..., nan, nan, nan],\n        [nan, nan, nan, ..., nan, nan, nan],\n        [nan, nan, nan, ..., nan, nan, nan]],\n\n       [[nan, nan, nan, ..., nan, nan, nan],\n        [nan, nan, nan, ..., nan, nan, nan],\n        [nan, nan, nan, ..., nan, nan, nan],\n        ...,\n        [nan, nan, nan, ..., nan, nan, nan],\n        [nan, nan, nan, ..., nan, nan, nan],\n        [nan, nan, nan, ..., nan, nan, nan]],\n\n       [[nan, nan, nan, ..., nan, nan, nan],\n        [nan, nan, nan, ..., nan, nan, nan],\n        [nan, nan, nan, ..., nan, nan, nan],\n        ...,\n        [nan, nan, nan, ..., nan, nan, nan],\n        [nan, nan, nan, ..., nan, nan, nan],\n        [nan, nan, nan, ..., nan, nan, nan]]], dtype=float32)</pre></div></li><li class='xr-var-item'><div class='xr-var-name'><span>tp</span></div><div class='xr-var-dims'>(time, y, x)</div><div class='xr-var-dtype'>float32</div><div class='xr-var-preview xr-preview'>nan nan nan nan ... nan nan nan nan</div><input id='attrs-ba88bf80-2a5b-4a02-8513-28328861cfc3' class='xr-var-attrs-in' type='checkbox' ><label for='attrs-ba88bf80-2a5b-4a02-8513-28328861cfc3' title='Show/Hide attributes'><svg class='icon xr-icon-file-text2'><use xlink:href='#icon-file-text2'></use></svg></label><input id='data-a9392361-78cd-452c-8d55-f4ff980618db' class='xr-var-data-in' type='checkbox'><label for='data-a9392361-78cd-452c-8d55-f4ff980618db' title='Show/Hide data repr'><svg class='icon xr-icon-database'><use xlink:href='#icon-database'></use></svg></label><div class='xr-var-attrs'><dl class='xr-attrs'><dt><span>units :</span></dt><dd>m</dd><dt><span>long_name :</span></dt><dd>Total precipitation</dd></dl></div><div class='xr-var-data'><pre>array([[[nan, nan, nan, ..., nan, nan, nan],\n        [nan, nan, nan, ..., nan, nan, nan],\n        [nan, nan, nan, ..., nan, nan, nan],\n        ...,\n        [nan, nan, nan, ..., nan, nan, nan],\n        [nan, nan, nan, ..., nan, nan, nan],\n        [nan, nan, nan, ..., nan, nan, nan]],\n\n       [[nan, nan, nan, ..., nan, nan, nan],\n        [nan, nan, nan, ..., nan, nan, nan],\n        [nan, nan, nan, ..., nan, nan, nan],\n        ...,\n        [nan, nan, nan, ..., nan, nan, nan],\n        [nan, nan, nan, ..., nan, nan, nan],\n        [nan, nan, nan, ..., nan, nan, nan]],\n\n       [[nan, nan, nan, ..., nan, nan, nan],\n        [nan, nan, nan, ..., nan, nan, nan],\n        [nan, nan, nan, ..., nan, nan, nan],\n        ...,\n...\n        ...,\n        [nan, nan, nan, ..., nan, nan, nan],\n        [nan, nan, nan, ..., nan, nan, nan],\n        [nan, nan, nan, ..., nan, nan, nan]],\n\n       [[nan, nan, nan, ..., nan, nan, nan],\n        [nan, nan, nan, ..., nan, nan, nan],\n        [nan, nan, nan, ..., nan, nan, nan],\n        ...,\n        [nan, nan, nan, ..., nan, nan, nan],\n        [nan, nan, nan, ..., nan, nan, nan],\n        [nan, nan, nan, ..., nan, nan, nan]],\n\n       [[nan, nan, nan, ..., nan, nan, nan],\n        [nan, nan, nan, ..., nan, nan, nan],\n        [nan, nan, nan, ..., nan, nan, nan],\n        ...,\n        [nan, nan, nan, ..., nan, nan, nan],\n        [nan, nan, nan, ..., nan, nan, nan],\n        [nan, nan, nan, ..., nan, nan, nan]]], dtype=float32)</pre></div></li></ul></div></li><li class='xr-section-item'><input id='section-b061e972-3bc4-46f1-9461-b9c238f8017a' class='xr-section-summary-in' type='checkbox'  checked><label for='section-b061e972-3bc4-46f1-9461-b9c238f8017a' class='xr-section-summary' >Attributes: <span>(2)</span></label><div class='xr-section-inline-details'></div><div class='xr-section-details'><dl class='xr-attrs'><dt><span>Conventions :</span></dt><dd>CF-1.6</dd><dt><span>history :</span></dt><dd>2022-09-15 13:57:35 GMT by grib_to_netcdf-2.25.1: /opt/ecmwf/mars-client/bin/grib_to_netcdf.bin -S param -o /cache/data2/adaptor.mars.internal-1663249407.7272627-22718-12-e830357e-7728-41cf-9b2b-b7f34cabf652.nc /cache/tmp/e830357e-7728-41cf-9b2b-b7f34cabf652-adaptor.mars.internal-1663236313.8703027-22718-23-tmp.grib</dd></dl></div></li></ul></div></div>"
     },
     "execution_count": 26,
     "metadata": {},
     "output_type": "execute_result"
    }
   ],
   "source": [
    "era_sinu"
   ],
   "metadata": {
    "collapsed": false,
    "pycharm": {
     "name": "#%%\n"
    }
   }
  },
  {
   "cell_type": "code",
   "execution_count": 30,
   "outputs": [
    {
     "ename": "ValueError",
     "evalue": "cannot rename 'y' because it is not a dimension in this dataset",
     "output_type": "error",
     "traceback": [
      "\u001B[1;31m---------------------------------------------------------------------------\u001B[0m",
      "\u001B[1;31mValueError\u001B[0m                                Traceback (most recent call last)",
      "Cell \u001B[1;32mIn [30], line 2\u001B[0m\n\u001B[0;32m      1\u001B[0m \u001B[38;5;66;03m# change dimension name of era sinu\u001B[39;00m\n\u001B[1;32m----> 2\u001B[0m era_sinu \u001B[38;5;241m=\u001B[39m era_sinu\u001B[38;5;241m.\u001B[39mrename_dims({\u001B[38;5;124m'\u001B[39m\u001B[38;5;124my\u001B[39m\u001B[38;5;124m'\u001B[39m: \u001B[38;5;124m'\u001B[39m\u001B[38;5;124mydim\u001B[39m\u001B[38;5;124m'\u001B[39m, \u001B[38;5;124m'\u001B[39m\u001B[38;5;124mx\u001B[39m\u001B[38;5;124m'\u001B[39m: \u001B[38;5;124m'\u001B[39m\u001B[38;5;124mxdim\u001B[39m\u001B[38;5;124m'\u001B[39m})\n",
      "File \u001B[1;32m~\\anaconda3\\envs\\forecast\\lib\\site-packages\\xarray\\core\\dataset.py:3668\u001B[0m, in \u001B[0;36mDataset.rename_dims\u001B[1;34m(self, dims_dict, **dims)\u001B[0m\n\u001B[0;32m   3666\u001B[0m \u001B[38;5;28;01mfor\u001B[39;00m k, v \u001B[38;5;129;01min\u001B[39;00m dims_dict\u001B[38;5;241m.\u001B[39mitems():\n\u001B[0;32m   3667\u001B[0m     \u001B[38;5;28;01mif\u001B[39;00m k \u001B[38;5;129;01mnot\u001B[39;00m \u001B[38;5;129;01min\u001B[39;00m \u001B[38;5;28mself\u001B[39m\u001B[38;5;241m.\u001B[39mdims:\n\u001B[1;32m-> 3668\u001B[0m         \u001B[38;5;28;01mraise\u001B[39;00m \u001B[38;5;167;01mValueError\u001B[39;00m(\n\u001B[0;32m   3669\u001B[0m             \u001B[38;5;124mf\u001B[39m\u001B[38;5;124m\"\u001B[39m\u001B[38;5;124mcannot rename \u001B[39m\u001B[38;5;132;01m{\u001B[39;00mk\u001B[38;5;132;01m!r}\u001B[39;00m\u001B[38;5;124m because it is not a \u001B[39m\u001B[38;5;124m\"\u001B[39m\n\u001B[0;32m   3670\u001B[0m             \u001B[38;5;124m\"\u001B[39m\u001B[38;5;124mdimension in this dataset\u001B[39m\u001B[38;5;124m\"\u001B[39m\n\u001B[0;32m   3671\u001B[0m         )\n\u001B[0;32m   3672\u001B[0m     \u001B[38;5;28;01mif\u001B[39;00m v \u001B[38;5;129;01min\u001B[39;00m \u001B[38;5;28mself\u001B[39m\u001B[38;5;241m.\u001B[39mdims \u001B[38;5;129;01mor\u001B[39;00m v \u001B[38;5;129;01min\u001B[39;00m \u001B[38;5;28mself\u001B[39m:\n\u001B[0;32m   3673\u001B[0m         \u001B[38;5;28;01mraise\u001B[39;00m \u001B[38;5;167;01mValueError\u001B[39;00m(\n\u001B[0;32m   3674\u001B[0m             \u001B[38;5;124mf\u001B[39m\u001B[38;5;124m\"\u001B[39m\u001B[38;5;124mCannot rename \u001B[39m\u001B[38;5;132;01m{\u001B[39;00mk\u001B[38;5;132;01m}\u001B[39;00m\u001B[38;5;124m to \u001B[39m\u001B[38;5;132;01m{\u001B[39;00mv\u001B[38;5;132;01m}\u001B[39;00m\u001B[38;5;124m because \u001B[39m\u001B[38;5;132;01m{\u001B[39;00mv\u001B[38;5;132;01m}\u001B[39;00m\u001B[38;5;124m already exists. \u001B[39m\u001B[38;5;124m\"\u001B[39m\n\u001B[0;32m   3675\u001B[0m             \u001B[38;5;124m\"\u001B[39m\u001B[38;5;124mTry using swap_dims instead.\u001B[39m\u001B[38;5;124m\"\u001B[39m\n\u001B[0;32m   3676\u001B[0m         )\n",
      "\u001B[1;31mValueError\u001B[0m: cannot rename 'y' because it is not a dimension in this dataset"
     ]
    }
   ],
   "source": [
    "# change dimension name of era sinu\n",
    "era_sinu = era_sinu.rename_dims({'y': 'ydim', 'x': 'xdim'})"
   ],
   "metadata": {
    "collapsed": false,
    "pycharm": {
     "name": "#%%\n"
    }
   }
  },
  {
   "cell_type": "code",
   "execution_count": 31,
   "outputs": [
    {
     "data": {
      "text/plain": "<xarray.DataArray (y: 253, x: 298)>\narray([[nan, nan, nan, ..., nan, nan, nan],\n       [nan, nan, nan, ..., nan, nan, nan],\n       [nan, nan, nan, ..., nan, nan, nan],\n       ...,\n       [nan, nan, nan, ..., nan, nan, nan],\n       [nan, nan, nan, ..., nan, nan, nan],\n       [nan, nan, nan, ..., nan, nan, nan]], dtype=float32)\nCoordinates:\n  * x            (x) float64 3.415e+05 3.424e+05 ... 6.157e+05 6.167e+05\n  * y            (y) float64 5.018e+06 5.017e+06 ... 4.786e+06 4.785e+06\n    band         int32 1\n    spatial_ref  int32 0\nAttributes:\n    AREA_OR_POINT:       Area\n    STATISTICS_MAXIMUM:  53646.03515625\n    STATISTICS_MEAN:     119.46772920052\n    STATISTICS_MINIMUM:  0\n    STATISTICS_STDDEV:   644.66432858711\n    scale_factor:        1.0\n    add_offset:          0.0",
      "text/html": "<div><svg style=\"position: absolute; width: 0; height: 0; overflow: hidden\">\n<defs>\n<symbol id=\"icon-database\" viewBox=\"0 0 32 32\">\n<path d=\"M16 0c-8.837 0-16 2.239-16 5v4c0 2.761 7.163 5 16 5s16-2.239 16-5v-4c0-2.761-7.163-5-16-5z\"></path>\n<path d=\"M16 17c-8.837 0-16-2.239-16-5v6c0 2.761 7.163 5 16 5s16-2.239 16-5v-6c0 2.761-7.163 5-16 5z\"></path>\n<path d=\"M16 26c-8.837 0-16-2.239-16-5v6c0 2.761 7.163 5 16 5s16-2.239 16-5v-6c0 2.761-7.163 5-16 5z\"></path>\n</symbol>\n<symbol id=\"icon-file-text2\" viewBox=\"0 0 32 32\">\n<path d=\"M28.681 7.159c-0.694-0.947-1.662-2.053-2.724-3.116s-2.169-2.030-3.116-2.724c-1.612-1.182-2.393-1.319-2.841-1.319h-15.5c-1.378 0-2.5 1.121-2.5 2.5v27c0 1.378 1.122 2.5 2.5 2.5h23c1.378 0 2.5-1.122 2.5-2.5v-19.5c0-0.448-0.137-1.23-1.319-2.841zM24.543 5.457c0.959 0.959 1.712 1.825 2.268 2.543h-4.811v-4.811c0.718 0.556 1.584 1.309 2.543 2.268zM28 29.5c0 0.271-0.229 0.5-0.5 0.5h-23c-0.271 0-0.5-0.229-0.5-0.5v-27c0-0.271 0.229-0.5 0.5-0.5 0 0 15.499-0 15.5 0v7c0 0.552 0.448 1 1 1h7v19.5z\"></path>\n<path d=\"M23 26h-14c-0.552 0-1-0.448-1-1s0.448-1 1-1h14c0.552 0 1 0.448 1 1s-0.448 1-1 1z\"></path>\n<path d=\"M23 22h-14c-0.552 0-1-0.448-1-1s0.448-1 1-1h14c0.552 0 1 0.448 1 1s-0.448 1-1 1z\"></path>\n<path d=\"M23 18h-14c-0.552 0-1-0.448-1-1s0.448-1 1-1h14c0.552 0 1 0.448 1 1s-0.448 1-1 1z\"></path>\n</symbol>\n</defs>\n</svg>\n<style>/* CSS stylesheet for displaying xarray objects in jupyterlab.\n *\n */\n\n:root {\n  --xr-font-color0: var(--jp-content-font-color0, rgba(0, 0, 0, 1));\n  --xr-font-color2: var(--jp-content-font-color2, rgba(0, 0, 0, 0.54));\n  --xr-font-color3: var(--jp-content-font-color3, rgba(0, 0, 0, 0.38));\n  --xr-border-color: var(--jp-border-color2, #e0e0e0);\n  --xr-disabled-color: var(--jp-layout-color3, #bdbdbd);\n  --xr-background-color: var(--jp-layout-color0, white);\n  --xr-background-color-row-even: var(--jp-layout-color1, white);\n  --xr-background-color-row-odd: var(--jp-layout-color2, #eeeeee);\n}\n\nhtml[theme=dark],\nbody[data-theme=dark],\nbody.vscode-dark {\n  --xr-font-color0: rgba(255, 255, 255, 1);\n  --xr-font-color2: rgba(255, 255, 255, 0.54);\n  --xr-font-color3: rgba(255, 255, 255, 0.38);\n  --xr-border-color: #1F1F1F;\n  --xr-disabled-color: #515151;\n  --xr-background-color: #111111;\n  --xr-background-color-row-even: #111111;\n  --xr-background-color-row-odd: #313131;\n}\n\n.xr-wrap {\n  display: block !important;\n  min-width: 300px;\n  max-width: 700px;\n}\n\n.xr-text-repr-fallback {\n  /* fallback to plain text repr when CSS is not injected (untrusted notebook) */\n  display: none;\n}\n\n.xr-header {\n  padding-top: 6px;\n  padding-bottom: 6px;\n  margin-bottom: 4px;\n  border-bottom: solid 1px var(--xr-border-color);\n}\n\n.xr-header > div,\n.xr-header > ul {\n  display: inline;\n  margin-top: 0;\n  margin-bottom: 0;\n}\n\n.xr-obj-type,\n.xr-array-name {\n  margin-left: 2px;\n  margin-right: 10px;\n}\n\n.xr-obj-type {\n  color: var(--xr-font-color2);\n}\n\n.xr-sections {\n  padding-left: 0 !important;\n  display: grid;\n  grid-template-columns: 150px auto auto 1fr 20px 20px;\n}\n\n.xr-section-item {\n  display: contents;\n}\n\n.xr-section-item input {\n  display: none;\n}\n\n.xr-section-item input + label {\n  color: var(--xr-disabled-color);\n}\n\n.xr-section-item input:enabled + label {\n  cursor: pointer;\n  color: var(--xr-font-color2);\n}\n\n.xr-section-item input:enabled + label:hover {\n  color: var(--xr-font-color0);\n}\n\n.xr-section-summary {\n  grid-column: 1;\n  color: var(--xr-font-color2);\n  font-weight: 500;\n}\n\n.xr-section-summary > span {\n  display: inline-block;\n  padding-left: 0.5em;\n}\n\n.xr-section-summary-in:disabled + label {\n  color: var(--xr-font-color2);\n}\n\n.xr-section-summary-in + label:before {\n  display: inline-block;\n  content: '►';\n  font-size: 11px;\n  width: 15px;\n  text-align: center;\n}\n\n.xr-section-summary-in:disabled + label:before {\n  color: var(--xr-disabled-color);\n}\n\n.xr-section-summary-in:checked + label:before {\n  content: '▼';\n}\n\n.xr-section-summary-in:checked + label > span {\n  display: none;\n}\n\n.xr-section-summary,\n.xr-section-inline-details {\n  padding-top: 4px;\n  padding-bottom: 4px;\n}\n\n.xr-section-inline-details {\n  grid-column: 2 / -1;\n}\n\n.xr-section-details {\n  display: none;\n  grid-column: 1 / -1;\n  margin-bottom: 5px;\n}\n\n.xr-section-summary-in:checked ~ .xr-section-details {\n  display: contents;\n}\n\n.xr-array-wrap {\n  grid-column: 1 / -1;\n  display: grid;\n  grid-template-columns: 20px auto;\n}\n\n.xr-array-wrap > label {\n  grid-column: 1;\n  vertical-align: top;\n}\n\n.xr-preview {\n  color: var(--xr-font-color3);\n}\n\n.xr-array-preview,\n.xr-array-data {\n  padding: 0 5px !important;\n  grid-column: 2;\n}\n\n.xr-array-data,\n.xr-array-in:checked ~ .xr-array-preview {\n  display: none;\n}\n\n.xr-array-in:checked ~ .xr-array-data,\n.xr-array-preview {\n  display: inline-block;\n}\n\n.xr-dim-list {\n  display: inline-block !important;\n  list-style: none;\n  padding: 0 !important;\n  margin: 0;\n}\n\n.xr-dim-list li {\n  display: inline-block;\n  padding: 0;\n  margin: 0;\n}\n\n.xr-dim-list:before {\n  content: '(';\n}\n\n.xr-dim-list:after {\n  content: ')';\n}\n\n.xr-dim-list li:not(:last-child):after {\n  content: ',';\n  padding-right: 5px;\n}\n\n.xr-has-index {\n  font-weight: bold;\n}\n\n.xr-var-list,\n.xr-var-item {\n  display: contents;\n}\n\n.xr-var-item > div,\n.xr-var-item label,\n.xr-var-item > .xr-var-name span {\n  background-color: var(--xr-background-color-row-even);\n  margin-bottom: 0;\n}\n\n.xr-var-item > .xr-var-name:hover span {\n  padding-right: 5px;\n}\n\n.xr-var-list > li:nth-child(odd) > div,\n.xr-var-list > li:nth-child(odd) > label,\n.xr-var-list > li:nth-child(odd) > .xr-var-name span {\n  background-color: var(--xr-background-color-row-odd);\n}\n\n.xr-var-name {\n  grid-column: 1;\n}\n\n.xr-var-dims {\n  grid-column: 2;\n}\n\n.xr-var-dtype {\n  grid-column: 3;\n  text-align: right;\n  color: var(--xr-font-color2);\n}\n\n.xr-var-preview {\n  grid-column: 4;\n}\n\n.xr-var-name,\n.xr-var-dims,\n.xr-var-dtype,\n.xr-preview,\n.xr-attrs dt {\n  white-space: nowrap;\n  overflow: hidden;\n  text-overflow: ellipsis;\n  padding-right: 10px;\n}\n\n.xr-var-name:hover,\n.xr-var-dims:hover,\n.xr-var-dtype:hover,\n.xr-attrs dt:hover {\n  overflow: visible;\n  width: auto;\n  z-index: 1;\n}\n\n.xr-var-attrs,\n.xr-var-data {\n  display: none;\n  background-color: var(--xr-background-color) !important;\n  padding-bottom: 5px !important;\n}\n\n.xr-var-attrs-in:checked ~ .xr-var-attrs,\n.xr-var-data-in:checked ~ .xr-var-data {\n  display: block;\n}\n\n.xr-var-data > table {\n  float: right;\n}\n\n.xr-var-name span,\n.xr-var-data,\n.xr-attrs {\n  padding-left: 25px !important;\n}\n\n.xr-attrs,\n.xr-var-attrs,\n.xr-var-data {\n  grid-column: 1 / -1;\n}\n\ndl.xr-attrs {\n  padding: 0;\n  margin: 0;\n  display: grid;\n  grid-template-columns: 125px auto;\n}\n\n.xr-attrs dt,\n.xr-attrs dd {\n  padding: 0;\n  margin: 0;\n  float: left;\n  padding-right: 10px;\n  width: auto;\n}\n\n.xr-attrs dt {\n  font-weight: normal;\n  grid-column: 1;\n}\n\n.xr-attrs dt:hover span {\n  display: inline-block;\n  background: var(--xr-background-color);\n  padding-right: 10px;\n}\n\n.xr-attrs dd {\n  grid-column: 2;\n  white-space: pre-wrap;\n  word-break: break-all;\n}\n\n.xr-icon-database,\n.xr-icon-file-text2 {\n  display: inline-block;\n  vertical-align: middle;\n  width: 1em;\n  height: 1.5em !important;\n  stroke-width: 0;\n  stroke: currentColor;\n  fill: currentColor;\n}\n</style><pre class='xr-text-repr-fallback'>&lt;xarray.DataArray (y: 253, x: 298)&gt;\narray([[nan, nan, nan, ..., nan, nan, nan],\n       [nan, nan, nan, ..., nan, nan, nan],\n       [nan, nan, nan, ..., nan, nan, nan],\n       ...,\n       [nan, nan, nan, ..., nan, nan, nan],\n       [nan, nan, nan, ..., nan, nan, nan],\n       [nan, nan, nan, ..., nan, nan, nan]], dtype=float32)\nCoordinates:\n  * x            (x) float64 3.415e+05 3.424e+05 ... 6.157e+05 6.167e+05\n  * y            (y) float64 5.018e+06 5.017e+06 ... 4.786e+06 4.785e+06\n    band         int32 1\n    spatial_ref  int32 0\nAttributes:\n    AREA_OR_POINT:       Area\n    STATISTICS_MAXIMUM:  53646.03515625\n    STATISTICS_MEAN:     119.46772920052\n    STATISTICS_MINIMUM:  0\n    STATISTICS_STDDEV:   644.66432858711\n    scale_factor:        1.0\n    add_offset:          0.0</pre><div class='xr-wrap' style='display:none'><div class='xr-header'><div class='xr-obj-type'>xarray.DataArray</div><div class='xr-array-name'></div><ul class='xr-dim-list'><li><span class='xr-has-index'>y</span>: 253</li><li><span class='xr-has-index'>x</span>: 298</li></ul></div><ul class='xr-sections'><li class='xr-section-item'><div class='xr-array-wrap'><input id='section-3930c413-b049-4e73-b078-0c6ab199e644' class='xr-array-in' type='checkbox' checked><label for='section-3930c413-b049-4e73-b078-0c6ab199e644' title='Show/hide data repr'><svg class='icon xr-icon-database'><use xlink:href='#icon-database'></use></svg></label><div class='xr-array-preview xr-preview'><span>nan nan nan nan nan nan nan nan ... nan nan nan nan nan nan nan nan</span></div><div class='xr-array-data'><pre>array([[nan, nan, nan, ..., nan, nan, nan],\n       [nan, nan, nan, ..., nan, nan, nan],\n       [nan, nan, nan, ..., nan, nan, nan],\n       ...,\n       [nan, nan, nan, ..., nan, nan, nan],\n       [nan, nan, nan, ..., nan, nan, nan],\n       [nan, nan, nan, ..., nan, nan, nan]], dtype=float32)</pre></div></div></li><li class='xr-section-item'><input id='section-8d3a4a77-a68c-413c-8174-e46d95291221' class='xr-section-summary-in' type='checkbox'  checked><label for='section-8d3a4a77-a68c-413c-8174-e46d95291221' class='xr-section-summary' >Coordinates: <span>(4)</span></label><div class='xr-section-inline-details'></div><div class='xr-section-details'><ul class='xr-var-list'><li class='xr-var-item'><div class='xr-var-name'><span class='xr-has-index'>x</span></div><div class='xr-var-dims'>(x)</div><div class='xr-var-dtype'>float64</div><div class='xr-var-preview xr-preview'>3.415e+05 3.424e+05 ... 6.167e+05</div><input id='attrs-5e340c73-eece-4a82-b7bb-bce07a3444c6' class='xr-var-attrs-in' type='checkbox' ><label for='attrs-5e340c73-eece-4a82-b7bb-bce07a3444c6' title='Show/Hide attributes'><svg class='icon xr-icon-file-text2'><use xlink:href='#icon-file-text2'></use></svg></label><input id='data-3de331b1-9592-4150-9f0d-70e55494ebec' class='xr-var-data-in' type='checkbox'><label for='data-3de331b1-9592-4150-9f0d-70e55494ebec' title='Show/Hide data repr'><svg class='icon xr-icon-database'><use xlink:href='#icon-database'></use></svg></label><div class='xr-var-attrs'><dl class='xr-attrs'><dt><span>axis :</span></dt><dd>X</dd><dt><span>long_name :</span></dt><dd>x coordinate of projection</dd><dt><span>standard_name :</span></dt><dd>projection_x_coordinate</dd><dt><span>units :</span></dt><dd>metre</dd></dl></div><div class='xr-var-data'><pre>array([341461.472081, 342388.097514, 343314.722947, ..., 614815.974832,\n       615742.600265, 616669.225698])</pre></div></li><li class='xr-var-item'><div class='xr-var-name'><span class='xr-has-index'>y</span></div><div class='xr-var-dims'>(y)</div><div class='xr-var-dtype'>float64</div><div class='xr-var-preview xr-preview'>5.018e+06 5.017e+06 ... 4.785e+06</div><input id='attrs-4817c1e4-9331-4de4-8765-055630364df1' class='xr-var-attrs-in' type='checkbox' ><label for='attrs-4817c1e4-9331-4de4-8765-055630364df1' title='Show/Hide attributes'><svg class='icon xr-icon-file-text2'><use xlink:href='#icon-file-text2'></use></svg></label><input id='data-debe54cd-559b-49e8-9a37-e38de16f35d2' class='xr-var-data-in' type='checkbox'><label for='data-debe54cd-559b-49e8-9a37-e38de16f35d2' title='Show/Hide data repr'><svg class='icon xr-icon-database'><use xlink:href='#icon-database'></use></svg></label><div class='xr-var-attrs'><dl class='xr-attrs'><dt><span>axis :</span></dt><dd>Y</dd><dt><span>long_name :</span></dt><dd>y coordinate of projection</dd><dt><span>standard_name :</span></dt><dd>projection_y_coordinate</dd><dt><span>units :</span></dt><dd>metre</dd></dl></div><div class='xr-var-data'><pre>array([5018140.032712, 5017213.407279, 5016286.781846, ..., 4786483.674448,\n       4785557.049015, 4784630.423582])</pre></div></li><li class='xr-var-item'><div class='xr-var-name'><span>band</span></div><div class='xr-var-dims'>()</div><div class='xr-var-dtype'>int32</div><div class='xr-var-preview xr-preview'>1</div><input id='attrs-09a79d16-a9d7-497b-8682-5e2644035df4' class='xr-var-attrs-in' type='checkbox' disabled><label for='attrs-09a79d16-a9d7-497b-8682-5e2644035df4' title='Show/Hide attributes'><svg class='icon xr-icon-file-text2'><use xlink:href='#icon-file-text2'></use></svg></label><input id='data-c6381ead-3502-4bf0-a647-61581614883b' class='xr-var-data-in' type='checkbox'><label for='data-c6381ead-3502-4bf0-a647-61581614883b' title='Show/Hide data repr'><svg class='icon xr-icon-database'><use xlink:href='#icon-database'></use></svg></label><div class='xr-var-attrs'><dl class='xr-attrs'></dl></div><div class='xr-var-data'><pre>array(1)</pre></div></li><li class='xr-var-item'><div class='xr-var-name'><span>spatial_ref</span></div><div class='xr-var-dims'>()</div><div class='xr-var-dtype'>int32</div><div class='xr-var-preview xr-preview'>0</div><input id='attrs-70486c97-d281-48b4-b805-a7776ef42c82' class='xr-var-attrs-in' type='checkbox' ><label for='attrs-70486c97-d281-48b4-b805-a7776ef42c82' title='Show/Hide attributes'><svg class='icon xr-icon-file-text2'><use xlink:href='#icon-file-text2'></use></svg></label><input id='data-c68da197-ec8a-46ef-9c1c-5dfd8a556f52' class='xr-var-data-in' type='checkbox'><label for='data-c68da197-ec8a-46ef-9c1c-5dfd8a556f52' title='Show/Hide data repr'><svg class='icon xr-icon-database'><use xlink:href='#icon-database'></use></svg></label><div class='xr-var-attrs'><dl class='xr-attrs'><dt><span>crs_wkt :</span></dt><dd>PROJCS[&quot;unknown&quot;,GEOGCS[&quot;unknown&quot;,DATUM[&quot;unknown&quot;,SPHEROID[&quot;unknown&quot;,6371007.181,0]],PRIMEM[&quot;Greenwich&quot;,0,AUTHORITY[&quot;EPSG&quot;,&quot;8901&quot;]],UNIT[&quot;degree&quot;,0.0174532925199433,AUTHORITY[&quot;EPSG&quot;,&quot;9122&quot;]]],PROJECTION[&quot;Sinusoidal&quot;],PARAMETER[&quot;longitude_of_center&quot;,0],PARAMETER[&quot;false_easting&quot;,0],PARAMETER[&quot;false_northing&quot;,0],UNIT[&quot;metre&quot;,1,AUTHORITY[&quot;EPSG&quot;,&quot;9001&quot;]],AXIS[&quot;Easting&quot;,EAST],AXIS[&quot;Northing&quot;,NORTH]]</dd><dt><span>semi_major_axis :</span></dt><dd>6371007.181</dd><dt><span>semi_minor_axis :</span></dt><dd>6371007.181</dd><dt><span>inverse_flattening :</span></dt><dd>0.0</dd><dt><span>reference_ellipsoid_name :</span></dt><dd>unknown</dd><dt><span>longitude_of_prime_meridian :</span></dt><dd>0.0</dd><dt><span>prime_meridian_name :</span></dt><dd>Greenwich</dd><dt><span>geographic_crs_name :</span></dt><dd>unknown</dd><dt><span>horizontal_datum_name :</span></dt><dd>unknown</dd><dt><span>projected_crs_name :</span></dt><dd>unknown</dd><dt><span>grid_mapping_name :</span></dt><dd>sinusoidal</dd><dt><span>longitude_of_projection_origin :</span></dt><dd>0.0</dd><dt><span>false_easting :</span></dt><dd>0.0</dd><dt><span>false_northing :</span></dt><dd>0.0</dd><dt><span>spatial_ref :</span></dt><dd>PROJCS[&quot;unknown&quot;,GEOGCS[&quot;unknown&quot;,DATUM[&quot;unknown&quot;,SPHEROID[&quot;unknown&quot;,6371007.181,0]],PRIMEM[&quot;Greenwich&quot;,0,AUTHORITY[&quot;EPSG&quot;,&quot;8901&quot;]],UNIT[&quot;degree&quot;,0.0174532925199433,AUTHORITY[&quot;EPSG&quot;,&quot;9122&quot;]]],PROJECTION[&quot;Sinusoidal&quot;],PARAMETER[&quot;longitude_of_center&quot;,0],PARAMETER[&quot;false_easting&quot;,0],PARAMETER[&quot;false_northing&quot;,0],UNIT[&quot;metre&quot;,1,AUTHORITY[&quot;EPSG&quot;,&quot;9001&quot;]],AXIS[&quot;Easting&quot;,EAST],AXIS[&quot;Northing&quot;,NORTH]]</dd><dt><span>GeoTransform :</span></dt><dd>340998.1593644446 926.6254330555558 0.0 5018603.345428891 0.0 -926.6254330555546</dd></dl></div><div class='xr-var-data'><pre>array(0)</pre></div></li></ul></div></li><li class='xr-section-item'><input id='section-23380331-2ab9-4c9a-ab98-1200b1afe714' class='xr-section-summary-in' type='checkbox'  checked><label for='section-23380331-2ab9-4c9a-ab98-1200b1afe714' class='xr-section-summary' >Attributes: <span>(7)</span></label><div class='xr-section-inline-details'></div><div class='xr-section-details'><dl class='xr-attrs'><dt><span>AREA_OR_POINT :</span></dt><dd>Area</dd><dt><span>STATISTICS_MAXIMUM :</span></dt><dd>53646.03515625</dd><dt><span>STATISTICS_MEAN :</span></dt><dd>119.46772920052</dd><dt><span>STATISTICS_MINIMUM :</span></dt><dd>0</dd><dt><span>STATISTICS_STDDEV :</span></dt><dd>644.66432858711</dd><dt><span>scale_factor :</span></dt><dd>1.0</dd><dt><span>add_offset :</span></dt><dd>0.0</dd></dl></div></li></ul></div></div>"
     },
     "execution_count": 31,
     "metadata": {},
     "output_type": "execute_result"
    }
   ],
   "source": [
    "density_proj"
   ],
   "metadata": {
    "collapsed": false,
    "pycharm": {
     "name": "#%%\n"
    }
   }
  },
  {
   "cell_type": "code",
   "execution_count": 35,
   "outputs": [],
   "source": [
    "# change density_proj to xarray dataset\n",
    "density_proj = density_proj.to_dataset()"
   ],
   "metadata": {
    "collapsed": false,
    "pycharm": {
     "name": "#%%\n"
    }
   }
  },
  {
   "cell_type": "code",
   "execution_count": 36,
   "outputs": [],
   "source": [
    "#Change name of the dimension of the density data set\n",
    "density_proj = density_proj.rename_dims({'y': 'ydim', 'x': 'xdim'})"
   ],
   "metadata": {
    "collapsed": false,
    "pycharm": {
     "name": "#%%\n"
    }
   }
  },
  {
   "cell_type": "code",
   "execution_count": 37,
   "outputs": [
    {
     "data": {
      "text/plain": "<xarray.Dataset>\nDimensions:      (xdim: 298, ydim: 253)\nCoordinates:\n  * x            (xdim) float64 3.415e+05 3.424e+05 ... 6.157e+05 6.167e+05\n  * y            (ydim) float64 5.018e+06 5.017e+06 ... 4.786e+06 4.785e+06\n    band         int32 1\n    spatial_ref  int32 0\nDimensions without coordinates: xdim, ydim\nData variables:\n    density      (ydim, xdim) float32 nan nan nan nan nan ... nan nan nan nan",
      "text/html": "<div><svg style=\"position: absolute; width: 0; height: 0; overflow: hidden\">\n<defs>\n<symbol id=\"icon-database\" viewBox=\"0 0 32 32\">\n<path d=\"M16 0c-8.837 0-16 2.239-16 5v4c0 2.761 7.163 5 16 5s16-2.239 16-5v-4c0-2.761-7.163-5-16-5z\"></path>\n<path d=\"M16 17c-8.837 0-16-2.239-16-5v6c0 2.761 7.163 5 16 5s16-2.239 16-5v-6c0 2.761-7.163 5-16 5z\"></path>\n<path d=\"M16 26c-8.837 0-16-2.239-16-5v6c0 2.761 7.163 5 16 5s16-2.239 16-5v-6c0 2.761-7.163 5-16 5z\"></path>\n</symbol>\n<symbol id=\"icon-file-text2\" viewBox=\"0 0 32 32\">\n<path d=\"M28.681 7.159c-0.694-0.947-1.662-2.053-2.724-3.116s-2.169-2.030-3.116-2.724c-1.612-1.182-2.393-1.319-2.841-1.319h-15.5c-1.378 0-2.5 1.121-2.5 2.5v27c0 1.378 1.122 2.5 2.5 2.5h23c1.378 0 2.5-1.122 2.5-2.5v-19.5c0-0.448-0.137-1.23-1.319-2.841zM24.543 5.457c0.959 0.959 1.712 1.825 2.268 2.543h-4.811v-4.811c0.718 0.556 1.584 1.309 2.543 2.268zM28 29.5c0 0.271-0.229 0.5-0.5 0.5h-23c-0.271 0-0.5-0.229-0.5-0.5v-27c0-0.271 0.229-0.5 0.5-0.5 0 0 15.499-0 15.5 0v7c0 0.552 0.448 1 1 1h7v19.5z\"></path>\n<path d=\"M23 26h-14c-0.552 0-1-0.448-1-1s0.448-1 1-1h14c0.552 0 1 0.448 1 1s-0.448 1-1 1z\"></path>\n<path d=\"M23 22h-14c-0.552 0-1-0.448-1-1s0.448-1 1-1h14c0.552 0 1 0.448 1 1s-0.448 1-1 1z\"></path>\n<path d=\"M23 18h-14c-0.552 0-1-0.448-1-1s0.448-1 1-1h14c0.552 0 1 0.448 1 1s-0.448 1-1 1z\"></path>\n</symbol>\n</defs>\n</svg>\n<style>/* CSS stylesheet for displaying xarray objects in jupyterlab.\n *\n */\n\n:root {\n  --xr-font-color0: var(--jp-content-font-color0, rgba(0, 0, 0, 1));\n  --xr-font-color2: var(--jp-content-font-color2, rgba(0, 0, 0, 0.54));\n  --xr-font-color3: var(--jp-content-font-color3, rgba(0, 0, 0, 0.38));\n  --xr-border-color: var(--jp-border-color2, #e0e0e0);\n  --xr-disabled-color: var(--jp-layout-color3, #bdbdbd);\n  --xr-background-color: var(--jp-layout-color0, white);\n  --xr-background-color-row-even: var(--jp-layout-color1, white);\n  --xr-background-color-row-odd: var(--jp-layout-color2, #eeeeee);\n}\n\nhtml[theme=dark],\nbody[data-theme=dark],\nbody.vscode-dark {\n  --xr-font-color0: rgba(255, 255, 255, 1);\n  --xr-font-color2: rgba(255, 255, 255, 0.54);\n  --xr-font-color3: rgba(255, 255, 255, 0.38);\n  --xr-border-color: #1F1F1F;\n  --xr-disabled-color: #515151;\n  --xr-background-color: #111111;\n  --xr-background-color-row-even: #111111;\n  --xr-background-color-row-odd: #313131;\n}\n\n.xr-wrap {\n  display: block !important;\n  min-width: 300px;\n  max-width: 700px;\n}\n\n.xr-text-repr-fallback {\n  /* fallback to plain text repr when CSS is not injected (untrusted notebook) */\n  display: none;\n}\n\n.xr-header {\n  padding-top: 6px;\n  padding-bottom: 6px;\n  margin-bottom: 4px;\n  border-bottom: solid 1px var(--xr-border-color);\n}\n\n.xr-header > div,\n.xr-header > ul {\n  display: inline;\n  margin-top: 0;\n  margin-bottom: 0;\n}\n\n.xr-obj-type,\n.xr-array-name {\n  margin-left: 2px;\n  margin-right: 10px;\n}\n\n.xr-obj-type {\n  color: var(--xr-font-color2);\n}\n\n.xr-sections {\n  padding-left: 0 !important;\n  display: grid;\n  grid-template-columns: 150px auto auto 1fr 20px 20px;\n}\n\n.xr-section-item {\n  display: contents;\n}\n\n.xr-section-item input {\n  display: none;\n}\n\n.xr-section-item input + label {\n  color: var(--xr-disabled-color);\n}\n\n.xr-section-item input:enabled + label {\n  cursor: pointer;\n  color: var(--xr-font-color2);\n}\n\n.xr-section-item input:enabled + label:hover {\n  color: var(--xr-font-color0);\n}\n\n.xr-section-summary {\n  grid-column: 1;\n  color: var(--xr-font-color2);\n  font-weight: 500;\n}\n\n.xr-section-summary > span {\n  display: inline-block;\n  padding-left: 0.5em;\n}\n\n.xr-section-summary-in:disabled + label {\n  color: var(--xr-font-color2);\n}\n\n.xr-section-summary-in + label:before {\n  display: inline-block;\n  content: '►';\n  font-size: 11px;\n  width: 15px;\n  text-align: center;\n}\n\n.xr-section-summary-in:disabled + label:before {\n  color: var(--xr-disabled-color);\n}\n\n.xr-section-summary-in:checked + label:before {\n  content: '▼';\n}\n\n.xr-section-summary-in:checked + label > span {\n  display: none;\n}\n\n.xr-section-summary,\n.xr-section-inline-details {\n  padding-top: 4px;\n  padding-bottom: 4px;\n}\n\n.xr-section-inline-details {\n  grid-column: 2 / -1;\n}\n\n.xr-section-details {\n  display: none;\n  grid-column: 1 / -1;\n  margin-bottom: 5px;\n}\n\n.xr-section-summary-in:checked ~ .xr-section-details {\n  display: contents;\n}\n\n.xr-array-wrap {\n  grid-column: 1 / -1;\n  display: grid;\n  grid-template-columns: 20px auto;\n}\n\n.xr-array-wrap > label {\n  grid-column: 1;\n  vertical-align: top;\n}\n\n.xr-preview {\n  color: var(--xr-font-color3);\n}\n\n.xr-array-preview,\n.xr-array-data {\n  padding: 0 5px !important;\n  grid-column: 2;\n}\n\n.xr-array-data,\n.xr-array-in:checked ~ .xr-array-preview {\n  display: none;\n}\n\n.xr-array-in:checked ~ .xr-array-data,\n.xr-array-preview {\n  display: inline-block;\n}\n\n.xr-dim-list {\n  display: inline-block !important;\n  list-style: none;\n  padding: 0 !important;\n  margin: 0;\n}\n\n.xr-dim-list li {\n  display: inline-block;\n  padding: 0;\n  margin: 0;\n}\n\n.xr-dim-list:before {\n  content: '(';\n}\n\n.xr-dim-list:after {\n  content: ')';\n}\n\n.xr-dim-list li:not(:last-child):after {\n  content: ',';\n  padding-right: 5px;\n}\n\n.xr-has-index {\n  font-weight: bold;\n}\n\n.xr-var-list,\n.xr-var-item {\n  display: contents;\n}\n\n.xr-var-item > div,\n.xr-var-item label,\n.xr-var-item > .xr-var-name span {\n  background-color: var(--xr-background-color-row-even);\n  margin-bottom: 0;\n}\n\n.xr-var-item > .xr-var-name:hover span {\n  padding-right: 5px;\n}\n\n.xr-var-list > li:nth-child(odd) > div,\n.xr-var-list > li:nth-child(odd) > label,\n.xr-var-list > li:nth-child(odd) > .xr-var-name span {\n  background-color: var(--xr-background-color-row-odd);\n}\n\n.xr-var-name {\n  grid-column: 1;\n}\n\n.xr-var-dims {\n  grid-column: 2;\n}\n\n.xr-var-dtype {\n  grid-column: 3;\n  text-align: right;\n  color: var(--xr-font-color2);\n}\n\n.xr-var-preview {\n  grid-column: 4;\n}\n\n.xr-var-name,\n.xr-var-dims,\n.xr-var-dtype,\n.xr-preview,\n.xr-attrs dt {\n  white-space: nowrap;\n  overflow: hidden;\n  text-overflow: ellipsis;\n  padding-right: 10px;\n}\n\n.xr-var-name:hover,\n.xr-var-dims:hover,\n.xr-var-dtype:hover,\n.xr-attrs dt:hover {\n  overflow: visible;\n  width: auto;\n  z-index: 1;\n}\n\n.xr-var-attrs,\n.xr-var-data {\n  display: none;\n  background-color: var(--xr-background-color) !important;\n  padding-bottom: 5px !important;\n}\n\n.xr-var-attrs-in:checked ~ .xr-var-attrs,\n.xr-var-data-in:checked ~ .xr-var-data {\n  display: block;\n}\n\n.xr-var-data > table {\n  float: right;\n}\n\n.xr-var-name span,\n.xr-var-data,\n.xr-attrs {\n  padding-left: 25px !important;\n}\n\n.xr-attrs,\n.xr-var-attrs,\n.xr-var-data {\n  grid-column: 1 / -1;\n}\n\ndl.xr-attrs {\n  padding: 0;\n  margin: 0;\n  display: grid;\n  grid-template-columns: 125px auto;\n}\n\n.xr-attrs dt,\n.xr-attrs dd {\n  padding: 0;\n  margin: 0;\n  float: left;\n  padding-right: 10px;\n  width: auto;\n}\n\n.xr-attrs dt {\n  font-weight: normal;\n  grid-column: 1;\n}\n\n.xr-attrs dt:hover span {\n  display: inline-block;\n  background: var(--xr-background-color);\n  padding-right: 10px;\n}\n\n.xr-attrs dd {\n  grid-column: 2;\n  white-space: pre-wrap;\n  word-break: break-all;\n}\n\n.xr-icon-database,\n.xr-icon-file-text2 {\n  display: inline-block;\n  vertical-align: middle;\n  width: 1em;\n  height: 1.5em !important;\n  stroke-width: 0;\n  stroke: currentColor;\n  fill: currentColor;\n}\n</style><pre class='xr-text-repr-fallback'>&lt;xarray.Dataset&gt;\nDimensions:      (xdim: 298, ydim: 253)\nCoordinates:\n  * x            (xdim) float64 3.415e+05 3.424e+05 ... 6.157e+05 6.167e+05\n  * y            (ydim) float64 5.018e+06 5.017e+06 ... 4.786e+06 4.785e+06\n    band         int32 1\n    spatial_ref  int32 0\nDimensions without coordinates: xdim, ydim\nData variables:\n    density      (ydim, xdim) float32 nan nan nan nan nan ... nan nan nan nan</pre><div class='xr-wrap' style='display:none'><div class='xr-header'><div class='xr-obj-type'>xarray.Dataset</div></div><ul class='xr-sections'><li class='xr-section-item'><input id='section-47531274-ea6a-4b72-b895-37b201090e2e' class='xr-section-summary-in' type='checkbox' disabled ><label for='section-47531274-ea6a-4b72-b895-37b201090e2e' class='xr-section-summary'  title='Expand/collapse section'>Dimensions:</label><div class='xr-section-inline-details'><ul class='xr-dim-list'><li><span class='xr-has-index'>xdim</span>: 298</li><li><span class='xr-has-index'>ydim</span>: 253</li></ul></div><div class='xr-section-details'></div></li><li class='xr-section-item'><input id='section-ca31179f-a41a-42f6-be46-c625f95ebefa' class='xr-section-summary-in' type='checkbox'  checked><label for='section-ca31179f-a41a-42f6-be46-c625f95ebefa' class='xr-section-summary' >Coordinates: <span>(4)</span></label><div class='xr-section-inline-details'></div><div class='xr-section-details'><ul class='xr-var-list'><li class='xr-var-item'><div class='xr-var-name'><span class='xr-has-index'>x</span></div><div class='xr-var-dims'>(xdim)</div><div class='xr-var-dtype'>float64</div><div class='xr-var-preview xr-preview'>3.415e+05 3.424e+05 ... 6.167e+05</div><input id='attrs-f664a9dc-72cb-4bd1-a3c7-47b702778367' class='xr-var-attrs-in' type='checkbox' ><label for='attrs-f664a9dc-72cb-4bd1-a3c7-47b702778367' title='Show/Hide attributes'><svg class='icon xr-icon-file-text2'><use xlink:href='#icon-file-text2'></use></svg></label><input id='data-75d41aa6-d2b5-42ea-be17-450356ad5669' class='xr-var-data-in' type='checkbox'><label for='data-75d41aa6-d2b5-42ea-be17-450356ad5669' title='Show/Hide data repr'><svg class='icon xr-icon-database'><use xlink:href='#icon-database'></use></svg></label><div class='xr-var-attrs'><dl class='xr-attrs'><dt><span>axis :</span></dt><dd>X</dd><dt><span>long_name :</span></dt><dd>x coordinate of projection</dd><dt><span>standard_name :</span></dt><dd>projection_x_coordinate</dd><dt><span>units :</span></dt><dd>metre</dd></dl></div><div class='xr-var-data'><pre>array([341461.472081, 342388.097514, 343314.722947, ..., 614815.974832,\n       615742.600265, 616669.225698])</pre></div></li><li class='xr-var-item'><div class='xr-var-name'><span class='xr-has-index'>y</span></div><div class='xr-var-dims'>(ydim)</div><div class='xr-var-dtype'>float64</div><div class='xr-var-preview xr-preview'>5.018e+06 5.017e+06 ... 4.785e+06</div><input id='attrs-2f6b1829-ba21-4985-bf31-22817e8a7d73' class='xr-var-attrs-in' type='checkbox' ><label for='attrs-2f6b1829-ba21-4985-bf31-22817e8a7d73' title='Show/Hide attributes'><svg class='icon xr-icon-file-text2'><use xlink:href='#icon-file-text2'></use></svg></label><input id='data-dd3532ee-68ed-4b6d-89cd-e6787221d2c9' class='xr-var-data-in' type='checkbox'><label for='data-dd3532ee-68ed-4b6d-89cd-e6787221d2c9' title='Show/Hide data repr'><svg class='icon xr-icon-database'><use xlink:href='#icon-database'></use></svg></label><div class='xr-var-attrs'><dl class='xr-attrs'><dt><span>axis :</span></dt><dd>Y</dd><dt><span>long_name :</span></dt><dd>y coordinate of projection</dd><dt><span>standard_name :</span></dt><dd>projection_y_coordinate</dd><dt><span>units :</span></dt><dd>metre</dd></dl></div><div class='xr-var-data'><pre>array([5018140.032712, 5017213.407279, 5016286.781846, ..., 4786483.674448,\n       4785557.049015, 4784630.423582])</pre></div></li><li class='xr-var-item'><div class='xr-var-name'><span>band</span></div><div class='xr-var-dims'>()</div><div class='xr-var-dtype'>int32</div><div class='xr-var-preview xr-preview'>1</div><input id='attrs-9b61424c-5d2e-4419-9f62-566c2f162581' class='xr-var-attrs-in' type='checkbox' disabled><label for='attrs-9b61424c-5d2e-4419-9f62-566c2f162581' title='Show/Hide attributes'><svg class='icon xr-icon-file-text2'><use xlink:href='#icon-file-text2'></use></svg></label><input id='data-d723f403-97c5-4d8c-a080-a6ccb8e7ff41' class='xr-var-data-in' type='checkbox'><label for='data-d723f403-97c5-4d8c-a080-a6ccb8e7ff41' title='Show/Hide data repr'><svg class='icon xr-icon-database'><use xlink:href='#icon-database'></use></svg></label><div class='xr-var-attrs'><dl class='xr-attrs'></dl></div><div class='xr-var-data'><pre>array(1)</pre></div></li><li class='xr-var-item'><div class='xr-var-name'><span>spatial_ref</span></div><div class='xr-var-dims'>()</div><div class='xr-var-dtype'>int32</div><div class='xr-var-preview xr-preview'>0</div><input id='attrs-142e0910-5328-4c49-82f4-0b194f92c1bb' class='xr-var-attrs-in' type='checkbox' ><label for='attrs-142e0910-5328-4c49-82f4-0b194f92c1bb' title='Show/Hide attributes'><svg class='icon xr-icon-file-text2'><use xlink:href='#icon-file-text2'></use></svg></label><input id='data-26d46332-15f5-43de-a9e1-c9f20473d901' class='xr-var-data-in' type='checkbox'><label for='data-26d46332-15f5-43de-a9e1-c9f20473d901' title='Show/Hide data repr'><svg class='icon xr-icon-database'><use xlink:href='#icon-database'></use></svg></label><div class='xr-var-attrs'><dl class='xr-attrs'><dt><span>crs_wkt :</span></dt><dd>PROJCS[&quot;unknown&quot;,GEOGCS[&quot;unknown&quot;,DATUM[&quot;unknown&quot;,SPHEROID[&quot;unknown&quot;,6371007.181,0]],PRIMEM[&quot;Greenwich&quot;,0,AUTHORITY[&quot;EPSG&quot;,&quot;8901&quot;]],UNIT[&quot;degree&quot;,0.0174532925199433,AUTHORITY[&quot;EPSG&quot;,&quot;9122&quot;]]],PROJECTION[&quot;Sinusoidal&quot;],PARAMETER[&quot;longitude_of_center&quot;,0],PARAMETER[&quot;false_easting&quot;,0],PARAMETER[&quot;false_northing&quot;,0],UNIT[&quot;metre&quot;,1,AUTHORITY[&quot;EPSG&quot;,&quot;9001&quot;]],AXIS[&quot;Easting&quot;,EAST],AXIS[&quot;Northing&quot;,NORTH]]</dd><dt><span>semi_major_axis :</span></dt><dd>6371007.181</dd><dt><span>semi_minor_axis :</span></dt><dd>6371007.181</dd><dt><span>inverse_flattening :</span></dt><dd>0.0</dd><dt><span>reference_ellipsoid_name :</span></dt><dd>unknown</dd><dt><span>longitude_of_prime_meridian :</span></dt><dd>0.0</dd><dt><span>prime_meridian_name :</span></dt><dd>Greenwich</dd><dt><span>geographic_crs_name :</span></dt><dd>unknown</dd><dt><span>horizontal_datum_name :</span></dt><dd>unknown</dd><dt><span>projected_crs_name :</span></dt><dd>unknown</dd><dt><span>grid_mapping_name :</span></dt><dd>sinusoidal</dd><dt><span>longitude_of_projection_origin :</span></dt><dd>0.0</dd><dt><span>false_easting :</span></dt><dd>0.0</dd><dt><span>false_northing :</span></dt><dd>0.0</dd><dt><span>spatial_ref :</span></dt><dd>PROJCS[&quot;unknown&quot;,GEOGCS[&quot;unknown&quot;,DATUM[&quot;unknown&quot;,SPHEROID[&quot;unknown&quot;,6371007.181,0]],PRIMEM[&quot;Greenwich&quot;,0,AUTHORITY[&quot;EPSG&quot;,&quot;8901&quot;]],UNIT[&quot;degree&quot;,0.0174532925199433,AUTHORITY[&quot;EPSG&quot;,&quot;9122&quot;]]],PROJECTION[&quot;Sinusoidal&quot;],PARAMETER[&quot;longitude_of_center&quot;,0],PARAMETER[&quot;false_easting&quot;,0],PARAMETER[&quot;false_northing&quot;,0],UNIT[&quot;metre&quot;,1,AUTHORITY[&quot;EPSG&quot;,&quot;9001&quot;]],AXIS[&quot;Easting&quot;,EAST],AXIS[&quot;Northing&quot;,NORTH]]</dd><dt><span>GeoTransform :</span></dt><dd>340998.1593644446 926.6254330555558 0.0 5018603.345428891 0.0 -926.6254330555546</dd></dl></div><div class='xr-var-data'><pre>array(0)</pre></div></li></ul></div></li><li class='xr-section-item'><input id='section-8a07c7ff-3db4-476a-aab3-4621fd95bec8' class='xr-section-summary-in' type='checkbox'  checked><label for='section-8a07c7ff-3db4-476a-aab3-4621fd95bec8' class='xr-section-summary' >Data variables: <span>(1)</span></label><div class='xr-section-inline-details'></div><div class='xr-section-details'><ul class='xr-var-list'><li class='xr-var-item'><div class='xr-var-name'><span>density</span></div><div class='xr-var-dims'>(ydim, xdim)</div><div class='xr-var-dtype'>float32</div><div class='xr-var-preview xr-preview'>nan nan nan nan ... nan nan nan nan</div><input id='attrs-3a6371af-1f79-4dff-8553-5edbf52aae53' class='xr-var-attrs-in' type='checkbox' ><label for='attrs-3a6371af-1f79-4dff-8553-5edbf52aae53' title='Show/Hide attributes'><svg class='icon xr-icon-file-text2'><use xlink:href='#icon-file-text2'></use></svg></label><input id='data-dff9f0b3-5b0d-4d97-9515-8ee683c90e21' class='xr-var-data-in' type='checkbox'><label for='data-dff9f0b3-5b0d-4d97-9515-8ee683c90e21' title='Show/Hide data repr'><svg class='icon xr-icon-database'><use xlink:href='#icon-database'></use></svg></label><div class='xr-var-attrs'><dl class='xr-attrs'><dt><span>AREA_OR_POINT :</span></dt><dd>Area</dd><dt><span>STATISTICS_MAXIMUM :</span></dt><dd>53646.03515625</dd><dt><span>STATISTICS_MEAN :</span></dt><dd>119.46772920052</dd><dt><span>STATISTICS_MINIMUM :</span></dt><dd>0</dd><dt><span>STATISTICS_STDDEV :</span></dt><dd>644.66432858711</dd><dt><span>scale_factor :</span></dt><dd>1.0</dd><dt><span>add_offset :</span></dt><dd>0.0</dd></dl></div><div class='xr-var-data'><pre>array([[nan, nan, nan, ..., nan, nan, nan],\n       [nan, nan, nan, ..., nan, nan, nan],\n       [nan, nan, nan, ..., nan, nan, nan],\n       ...,\n       [nan, nan, nan, ..., nan, nan, nan],\n       [nan, nan, nan, ..., nan, nan, nan],\n       [nan, nan, nan, ..., nan, nan, nan]], dtype=float32)</pre></div></li></ul></div></li><li class='xr-section-item'><input id='section-92ee5c78-e41f-4223-aee1-9807ae95010c' class='xr-section-summary-in' type='checkbox' disabled ><label for='section-92ee5c78-e41f-4223-aee1-9807ae95010c' class='xr-section-summary'  title='Expand/collapse section'>Attributes: <span>(0)</span></label><div class='xr-section-inline-details'></div><div class='xr-section-details'><dl class='xr-attrs'></dl></div></li></ul></div></div>"
     },
     "execution_count": 37,
     "metadata": {},
     "output_type": "execute_result"
    }
   ],
   "source": [
    "density_proj"
   ],
   "metadata": {
    "collapsed": false,
    "pycharm": {
     "name": "#%%\n"
    }
   }
  },
  {
   "cell_type": "code",
   "execution_count": 29,
   "outputs": [
    {
     "data": {
      "text/plain": "<xarray.Dataset>\nDimensions:      (x: 30, xdim: 24, time: 22975)\nCoordinates:\n  * x            (x) float64 3.385e+05 3.478e+05 3.57e+05 ... 5.977e+05 6.07e+05\n  * y            (xdim) float64 5.005e+06 4.995e+06 ... 4.801e+06 4.792e+06\n  * time         (time) datetime64[ns] 2010-01-01T04:00:00 ... 2022-07-31T20:...\n    spatial_ref  int32 0\nDimensions without coordinates: xdim\nData variables:\n    u10          (time, xdim, x) float32 nan nan nan nan nan ... nan nan nan nan\n    v10          (time, xdim, x) float32 nan nan nan nan nan ... nan nan nan nan\n    t2m          (time, xdim, x) float32 nan nan nan nan nan ... nan nan nan nan\n    tp           (time, xdim, x) float32 nan nan nan nan nan ... nan nan nan nan\nAttributes:\n    Conventions:  CF-1.6\n    history:      2022-09-15 13:57:35 GMT by grib_to_netcdf-2.25.1: /opt/ecmw...",
      "text/html": "<div><svg style=\"position: absolute; width: 0; height: 0; overflow: hidden\">\n<defs>\n<symbol id=\"icon-database\" viewBox=\"0 0 32 32\">\n<path d=\"M16 0c-8.837 0-16 2.239-16 5v4c0 2.761 7.163 5 16 5s16-2.239 16-5v-4c0-2.761-7.163-5-16-5z\"></path>\n<path d=\"M16 17c-8.837 0-16-2.239-16-5v6c0 2.761 7.163 5 16 5s16-2.239 16-5v-6c0 2.761-7.163 5-16 5z\"></path>\n<path d=\"M16 26c-8.837 0-16-2.239-16-5v6c0 2.761 7.163 5 16 5s16-2.239 16-5v-6c0 2.761-7.163 5-16 5z\"></path>\n</symbol>\n<symbol id=\"icon-file-text2\" viewBox=\"0 0 32 32\">\n<path d=\"M28.681 7.159c-0.694-0.947-1.662-2.053-2.724-3.116s-2.169-2.030-3.116-2.724c-1.612-1.182-2.393-1.319-2.841-1.319h-15.5c-1.378 0-2.5 1.121-2.5 2.5v27c0 1.378 1.122 2.5 2.5 2.5h23c1.378 0 2.5-1.122 2.5-2.5v-19.5c0-0.448-0.137-1.23-1.319-2.841zM24.543 5.457c0.959 0.959 1.712 1.825 2.268 2.543h-4.811v-4.811c0.718 0.556 1.584 1.309 2.543 2.268zM28 29.5c0 0.271-0.229 0.5-0.5 0.5h-23c-0.271 0-0.5-0.229-0.5-0.5v-27c0-0.271 0.229-0.5 0.5-0.5 0 0 15.499-0 15.5 0v7c0 0.552 0.448 1 1 1h7v19.5z\"></path>\n<path d=\"M23 26h-14c-0.552 0-1-0.448-1-1s0.448-1 1-1h14c0.552 0 1 0.448 1 1s-0.448 1-1 1z\"></path>\n<path d=\"M23 22h-14c-0.552 0-1-0.448-1-1s0.448-1 1-1h14c0.552 0 1 0.448 1 1s-0.448 1-1 1z\"></path>\n<path d=\"M23 18h-14c-0.552 0-1-0.448-1-1s0.448-1 1-1h14c0.552 0 1 0.448 1 1s-0.448 1-1 1z\"></path>\n</symbol>\n</defs>\n</svg>\n<style>/* CSS stylesheet for displaying xarray objects in jupyterlab.\n *\n */\n\n:root {\n  --xr-font-color0: var(--jp-content-font-color0, rgba(0, 0, 0, 1));\n  --xr-font-color2: var(--jp-content-font-color2, rgba(0, 0, 0, 0.54));\n  --xr-font-color3: var(--jp-content-font-color3, rgba(0, 0, 0, 0.38));\n  --xr-border-color: var(--jp-border-color2, #e0e0e0);\n  --xr-disabled-color: var(--jp-layout-color3, #bdbdbd);\n  --xr-background-color: var(--jp-layout-color0, white);\n  --xr-background-color-row-even: var(--jp-layout-color1, white);\n  --xr-background-color-row-odd: var(--jp-layout-color2, #eeeeee);\n}\n\nhtml[theme=dark],\nbody[data-theme=dark],\nbody.vscode-dark {\n  --xr-font-color0: rgba(255, 255, 255, 1);\n  --xr-font-color2: rgba(255, 255, 255, 0.54);\n  --xr-font-color3: rgba(255, 255, 255, 0.38);\n  --xr-border-color: #1F1F1F;\n  --xr-disabled-color: #515151;\n  --xr-background-color: #111111;\n  --xr-background-color-row-even: #111111;\n  --xr-background-color-row-odd: #313131;\n}\n\n.xr-wrap {\n  display: block !important;\n  min-width: 300px;\n  max-width: 700px;\n}\n\n.xr-text-repr-fallback {\n  /* fallback to plain text repr when CSS is not injected (untrusted notebook) */\n  display: none;\n}\n\n.xr-header {\n  padding-top: 6px;\n  padding-bottom: 6px;\n  margin-bottom: 4px;\n  border-bottom: solid 1px var(--xr-border-color);\n}\n\n.xr-header > div,\n.xr-header > ul {\n  display: inline;\n  margin-top: 0;\n  margin-bottom: 0;\n}\n\n.xr-obj-type,\n.xr-array-name {\n  margin-left: 2px;\n  margin-right: 10px;\n}\n\n.xr-obj-type {\n  color: var(--xr-font-color2);\n}\n\n.xr-sections {\n  padding-left: 0 !important;\n  display: grid;\n  grid-template-columns: 150px auto auto 1fr 20px 20px;\n}\n\n.xr-section-item {\n  display: contents;\n}\n\n.xr-section-item input {\n  display: none;\n}\n\n.xr-section-item input + label {\n  color: var(--xr-disabled-color);\n}\n\n.xr-section-item input:enabled + label {\n  cursor: pointer;\n  color: var(--xr-font-color2);\n}\n\n.xr-section-item input:enabled + label:hover {\n  color: var(--xr-font-color0);\n}\n\n.xr-section-summary {\n  grid-column: 1;\n  color: var(--xr-font-color2);\n  font-weight: 500;\n}\n\n.xr-section-summary > span {\n  display: inline-block;\n  padding-left: 0.5em;\n}\n\n.xr-section-summary-in:disabled + label {\n  color: var(--xr-font-color2);\n}\n\n.xr-section-summary-in + label:before {\n  display: inline-block;\n  content: '►';\n  font-size: 11px;\n  width: 15px;\n  text-align: center;\n}\n\n.xr-section-summary-in:disabled + label:before {\n  color: var(--xr-disabled-color);\n}\n\n.xr-section-summary-in:checked + label:before {\n  content: '▼';\n}\n\n.xr-section-summary-in:checked + label > span {\n  display: none;\n}\n\n.xr-section-summary,\n.xr-section-inline-details {\n  padding-top: 4px;\n  padding-bottom: 4px;\n}\n\n.xr-section-inline-details {\n  grid-column: 2 / -1;\n}\n\n.xr-section-details {\n  display: none;\n  grid-column: 1 / -1;\n  margin-bottom: 5px;\n}\n\n.xr-section-summary-in:checked ~ .xr-section-details {\n  display: contents;\n}\n\n.xr-array-wrap {\n  grid-column: 1 / -1;\n  display: grid;\n  grid-template-columns: 20px auto;\n}\n\n.xr-array-wrap > label {\n  grid-column: 1;\n  vertical-align: top;\n}\n\n.xr-preview {\n  color: var(--xr-font-color3);\n}\n\n.xr-array-preview,\n.xr-array-data {\n  padding: 0 5px !important;\n  grid-column: 2;\n}\n\n.xr-array-data,\n.xr-array-in:checked ~ .xr-array-preview {\n  display: none;\n}\n\n.xr-array-in:checked ~ .xr-array-data,\n.xr-array-preview {\n  display: inline-block;\n}\n\n.xr-dim-list {\n  display: inline-block !important;\n  list-style: none;\n  padding: 0 !important;\n  margin: 0;\n}\n\n.xr-dim-list li {\n  display: inline-block;\n  padding: 0;\n  margin: 0;\n}\n\n.xr-dim-list:before {\n  content: '(';\n}\n\n.xr-dim-list:after {\n  content: ')';\n}\n\n.xr-dim-list li:not(:last-child):after {\n  content: ',';\n  padding-right: 5px;\n}\n\n.xr-has-index {\n  font-weight: bold;\n}\n\n.xr-var-list,\n.xr-var-item {\n  display: contents;\n}\n\n.xr-var-item > div,\n.xr-var-item label,\n.xr-var-item > .xr-var-name span {\n  background-color: var(--xr-background-color-row-even);\n  margin-bottom: 0;\n}\n\n.xr-var-item > .xr-var-name:hover span {\n  padding-right: 5px;\n}\n\n.xr-var-list > li:nth-child(odd) > div,\n.xr-var-list > li:nth-child(odd) > label,\n.xr-var-list > li:nth-child(odd) > .xr-var-name span {\n  background-color: var(--xr-background-color-row-odd);\n}\n\n.xr-var-name {\n  grid-column: 1;\n}\n\n.xr-var-dims {\n  grid-column: 2;\n}\n\n.xr-var-dtype {\n  grid-column: 3;\n  text-align: right;\n  color: var(--xr-font-color2);\n}\n\n.xr-var-preview {\n  grid-column: 4;\n}\n\n.xr-var-name,\n.xr-var-dims,\n.xr-var-dtype,\n.xr-preview,\n.xr-attrs dt {\n  white-space: nowrap;\n  overflow: hidden;\n  text-overflow: ellipsis;\n  padding-right: 10px;\n}\n\n.xr-var-name:hover,\n.xr-var-dims:hover,\n.xr-var-dtype:hover,\n.xr-attrs dt:hover {\n  overflow: visible;\n  width: auto;\n  z-index: 1;\n}\n\n.xr-var-attrs,\n.xr-var-data {\n  display: none;\n  background-color: var(--xr-background-color) !important;\n  padding-bottom: 5px !important;\n}\n\n.xr-var-attrs-in:checked ~ .xr-var-attrs,\n.xr-var-data-in:checked ~ .xr-var-data {\n  display: block;\n}\n\n.xr-var-data > table {\n  float: right;\n}\n\n.xr-var-name span,\n.xr-var-data,\n.xr-attrs {\n  padding-left: 25px !important;\n}\n\n.xr-attrs,\n.xr-var-attrs,\n.xr-var-data {\n  grid-column: 1 / -1;\n}\n\ndl.xr-attrs {\n  padding: 0;\n  margin: 0;\n  display: grid;\n  grid-template-columns: 125px auto;\n}\n\n.xr-attrs dt,\n.xr-attrs dd {\n  padding: 0;\n  margin: 0;\n  float: left;\n  padding-right: 10px;\n  width: auto;\n}\n\n.xr-attrs dt {\n  font-weight: normal;\n  grid-column: 1;\n}\n\n.xr-attrs dt:hover span {\n  display: inline-block;\n  background: var(--xr-background-color);\n  padding-right: 10px;\n}\n\n.xr-attrs dd {\n  grid-column: 2;\n  white-space: pre-wrap;\n  word-break: break-all;\n}\n\n.xr-icon-database,\n.xr-icon-file-text2 {\n  display: inline-block;\n  vertical-align: middle;\n  width: 1em;\n  height: 1.5em !important;\n  stroke-width: 0;\n  stroke: currentColor;\n  fill: currentColor;\n}\n</style><pre class='xr-text-repr-fallback'>&lt;xarray.Dataset&gt;\nDimensions:      (x: 30, xdim: 24, time: 22975)\nCoordinates:\n  * x            (x) float64 3.385e+05 3.478e+05 3.57e+05 ... 5.977e+05 6.07e+05\n  * y            (xdim) float64 5.005e+06 4.995e+06 ... 4.801e+06 4.792e+06\n  * time         (time) datetime64[ns] 2010-01-01T04:00:00 ... 2022-07-31T20:...\n    spatial_ref  int32 0\nDimensions without coordinates: xdim\nData variables:\n    u10          (time, xdim, x) float32 nan nan nan nan nan ... nan nan nan nan\n    v10          (time, xdim, x) float32 nan nan nan nan nan ... nan nan nan nan\n    t2m          (time, xdim, x) float32 nan nan nan nan nan ... nan nan nan nan\n    tp           (time, xdim, x) float32 nan nan nan nan nan ... nan nan nan nan\nAttributes:\n    Conventions:  CF-1.6\n    history:      2022-09-15 13:57:35 GMT by grib_to_netcdf-2.25.1: /opt/ecmw...</pre><div class='xr-wrap' style='display:none'><div class='xr-header'><div class='xr-obj-type'>xarray.Dataset</div></div><ul class='xr-sections'><li class='xr-section-item'><input id='section-6999db4d-57c7-4a94-960a-e61c712f0a60' class='xr-section-summary-in' type='checkbox' disabled ><label for='section-6999db4d-57c7-4a94-960a-e61c712f0a60' class='xr-section-summary'  title='Expand/collapse section'>Dimensions:</label><div class='xr-section-inline-details'><ul class='xr-dim-list'><li><span class='xr-has-index'>x</span>: 30</li><li><span class='xr-has-index'>xdim</span>: 24</li><li><span class='xr-has-index'>time</span>: 22975</li></ul></div><div class='xr-section-details'></div></li><li class='xr-section-item'><input id='section-bf98f30c-d15e-4f57-a56c-b38ccfb1af43' class='xr-section-summary-in' type='checkbox'  checked><label for='section-bf98f30c-d15e-4f57-a56c-b38ccfb1af43' class='xr-section-summary' >Coordinates: <span>(4)</span></label><div class='xr-section-inline-details'></div><div class='xr-section-details'><ul class='xr-var-list'><li class='xr-var-item'><div class='xr-var-name'><span class='xr-has-index'>x</span></div><div class='xr-var-dims'>(x)</div><div class='xr-var-dtype'>float64</div><div class='xr-var-preview xr-preview'>3.385e+05 3.478e+05 ... 6.07e+05</div><input id='attrs-8b5ae286-811d-4910-9a16-7539a80ccb58' class='xr-var-attrs-in' type='checkbox' ><label for='attrs-8b5ae286-811d-4910-9a16-7539a80ccb58' title='Show/Hide attributes'><svg class='icon xr-icon-file-text2'><use xlink:href='#icon-file-text2'></use></svg></label><input id='data-393b0f15-783b-4a74-bb0d-431475f2353a' class='xr-var-data-in' type='checkbox'><label for='data-393b0f15-783b-4a74-bb0d-431475f2353a' title='Show/Hide data repr'><svg class='icon xr-icon-database'><use xlink:href='#icon-database'></use></svg></label><div class='xr-var-attrs'><dl class='xr-attrs'><dt><span>axis :</span></dt><dd>X</dd><dt><span>long_name :</span></dt><dd>x coordinate of projection</dd><dt><span>standard_name :</span></dt><dd>projection_x_coordinate</dd><dt><span>units :</span></dt><dd>metre</dd></dl></div><div class='xr-var-data'><pre>array([338501.424315, 347760.13329 , 357018.842265, 366277.55124 ,\n       375536.260215, 384794.96919 , 394053.678165, 403312.387139,\n       412571.096114, 421829.805089, 431088.514064, 440347.223039,\n       449605.932014, 458864.640989, 468123.349964, 477382.058939,\n       486640.767914, 495899.476889, 505158.185864, 514416.894839,\n       523675.603814, 532934.312789, 542193.021764, 551451.730739,\n       560710.439714, 569969.148689, 579227.857664, 588486.566639,\n       597745.275613, 607003.984588])</pre></div></li><li class='xr-var-item'><div class='xr-var-name'><span class='xr-has-index'>y</span></div><div class='xr-var-dims'>(xdim)</div><div class='xr-var-dtype'>float64</div><div class='xr-var-preview xr-preview'>5.005e+06 4.995e+06 ... 4.792e+06</div><input id='attrs-a4a8b20b-052c-4f3c-afca-347a2c8f5e6a' class='xr-var-attrs-in' type='checkbox' ><label for='attrs-a4a8b20b-052c-4f3c-afca-347a2c8f5e6a' title='Show/Hide attributes'><svg class='icon xr-icon-file-text2'><use xlink:href='#icon-file-text2'></use></svg></label><input id='data-849b795e-7022-4412-8b46-d4d26f5cad4b' class='xr-var-data-in' type='checkbox'><label for='data-849b795e-7022-4412-8b46-d4d26f5cad4b' title='Show/Hide data repr'><svg class='icon xr-icon-database'><use xlink:href='#icon-database'></use></svg></label><div class='xr-var-attrs'><dl class='xr-attrs'><dt><span>axis :</span></dt><dd>Y</dd><dt><span>long_name :</span></dt><dd>y coordinate of projection</dd><dt><span>standard_name :</span></dt><dd>projection_y_coordinate</dd><dt><span>units :</span></dt><dd>metre</dd></dl></div><div class='xr-var-data'><pre>array([5004707.741526, 4995449.032551, 4986190.323576, 4976931.614601,\n       4967672.905626, 4958414.196651, 4949155.487676, 4939896.778701,\n       4930638.069726, 4921379.360751, 4912120.651776, 4902861.942801,\n       4893603.233826, 4884344.524851, 4875085.815876, 4865827.106901,\n       4856568.397926, 4847309.688952, 4838050.979977, 4828792.271002,\n       4819533.562027, 4810274.853052, 4801016.144077, 4791757.435102])</pre></div></li><li class='xr-var-item'><div class='xr-var-name'><span class='xr-has-index'>time</span></div><div class='xr-var-dims'>(time)</div><div class='xr-var-dtype'>datetime64[ns]</div><div class='xr-var-preview xr-preview'>2010-01-01T04:00:00 ... 2022-07-...</div><input id='attrs-c8fa8aab-5989-4a5e-a614-88041acdfeca' class='xr-var-attrs-in' type='checkbox' ><label for='attrs-c8fa8aab-5989-4a5e-a614-88041acdfeca' title='Show/Hide attributes'><svg class='icon xr-icon-file-text2'><use xlink:href='#icon-file-text2'></use></svg></label><input id='data-32704c5a-b1d7-4b2a-a5d1-bd23ee638a89' class='xr-var-data-in' type='checkbox'><label for='data-32704c5a-b1d7-4b2a-a5d1-bd23ee638a89' title='Show/Hide data repr'><svg class='icon xr-icon-database'><use xlink:href='#icon-database'></use></svg></label><div class='xr-var-attrs'><dl class='xr-attrs'><dt><span>long_name :</span></dt><dd>time</dd></dl></div><div class='xr-var-data'><pre>array([&#x27;2010-01-01T04:00:00.000000000&#x27;, &#x27;2010-01-01T08:00:00.000000000&#x27;,\n       &#x27;2010-01-01T12:00:00.000000000&#x27;, ..., &#x27;2022-07-31T12:00:00.000000000&#x27;,\n       &#x27;2022-07-31T16:00:00.000000000&#x27;, &#x27;2022-07-31T20:00:00.000000000&#x27;],\n      dtype=&#x27;datetime64[ns]&#x27;)</pre></div></li><li class='xr-var-item'><div class='xr-var-name'><span>spatial_ref</span></div><div class='xr-var-dims'>()</div><div class='xr-var-dtype'>int32</div><div class='xr-var-preview xr-preview'>0</div><input id='attrs-0f741bcc-c1d7-4f38-a7b0-b0a755136112' class='xr-var-attrs-in' type='checkbox' ><label for='attrs-0f741bcc-c1d7-4f38-a7b0-b0a755136112' title='Show/Hide attributes'><svg class='icon xr-icon-file-text2'><use xlink:href='#icon-file-text2'></use></svg></label><input id='data-9e3c7f6c-aa18-4f0e-aeb5-a8f882740a4f' class='xr-var-data-in' type='checkbox'><label for='data-9e3c7f6c-aa18-4f0e-aeb5-a8f882740a4f' title='Show/Hide data repr'><svg class='icon xr-icon-database'><use xlink:href='#icon-database'></use></svg></label><div class='xr-var-attrs'><dl class='xr-attrs'><dt><span>crs_wkt :</span></dt><dd>PROJCS[&quot;unknown&quot;,GEOGCS[&quot;unknown&quot;,DATUM[&quot;unknown&quot;,SPHEROID[&quot;unknown&quot;,6371007.181,0]],PRIMEM[&quot;Greenwich&quot;,0,AUTHORITY[&quot;EPSG&quot;,&quot;8901&quot;]],UNIT[&quot;degree&quot;,0.0174532925199433,AUTHORITY[&quot;EPSG&quot;,&quot;9122&quot;]]],PROJECTION[&quot;Sinusoidal&quot;],PARAMETER[&quot;longitude_of_center&quot;,0],PARAMETER[&quot;false_easting&quot;,0],PARAMETER[&quot;false_northing&quot;,0],UNIT[&quot;metre&quot;,1,AUTHORITY[&quot;EPSG&quot;,&quot;9001&quot;]],AXIS[&quot;Easting&quot;,EAST],AXIS[&quot;Northing&quot;,NORTH]]</dd><dt><span>semi_major_axis :</span></dt><dd>6371007.181</dd><dt><span>semi_minor_axis :</span></dt><dd>6371007.181</dd><dt><span>inverse_flattening :</span></dt><dd>0.0</dd><dt><span>reference_ellipsoid_name :</span></dt><dd>unknown</dd><dt><span>longitude_of_prime_meridian :</span></dt><dd>0.0</dd><dt><span>prime_meridian_name :</span></dt><dd>Greenwich</dd><dt><span>geographic_crs_name :</span></dt><dd>unknown</dd><dt><span>horizontal_datum_name :</span></dt><dd>unknown</dd><dt><span>projected_crs_name :</span></dt><dd>unknown</dd><dt><span>grid_mapping_name :</span></dt><dd>sinusoidal</dd><dt><span>longitude_of_projection_origin :</span></dt><dd>0.0</dd><dt><span>false_easting :</span></dt><dd>0.0</dd><dt><span>false_northing :</span></dt><dd>0.0</dd><dt><span>spatial_ref :</span></dt><dd>PROJCS[&quot;unknown&quot;,GEOGCS[&quot;unknown&quot;,DATUM[&quot;unknown&quot;,SPHEROID[&quot;unknown&quot;,6371007.181,0]],PRIMEM[&quot;Greenwich&quot;,0,AUTHORITY[&quot;EPSG&quot;,&quot;8901&quot;]],UNIT[&quot;degree&quot;,0.0174532925199433,AUTHORITY[&quot;EPSG&quot;,&quot;9122&quot;]]],PROJECTION[&quot;Sinusoidal&quot;],PARAMETER[&quot;longitude_of_center&quot;,0],PARAMETER[&quot;false_easting&quot;,0],PARAMETER[&quot;false_northing&quot;,0],UNIT[&quot;metre&quot;,1,AUTHORITY[&quot;EPSG&quot;,&quot;9001&quot;]],AXIS[&quot;Easting&quot;,EAST],AXIS[&quot;Northing&quot;,NORTH]]</dd><dt><span>GeoTransform :</span></dt><dd>333872.06982731516 9258.708974953268 0.0 5009337.096013192 0.0 -9258.708974953268</dd></dl></div><div class='xr-var-data'><pre>array(0)</pre></div></li></ul></div></li><li class='xr-section-item'><input id='section-f5fc2489-e25f-460f-b639-96586b5bf9f4' class='xr-section-summary-in' type='checkbox'  checked><label for='section-f5fc2489-e25f-460f-b639-96586b5bf9f4' class='xr-section-summary' >Data variables: <span>(4)</span></label><div class='xr-section-inline-details'></div><div class='xr-section-details'><ul class='xr-var-list'><li class='xr-var-item'><div class='xr-var-name'><span>u10</span></div><div class='xr-var-dims'>(time, xdim, x)</div><div class='xr-var-dtype'>float32</div><div class='xr-var-preview xr-preview'>nan nan nan nan ... nan nan nan nan</div><input id='attrs-c24bd686-d7d7-439b-9ba5-ddcfb1fe33a1' class='xr-var-attrs-in' type='checkbox' ><label for='attrs-c24bd686-d7d7-439b-9ba5-ddcfb1fe33a1' title='Show/Hide attributes'><svg class='icon xr-icon-file-text2'><use xlink:href='#icon-file-text2'></use></svg></label><input id='data-6f0019c9-0802-4572-85fc-b30da1a27c81' class='xr-var-data-in' type='checkbox'><label for='data-6f0019c9-0802-4572-85fc-b30da1a27c81' title='Show/Hide data repr'><svg class='icon xr-icon-database'><use xlink:href='#icon-database'></use></svg></label><div class='xr-var-attrs'><dl class='xr-attrs'><dt><span>units :</span></dt><dd>m s**-1</dd><dt><span>long_name :</span></dt><dd>10 metre U wind component</dd></dl></div><div class='xr-var-data'><pre>array([[[nan, nan, nan, ..., nan, nan, nan],\n        [nan, nan, nan, ..., nan, nan, nan],\n        [nan, nan, nan, ..., nan, nan, nan],\n        ...,\n        [nan, nan, nan, ..., nan, nan, nan],\n        [nan, nan, nan, ..., nan, nan, nan],\n        [nan, nan, nan, ..., nan, nan, nan]],\n\n       [[nan, nan, nan, ..., nan, nan, nan],\n        [nan, nan, nan, ..., nan, nan, nan],\n        [nan, nan, nan, ..., nan, nan, nan],\n        ...,\n        [nan, nan, nan, ..., nan, nan, nan],\n        [nan, nan, nan, ..., nan, nan, nan],\n        [nan, nan, nan, ..., nan, nan, nan]],\n\n       [[nan, nan, nan, ..., nan, nan, nan],\n        [nan, nan, nan, ..., nan, nan, nan],\n        [nan, nan, nan, ..., nan, nan, nan],\n        ...,\n...\n        ...,\n        [nan, nan, nan, ..., nan, nan, nan],\n        [nan, nan, nan, ..., nan, nan, nan],\n        [nan, nan, nan, ..., nan, nan, nan]],\n\n       [[nan, nan, nan, ..., nan, nan, nan],\n        [nan, nan, nan, ..., nan, nan, nan],\n        [nan, nan, nan, ..., nan, nan, nan],\n        ...,\n        [nan, nan, nan, ..., nan, nan, nan],\n        [nan, nan, nan, ..., nan, nan, nan],\n        [nan, nan, nan, ..., nan, nan, nan]],\n\n       [[nan, nan, nan, ..., nan, nan, nan],\n        [nan, nan, nan, ..., nan, nan, nan],\n        [nan, nan, nan, ..., nan, nan, nan],\n        ...,\n        [nan, nan, nan, ..., nan, nan, nan],\n        [nan, nan, nan, ..., nan, nan, nan],\n        [nan, nan, nan, ..., nan, nan, nan]]], dtype=float32)</pre></div></li><li class='xr-var-item'><div class='xr-var-name'><span>v10</span></div><div class='xr-var-dims'>(time, xdim, x)</div><div class='xr-var-dtype'>float32</div><div class='xr-var-preview xr-preview'>nan nan nan nan ... nan nan nan nan</div><input id='attrs-3153cf57-256b-42ef-9cdc-6f87b0a0663f' class='xr-var-attrs-in' type='checkbox' ><label for='attrs-3153cf57-256b-42ef-9cdc-6f87b0a0663f' title='Show/Hide attributes'><svg class='icon xr-icon-file-text2'><use xlink:href='#icon-file-text2'></use></svg></label><input id='data-f61f3456-8aeb-41df-a6c0-b246211dce3c' class='xr-var-data-in' type='checkbox'><label for='data-f61f3456-8aeb-41df-a6c0-b246211dce3c' title='Show/Hide data repr'><svg class='icon xr-icon-database'><use xlink:href='#icon-database'></use></svg></label><div class='xr-var-attrs'><dl class='xr-attrs'><dt><span>units :</span></dt><dd>m s**-1</dd><dt><span>long_name :</span></dt><dd>10 metre V wind component</dd></dl></div><div class='xr-var-data'><pre>array([[[nan, nan, nan, ..., nan, nan, nan],\n        [nan, nan, nan, ..., nan, nan, nan],\n        [nan, nan, nan, ..., nan, nan, nan],\n        ...,\n        [nan, nan, nan, ..., nan, nan, nan],\n        [nan, nan, nan, ..., nan, nan, nan],\n        [nan, nan, nan, ..., nan, nan, nan]],\n\n       [[nan, nan, nan, ..., nan, nan, nan],\n        [nan, nan, nan, ..., nan, nan, nan],\n        [nan, nan, nan, ..., nan, nan, nan],\n        ...,\n        [nan, nan, nan, ..., nan, nan, nan],\n        [nan, nan, nan, ..., nan, nan, nan],\n        [nan, nan, nan, ..., nan, nan, nan]],\n\n       [[nan, nan, nan, ..., nan, nan, nan],\n        [nan, nan, nan, ..., nan, nan, nan],\n        [nan, nan, nan, ..., nan, nan, nan],\n        ...,\n...\n        ...,\n        [nan, nan, nan, ..., nan, nan, nan],\n        [nan, nan, nan, ..., nan, nan, nan],\n        [nan, nan, nan, ..., nan, nan, nan]],\n\n       [[nan, nan, nan, ..., nan, nan, nan],\n        [nan, nan, nan, ..., nan, nan, nan],\n        [nan, nan, nan, ..., nan, nan, nan],\n        ...,\n        [nan, nan, nan, ..., nan, nan, nan],\n        [nan, nan, nan, ..., nan, nan, nan],\n        [nan, nan, nan, ..., nan, nan, nan]],\n\n       [[nan, nan, nan, ..., nan, nan, nan],\n        [nan, nan, nan, ..., nan, nan, nan],\n        [nan, nan, nan, ..., nan, nan, nan],\n        ...,\n        [nan, nan, nan, ..., nan, nan, nan],\n        [nan, nan, nan, ..., nan, nan, nan],\n        [nan, nan, nan, ..., nan, nan, nan]]], dtype=float32)</pre></div></li><li class='xr-var-item'><div class='xr-var-name'><span>t2m</span></div><div class='xr-var-dims'>(time, xdim, x)</div><div class='xr-var-dtype'>float32</div><div class='xr-var-preview xr-preview'>nan nan nan nan ... nan nan nan nan</div><input id='attrs-9104fdf2-ce98-4e05-84e3-2662a65fc186' class='xr-var-attrs-in' type='checkbox' ><label for='attrs-9104fdf2-ce98-4e05-84e3-2662a65fc186' title='Show/Hide attributes'><svg class='icon xr-icon-file-text2'><use xlink:href='#icon-file-text2'></use></svg></label><input id='data-ea94b22b-a7f0-4d80-8372-1b892bbf30c8' class='xr-var-data-in' type='checkbox'><label for='data-ea94b22b-a7f0-4d80-8372-1b892bbf30c8' title='Show/Hide data repr'><svg class='icon xr-icon-database'><use xlink:href='#icon-database'></use></svg></label><div class='xr-var-attrs'><dl class='xr-attrs'><dt><span>units :</span></dt><dd>K</dd><dt><span>long_name :</span></dt><dd>2 metre temperature</dd></dl></div><div class='xr-var-data'><pre>array([[[nan, nan, nan, ..., nan, nan, nan],\n        [nan, nan, nan, ..., nan, nan, nan],\n        [nan, nan, nan, ..., nan, nan, nan],\n        ...,\n        [nan, nan, nan, ..., nan, nan, nan],\n        [nan, nan, nan, ..., nan, nan, nan],\n        [nan, nan, nan, ..., nan, nan, nan]],\n\n       [[nan, nan, nan, ..., nan, nan, nan],\n        [nan, nan, nan, ..., nan, nan, nan],\n        [nan, nan, nan, ..., nan, nan, nan],\n        ...,\n        [nan, nan, nan, ..., nan, nan, nan],\n        [nan, nan, nan, ..., nan, nan, nan],\n        [nan, nan, nan, ..., nan, nan, nan]],\n\n       [[nan, nan, nan, ..., nan, nan, nan],\n        [nan, nan, nan, ..., nan, nan, nan],\n        [nan, nan, nan, ..., nan, nan, nan],\n        ...,\n...\n        ...,\n        [nan, nan, nan, ..., nan, nan, nan],\n        [nan, nan, nan, ..., nan, nan, nan],\n        [nan, nan, nan, ..., nan, nan, nan]],\n\n       [[nan, nan, nan, ..., nan, nan, nan],\n        [nan, nan, nan, ..., nan, nan, nan],\n        [nan, nan, nan, ..., nan, nan, nan],\n        ...,\n        [nan, nan, nan, ..., nan, nan, nan],\n        [nan, nan, nan, ..., nan, nan, nan],\n        [nan, nan, nan, ..., nan, nan, nan]],\n\n       [[nan, nan, nan, ..., nan, nan, nan],\n        [nan, nan, nan, ..., nan, nan, nan],\n        [nan, nan, nan, ..., nan, nan, nan],\n        ...,\n        [nan, nan, nan, ..., nan, nan, nan],\n        [nan, nan, nan, ..., nan, nan, nan],\n        [nan, nan, nan, ..., nan, nan, nan]]], dtype=float32)</pre></div></li><li class='xr-var-item'><div class='xr-var-name'><span>tp</span></div><div class='xr-var-dims'>(time, xdim, x)</div><div class='xr-var-dtype'>float32</div><div class='xr-var-preview xr-preview'>nan nan nan nan ... nan nan nan nan</div><input id='attrs-60e5a588-beb4-4ed3-bf14-3cd538b771b5' class='xr-var-attrs-in' type='checkbox' ><label for='attrs-60e5a588-beb4-4ed3-bf14-3cd538b771b5' title='Show/Hide attributes'><svg class='icon xr-icon-file-text2'><use xlink:href='#icon-file-text2'></use></svg></label><input id='data-1abf8898-afde-4b32-8179-29c0f7154e49' class='xr-var-data-in' type='checkbox'><label for='data-1abf8898-afde-4b32-8179-29c0f7154e49' title='Show/Hide data repr'><svg class='icon xr-icon-database'><use xlink:href='#icon-database'></use></svg></label><div class='xr-var-attrs'><dl class='xr-attrs'><dt><span>units :</span></dt><dd>m</dd><dt><span>long_name :</span></dt><dd>Total precipitation</dd></dl></div><div class='xr-var-data'><pre>array([[[nan, nan, nan, ..., nan, nan, nan],\n        [nan, nan, nan, ..., nan, nan, nan],\n        [nan, nan, nan, ..., nan, nan, nan],\n        ...,\n        [nan, nan, nan, ..., nan, nan, nan],\n        [nan, nan, nan, ..., nan, nan, nan],\n        [nan, nan, nan, ..., nan, nan, nan]],\n\n       [[nan, nan, nan, ..., nan, nan, nan],\n        [nan, nan, nan, ..., nan, nan, nan],\n        [nan, nan, nan, ..., nan, nan, nan],\n        ...,\n        [nan, nan, nan, ..., nan, nan, nan],\n        [nan, nan, nan, ..., nan, nan, nan],\n        [nan, nan, nan, ..., nan, nan, nan]],\n\n       [[nan, nan, nan, ..., nan, nan, nan],\n        [nan, nan, nan, ..., nan, nan, nan],\n        [nan, nan, nan, ..., nan, nan, nan],\n        ...,\n...\n        ...,\n        [nan, nan, nan, ..., nan, nan, nan],\n        [nan, nan, nan, ..., nan, nan, nan],\n        [nan, nan, nan, ..., nan, nan, nan]],\n\n       [[nan, nan, nan, ..., nan, nan, nan],\n        [nan, nan, nan, ..., nan, nan, nan],\n        [nan, nan, nan, ..., nan, nan, nan],\n        ...,\n        [nan, nan, nan, ..., nan, nan, nan],\n        [nan, nan, nan, ..., nan, nan, nan],\n        [nan, nan, nan, ..., nan, nan, nan]],\n\n       [[nan, nan, nan, ..., nan, nan, nan],\n        [nan, nan, nan, ..., nan, nan, nan],\n        [nan, nan, nan, ..., nan, nan, nan],\n        ...,\n        [nan, nan, nan, ..., nan, nan, nan],\n        [nan, nan, nan, ..., nan, nan, nan],\n        [nan, nan, nan, ..., nan, nan, nan]]], dtype=float32)</pre></div></li></ul></div></li><li class='xr-section-item'><input id='section-bae641c4-e02d-40a0-9ebc-9a800bef6290' class='xr-section-summary-in' type='checkbox'  checked><label for='section-bae641c4-e02d-40a0-9ebc-9a800bef6290' class='xr-section-summary' >Attributes: <span>(2)</span></label><div class='xr-section-inline-details'></div><div class='xr-section-details'><dl class='xr-attrs'><dt><span>Conventions :</span></dt><dd>CF-1.6</dd><dt><span>history :</span></dt><dd>2022-09-15 13:57:35 GMT by grib_to_netcdf-2.25.1: /opt/ecmwf/mars-client/bin/grib_to_netcdf.bin -S param -o /cache/data2/adaptor.mars.internal-1663249407.7272627-22718-12-e830357e-7728-41cf-9b2b-b7f34cabf652.nc /cache/tmp/e830357e-7728-41cf-9b2b-b7f34cabf652-adaptor.mars.internal-1663236313.8703027-22718-23-tmp.grib</dd></dl></div></li></ul></div></div>"
     },
     "execution_count": 29,
     "metadata": {},
     "output_type": "execute_result"
    }
   ],
   "source": [
    "era_sinu"
   ],
   "metadata": {
    "collapsed": false,
    "pycharm": {
     "name": "#%%\n"
    }
   }
  },
  {
   "cell_type": "code",
   "execution_count": 40,
   "outputs": [
    {
     "ename": "MemoryError",
     "evalue": "Unable to allocate 6.45 GiB for an array with shape (22975, 253, 298) and data type float32",
     "output_type": "error",
     "traceback": [
      "\u001B[1;31m---------------------------------------------------------------------------\u001B[0m",
      "\u001B[1;31mMemoryError\u001B[0m                               Traceback (most recent call last)",
      "Cell \u001B[1;32mIn [40], line 2\u001B[0m\n\u001B[0;32m      1\u001B[0m \u001B[38;5;66;03m# Interpolate era_sinu to common grid\u001B[39;00m\n\u001B[1;32m----> 2\u001B[0m era_sinu_proj \u001B[38;5;241m=\u001B[39m era_sinu\u001B[38;5;241m.\u001B[39mrio\u001B[38;5;241m.\u001B[39mreproject_match(common_grid, resampling\u001B[38;5;241m=\u001B[39mrasterio\u001B[38;5;241m.\u001B[39menums\u001B[38;5;241m.\u001B[39mResampling\u001B[38;5;241m.\u001B[39mbilinear)\n",
      "File \u001B[1;32m~\\anaconda3\\envs\\forecast\\lib\\site-packages\\rioxarray\\raster_dataset.py:174\u001B[0m, in \u001B[0;36mRasterDataset.reproject_match\u001B[1;34m(self, match_data_array, resampling, **reproject_kwargs)\u001B[0m\n\u001B[0;32m    171\u001B[0m \u001B[38;5;28;01mtry\u001B[39;00m:\n\u001B[0;32m    172\u001B[0m     x_dim, y_dim \u001B[38;5;241m=\u001B[39m _get_spatial_dims(\u001B[38;5;28mself\u001B[39m\u001B[38;5;241m.\u001B[39m_obj, var)\n\u001B[0;32m    173\u001B[0m     resampled_dataset[var] \u001B[38;5;241m=\u001B[39m (\n\u001B[1;32m--> 174\u001B[0m         \u001B[38;5;28mself\u001B[39m\u001B[38;5;241m.\u001B[39m_obj[var]\n\u001B[0;32m    175\u001B[0m         \u001B[38;5;241m.\u001B[39mrio\u001B[38;5;241m.\u001B[39mset_spatial_dims(x_dim\u001B[38;5;241m=\u001B[39mx_dim, y_dim\u001B[38;5;241m=\u001B[39my_dim, inplace\u001B[38;5;241m=\u001B[39m\u001B[38;5;28;01mTrue\u001B[39;00m)\n\u001B[0;32m    176\u001B[0m         \u001B[38;5;241m.\u001B[39mrio\u001B[38;5;241m.\u001B[39mreproject_match(\n\u001B[0;32m    177\u001B[0m             match_data_array, resampling\u001B[38;5;241m=\u001B[39mresampling, \u001B[38;5;241m*\u001B[39m\u001B[38;5;241m*\u001B[39mreproject_kwargs\n\u001B[0;32m    178\u001B[0m         )\n\u001B[0;32m    179\u001B[0m     )\n\u001B[0;32m    180\u001B[0m \u001B[38;5;28;01mexcept\u001B[39;00m MissingSpatialDimensionError:\n\u001B[0;32m    181\u001B[0m     \u001B[38;5;28;01mif\u001B[39;00m \u001B[38;5;28mlen\u001B[39m(\u001B[38;5;28mself\u001B[39m\u001B[38;5;241m.\u001B[39m_obj[var]\u001B[38;5;241m.\u001B[39mdims) \u001B[38;5;241m>\u001B[39m\u001B[38;5;241m=\u001B[39m \u001B[38;5;241m2\u001B[39m \u001B[38;5;129;01mand\u001B[39;00m \u001B[38;5;129;01mnot\u001B[39;00m get_option(\n\u001B[0;32m    182\u001B[0m         SKIP_MISSING_SPATIAL_DIMS\n\u001B[0;32m    183\u001B[0m     ):\n",
      "File \u001B[1;32m~\\anaconda3\\envs\\forecast\\lib\\site-packages\\rioxarray\\raster_array.py:564\u001B[0m, in \u001B[0;36mRasterArray.reproject_match\u001B[1;34m(self, match_data_array, resampling, **reproject_kwargs)\u001B[0m\n\u001B[0;32m    530\u001B[0m \u001B[38;5;28;01mdef\u001B[39;00m \u001B[38;5;21mreproject_match\u001B[39m(\n\u001B[0;32m    531\u001B[0m     \u001B[38;5;28mself\u001B[39m,\n\u001B[0;32m    532\u001B[0m     match_data_array: Union[xarray\u001B[38;5;241m.\u001B[39mDataArray, xarray\u001B[38;5;241m.\u001B[39mDataset],\n\u001B[0;32m    533\u001B[0m     resampling: Resampling \u001B[38;5;241m=\u001B[39m Resampling\u001B[38;5;241m.\u001B[39mnearest,\n\u001B[0;32m    534\u001B[0m     \u001B[38;5;241m*\u001B[39m\u001B[38;5;241m*\u001B[39mreproject_kwargs,\n\u001B[0;32m    535\u001B[0m ) \u001B[38;5;241m-\u001B[39m\u001B[38;5;241m>\u001B[39m xarray\u001B[38;5;241m.\u001B[39mDataArray:\n\u001B[0;32m    536\u001B[0m     \u001B[38;5;124;03m\"\"\"\u001B[39;00m\n\u001B[0;32m    537\u001B[0m \u001B[38;5;124;03m    Reproject a DataArray object to match the resolution, projection,\u001B[39;00m\n\u001B[0;32m    538\u001B[0m \u001B[38;5;124;03m    and region of another DataArray.\u001B[39;00m\n\u001B[1;32m   (...)\u001B[0m\n\u001B[0;32m    562\u001B[0m \u001B[38;5;124;03m        match_data_array.\u001B[39;00m\n\u001B[0;32m    563\u001B[0m \u001B[38;5;124;03m    \"\"\"\u001B[39;00m\n\u001B[1;32m--> 564\u001B[0m     reprojected_data_array \u001B[38;5;241m=\u001B[39m \u001B[38;5;28mself\u001B[39m\u001B[38;5;241m.\u001B[39mreproject(\n\u001B[0;32m    565\u001B[0m         match_data_array\u001B[38;5;241m.\u001B[39mrio\u001B[38;5;241m.\u001B[39mcrs,\n\u001B[0;32m    566\u001B[0m         transform\u001B[38;5;241m=\u001B[39mmatch_data_array\u001B[38;5;241m.\u001B[39mrio\u001B[38;5;241m.\u001B[39mtransform(recalc\u001B[38;5;241m=\u001B[39m\u001B[38;5;28;01mTrue\u001B[39;00m),\n\u001B[0;32m    567\u001B[0m         shape\u001B[38;5;241m=\u001B[39mmatch_data_array\u001B[38;5;241m.\u001B[39mrio\u001B[38;5;241m.\u001B[39mshape,\n\u001B[0;32m    568\u001B[0m         resampling\u001B[38;5;241m=\u001B[39mresampling,\n\u001B[0;32m    569\u001B[0m         \u001B[38;5;241m*\u001B[39m\u001B[38;5;241m*\u001B[39mreproject_kwargs,\n\u001B[0;32m    570\u001B[0m     )\n\u001B[0;32m    571\u001B[0m     \u001B[38;5;66;03m# hack to resolve: https://github.com/corteva/rioxarray/issues/298\u001B[39;00m\n\u001B[0;32m    572\u001B[0m     \u001B[38;5;66;03m# may be resolved in the future by flexible indexes:\u001B[39;00m\n\u001B[0;32m    573\u001B[0m     \u001B[38;5;66;03m# https://github.com/pydata/xarray/pull/4489#issuecomment-831809607\u001B[39;00m\n\u001B[0;32m    574\u001B[0m     x_attrs \u001B[38;5;241m=\u001B[39m reprojected_data_array[reprojected_data_array\u001B[38;5;241m.\u001B[39mrio\u001B[38;5;241m.\u001B[39mx_dim]\u001B[38;5;241m.\u001B[39mattrs\u001B[38;5;241m.\u001B[39mcopy()\n",
      "File \u001B[1;32m~\\anaconda3\\envs\\forecast\\lib\\site-packages\\rioxarray\\raster_array.py:464\u001B[0m, in \u001B[0;36mRasterArray.reproject\u001B[1;34m(self, dst_crs, resolution, shape, transform, resampling, nodata, **kwargs)\u001B[0m\n\u001B[0;32m    461\u001B[0m     \u001B[38;5;28;01melse\u001B[39;00m:\n\u001B[0;32m    462\u001B[0m         dst_height, dst_width \u001B[38;5;241m=\u001B[39m \u001B[38;5;28mself\u001B[39m\u001B[38;5;241m.\u001B[39mshape\n\u001B[1;32m--> 464\u001B[0m dst_data \u001B[38;5;241m=\u001B[39m \u001B[38;5;28;43mself\u001B[39;49m\u001B[38;5;241;43m.\u001B[39;49m\u001B[43m_create_dst_data\u001B[49m\u001B[43m(\u001B[49m\u001B[43mdst_height\u001B[49m\u001B[43m,\u001B[49m\u001B[43m \u001B[49m\u001B[43mdst_width\u001B[49m\u001B[43m)\u001B[49m\n\u001B[0;32m    466\u001B[0m dst_nodata \u001B[38;5;241m=\u001B[39m \u001B[38;5;28mself\u001B[39m\u001B[38;5;241m.\u001B[39m_get_dst_nodata(nodata)\n\u001B[0;32m    468\u001B[0m rasterio\u001B[38;5;241m.\u001B[39mwarp\u001B[38;5;241m.\u001B[39mreproject(\n\u001B[0;32m    469\u001B[0m     source\u001B[38;5;241m=\u001B[39m\u001B[38;5;28mself\u001B[39m\u001B[38;5;241m.\u001B[39m_obj\u001B[38;5;241m.\u001B[39mvalues,\n\u001B[0;32m    470\u001B[0m     destination\u001B[38;5;241m=\u001B[39mdst_data,\n\u001B[1;32m   (...)\u001B[0m\n\u001B[0;32m    478\u001B[0m     \u001B[38;5;241m*\u001B[39m\u001B[38;5;241m*\u001B[39mkwargs,\n\u001B[0;32m    479\u001B[0m )\n",
      "File \u001B[1;32m~\\anaconda3\\envs\\forecast\\lib\\site-packages\\rioxarray\\raster_array.py:522\u001B[0m, in \u001B[0;36mRasterArray._create_dst_data\u001B[1;34m(self, dst_height, dst_width)\u001B[0m\n\u001B[0;32m    520\u001B[0m extra_dim \u001B[38;5;241m=\u001B[39m \u001B[38;5;28mself\u001B[39m\u001B[38;5;241m.\u001B[39m_check_dimensions()\n\u001B[0;32m    521\u001B[0m \u001B[38;5;28;01mif\u001B[39;00m extra_dim:\n\u001B[1;32m--> 522\u001B[0m     dst_data \u001B[38;5;241m=\u001B[39m \u001B[43mnp\u001B[49m\u001B[38;5;241;43m.\u001B[39;49m\u001B[43mzeros\u001B[49m\u001B[43m(\u001B[49m\n\u001B[0;32m    523\u001B[0m \u001B[43m        \u001B[49m\u001B[43m(\u001B[49m\u001B[38;5;28;43mself\u001B[39;49m\u001B[38;5;241;43m.\u001B[39;49m\u001B[43m_obj\u001B[49m\u001B[43m[\u001B[49m\u001B[43mextra_dim\u001B[49m\u001B[43m]\u001B[49m\u001B[38;5;241;43m.\u001B[39;49m\u001B[43msize\u001B[49m\u001B[43m,\u001B[49m\u001B[43m \u001B[49m\u001B[43mdst_height\u001B[49m\u001B[43m,\u001B[49m\u001B[43m \u001B[49m\u001B[43mdst_width\u001B[49m\u001B[43m)\u001B[49m\u001B[43m,\u001B[49m\n\u001B[0;32m    524\u001B[0m \u001B[43m        \u001B[49m\u001B[43mdtype\u001B[49m\u001B[38;5;241;43m=\u001B[39;49m\u001B[38;5;28;43mself\u001B[39;49m\u001B[38;5;241;43m.\u001B[39;49m\u001B[43m_obj\u001B[49m\u001B[38;5;241;43m.\u001B[39;49m\u001B[43mdtype\u001B[49m\u001B[38;5;241;43m.\u001B[39;49m\u001B[43mtype\u001B[49m\u001B[43m,\u001B[49m\n\u001B[0;32m    525\u001B[0m \u001B[43m    \u001B[49m\u001B[43m)\u001B[49m\n\u001B[0;32m    526\u001B[0m \u001B[38;5;28;01melse\u001B[39;00m:\n\u001B[0;32m    527\u001B[0m     dst_data \u001B[38;5;241m=\u001B[39m np\u001B[38;5;241m.\u001B[39mzeros((dst_height, dst_width), dtype\u001B[38;5;241m=\u001B[39m\u001B[38;5;28mself\u001B[39m\u001B[38;5;241m.\u001B[39m_obj\u001B[38;5;241m.\u001B[39mdtype\u001B[38;5;241m.\u001B[39mtype)\n",
      "\u001B[1;31mMemoryError\u001B[0m: Unable to allocate 6.45 GiB for an array with shape (22975, 253, 298) and data type float32"
     ]
    }
   ],
   "source": [
    "# Interpolate era_sinu to common grid\n",
    "#era_sinu_proj = era_sinu.rio.reproject_match(common_grid, resampling=rasterio.enums.Resampling.bilinear)"
   ],
   "metadata": {
    "collapsed": false,
    "pycharm": {
     "name": "#%%\n"
    }
   }
  },
  {
   "cell_type": "markdown",
   "source": [
    "The dataset is too big, we will create a subset of the data set and reproject separately the data set to the same grid."
   ],
   "metadata": {
    "collapsed": false,
    "pycharm": {
     "name": "#%% md\n"
    }
   }
  },
  {
   "cell_type": "code",
   "execution_count": 43,
   "outputs": [],
   "source": [
    "era_1 = era_sinu['v10']\n",
    "era_2 = era_sinu['t2m']\n",
    "era_3 = era_sinu['u10']\n",
    "era_4 = era_sinu['tp' ]"
   ],
   "metadata": {
    "collapsed": false,
    "pycharm": {
     "name": "#%%\n"
    }
   }
  },
  {
   "cell_type": "code",
   "execution_count": 44,
   "outputs": [
    {
     "ename": "MemoryError",
     "evalue": "Unable to allocate 6.45 GiB for an array with shape (22975, 253, 298) and data type float32",
     "output_type": "error",
     "traceback": [
      "\u001B[1;31m---------------------------------------------------------------------------\u001B[0m",
      "\u001B[1;31mMemoryError\u001B[0m                               Traceback (most recent call last)",
      "Cell \u001B[1;32mIn [44], line 2\u001B[0m\n\u001B[0;32m      1\u001B[0m \u001B[38;5;66;03m# Interpolate era_1 to the same grid as lst_day_filter\u001B[39;00m\n\u001B[1;32m----> 2\u001B[0m era_1_interp \u001B[38;5;241m=\u001B[39m hz\u001B[38;5;241m.\u001B[39minterpolate_to_common_grid(era_1, common_grid)\n",
      "File \u001B[1;32m~\\Documents\\Projets\\wildfire\\src\\harmonize.py:49\u001B[0m, in \u001B[0;36minterpolate_to_common_grid\u001B[1;34m(dataray, common_grid)\u001B[0m\n\u001B[0;32m     47\u001B[0m \u001B[38;5;28;01mdef\u001B[39;00m \u001B[38;5;21minterpolate_to_common_grid\u001B[39m(dataray, common_grid):\n\u001B[0;32m     48\u001B[0m     \u001B[38;5;124;03m\"\"\"Interpolates the dataray to a common grid\"\"\"\u001B[39;00m\n\u001B[1;32m---> 49\u001B[0m     \u001B[38;5;28;01mreturn\u001B[39;00m \u001B[43mdataray\u001B[49m\u001B[38;5;241;43m.\u001B[39;49m\u001B[43mrio\u001B[49m\u001B[38;5;241;43m.\u001B[39;49m\u001B[43mreproject_match\u001B[49m\u001B[43m(\u001B[49m\u001B[43mcommon_grid\u001B[49m\u001B[43m,\u001B[49m\u001B[43m \u001B[49m\u001B[43mresampling\u001B[49m\u001B[38;5;241;43m=\u001B[39;49m\u001B[43mrasterio\u001B[49m\u001B[38;5;241;43m.\u001B[39;49m\u001B[43menums\u001B[49m\u001B[38;5;241;43m.\u001B[39;49m\u001B[43mResampling\u001B[49m\u001B[38;5;241;43m.\u001B[39;49m\u001B[43mbilinear\u001B[49m\u001B[43m)\u001B[49m\n",
      "File \u001B[1;32m~\\anaconda3\\envs\\forecast\\lib\\site-packages\\rioxarray\\raster_array.py:564\u001B[0m, in \u001B[0;36mRasterArray.reproject_match\u001B[1;34m(self, match_data_array, resampling, **reproject_kwargs)\u001B[0m\n\u001B[0;32m    530\u001B[0m \u001B[38;5;28;01mdef\u001B[39;00m \u001B[38;5;21mreproject_match\u001B[39m(\n\u001B[0;32m    531\u001B[0m     \u001B[38;5;28mself\u001B[39m,\n\u001B[0;32m    532\u001B[0m     match_data_array: Union[xarray\u001B[38;5;241m.\u001B[39mDataArray, xarray\u001B[38;5;241m.\u001B[39mDataset],\n\u001B[0;32m    533\u001B[0m     resampling: Resampling \u001B[38;5;241m=\u001B[39m Resampling\u001B[38;5;241m.\u001B[39mnearest,\n\u001B[0;32m    534\u001B[0m     \u001B[38;5;241m*\u001B[39m\u001B[38;5;241m*\u001B[39mreproject_kwargs,\n\u001B[0;32m    535\u001B[0m ) \u001B[38;5;241m-\u001B[39m\u001B[38;5;241m>\u001B[39m xarray\u001B[38;5;241m.\u001B[39mDataArray:\n\u001B[0;32m    536\u001B[0m     \u001B[38;5;124;03m\"\"\"\u001B[39;00m\n\u001B[0;32m    537\u001B[0m \u001B[38;5;124;03m    Reproject a DataArray object to match the resolution, projection,\u001B[39;00m\n\u001B[0;32m    538\u001B[0m \u001B[38;5;124;03m    and region of another DataArray.\u001B[39;00m\n\u001B[1;32m   (...)\u001B[0m\n\u001B[0;32m    562\u001B[0m \u001B[38;5;124;03m        match_data_array.\u001B[39;00m\n\u001B[0;32m    563\u001B[0m \u001B[38;5;124;03m    \"\"\"\u001B[39;00m\n\u001B[1;32m--> 564\u001B[0m     reprojected_data_array \u001B[38;5;241m=\u001B[39m \u001B[38;5;28mself\u001B[39m\u001B[38;5;241m.\u001B[39mreproject(\n\u001B[0;32m    565\u001B[0m         match_data_array\u001B[38;5;241m.\u001B[39mrio\u001B[38;5;241m.\u001B[39mcrs,\n\u001B[0;32m    566\u001B[0m         transform\u001B[38;5;241m=\u001B[39mmatch_data_array\u001B[38;5;241m.\u001B[39mrio\u001B[38;5;241m.\u001B[39mtransform(recalc\u001B[38;5;241m=\u001B[39m\u001B[38;5;28;01mTrue\u001B[39;00m),\n\u001B[0;32m    567\u001B[0m         shape\u001B[38;5;241m=\u001B[39mmatch_data_array\u001B[38;5;241m.\u001B[39mrio\u001B[38;5;241m.\u001B[39mshape,\n\u001B[0;32m    568\u001B[0m         resampling\u001B[38;5;241m=\u001B[39mresampling,\n\u001B[0;32m    569\u001B[0m         \u001B[38;5;241m*\u001B[39m\u001B[38;5;241m*\u001B[39mreproject_kwargs,\n\u001B[0;32m    570\u001B[0m     )\n\u001B[0;32m    571\u001B[0m     \u001B[38;5;66;03m# hack to resolve: https://github.com/corteva/rioxarray/issues/298\u001B[39;00m\n\u001B[0;32m    572\u001B[0m     \u001B[38;5;66;03m# may be resolved in the future by flexible indexes:\u001B[39;00m\n\u001B[0;32m    573\u001B[0m     \u001B[38;5;66;03m# https://github.com/pydata/xarray/pull/4489#issuecomment-831809607\u001B[39;00m\n\u001B[0;32m    574\u001B[0m     x_attrs \u001B[38;5;241m=\u001B[39m reprojected_data_array[reprojected_data_array\u001B[38;5;241m.\u001B[39mrio\u001B[38;5;241m.\u001B[39mx_dim]\u001B[38;5;241m.\u001B[39mattrs\u001B[38;5;241m.\u001B[39mcopy()\n",
      "File \u001B[1;32m~\\anaconda3\\envs\\forecast\\lib\\site-packages\\rioxarray\\raster_array.py:464\u001B[0m, in \u001B[0;36mRasterArray.reproject\u001B[1;34m(self, dst_crs, resolution, shape, transform, resampling, nodata, **kwargs)\u001B[0m\n\u001B[0;32m    461\u001B[0m     \u001B[38;5;28;01melse\u001B[39;00m:\n\u001B[0;32m    462\u001B[0m         dst_height, dst_width \u001B[38;5;241m=\u001B[39m \u001B[38;5;28mself\u001B[39m\u001B[38;5;241m.\u001B[39mshape\n\u001B[1;32m--> 464\u001B[0m dst_data \u001B[38;5;241m=\u001B[39m \u001B[38;5;28;43mself\u001B[39;49m\u001B[38;5;241;43m.\u001B[39;49m\u001B[43m_create_dst_data\u001B[49m\u001B[43m(\u001B[49m\u001B[43mdst_height\u001B[49m\u001B[43m,\u001B[49m\u001B[43m \u001B[49m\u001B[43mdst_width\u001B[49m\u001B[43m)\u001B[49m\n\u001B[0;32m    466\u001B[0m dst_nodata \u001B[38;5;241m=\u001B[39m \u001B[38;5;28mself\u001B[39m\u001B[38;5;241m.\u001B[39m_get_dst_nodata(nodata)\n\u001B[0;32m    468\u001B[0m rasterio\u001B[38;5;241m.\u001B[39mwarp\u001B[38;5;241m.\u001B[39mreproject(\n\u001B[0;32m    469\u001B[0m     source\u001B[38;5;241m=\u001B[39m\u001B[38;5;28mself\u001B[39m\u001B[38;5;241m.\u001B[39m_obj\u001B[38;5;241m.\u001B[39mvalues,\n\u001B[0;32m    470\u001B[0m     destination\u001B[38;5;241m=\u001B[39mdst_data,\n\u001B[1;32m   (...)\u001B[0m\n\u001B[0;32m    478\u001B[0m     \u001B[38;5;241m*\u001B[39m\u001B[38;5;241m*\u001B[39mkwargs,\n\u001B[0;32m    479\u001B[0m )\n",
      "File \u001B[1;32m~\\anaconda3\\envs\\forecast\\lib\\site-packages\\rioxarray\\raster_array.py:522\u001B[0m, in \u001B[0;36mRasterArray._create_dst_data\u001B[1;34m(self, dst_height, dst_width)\u001B[0m\n\u001B[0;32m    520\u001B[0m extra_dim \u001B[38;5;241m=\u001B[39m \u001B[38;5;28mself\u001B[39m\u001B[38;5;241m.\u001B[39m_check_dimensions()\n\u001B[0;32m    521\u001B[0m \u001B[38;5;28;01mif\u001B[39;00m extra_dim:\n\u001B[1;32m--> 522\u001B[0m     dst_data \u001B[38;5;241m=\u001B[39m \u001B[43mnp\u001B[49m\u001B[38;5;241;43m.\u001B[39;49m\u001B[43mzeros\u001B[49m\u001B[43m(\u001B[49m\n\u001B[0;32m    523\u001B[0m \u001B[43m        \u001B[49m\u001B[43m(\u001B[49m\u001B[38;5;28;43mself\u001B[39;49m\u001B[38;5;241;43m.\u001B[39;49m\u001B[43m_obj\u001B[49m\u001B[43m[\u001B[49m\u001B[43mextra_dim\u001B[49m\u001B[43m]\u001B[49m\u001B[38;5;241;43m.\u001B[39;49m\u001B[43msize\u001B[49m\u001B[43m,\u001B[49m\u001B[43m \u001B[49m\u001B[43mdst_height\u001B[49m\u001B[43m,\u001B[49m\u001B[43m \u001B[49m\u001B[43mdst_width\u001B[49m\u001B[43m)\u001B[49m\u001B[43m,\u001B[49m\n\u001B[0;32m    524\u001B[0m \u001B[43m        \u001B[49m\u001B[43mdtype\u001B[49m\u001B[38;5;241;43m=\u001B[39;49m\u001B[38;5;28;43mself\u001B[39;49m\u001B[38;5;241;43m.\u001B[39;49m\u001B[43m_obj\u001B[49m\u001B[38;5;241;43m.\u001B[39;49m\u001B[43mdtype\u001B[49m\u001B[38;5;241;43m.\u001B[39;49m\u001B[43mtype\u001B[49m\u001B[43m,\u001B[49m\n\u001B[0;32m    525\u001B[0m \u001B[43m    \u001B[49m\u001B[43m)\u001B[49m\n\u001B[0;32m    526\u001B[0m \u001B[38;5;28;01melse\u001B[39;00m:\n\u001B[0;32m    527\u001B[0m     dst_data \u001B[38;5;241m=\u001B[39m np\u001B[38;5;241m.\u001B[39mzeros((dst_height, dst_width), dtype\u001B[38;5;241m=\u001B[39m\u001B[38;5;28mself\u001B[39m\u001B[38;5;241m.\u001B[39m_obj\u001B[38;5;241m.\u001B[39mdtype\u001B[38;5;241m.\u001B[39mtype)\n",
      "\u001B[1;31mMemoryError\u001B[0m: Unable to allocate 6.45 GiB for an array with shape (22975, 253, 298) and data type float32"
     ]
    }
   ],
   "source": [
    "# Interpolate era_1 to the same grid as lst_day_filter\n",
    "era_1_interp = hz.interpolate_to_common_grid(era_1, common_grid)"
   ],
   "metadata": {
    "collapsed": false,
    "pycharm": {
     "name": "#%%\n"
    }
   }
  },
  {
   "cell_type": "code",
   "execution_count": null,
   "outputs": [],
   "source": [
    "# Interpolate era_2 to the same grid as lst_day_filter\n",
    "era_2_interp = hz.interpolate_to_common_grid(era_2, common_grid)"
   ],
   "metadata": {
    "collapsed": false,
    "pycharm": {
     "name": "#%%\n"
    }
   }
  },
  {
   "cell_type": "code",
   "execution_count": null,
   "outputs": [],
   "source": [
    "# Interpolate era_3 to the same grid as lst_day_filter\n",
    "era_3_interp = hz.interpolate_to_common_grid(era_3, common_grid)"
   ],
   "metadata": {
    "collapsed": false,
    "pycharm": {
     "name": "#%%# Interpolate era_3 to the same grid as lst_day_filter# Interpolate era_3 to the same grid as lst_day_filter\n"
    }
   }
  },
  {
   "cell_type": "code",
   "execution_count": null,
   "outputs": [],
   "source": [
    "# Interpolate era_4 to the same grid as lst_day_filter\n",
    "era_4_interp = hz.interpolate_to_common_grid(era_4, common_grid)"
   ],
   "metadata": {
    "collapsed": false,
    "pycharm": {
     "name": "#%%\n"
    }
   }
  },
  {
   "cell_type": "markdown",
   "source": [
    "Still too big, we will first downsampling to a daily resolution and then reproject to the same grid."
   ],
   "metadata": {
    "collapsed": false,
    "pycharm": {
     "name": "#%% md\n"
    }
   }
  },
  {
   "cell_type": "code",
   "execution_count": 45,
   "outputs": [],
   "source": [
    "# Downsample the era data set to a daily resolution\n",
    "era_sinu_daily = hz.resample_to_daily(era_sinu)"
   ],
   "metadata": {
    "collapsed": false,
    "pycharm": {
     "name": "#%%\n"
    }
   }
  },
  {
   "cell_type": "code",
   "execution_count": 46,
   "outputs": [
    {
     "ename": "MemoryError",
     "evalue": "Unable to allocate 2.58 GiB for an array with shape (4595, 253, 298) and data type float64",
     "output_type": "error",
     "traceback": [
      "\u001B[1;31m---------------------------------------------------------------------------\u001B[0m",
      "\u001B[1;31mMemoryError\u001B[0m                               Traceback (most recent call last)",
      "Cell \u001B[1;32mIn [46], line 2\u001B[0m\n\u001B[0;32m      1\u001B[0m \u001B[38;5;66;03m# Interpolate era_sinu_daily to common grid\u001B[39;00m\n\u001B[1;32m----> 2\u001B[0m era_sinu_daily_proj \u001B[38;5;241m=\u001B[39m era_sinu_daily\u001B[38;5;241m.\u001B[39mrio\u001B[38;5;241m.\u001B[39mreproject_match(common_grid, resampling\u001B[38;5;241m=\u001B[39mrasterio\u001B[38;5;241m.\u001B[39menums\u001B[38;5;241m.\u001B[39mResampling\u001B[38;5;241m.\u001B[39mbilinear)\n",
      "File \u001B[1;32m~\\anaconda3\\envs\\forecast\\lib\\site-packages\\rioxarray\\raster_dataset.py:174\u001B[0m, in \u001B[0;36mRasterDataset.reproject_match\u001B[1;34m(self, match_data_array, resampling, **reproject_kwargs)\u001B[0m\n\u001B[0;32m    171\u001B[0m \u001B[38;5;28;01mtry\u001B[39;00m:\n\u001B[0;32m    172\u001B[0m     x_dim, y_dim \u001B[38;5;241m=\u001B[39m _get_spatial_dims(\u001B[38;5;28mself\u001B[39m\u001B[38;5;241m.\u001B[39m_obj, var)\n\u001B[0;32m    173\u001B[0m     resampled_dataset[var] \u001B[38;5;241m=\u001B[39m (\n\u001B[1;32m--> 174\u001B[0m         \u001B[38;5;28mself\u001B[39m\u001B[38;5;241m.\u001B[39m_obj[var]\n\u001B[0;32m    175\u001B[0m         \u001B[38;5;241m.\u001B[39mrio\u001B[38;5;241m.\u001B[39mset_spatial_dims(x_dim\u001B[38;5;241m=\u001B[39mx_dim, y_dim\u001B[38;5;241m=\u001B[39my_dim, inplace\u001B[38;5;241m=\u001B[39m\u001B[38;5;28;01mTrue\u001B[39;00m)\n\u001B[0;32m    176\u001B[0m         \u001B[38;5;241m.\u001B[39mrio\u001B[38;5;241m.\u001B[39mreproject_match(\n\u001B[0;32m    177\u001B[0m             match_data_array, resampling\u001B[38;5;241m=\u001B[39mresampling, \u001B[38;5;241m*\u001B[39m\u001B[38;5;241m*\u001B[39mreproject_kwargs\n\u001B[0;32m    178\u001B[0m         )\n\u001B[0;32m    179\u001B[0m     )\n\u001B[0;32m    180\u001B[0m \u001B[38;5;28;01mexcept\u001B[39;00m MissingSpatialDimensionError:\n\u001B[0;32m    181\u001B[0m     \u001B[38;5;28;01mif\u001B[39;00m \u001B[38;5;28mlen\u001B[39m(\u001B[38;5;28mself\u001B[39m\u001B[38;5;241m.\u001B[39m_obj[var]\u001B[38;5;241m.\u001B[39mdims) \u001B[38;5;241m>\u001B[39m\u001B[38;5;241m=\u001B[39m \u001B[38;5;241m2\u001B[39m \u001B[38;5;129;01mand\u001B[39;00m \u001B[38;5;129;01mnot\u001B[39;00m get_option(\n\u001B[0;32m    182\u001B[0m         SKIP_MISSING_SPATIAL_DIMS\n\u001B[0;32m    183\u001B[0m     ):\n",
      "File \u001B[1;32m~\\anaconda3\\envs\\forecast\\lib\\site-packages\\rioxarray\\raster_array.py:564\u001B[0m, in \u001B[0;36mRasterArray.reproject_match\u001B[1;34m(self, match_data_array, resampling, **reproject_kwargs)\u001B[0m\n\u001B[0;32m    530\u001B[0m \u001B[38;5;28;01mdef\u001B[39;00m \u001B[38;5;21mreproject_match\u001B[39m(\n\u001B[0;32m    531\u001B[0m     \u001B[38;5;28mself\u001B[39m,\n\u001B[0;32m    532\u001B[0m     match_data_array: Union[xarray\u001B[38;5;241m.\u001B[39mDataArray, xarray\u001B[38;5;241m.\u001B[39mDataset],\n\u001B[0;32m    533\u001B[0m     resampling: Resampling \u001B[38;5;241m=\u001B[39m Resampling\u001B[38;5;241m.\u001B[39mnearest,\n\u001B[0;32m    534\u001B[0m     \u001B[38;5;241m*\u001B[39m\u001B[38;5;241m*\u001B[39mreproject_kwargs,\n\u001B[0;32m    535\u001B[0m ) \u001B[38;5;241m-\u001B[39m\u001B[38;5;241m>\u001B[39m xarray\u001B[38;5;241m.\u001B[39mDataArray:\n\u001B[0;32m    536\u001B[0m     \u001B[38;5;124;03m\"\"\"\u001B[39;00m\n\u001B[0;32m    537\u001B[0m \u001B[38;5;124;03m    Reproject a DataArray object to match the resolution, projection,\u001B[39;00m\n\u001B[0;32m    538\u001B[0m \u001B[38;5;124;03m    and region of another DataArray.\u001B[39;00m\n\u001B[1;32m   (...)\u001B[0m\n\u001B[0;32m    562\u001B[0m \u001B[38;5;124;03m        match_data_array.\u001B[39;00m\n\u001B[0;32m    563\u001B[0m \u001B[38;5;124;03m    \"\"\"\u001B[39;00m\n\u001B[1;32m--> 564\u001B[0m     reprojected_data_array \u001B[38;5;241m=\u001B[39m \u001B[38;5;28mself\u001B[39m\u001B[38;5;241m.\u001B[39mreproject(\n\u001B[0;32m    565\u001B[0m         match_data_array\u001B[38;5;241m.\u001B[39mrio\u001B[38;5;241m.\u001B[39mcrs,\n\u001B[0;32m    566\u001B[0m         transform\u001B[38;5;241m=\u001B[39mmatch_data_array\u001B[38;5;241m.\u001B[39mrio\u001B[38;5;241m.\u001B[39mtransform(recalc\u001B[38;5;241m=\u001B[39m\u001B[38;5;28;01mTrue\u001B[39;00m),\n\u001B[0;32m    567\u001B[0m         shape\u001B[38;5;241m=\u001B[39mmatch_data_array\u001B[38;5;241m.\u001B[39mrio\u001B[38;5;241m.\u001B[39mshape,\n\u001B[0;32m    568\u001B[0m         resampling\u001B[38;5;241m=\u001B[39mresampling,\n\u001B[0;32m    569\u001B[0m         \u001B[38;5;241m*\u001B[39m\u001B[38;5;241m*\u001B[39mreproject_kwargs,\n\u001B[0;32m    570\u001B[0m     )\n\u001B[0;32m    571\u001B[0m     \u001B[38;5;66;03m# hack to resolve: https://github.com/corteva/rioxarray/issues/298\u001B[39;00m\n\u001B[0;32m    572\u001B[0m     \u001B[38;5;66;03m# may be resolved in the future by flexible indexes:\u001B[39;00m\n\u001B[0;32m    573\u001B[0m     \u001B[38;5;66;03m# https://github.com/pydata/xarray/pull/4489#issuecomment-831809607\u001B[39;00m\n\u001B[0;32m    574\u001B[0m     x_attrs \u001B[38;5;241m=\u001B[39m reprojected_data_array[reprojected_data_array\u001B[38;5;241m.\u001B[39mrio\u001B[38;5;241m.\u001B[39mx_dim]\u001B[38;5;241m.\u001B[39mattrs\u001B[38;5;241m.\u001B[39mcopy()\n",
      "File \u001B[1;32m~\\anaconda3\\envs\\forecast\\lib\\site-packages\\rioxarray\\raster_array.py:464\u001B[0m, in \u001B[0;36mRasterArray.reproject\u001B[1;34m(self, dst_crs, resolution, shape, transform, resampling, nodata, **kwargs)\u001B[0m\n\u001B[0;32m    461\u001B[0m     \u001B[38;5;28;01melse\u001B[39;00m:\n\u001B[0;32m    462\u001B[0m         dst_height, dst_width \u001B[38;5;241m=\u001B[39m \u001B[38;5;28mself\u001B[39m\u001B[38;5;241m.\u001B[39mshape\n\u001B[1;32m--> 464\u001B[0m dst_data \u001B[38;5;241m=\u001B[39m \u001B[38;5;28;43mself\u001B[39;49m\u001B[38;5;241;43m.\u001B[39;49m\u001B[43m_create_dst_data\u001B[49m\u001B[43m(\u001B[49m\u001B[43mdst_height\u001B[49m\u001B[43m,\u001B[49m\u001B[43m \u001B[49m\u001B[43mdst_width\u001B[49m\u001B[43m)\u001B[49m\n\u001B[0;32m    466\u001B[0m dst_nodata \u001B[38;5;241m=\u001B[39m \u001B[38;5;28mself\u001B[39m\u001B[38;5;241m.\u001B[39m_get_dst_nodata(nodata)\n\u001B[0;32m    468\u001B[0m rasterio\u001B[38;5;241m.\u001B[39mwarp\u001B[38;5;241m.\u001B[39mreproject(\n\u001B[0;32m    469\u001B[0m     source\u001B[38;5;241m=\u001B[39m\u001B[38;5;28mself\u001B[39m\u001B[38;5;241m.\u001B[39m_obj\u001B[38;5;241m.\u001B[39mvalues,\n\u001B[0;32m    470\u001B[0m     destination\u001B[38;5;241m=\u001B[39mdst_data,\n\u001B[1;32m   (...)\u001B[0m\n\u001B[0;32m    478\u001B[0m     \u001B[38;5;241m*\u001B[39m\u001B[38;5;241m*\u001B[39mkwargs,\n\u001B[0;32m    479\u001B[0m )\n",
      "File \u001B[1;32m~\\anaconda3\\envs\\forecast\\lib\\site-packages\\rioxarray\\raster_array.py:522\u001B[0m, in \u001B[0;36mRasterArray._create_dst_data\u001B[1;34m(self, dst_height, dst_width)\u001B[0m\n\u001B[0;32m    520\u001B[0m extra_dim \u001B[38;5;241m=\u001B[39m \u001B[38;5;28mself\u001B[39m\u001B[38;5;241m.\u001B[39m_check_dimensions()\n\u001B[0;32m    521\u001B[0m \u001B[38;5;28;01mif\u001B[39;00m extra_dim:\n\u001B[1;32m--> 522\u001B[0m     dst_data \u001B[38;5;241m=\u001B[39m \u001B[43mnp\u001B[49m\u001B[38;5;241;43m.\u001B[39;49m\u001B[43mzeros\u001B[49m\u001B[43m(\u001B[49m\n\u001B[0;32m    523\u001B[0m \u001B[43m        \u001B[49m\u001B[43m(\u001B[49m\u001B[38;5;28;43mself\u001B[39;49m\u001B[38;5;241;43m.\u001B[39;49m\u001B[43m_obj\u001B[49m\u001B[43m[\u001B[49m\u001B[43mextra_dim\u001B[49m\u001B[43m]\u001B[49m\u001B[38;5;241;43m.\u001B[39;49m\u001B[43msize\u001B[49m\u001B[43m,\u001B[49m\u001B[43m \u001B[49m\u001B[43mdst_height\u001B[49m\u001B[43m,\u001B[49m\u001B[43m \u001B[49m\u001B[43mdst_width\u001B[49m\u001B[43m)\u001B[49m\u001B[43m,\u001B[49m\n\u001B[0;32m    524\u001B[0m \u001B[43m        \u001B[49m\u001B[43mdtype\u001B[49m\u001B[38;5;241;43m=\u001B[39;49m\u001B[38;5;28;43mself\u001B[39;49m\u001B[38;5;241;43m.\u001B[39;49m\u001B[43m_obj\u001B[49m\u001B[38;5;241;43m.\u001B[39;49m\u001B[43mdtype\u001B[49m\u001B[38;5;241;43m.\u001B[39;49m\u001B[43mtype\u001B[49m\u001B[43m,\u001B[49m\n\u001B[0;32m    525\u001B[0m \u001B[43m    \u001B[49m\u001B[43m)\u001B[49m\n\u001B[0;32m    526\u001B[0m \u001B[38;5;28;01melse\u001B[39;00m:\n\u001B[0;32m    527\u001B[0m     dst_data \u001B[38;5;241m=\u001B[39m np\u001B[38;5;241m.\u001B[39mzeros((dst_height, dst_width), dtype\u001B[38;5;241m=\u001B[39m\u001B[38;5;28mself\u001B[39m\u001B[38;5;241m.\u001B[39m_obj\u001B[38;5;241m.\u001B[39mdtype\u001B[38;5;241m.\u001B[39mtype)\n",
      "\u001B[1;31mMemoryError\u001B[0m: Unable to allocate 2.58 GiB for an array with shape (4595, 253, 298) and data type float64"
     ]
    }
   ],
   "source": [
    "# Interpolate era_sinu_daily to common grid\n",
    "era_sinu_daily_proj = era_sinu_daily.rio.reproject_match(common_grid, resampling=rasterio.enums.Resampling.bilinear)"
   ],
   "metadata": {
    "collapsed": false,
    "pycharm": {
     "name": "#%%\n"
    }
   }
  },
  {
   "cell_type": "code",
   "execution_count": null,
   "outputs": [],
   "source": [],
   "metadata": {
    "collapsed": false,
    "pycharm": {
     "name": "#%%\n"
    }
   }
  }
 ],
 "metadata": {
  "kernelspec": {
   "display_name": "Python 3 (ipykernel)",
   "language": "python",
   "name": "python3"
  },
  "language_info": {
   "codemirror_mode": {
    "name": "ipython",
    "version": 3
   },
   "file_extension": ".py",
   "mimetype": "text/x-python",
   "name": "python",
   "nbconvert_exporter": "python",
   "pygments_lexer": "ipython3",
   "version": "3.9.13"
  }
 },
 "nbformat": 4,
 "nbformat_minor": 5
}