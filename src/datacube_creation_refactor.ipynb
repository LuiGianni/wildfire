{
 "cells": [
  {
   "cell_type": "code",
   "execution_count": 1,
   "id": "f16611fb",
   "metadata": {
    "pycharm": {
     "name": "#%%\n"
    }
   },
   "outputs": [
    {
     "data": {
      "application/javascript": "IPython.notebook.set_autosave_interval(60000)"
     },
     "metadata": {},
     "output_type": "display_data"
    },
    {
     "name": "stdout",
     "output_type": "stream",
     "text": [
      "Autosaving every 60 seconds\n"
     ]
    }
   ],
   "source": [
    "# Displays or modifies the intervals between automatic Notebook saves. The default setting is every 120 seconds.\n",
    "%autosave 60\n",
    "# Load all the import for every execution of a script.\n",
    "%load_ext autoreload\n",
    "%autoreload 2"
   ]
  },
  {
   "cell_type": "markdown",
   "id": "73ff712e",
   "metadata": {
    "pycharm": {
     "name": "#%% md\n"
    }
   },
   "source": [
    "# Import"
   ]
  },
  {
   "cell_type": "code",
   "execution_count": 2,
   "id": "d7493245",
   "metadata": {
    "pycharm": {
     "name": "#%%\n"
    }
   },
   "outputs": [],
   "source": [
    "import harmonize as hz\n",
    "import numpy as np\n",
    "import rasterio\n",
    "import matplotlib.pyplot as plt\n",
    "import xarray as xr\n",
    "import rioxarray as rxr\n",
    "import geopandas as gpd\n",
    "from shapely.geometry import mapping"
   ]
  },
  {
   "cell_type": "markdown",
   "id": "5a105037",
   "metadata": {
    "pycharm": {
     "name": "#%% md\n"
    }
   },
   "source": [
    "If issue with cfgrib -->  pip install eccodes>=2.21.0"
   ]
  },
  {
   "cell_type": "markdown",
   "id": "74532d12",
   "metadata": {
    "pycharm": {
     "name": "#%% md\n"
    }
   },
   "source": [
    "# Load data sets"
   ]
  },
  {
   "cell_type": "code",
   "execution_count": 3,
   "id": "82955bc9",
   "metadata": {
    "pycharm": {
     "name": "#%%\n"
    }
   },
   "outputs": [],
   "source": [
    "# Create a path to the data directory\n",
    "path_data = \"../data/Raw/\""
   ]
  },
  {
   "cell_type": "code",
   "execution_count": 4,
   "id": "7216e555",
   "metadata": {
    "pycharm": {
     "name": "#%%\n"
    }
   },
   "outputs": [],
   "source": [
    "# Load the data set\n",
    "ndvi = xr.open_dataset(path_data +'Raw_NDVI_16D_1km.nc')\n",
    "lai = xr.open_dataset(path_data +'Raw_LAI_8D_500m.nc')\n",
    "evap = xr.open_dataset(path_data +'Raw_Evap_8D_500m.nc')\n",
    "era = xr.open_dataset(path_data +'Raw_weather_4H_9km.nc')\n",
    "lst_night = xr.open_dataset(path_data +'Raw_LST_Night_1D_1km.nc')\n",
    "lst_day = xr.open_dataset(path_data +'Raw_LST_Day_1D_1km.nc')\n",
    "active_fire = xr.open_dataset(path_data +'Raw_ActiveFire_500m.nc')\n",
    "burn_mask =xr.open_dataset(path_data +'Raw_BurnMask_1km.nc')\n",
    "fwi = xr.open_mfdataset(path_data+'/Raw_Fwi/*.nc', combine='by_coords', chunks=None)\n",
    "density = rxr.open_rasterio(path_data +'fra_pd_2015_1km_UNadj.tif', masked=True).squeeze()"
   ]
  },
  {
   "cell_type": "markdown",
   "id": "cde59436",
   "metadata": {
    "pycharm": {
     "name": "#%% md\n"
    }
   },
   "source": [
    "# Pre-process the datasets"
   ]
  },
  {
   "cell_type": "markdown",
   "source": [
    "## Variables selection"
   ],
   "metadata": {
    "collapsed": false,
    "pycharm": {
     "name": "#%% md\n"
    }
   }
  },
  {
   "cell_type": "markdown",
   "source": [
    "Variables of interest:\n",
    "- Fpar_500m: Fraction of Photosynthetically Active Radiation (continuous) min: 0 max: 2.54 unit: percentage\n",
    "- _1_km_16_days_EVI: Ehanced Vegetation Index (continuous) min: -02 max: 0.8983 unit: none\n",
    "- ET_500m: Total Evapotranspiration (continuous) min: 0 max: 3.277e+03 unit: kg/m²/8day\n",
    "- u10: Eastward component of the 10m wind (continuous) min: -17.09 max: 15.15 unit: m/s\n",
    "- v10: Northward component of the 10m wind (continuous) min: -15.89 max: 14.17 unit: m/s\n",
    "- t2m: Temperature of air at 2m above the surface of land, sea or in-land waters. The temperature measured in kelvin can be converted to degrees Celsius (°C) by subtracting 273.15. (continuous) min: 244 max: 317 unit: K\n",
    "- tp: precipitation (continuous) min: 0 max: 0.122 unit: m\n",
    "- LST_Day_1km: Land Surface Temperature day (continuous) min: 240.0 max: 332.9 unit: K\n",
    "- LST_Night_1km:**Land Surface Temperature day (continuous) min: 227.3 max: 321.2 unit: K\n",
    "- fwi-daily-proj: Fire Weather Index (continuous) min: 1 max: 473 unit: dimensionless\n",
    "- First_Day: First day of the year of reliable change detection (categorical) min: 0 max: 366 unit: day\n",
    "- Last_Day: Last day of the year of reliable change detection (categorical) min: 0 max: 366 unit: day\n",
    "- FireMask"
   ],
   "metadata": {
    "collapsed": false,
    "pycharm": {
     "name": "#%% md\n"
    }
   }
  },
  {
   "cell_type": "code",
   "execution_count": 5,
   "outputs": [],
   "source": [
    "# Select the variables of interest\n",
    "ndvi_filter = ndvi['_1_km_16_days_EVI']\n",
    "lai_filter = lai['Fpar_500m']\n",
    "evap_filter = evap['ET_500m']\n",
    "era_filter = era[['u10', 'v10', 't2m', 'tp']]\n",
    "lst_night_filter = lst_night['LST_Night_1km']\n",
    "lst_day_filter = lst_day['LST_Day_1km']\n",
    "fwi_filter = fwi['fwi-daily-proj']\n",
    "active_fire_filter = active_fire[['First_Day', 'Last_Day']]\n",
    "burn_mask_filter = burn_mask['FireMask']"
   ],
   "metadata": {
    "collapsed": false,
    "pycharm": {
     "name": "#%%\n"
    }
   }
  },
  {
   "cell_type": "markdown",
   "id": "6a56d508",
   "metadata": {
    "pycharm": {
     "name": "#%% md\n"
    }
   },
   "source": [
    "## Setting the CRS of the datasets"
   ]
  },
  {
   "cell_type": "code",
   "execution_count": 6,
   "outputs": [],
   "source": [
    "# Create a dictionary with the CRS of the datasets\n",
    "crs = {'ndvi': ndvi_filter.rio.crs,\n",
    "       'lai': lai_filter.rio.crs,\n",
    "       'evap': evap_filter.rio.crs,\n",
    "       'era': era_filter.rio.crs,\n",
    "       'lst_night': lst_night_filter.rio.crs,\n",
    "       'lst_day': lst_day_filter.rio.crs,\n",
    "       'fwi': fwi_filter.rio.crs,\n",
    "       'active_fire': active_fire_filter.rio.crs,\n",
    "       'burn_mask': burn_mask_filter.rio.crs,\n",
    "       'density': density.rio.crs}\n",
    "\n"
   ],
   "metadata": {
    "collapsed": false,
    "pycharm": {
     "name": "#%%\n"
    }
   }
  },
  {
   "cell_type": "markdown",
   "source": [
    "## Setting the extent of the datasets"
   ],
   "metadata": {
    "collapsed": false,
    "pycharm": {
     "name": "#%% md\n"
    }
   }
  },
  {
   "cell_type": "code",
   "execution_count": 7,
   "outputs": [],
   "source": [
    "# Create a CRS object from a poj4 string for sinuoidal projection\n",
    "crs_sinu = rasterio.crs.CRS.from_string(\"+proj=sinu +lon_0=0 +x_0=0 +y_0=0 +a=6371007.181 +b=6371007.181 +units=m +no_defs\")"
   ],
   "metadata": {
    "collapsed": false,
    "pycharm": {
     "name": "#%%\n"
    }
   }
  },
  {
   "cell_type": "code",
   "execution_count": 8,
   "outputs": [],
   "source": [
    "# Define a crs for rotated pole\n",
    "crs_rotated_pole = rasterio.crs.CRS.from_string(\"+proj=ob_tran +o_proj=longlat +o_lon_p=-162 +o_lat_p=39.25 +lon_0=180 +to_meter=0.01745329\")"
   ],
   "metadata": {
    "collapsed": false,
    "pycharm": {
     "name": "#%%\n"
    }
   }
  },
  {
   "cell_type": "code",
   "execution_count": 9,
   "outputs": [],
   "source": [
    "# Set the CRS of the data sets with hz.define_crs()\n",
    "ndvi_filter = hz.define_crs(ndvi_filter, crs_sinu)\n",
    "lai_filter = hz.define_crs(lai_filter, crs_sinu)\n",
    "evap_filter = hz.define_crs(evap_filter, crs_sinu)\n",
    "era_filter = hz.define_crs(era_filter, 4326)\n",
    "lst_night_filter = hz.define_crs(lst_night_filter, crs_sinu)\n",
    "lst_day_filter = hz.define_crs(lst_day_filter, crs_sinu)\n",
    "fwi_filter = hz.define_crs(fwi_filter, crs_rotated_pole)\n",
    "active_fire_filter = hz.define_crs(active_fire_filter, crs_sinu)\n",
    "burn_mask_filter = hz.define_crs(burn_mask_filter, crs_sinu)\n",
    "density = hz.define_crs(density, 4326)"
   ],
   "metadata": {
    "collapsed": false,
    "pycharm": {
     "name": "#%%\n"
    }
   }
  },
  {
   "cell_type": "code",
   "execution_count": 10,
   "outputs": [],
   "source": [
    "# Define the AOI\n",
    "aoi = hz.define_area_of_interest(path_data+'AreaOfInterest.zip')"
   ],
   "metadata": {
    "collapsed": false,
    "pycharm": {
     "name": "#%%\n"
    }
   }
  },
  {
   "cell_type": "code",
   "execution_count": 11,
   "outputs": [],
   "source": [
    "# Clip the data sets to the AOI\n",
    "era_filter = hz.clip_to_aoi(era_filter, aoi)\n",
    "density = hz.clip_to_aoi(density, aoi)"
   ],
   "metadata": {
    "collapsed": false,
    "pycharm": {
     "name": "#%%\n"
    }
   }
  },
  {
   "cell_type": "code",
   "execution_count": 12,
   "outputs": [
    {
     "ename": "NameError",
     "evalue": "name 'f' is not defined",
     "output_type": "error",
     "traceback": [
      "\u001B[1;31m---------------------------------------------------------------------------\u001B[0m",
      "\u001B[1;31mNameError\u001B[0m                                 Traceback (most recent call last)",
      "Cell \u001B[1;32mIn [12], line 1\u001B[0m\n\u001B[1;32m----> 1\u001B[0m f\n",
      "\u001B[1;31mNameError\u001B[0m: name 'f' is not defined"
     ]
    }
   ],
   "source": [
    "f#wi_filter = hz.clip_to_aoi(fwi_filter, aoi)\n",
    "# Error: \"NoDataInBounds: No data found in bounds. Data variable: fwi-daily-proj"
   ],
   "metadata": {
    "collapsed": false,
    "pycharm": {
     "name": "#%%\n"
    }
   }
  },
  {
   "cell_type": "code",
   "execution_count": null,
   "outputs": [],
   "source": [
    "# Projection of fwidailyproj to EPSG 4326\n",
    "#fwi_filter = fwi_filter.rio.reproject('EPSG:4326')"
   ],
   "metadata": {
    "collapsed": false,
    "pycharm": {
     "name": "#%%\n"
    }
   }
  },
  {
   "cell_type": "markdown",
   "source": [],
   "metadata": {
    "collapsed": false,
    "pycharm": {
     "name": "#%% md\n"
    }
   }
  },
  {
   "cell_type": "markdown",
   "source": [
    "## Projection and regridding of the datasets"
   ],
   "metadata": {
    "collapsed": false,
    "pycharm": {
     "name": "#%% md\n"
    }
   }
  },
  {
   "cell_type": "code",
   "execution_count": 13,
   "outputs": [],
   "source": [
    "# create a common grid\n",
    "common_grid = rxr.open_rasterio(path_data +'Raw_LST_Day_1D_1km.nc').isel(time=0)"
   ],
   "metadata": {
    "collapsed": false,
    "pycharm": {
     "name": "#%%\n"
    }
   }
  },
  {
   "cell_type": "code",
   "execution_count": 14,
   "outputs": [],
   "source": [
    "# Interpolate density to common grid\n",
    "density_proj = density.rio.reproject_match(common_grid, resampling=rasterio.enums.Resampling.bilinear)"
   ],
   "metadata": {
    "collapsed": false,
    "pycharm": {
     "name": "#%%\n"
    }
   }
  },
  {
   "cell_type": "code",
   "execution_count": 15,
   "outputs": [],
   "source": [
    "# Interpolate lai to common grid\n",
    "lai_proj = lai_filter.rio.reproject_match(common_grid, resampling=rasterio.enums.Resampling.bilinear)"
   ],
   "metadata": {
    "collapsed": false,
    "pycharm": {
     "name": "#%%\n"
    }
   }
  },
  {
   "cell_type": "code",
   "execution_count": 16,
   "outputs": [],
   "source": [
    "# Interpolate evap to common grid\n",
    "evap_proj = evap_filter.rio.reproject_match(common_grid, resampling=rasterio.enums.Resampling.bilinear)"
   ],
   "metadata": {
    "collapsed": false,
    "pycharm": {
     "name": "#%%\n"
    }
   }
  },
  {
   "cell_type": "code",
   "execution_count": 17,
   "outputs": [],
   "source": [
    "# Different method to interpolate the active fire data set\n",
    "active_fire_filter_proj = active_fire_filter.interp(ydim=ndvi[\"ydim\"], xdim=ndvi['xdim'])"
   ],
   "metadata": {
    "collapsed": false,
    "pycharm": {
     "name": "#%%\n"
    }
   }
  },
  {
   "cell_type": "code",
   "execution_count": 18,
   "outputs": [
    {
     "name": "stdout",
     "output_type": "stream",
     "text": [
      "None\n"
     ]
    }
   ],
   "source": [
    "print(density_proj.name)"
   ],
   "metadata": {
    "collapsed": false,
    "pycharm": {
     "name": "#%%\n"
    }
   }
  },
  {
   "cell_type": "code",
   "execution_count": null,
   "outputs": [],
   "source": [
    "# rename dimension of density\n",
    "density_proj = density_proj.rename_dims({'latitude': 'ydim', 'longitude': 'xdim'})"
   ],
   "metadata": {
    "collapsed": false,
    "pycharm": {
     "name": "#%%\n"
    }
   }
  },
  {
   "cell_type": "code",
   "execution_count": 22,
   "outputs": [],
   "source": [
    "density_proj.name = 'density'"
   ],
   "metadata": {
    "collapsed": false,
    "pycharm": {
     "name": "#%%\n"
    }
   }
  },
  {
   "cell_type": "code",
   "execution_count": 21,
   "outputs": [
    {
     "name": "stdout",
     "output_type": "stream",
     "text": [
      "None\n",
      "Fpar_500m\n",
      "ET_500m\n",
      "_1_km_16_days_EVI\n",
      "LST_Night_1km\n",
      "LST_Day_1km\n"
     ]
    },
    {
     "ename": "AttributeError",
     "evalue": "'Dataset' object has no attribute 'name'",
     "output_type": "error",
     "traceback": [
      "\u001B[1;31m---------------------------------------------------------------------------\u001B[0m",
      "\u001B[1;31mAttributeError\u001B[0m                            Traceback (most recent call last)",
      "Cell \u001B[1;32mIn [21], line 8\u001B[0m\n\u001B[0;32m      6\u001B[0m \u001B[38;5;28mprint\u001B[39m(lst_night_filter\u001B[38;5;241m.\u001B[39mname)\n\u001B[0;32m      7\u001B[0m \u001B[38;5;28mprint\u001B[39m(lst_day_filter\u001B[38;5;241m.\u001B[39mname)\n\u001B[1;32m----> 8\u001B[0m \u001B[38;5;28mprint\u001B[39m(era_filter\u001B[38;5;241m.\u001B[39mname)\n\u001B[0;32m      9\u001B[0m \u001B[38;5;28mprint\u001B[39m(burn_mask_filter\u001B[38;5;241m.\u001B[39mname)\n",
      "File \u001B[1;32m~\\anaconda3\\envs\\forecast\\lib\\site-packages\\xarray\\core\\common.py:269\u001B[0m, in \u001B[0;36mAttrAccessMixin.__getattr__\u001B[1;34m(self, name)\u001B[0m\n\u001B[0;32m    267\u001B[0m         \u001B[38;5;28;01mwith\u001B[39;00m suppress(\u001B[38;5;167;01mKeyError\u001B[39;00m):\n\u001B[0;32m    268\u001B[0m             \u001B[38;5;28;01mreturn\u001B[39;00m source[name]\n\u001B[1;32m--> 269\u001B[0m \u001B[38;5;28;01mraise\u001B[39;00m \u001B[38;5;167;01mAttributeError\u001B[39;00m(\n\u001B[0;32m    270\u001B[0m     \u001B[38;5;124mf\u001B[39m\u001B[38;5;124m\"\u001B[39m\u001B[38;5;132;01m{\u001B[39;00m\u001B[38;5;28mtype\u001B[39m(\u001B[38;5;28mself\u001B[39m)\u001B[38;5;241m.\u001B[39m\u001B[38;5;18m__name__\u001B[39m\u001B[38;5;132;01m!r}\u001B[39;00m\u001B[38;5;124m object has no attribute \u001B[39m\u001B[38;5;132;01m{\u001B[39;00mname\u001B[38;5;132;01m!r}\u001B[39;00m\u001B[38;5;124m\"\u001B[39m\n\u001B[0;32m    271\u001B[0m )\n",
      "\u001B[1;31mAttributeError\u001B[0m: 'Dataset' object has no attribute 'name'"
     ]
    }
   ],
   "source": [
    "# Print the name of all the data set\n",
    "print(density_proj.name)\n",
    "print(lai_proj.name)\n",
    "print(evap_proj.name)\n",
    "print(ndvi_filter.name)\n",
    "print(lst_night_filter.name)\n",
    "print(lst_day_filter.name)\n",
    "print(era_filter.name)\n",
    "print(burn_mask_filter.name)\n",
    "\n"
   ],
   "metadata": {
    "collapsed": false,
    "pycharm": {
     "name": "#%%\n"
    }
   }
  },
  {
   "cell_type": "markdown",
   "source": [
    "#### Interpolate the era data set to the same grid as the lst_day_filter data set"
   ],
   "metadata": {
    "collapsed": false,
    "pycharm": {
     "name": "#%% md\n"
    }
   }
  },
  {
   "cell_type": "code",
   "execution_count": 42,
   "outputs": [],
   "source": [
    "# Project era to sinuoidal projection\n",
    "era_sinu = era_filter.rio.reproject(crs_sinu)"
   ],
   "metadata": {
    "collapsed": false,
    "pycharm": {
     "name": "#%%\n"
    }
   }
  },
  {
   "cell_type": "code",
   "execution_count": 40,
   "outputs": [
    {
     "ename": "MemoryError",
     "evalue": "Unable to allocate 6.45 GiB for an array with shape (22975, 253, 298) and data type float32",
     "output_type": "error",
     "traceback": [
      "\u001B[1;31m---------------------------------------------------------------------------\u001B[0m",
      "\u001B[1;31mMemoryError\u001B[0m                               Traceback (most recent call last)",
      "Cell \u001B[1;32mIn [40], line 2\u001B[0m\n\u001B[0;32m      1\u001B[0m \u001B[38;5;66;03m# Interpolate era_sinu to common grid\u001B[39;00m\n\u001B[1;32m----> 2\u001B[0m era_sinu_proj \u001B[38;5;241m=\u001B[39m era_sinu\u001B[38;5;241m.\u001B[39mrio\u001B[38;5;241m.\u001B[39mreproject_match(common_grid, resampling\u001B[38;5;241m=\u001B[39mrasterio\u001B[38;5;241m.\u001B[39menums\u001B[38;5;241m.\u001B[39mResampling\u001B[38;5;241m.\u001B[39mbilinear)\n",
      "File \u001B[1;32m~\\anaconda3\\envs\\forecast\\lib\\site-packages\\rioxarray\\raster_dataset.py:174\u001B[0m, in \u001B[0;36mRasterDataset.reproject_match\u001B[1;34m(self, match_data_array, resampling, **reproject_kwargs)\u001B[0m\n\u001B[0;32m    171\u001B[0m \u001B[38;5;28;01mtry\u001B[39;00m:\n\u001B[0;32m    172\u001B[0m     x_dim, y_dim \u001B[38;5;241m=\u001B[39m _get_spatial_dims(\u001B[38;5;28mself\u001B[39m\u001B[38;5;241m.\u001B[39m_obj, var)\n\u001B[0;32m    173\u001B[0m     resampled_dataset[var] \u001B[38;5;241m=\u001B[39m (\n\u001B[1;32m--> 174\u001B[0m         \u001B[38;5;28mself\u001B[39m\u001B[38;5;241m.\u001B[39m_obj[var]\n\u001B[0;32m    175\u001B[0m         \u001B[38;5;241m.\u001B[39mrio\u001B[38;5;241m.\u001B[39mset_spatial_dims(x_dim\u001B[38;5;241m=\u001B[39mx_dim, y_dim\u001B[38;5;241m=\u001B[39my_dim, inplace\u001B[38;5;241m=\u001B[39m\u001B[38;5;28;01mTrue\u001B[39;00m)\n\u001B[0;32m    176\u001B[0m         \u001B[38;5;241m.\u001B[39mrio\u001B[38;5;241m.\u001B[39mreproject_match(\n\u001B[0;32m    177\u001B[0m             match_data_array, resampling\u001B[38;5;241m=\u001B[39mresampling, \u001B[38;5;241m*\u001B[39m\u001B[38;5;241m*\u001B[39mreproject_kwargs\n\u001B[0;32m    178\u001B[0m         )\n\u001B[0;32m    179\u001B[0m     )\n\u001B[0;32m    180\u001B[0m \u001B[38;5;28;01mexcept\u001B[39;00m MissingSpatialDimensionError:\n\u001B[0;32m    181\u001B[0m     \u001B[38;5;28;01mif\u001B[39;00m \u001B[38;5;28mlen\u001B[39m(\u001B[38;5;28mself\u001B[39m\u001B[38;5;241m.\u001B[39m_obj[var]\u001B[38;5;241m.\u001B[39mdims) \u001B[38;5;241m>\u001B[39m\u001B[38;5;241m=\u001B[39m \u001B[38;5;241m2\u001B[39m \u001B[38;5;129;01mand\u001B[39;00m \u001B[38;5;129;01mnot\u001B[39;00m get_option(\n\u001B[0;32m    182\u001B[0m         SKIP_MISSING_SPATIAL_DIMS\n\u001B[0;32m    183\u001B[0m     ):\n",
      "File \u001B[1;32m~\\anaconda3\\envs\\forecast\\lib\\site-packages\\rioxarray\\raster_array.py:564\u001B[0m, in \u001B[0;36mRasterArray.reproject_match\u001B[1;34m(self, match_data_array, resampling, **reproject_kwargs)\u001B[0m\n\u001B[0;32m    530\u001B[0m \u001B[38;5;28;01mdef\u001B[39;00m \u001B[38;5;21mreproject_match\u001B[39m(\n\u001B[0;32m    531\u001B[0m     \u001B[38;5;28mself\u001B[39m,\n\u001B[0;32m    532\u001B[0m     match_data_array: Union[xarray\u001B[38;5;241m.\u001B[39mDataArray, xarray\u001B[38;5;241m.\u001B[39mDataset],\n\u001B[0;32m    533\u001B[0m     resampling: Resampling \u001B[38;5;241m=\u001B[39m Resampling\u001B[38;5;241m.\u001B[39mnearest,\n\u001B[0;32m    534\u001B[0m     \u001B[38;5;241m*\u001B[39m\u001B[38;5;241m*\u001B[39mreproject_kwargs,\n\u001B[0;32m    535\u001B[0m ) \u001B[38;5;241m-\u001B[39m\u001B[38;5;241m>\u001B[39m xarray\u001B[38;5;241m.\u001B[39mDataArray:\n\u001B[0;32m    536\u001B[0m     \u001B[38;5;124;03m\"\"\"\u001B[39;00m\n\u001B[0;32m    537\u001B[0m \u001B[38;5;124;03m    Reproject a DataArray object to match the resolution, projection,\u001B[39;00m\n\u001B[0;32m    538\u001B[0m \u001B[38;5;124;03m    and region of another DataArray.\u001B[39;00m\n\u001B[1;32m   (...)\u001B[0m\n\u001B[0;32m    562\u001B[0m \u001B[38;5;124;03m        match_data_array.\u001B[39;00m\n\u001B[0;32m    563\u001B[0m \u001B[38;5;124;03m    \"\"\"\u001B[39;00m\n\u001B[1;32m--> 564\u001B[0m     reprojected_data_array \u001B[38;5;241m=\u001B[39m \u001B[38;5;28mself\u001B[39m\u001B[38;5;241m.\u001B[39mreproject(\n\u001B[0;32m    565\u001B[0m         match_data_array\u001B[38;5;241m.\u001B[39mrio\u001B[38;5;241m.\u001B[39mcrs,\n\u001B[0;32m    566\u001B[0m         transform\u001B[38;5;241m=\u001B[39mmatch_data_array\u001B[38;5;241m.\u001B[39mrio\u001B[38;5;241m.\u001B[39mtransform(recalc\u001B[38;5;241m=\u001B[39m\u001B[38;5;28;01mTrue\u001B[39;00m),\n\u001B[0;32m    567\u001B[0m         shape\u001B[38;5;241m=\u001B[39mmatch_data_array\u001B[38;5;241m.\u001B[39mrio\u001B[38;5;241m.\u001B[39mshape,\n\u001B[0;32m    568\u001B[0m         resampling\u001B[38;5;241m=\u001B[39mresampling,\n\u001B[0;32m    569\u001B[0m         \u001B[38;5;241m*\u001B[39m\u001B[38;5;241m*\u001B[39mreproject_kwargs,\n\u001B[0;32m    570\u001B[0m     )\n\u001B[0;32m    571\u001B[0m     \u001B[38;5;66;03m# hack to resolve: https://github.com/corteva/rioxarray/issues/298\u001B[39;00m\n\u001B[0;32m    572\u001B[0m     \u001B[38;5;66;03m# may be resolved in the future by flexible indexes:\u001B[39;00m\n\u001B[0;32m    573\u001B[0m     \u001B[38;5;66;03m# https://github.com/pydata/xarray/pull/4489#issuecomment-831809607\u001B[39;00m\n\u001B[0;32m    574\u001B[0m     x_attrs \u001B[38;5;241m=\u001B[39m reprojected_data_array[reprojected_data_array\u001B[38;5;241m.\u001B[39mrio\u001B[38;5;241m.\u001B[39mx_dim]\u001B[38;5;241m.\u001B[39mattrs\u001B[38;5;241m.\u001B[39mcopy()\n",
      "File \u001B[1;32m~\\anaconda3\\envs\\forecast\\lib\\site-packages\\rioxarray\\raster_array.py:464\u001B[0m, in \u001B[0;36mRasterArray.reproject\u001B[1;34m(self, dst_crs, resolution, shape, transform, resampling, nodata, **kwargs)\u001B[0m\n\u001B[0;32m    461\u001B[0m     \u001B[38;5;28;01melse\u001B[39;00m:\n\u001B[0;32m    462\u001B[0m         dst_height, dst_width \u001B[38;5;241m=\u001B[39m \u001B[38;5;28mself\u001B[39m\u001B[38;5;241m.\u001B[39mshape\n\u001B[1;32m--> 464\u001B[0m dst_data \u001B[38;5;241m=\u001B[39m \u001B[38;5;28;43mself\u001B[39;49m\u001B[38;5;241;43m.\u001B[39;49m\u001B[43m_create_dst_data\u001B[49m\u001B[43m(\u001B[49m\u001B[43mdst_height\u001B[49m\u001B[43m,\u001B[49m\u001B[43m \u001B[49m\u001B[43mdst_width\u001B[49m\u001B[43m)\u001B[49m\n\u001B[0;32m    466\u001B[0m dst_nodata \u001B[38;5;241m=\u001B[39m \u001B[38;5;28mself\u001B[39m\u001B[38;5;241m.\u001B[39m_get_dst_nodata(nodata)\n\u001B[0;32m    468\u001B[0m rasterio\u001B[38;5;241m.\u001B[39mwarp\u001B[38;5;241m.\u001B[39mreproject(\n\u001B[0;32m    469\u001B[0m     source\u001B[38;5;241m=\u001B[39m\u001B[38;5;28mself\u001B[39m\u001B[38;5;241m.\u001B[39m_obj\u001B[38;5;241m.\u001B[39mvalues,\n\u001B[0;32m    470\u001B[0m     destination\u001B[38;5;241m=\u001B[39mdst_data,\n\u001B[1;32m   (...)\u001B[0m\n\u001B[0;32m    478\u001B[0m     \u001B[38;5;241m*\u001B[39m\u001B[38;5;241m*\u001B[39mkwargs,\n\u001B[0;32m    479\u001B[0m )\n",
      "File \u001B[1;32m~\\anaconda3\\envs\\forecast\\lib\\site-packages\\rioxarray\\raster_array.py:522\u001B[0m, in \u001B[0;36mRasterArray._create_dst_data\u001B[1;34m(self, dst_height, dst_width)\u001B[0m\n\u001B[0;32m    520\u001B[0m extra_dim \u001B[38;5;241m=\u001B[39m \u001B[38;5;28mself\u001B[39m\u001B[38;5;241m.\u001B[39m_check_dimensions()\n\u001B[0;32m    521\u001B[0m \u001B[38;5;28;01mif\u001B[39;00m extra_dim:\n\u001B[1;32m--> 522\u001B[0m     dst_data \u001B[38;5;241m=\u001B[39m \u001B[43mnp\u001B[49m\u001B[38;5;241;43m.\u001B[39;49m\u001B[43mzeros\u001B[49m\u001B[43m(\u001B[49m\n\u001B[0;32m    523\u001B[0m \u001B[43m        \u001B[49m\u001B[43m(\u001B[49m\u001B[38;5;28;43mself\u001B[39;49m\u001B[38;5;241;43m.\u001B[39;49m\u001B[43m_obj\u001B[49m\u001B[43m[\u001B[49m\u001B[43mextra_dim\u001B[49m\u001B[43m]\u001B[49m\u001B[38;5;241;43m.\u001B[39;49m\u001B[43msize\u001B[49m\u001B[43m,\u001B[49m\u001B[43m \u001B[49m\u001B[43mdst_height\u001B[49m\u001B[43m,\u001B[49m\u001B[43m \u001B[49m\u001B[43mdst_width\u001B[49m\u001B[43m)\u001B[49m\u001B[43m,\u001B[49m\n\u001B[0;32m    524\u001B[0m \u001B[43m        \u001B[49m\u001B[43mdtype\u001B[49m\u001B[38;5;241;43m=\u001B[39;49m\u001B[38;5;28;43mself\u001B[39;49m\u001B[38;5;241;43m.\u001B[39;49m\u001B[43m_obj\u001B[49m\u001B[38;5;241;43m.\u001B[39;49m\u001B[43mdtype\u001B[49m\u001B[38;5;241;43m.\u001B[39;49m\u001B[43mtype\u001B[49m\u001B[43m,\u001B[49m\n\u001B[0;32m    525\u001B[0m \u001B[43m    \u001B[49m\u001B[43m)\u001B[49m\n\u001B[0;32m    526\u001B[0m \u001B[38;5;28;01melse\u001B[39;00m:\n\u001B[0;32m    527\u001B[0m     dst_data \u001B[38;5;241m=\u001B[39m np\u001B[38;5;241m.\u001B[39mzeros((dst_height, dst_width), dtype\u001B[38;5;241m=\u001B[39m\u001B[38;5;28mself\u001B[39m\u001B[38;5;241m.\u001B[39m_obj\u001B[38;5;241m.\u001B[39mdtype\u001B[38;5;241m.\u001B[39mtype)\n",
      "\u001B[1;31mMemoryError\u001B[0m: Unable to allocate 6.45 GiB for an array with shape (22975, 253, 298) and data type float32"
     ]
    }
   ],
   "source": [
    "# Interpolate era_sinu to common grid\n",
    "#era_sinu_proj = era_sinu.rio.reproject_match(common_grid, resampling=rasterio.enums.Resampling.bilinear)"
   ],
   "metadata": {
    "collapsed": false,
    "pycharm": {
     "name": "#%%\n"
    }
   }
  },
  {
   "cell_type": "markdown",
   "source": [
    "The dataset is too big, we will create a subset of the data set and reproject separately the data set to the same grid."
   ],
   "metadata": {
    "collapsed": false,
    "pycharm": {
     "name": "#%% md\n"
    }
   }
  },
  {
   "cell_type": "code",
   "execution_count": 43,
   "outputs": [],
   "source": [
    "era_1 = era_sinu['v10']\n",
    "era_2 = era_sinu['t2m']\n",
    "era_3 = era_sinu['u10']\n",
    "era_4 = era_sinu['tp' ]"
   ],
   "metadata": {
    "collapsed": false,
    "pycharm": {
     "name": "#%%\n"
    }
   }
  },
  {
   "cell_type": "code",
   "execution_count": 44,
   "outputs": [
    {
     "ename": "MemoryError",
     "evalue": "Unable to allocate 6.45 GiB for an array with shape (22975, 253, 298) and data type float32",
     "output_type": "error",
     "traceback": [
      "\u001B[1;31m---------------------------------------------------------------------------\u001B[0m",
      "\u001B[1;31mMemoryError\u001B[0m                               Traceback (most recent call last)",
      "Cell \u001B[1;32mIn [44], line 2\u001B[0m\n\u001B[0;32m      1\u001B[0m \u001B[38;5;66;03m# Interpolate era_1 to the same grid as lst_day_filter\u001B[39;00m\n\u001B[1;32m----> 2\u001B[0m era_1_interp \u001B[38;5;241m=\u001B[39m hz\u001B[38;5;241m.\u001B[39minterpolate_to_common_grid(era_1, common_grid)\n",
      "File \u001B[1;32m~\\Documents\\Projets\\wildfire\\src\\harmonize.py:49\u001B[0m, in \u001B[0;36minterpolate_to_common_grid\u001B[1;34m(dataray, common_grid)\u001B[0m\n\u001B[0;32m     47\u001B[0m \u001B[38;5;28;01mdef\u001B[39;00m \u001B[38;5;21minterpolate_to_common_grid\u001B[39m(dataray, common_grid):\n\u001B[0;32m     48\u001B[0m     \u001B[38;5;124;03m\"\"\"Interpolates the dataray to a common grid\"\"\"\u001B[39;00m\n\u001B[1;32m---> 49\u001B[0m     \u001B[38;5;28;01mreturn\u001B[39;00m \u001B[43mdataray\u001B[49m\u001B[38;5;241;43m.\u001B[39;49m\u001B[43mrio\u001B[49m\u001B[38;5;241;43m.\u001B[39;49m\u001B[43mreproject_match\u001B[49m\u001B[43m(\u001B[49m\u001B[43mcommon_grid\u001B[49m\u001B[43m,\u001B[49m\u001B[43m \u001B[49m\u001B[43mresampling\u001B[49m\u001B[38;5;241;43m=\u001B[39;49m\u001B[43mrasterio\u001B[49m\u001B[38;5;241;43m.\u001B[39;49m\u001B[43menums\u001B[49m\u001B[38;5;241;43m.\u001B[39;49m\u001B[43mResampling\u001B[49m\u001B[38;5;241;43m.\u001B[39;49m\u001B[43mbilinear\u001B[49m\u001B[43m)\u001B[49m\n",
      "File \u001B[1;32m~\\anaconda3\\envs\\forecast\\lib\\site-packages\\rioxarray\\raster_array.py:564\u001B[0m, in \u001B[0;36mRasterArray.reproject_match\u001B[1;34m(self, match_data_array, resampling, **reproject_kwargs)\u001B[0m\n\u001B[0;32m    530\u001B[0m \u001B[38;5;28;01mdef\u001B[39;00m \u001B[38;5;21mreproject_match\u001B[39m(\n\u001B[0;32m    531\u001B[0m     \u001B[38;5;28mself\u001B[39m,\n\u001B[0;32m    532\u001B[0m     match_data_array: Union[xarray\u001B[38;5;241m.\u001B[39mDataArray, xarray\u001B[38;5;241m.\u001B[39mDataset],\n\u001B[0;32m    533\u001B[0m     resampling: Resampling \u001B[38;5;241m=\u001B[39m Resampling\u001B[38;5;241m.\u001B[39mnearest,\n\u001B[0;32m    534\u001B[0m     \u001B[38;5;241m*\u001B[39m\u001B[38;5;241m*\u001B[39mreproject_kwargs,\n\u001B[0;32m    535\u001B[0m ) \u001B[38;5;241m-\u001B[39m\u001B[38;5;241m>\u001B[39m xarray\u001B[38;5;241m.\u001B[39mDataArray:\n\u001B[0;32m    536\u001B[0m     \u001B[38;5;124;03m\"\"\"\u001B[39;00m\n\u001B[0;32m    537\u001B[0m \u001B[38;5;124;03m    Reproject a DataArray object to match the resolution, projection,\u001B[39;00m\n\u001B[0;32m    538\u001B[0m \u001B[38;5;124;03m    and region of another DataArray.\u001B[39;00m\n\u001B[1;32m   (...)\u001B[0m\n\u001B[0;32m    562\u001B[0m \u001B[38;5;124;03m        match_data_array.\u001B[39;00m\n\u001B[0;32m    563\u001B[0m \u001B[38;5;124;03m    \"\"\"\u001B[39;00m\n\u001B[1;32m--> 564\u001B[0m     reprojected_data_array \u001B[38;5;241m=\u001B[39m \u001B[38;5;28mself\u001B[39m\u001B[38;5;241m.\u001B[39mreproject(\n\u001B[0;32m    565\u001B[0m         match_data_array\u001B[38;5;241m.\u001B[39mrio\u001B[38;5;241m.\u001B[39mcrs,\n\u001B[0;32m    566\u001B[0m         transform\u001B[38;5;241m=\u001B[39mmatch_data_array\u001B[38;5;241m.\u001B[39mrio\u001B[38;5;241m.\u001B[39mtransform(recalc\u001B[38;5;241m=\u001B[39m\u001B[38;5;28;01mTrue\u001B[39;00m),\n\u001B[0;32m    567\u001B[0m         shape\u001B[38;5;241m=\u001B[39mmatch_data_array\u001B[38;5;241m.\u001B[39mrio\u001B[38;5;241m.\u001B[39mshape,\n\u001B[0;32m    568\u001B[0m         resampling\u001B[38;5;241m=\u001B[39mresampling,\n\u001B[0;32m    569\u001B[0m         \u001B[38;5;241m*\u001B[39m\u001B[38;5;241m*\u001B[39mreproject_kwargs,\n\u001B[0;32m    570\u001B[0m     )\n\u001B[0;32m    571\u001B[0m     \u001B[38;5;66;03m# hack to resolve: https://github.com/corteva/rioxarray/issues/298\u001B[39;00m\n\u001B[0;32m    572\u001B[0m     \u001B[38;5;66;03m# may be resolved in the future by flexible indexes:\u001B[39;00m\n\u001B[0;32m    573\u001B[0m     \u001B[38;5;66;03m# https://github.com/pydata/xarray/pull/4489#issuecomment-831809607\u001B[39;00m\n\u001B[0;32m    574\u001B[0m     x_attrs \u001B[38;5;241m=\u001B[39m reprojected_data_array[reprojected_data_array\u001B[38;5;241m.\u001B[39mrio\u001B[38;5;241m.\u001B[39mx_dim]\u001B[38;5;241m.\u001B[39mattrs\u001B[38;5;241m.\u001B[39mcopy()\n",
      "File \u001B[1;32m~\\anaconda3\\envs\\forecast\\lib\\site-packages\\rioxarray\\raster_array.py:464\u001B[0m, in \u001B[0;36mRasterArray.reproject\u001B[1;34m(self, dst_crs, resolution, shape, transform, resampling, nodata, **kwargs)\u001B[0m\n\u001B[0;32m    461\u001B[0m     \u001B[38;5;28;01melse\u001B[39;00m:\n\u001B[0;32m    462\u001B[0m         dst_height, dst_width \u001B[38;5;241m=\u001B[39m \u001B[38;5;28mself\u001B[39m\u001B[38;5;241m.\u001B[39mshape\n\u001B[1;32m--> 464\u001B[0m dst_data \u001B[38;5;241m=\u001B[39m \u001B[38;5;28;43mself\u001B[39;49m\u001B[38;5;241;43m.\u001B[39;49m\u001B[43m_create_dst_data\u001B[49m\u001B[43m(\u001B[49m\u001B[43mdst_height\u001B[49m\u001B[43m,\u001B[49m\u001B[43m \u001B[49m\u001B[43mdst_width\u001B[49m\u001B[43m)\u001B[49m\n\u001B[0;32m    466\u001B[0m dst_nodata \u001B[38;5;241m=\u001B[39m \u001B[38;5;28mself\u001B[39m\u001B[38;5;241m.\u001B[39m_get_dst_nodata(nodata)\n\u001B[0;32m    468\u001B[0m rasterio\u001B[38;5;241m.\u001B[39mwarp\u001B[38;5;241m.\u001B[39mreproject(\n\u001B[0;32m    469\u001B[0m     source\u001B[38;5;241m=\u001B[39m\u001B[38;5;28mself\u001B[39m\u001B[38;5;241m.\u001B[39m_obj\u001B[38;5;241m.\u001B[39mvalues,\n\u001B[0;32m    470\u001B[0m     destination\u001B[38;5;241m=\u001B[39mdst_data,\n\u001B[1;32m   (...)\u001B[0m\n\u001B[0;32m    478\u001B[0m     \u001B[38;5;241m*\u001B[39m\u001B[38;5;241m*\u001B[39mkwargs,\n\u001B[0;32m    479\u001B[0m )\n",
      "File \u001B[1;32m~\\anaconda3\\envs\\forecast\\lib\\site-packages\\rioxarray\\raster_array.py:522\u001B[0m, in \u001B[0;36mRasterArray._create_dst_data\u001B[1;34m(self, dst_height, dst_width)\u001B[0m\n\u001B[0;32m    520\u001B[0m extra_dim \u001B[38;5;241m=\u001B[39m \u001B[38;5;28mself\u001B[39m\u001B[38;5;241m.\u001B[39m_check_dimensions()\n\u001B[0;32m    521\u001B[0m \u001B[38;5;28;01mif\u001B[39;00m extra_dim:\n\u001B[1;32m--> 522\u001B[0m     dst_data \u001B[38;5;241m=\u001B[39m \u001B[43mnp\u001B[49m\u001B[38;5;241;43m.\u001B[39;49m\u001B[43mzeros\u001B[49m\u001B[43m(\u001B[49m\n\u001B[0;32m    523\u001B[0m \u001B[43m        \u001B[49m\u001B[43m(\u001B[49m\u001B[38;5;28;43mself\u001B[39;49m\u001B[38;5;241;43m.\u001B[39;49m\u001B[43m_obj\u001B[49m\u001B[43m[\u001B[49m\u001B[43mextra_dim\u001B[49m\u001B[43m]\u001B[49m\u001B[38;5;241;43m.\u001B[39;49m\u001B[43msize\u001B[49m\u001B[43m,\u001B[49m\u001B[43m \u001B[49m\u001B[43mdst_height\u001B[49m\u001B[43m,\u001B[49m\u001B[43m \u001B[49m\u001B[43mdst_width\u001B[49m\u001B[43m)\u001B[49m\u001B[43m,\u001B[49m\n\u001B[0;32m    524\u001B[0m \u001B[43m        \u001B[49m\u001B[43mdtype\u001B[49m\u001B[38;5;241;43m=\u001B[39;49m\u001B[38;5;28;43mself\u001B[39;49m\u001B[38;5;241;43m.\u001B[39;49m\u001B[43m_obj\u001B[49m\u001B[38;5;241;43m.\u001B[39;49m\u001B[43mdtype\u001B[49m\u001B[38;5;241;43m.\u001B[39;49m\u001B[43mtype\u001B[49m\u001B[43m,\u001B[49m\n\u001B[0;32m    525\u001B[0m \u001B[43m    \u001B[49m\u001B[43m)\u001B[49m\n\u001B[0;32m    526\u001B[0m \u001B[38;5;28;01melse\u001B[39;00m:\n\u001B[0;32m    527\u001B[0m     dst_data \u001B[38;5;241m=\u001B[39m np\u001B[38;5;241m.\u001B[39mzeros((dst_height, dst_width), dtype\u001B[38;5;241m=\u001B[39m\u001B[38;5;28mself\u001B[39m\u001B[38;5;241m.\u001B[39m_obj\u001B[38;5;241m.\u001B[39mdtype\u001B[38;5;241m.\u001B[39mtype)\n",
      "\u001B[1;31mMemoryError\u001B[0m: Unable to allocate 6.45 GiB for an array with shape (22975, 253, 298) and data type float32"
     ]
    }
   ],
   "source": [
    "# Interpolate era_1 to the same grid as lst_day_filter\n",
    "era_1_interp = hz.interpolate_to_common_grid(era_1, common_grid)"
   ],
   "metadata": {
    "collapsed": false,
    "pycharm": {
     "name": "#%%\n"
    }
   }
  },
  {
   "cell_type": "code",
   "execution_count": null,
   "outputs": [],
   "source": [
    "# Interpolate era_2 to the same grid as lst_day_filter\n",
    "era_2_interp = hz.interpolate_to_common_grid(era_2, common_grid)"
   ],
   "metadata": {
    "collapsed": false,
    "pycharm": {
     "name": "#%%\n"
    }
   }
  },
  {
   "cell_type": "code",
   "execution_count": null,
   "outputs": [],
   "source": [
    "# Interpolate era_3 to the same grid as lst_day_filter\n",
    "era_3_interp = hz.interpolate_to_common_grid(era_3, common_grid)"
   ],
   "metadata": {
    "collapsed": false,
    "pycharm": {
     "name": "#%%# Interpolate era_3 to the same grid as lst_day_filter# Interpolate era_3 to the same grid as lst_day_filter\n"
    }
   }
  },
  {
   "cell_type": "code",
   "execution_count": null,
   "outputs": [],
   "source": [
    "# Interpolate era_4 to the same grid as lst_day_filter\n",
    "era_4_interp = hz.interpolate_to_common_grid(era_4, common_grid)"
   ],
   "metadata": {
    "collapsed": false,
    "pycharm": {
     "name": "#%%\n"
    }
   }
  },
  {
   "cell_type": "markdown",
   "source": [
    "Still too big, we will first downsampling to a daily resolution and then reproject to the same grid."
   ],
   "metadata": {
    "collapsed": false,
    "pycharm": {
     "name": "#%% md\n"
    }
   }
  },
  {
   "cell_type": "code",
   "execution_count": 45,
   "outputs": [],
   "source": [
    "# Downsample the era data set to a daily resolution\n",
    "era_sinu_daily = hz.resample_to_daily(era_sinu)"
   ],
   "metadata": {
    "collapsed": false,
    "pycharm": {
     "name": "#%%\n"
    }
   }
  },
  {
   "cell_type": "code",
   "execution_count": 46,
   "outputs": [
    {
     "ename": "MemoryError",
     "evalue": "Unable to allocate 2.58 GiB for an array with shape (4595, 253, 298) and data type float64",
     "output_type": "error",
     "traceback": [
      "\u001B[1;31m---------------------------------------------------------------------------\u001B[0m",
      "\u001B[1;31mMemoryError\u001B[0m                               Traceback (most recent call last)",
      "Cell \u001B[1;32mIn [46], line 2\u001B[0m\n\u001B[0;32m      1\u001B[0m \u001B[38;5;66;03m# Interpolate era_sinu_daily to common grid\u001B[39;00m\n\u001B[1;32m----> 2\u001B[0m era_sinu_daily_proj \u001B[38;5;241m=\u001B[39m era_sinu_daily\u001B[38;5;241m.\u001B[39mrio\u001B[38;5;241m.\u001B[39mreproject_match(common_grid, resampling\u001B[38;5;241m=\u001B[39mrasterio\u001B[38;5;241m.\u001B[39menums\u001B[38;5;241m.\u001B[39mResampling\u001B[38;5;241m.\u001B[39mbilinear)\n",
      "File \u001B[1;32m~\\anaconda3\\envs\\forecast\\lib\\site-packages\\rioxarray\\raster_dataset.py:174\u001B[0m, in \u001B[0;36mRasterDataset.reproject_match\u001B[1;34m(self, match_data_array, resampling, **reproject_kwargs)\u001B[0m\n\u001B[0;32m    171\u001B[0m \u001B[38;5;28;01mtry\u001B[39;00m:\n\u001B[0;32m    172\u001B[0m     x_dim, y_dim \u001B[38;5;241m=\u001B[39m _get_spatial_dims(\u001B[38;5;28mself\u001B[39m\u001B[38;5;241m.\u001B[39m_obj, var)\n\u001B[0;32m    173\u001B[0m     resampled_dataset[var] \u001B[38;5;241m=\u001B[39m (\n\u001B[1;32m--> 174\u001B[0m         \u001B[38;5;28mself\u001B[39m\u001B[38;5;241m.\u001B[39m_obj[var]\n\u001B[0;32m    175\u001B[0m         \u001B[38;5;241m.\u001B[39mrio\u001B[38;5;241m.\u001B[39mset_spatial_dims(x_dim\u001B[38;5;241m=\u001B[39mx_dim, y_dim\u001B[38;5;241m=\u001B[39my_dim, inplace\u001B[38;5;241m=\u001B[39m\u001B[38;5;28;01mTrue\u001B[39;00m)\n\u001B[0;32m    176\u001B[0m         \u001B[38;5;241m.\u001B[39mrio\u001B[38;5;241m.\u001B[39mreproject_match(\n\u001B[0;32m    177\u001B[0m             match_data_array, resampling\u001B[38;5;241m=\u001B[39mresampling, \u001B[38;5;241m*\u001B[39m\u001B[38;5;241m*\u001B[39mreproject_kwargs\n\u001B[0;32m    178\u001B[0m         )\n\u001B[0;32m    179\u001B[0m     )\n\u001B[0;32m    180\u001B[0m \u001B[38;5;28;01mexcept\u001B[39;00m MissingSpatialDimensionError:\n\u001B[0;32m    181\u001B[0m     \u001B[38;5;28;01mif\u001B[39;00m \u001B[38;5;28mlen\u001B[39m(\u001B[38;5;28mself\u001B[39m\u001B[38;5;241m.\u001B[39m_obj[var]\u001B[38;5;241m.\u001B[39mdims) \u001B[38;5;241m>\u001B[39m\u001B[38;5;241m=\u001B[39m \u001B[38;5;241m2\u001B[39m \u001B[38;5;129;01mand\u001B[39;00m \u001B[38;5;129;01mnot\u001B[39;00m get_option(\n\u001B[0;32m    182\u001B[0m         SKIP_MISSING_SPATIAL_DIMS\n\u001B[0;32m    183\u001B[0m     ):\n",
      "File \u001B[1;32m~\\anaconda3\\envs\\forecast\\lib\\site-packages\\rioxarray\\raster_array.py:564\u001B[0m, in \u001B[0;36mRasterArray.reproject_match\u001B[1;34m(self, match_data_array, resampling, **reproject_kwargs)\u001B[0m\n\u001B[0;32m    530\u001B[0m \u001B[38;5;28;01mdef\u001B[39;00m \u001B[38;5;21mreproject_match\u001B[39m(\n\u001B[0;32m    531\u001B[0m     \u001B[38;5;28mself\u001B[39m,\n\u001B[0;32m    532\u001B[0m     match_data_array: Union[xarray\u001B[38;5;241m.\u001B[39mDataArray, xarray\u001B[38;5;241m.\u001B[39mDataset],\n\u001B[0;32m    533\u001B[0m     resampling: Resampling \u001B[38;5;241m=\u001B[39m Resampling\u001B[38;5;241m.\u001B[39mnearest,\n\u001B[0;32m    534\u001B[0m     \u001B[38;5;241m*\u001B[39m\u001B[38;5;241m*\u001B[39mreproject_kwargs,\n\u001B[0;32m    535\u001B[0m ) \u001B[38;5;241m-\u001B[39m\u001B[38;5;241m>\u001B[39m xarray\u001B[38;5;241m.\u001B[39mDataArray:\n\u001B[0;32m    536\u001B[0m     \u001B[38;5;124;03m\"\"\"\u001B[39;00m\n\u001B[0;32m    537\u001B[0m \u001B[38;5;124;03m    Reproject a DataArray object to match the resolution, projection,\u001B[39;00m\n\u001B[0;32m    538\u001B[0m \u001B[38;5;124;03m    and region of another DataArray.\u001B[39;00m\n\u001B[1;32m   (...)\u001B[0m\n\u001B[0;32m    562\u001B[0m \u001B[38;5;124;03m        match_data_array.\u001B[39;00m\n\u001B[0;32m    563\u001B[0m \u001B[38;5;124;03m    \"\"\"\u001B[39;00m\n\u001B[1;32m--> 564\u001B[0m     reprojected_data_array \u001B[38;5;241m=\u001B[39m \u001B[38;5;28mself\u001B[39m\u001B[38;5;241m.\u001B[39mreproject(\n\u001B[0;32m    565\u001B[0m         match_data_array\u001B[38;5;241m.\u001B[39mrio\u001B[38;5;241m.\u001B[39mcrs,\n\u001B[0;32m    566\u001B[0m         transform\u001B[38;5;241m=\u001B[39mmatch_data_array\u001B[38;5;241m.\u001B[39mrio\u001B[38;5;241m.\u001B[39mtransform(recalc\u001B[38;5;241m=\u001B[39m\u001B[38;5;28;01mTrue\u001B[39;00m),\n\u001B[0;32m    567\u001B[0m         shape\u001B[38;5;241m=\u001B[39mmatch_data_array\u001B[38;5;241m.\u001B[39mrio\u001B[38;5;241m.\u001B[39mshape,\n\u001B[0;32m    568\u001B[0m         resampling\u001B[38;5;241m=\u001B[39mresampling,\n\u001B[0;32m    569\u001B[0m         \u001B[38;5;241m*\u001B[39m\u001B[38;5;241m*\u001B[39mreproject_kwargs,\n\u001B[0;32m    570\u001B[0m     )\n\u001B[0;32m    571\u001B[0m     \u001B[38;5;66;03m# hack to resolve: https://github.com/corteva/rioxarray/issues/298\u001B[39;00m\n\u001B[0;32m    572\u001B[0m     \u001B[38;5;66;03m# may be resolved in the future by flexible indexes:\u001B[39;00m\n\u001B[0;32m    573\u001B[0m     \u001B[38;5;66;03m# https://github.com/pydata/xarray/pull/4489#issuecomment-831809607\u001B[39;00m\n\u001B[0;32m    574\u001B[0m     x_attrs \u001B[38;5;241m=\u001B[39m reprojected_data_array[reprojected_data_array\u001B[38;5;241m.\u001B[39mrio\u001B[38;5;241m.\u001B[39mx_dim]\u001B[38;5;241m.\u001B[39mattrs\u001B[38;5;241m.\u001B[39mcopy()\n",
      "File \u001B[1;32m~\\anaconda3\\envs\\forecast\\lib\\site-packages\\rioxarray\\raster_array.py:464\u001B[0m, in \u001B[0;36mRasterArray.reproject\u001B[1;34m(self, dst_crs, resolution, shape, transform, resampling, nodata, **kwargs)\u001B[0m\n\u001B[0;32m    461\u001B[0m     \u001B[38;5;28;01melse\u001B[39;00m:\n\u001B[0;32m    462\u001B[0m         dst_height, dst_width \u001B[38;5;241m=\u001B[39m \u001B[38;5;28mself\u001B[39m\u001B[38;5;241m.\u001B[39mshape\n\u001B[1;32m--> 464\u001B[0m dst_data \u001B[38;5;241m=\u001B[39m \u001B[38;5;28;43mself\u001B[39;49m\u001B[38;5;241;43m.\u001B[39;49m\u001B[43m_create_dst_data\u001B[49m\u001B[43m(\u001B[49m\u001B[43mdst_height\u001B[49m\u001B[43m,\u001B[49m\u001B[43m \u001B[49m\u001B[43mdst_width\u001B[49m\u001B[43m)\u001B[49m\n\u001B[0;32m    466\u001B[0m dst_nodata \u001B[38;5;241m=\u001B[39m \u001B[38;5;28mself\u001B[39m\u001B[38;5;241m.\u001B[39m_get_dst_nodata(nodata)\n\u001B[0;32m    468\u001B[0m rasterio\u001B[38;5;241m.\u001B[39mwarp\u001B[38;5;241m.\u001B[39mreproject(\n\u001B[0;32m    469\u001B[0m     source\u001B[38;5;241m=\u001B[39m\u001B[38;5;28mself\u001B[39m\u001B[38;5;241m.\u001B[39m_obj\u001B[38;5;241m.\u001B[39mvalues,\n\u001B[0;32m    470\u001B[0m     destination\u001B[38;5;241m=\u001B[39mdst_data,\n\u001B[1;32m   (...)\u001B[0m\n\u001B[0;32m    478\u001B[0m     \u001B[38;5;241m*\u001B[39m\u001B[38;5;241m*\u001B[39mkwargs,\n\u001B[0;32m    479\u001B[0m )\n",
      "File \u001B[1;32m~\\anaconda3\\envs\\forecast\\lib\\site-packages\\rioxarray\\raster_array.py:522\u001B[0m, in \u001B[0;36mRasterArray._create_dst_data\u001B[1;34m(self, dst_height, dst_width)\u001B[0m\n\u001B[0;32m    520\u001B[0m extra_dim \u001B[38;5;241m=\u001B[39m \u001B[38;5;28mself\u001B[39m\u001B[38;5;241m.\u001B[39m_check_dimensions()\n\u001B[0;32m    521\u001B[0m \u001B[38;5;28;01mif\u001B[39;00m extra_dim:\n\u001B[1;32m--> 522\u001B[0m     dst_data \u001B[38;5;241m=\u001B[39m \u001B[43mnp\u001B[49m\u001B[38;5;241;43m.\u001B[39;49m\u001B[43mzeros\u001B[49m\u001B[43m(\u001B[49m\n\u001B[0;32m    523\u001B[0m \u001B[43m        \u001B[49m\u001B[43m(\u001B[49m\u001B[38;5;28;43mself\u001B[39;49m\u001B[38;5;241;43m.\u001B[39;49m\u001B[43m_obj\u001B[49m\u001B[43m[\u001B[49m\u001B[43mextra_dim\u001B[49m\u001B[43m]\u001B[49m\u001B[38;5;241;43m.\u001B[39;49m\u001B[43msize\u001B[49m\u001B[43m,\u001B[49m\u001B[43m \u001B[49m\u001B[43mdst_height\u001B[49m\u001B[43m,\u001B[49m\u001B[43m \u001B[49m\u001B[43mdst_width\u001B[49m\u001B[43m)\u001B[49m\u001B[43m,\u001B[49m\n\u001B[0;32m    524\u001B[0m \u001B[43m        \u001B[49m\u001B[43mdtype\u001B[49m\u001B[38;5;241;43m=\u001B[39;49m\u001B[38;5;28;43mself\u001B[39;49m\u001B[38;5;241;43m.\u001B[39;49m\u001B[43m_obj\u001B[49m\u001B[38;5;241;43m.\u001B[39;49m\u001B[43mdtype\u001B[49m\u001B[38;5;241;43m.\u001B[39;49m\u001B[43mtype\u001B[49m\u001B[43m,\u001B[49m\n\u001B[0;32m    525\u001B[0m \u001B[43m    \u001B[49m\u001B[43m)\u001B[49m\n\u001B[0;32m    526\u001B[0m \u001B[38;5;28;01melse\u001B[39;00m:\n\u001B[0;32m    527\u001B[0m     dst_data \u001B[38;5;241m=\u001B[39m np\u001B[38;5;241m.\u001B[39mzeros((dst_height, dst_width), dtype\u001B[38;5;241m=\u001B[39m\u001B[38;5;28mself\u001B[39m\u001B[38;5;241m.\u001B[39m_obj\u001B[38;5;241m.\u001B[39mdtype\u001B[38;5;241m.\u001B[39mtype)\n",
      "\u001B[1;31mMemoryError\u001B[0m: Unable to allocate 2.58 GiB for an array with shape (4595, 253, 298) and data type float64"
     ]
    }
   ],
   "source": [
    "# Interpolate era_sinu_daily to common grid\n",
    "era_sinu_daily_proj = era_sinu_daily.rio.reproject_match(common_grid, resampling=rasterio.enums.Resampling.bilinear)"
   ],
   "metadata": {
    "collapsed": false,
    "pycharm": {
     "name": "#%%\n"
    }
   }
  },
  {
   "cell_type": "code",
   "execution_count": null,
   "outputs": [],
   "source": [],
   "metadata": {
    "collapsed": false,
    "pycharm": {
     "name": "#%%\n"
    }
   }
  }
 ],
 "metadata": {
  "kernelspec": {
   "display_name": "Python 3 (ipykernel)",
   "language": "python",
   "name": "python3"
  },
  "language_info": {
   "codemirror_mode": {
    "name": "ipython",
    "version": 3
   },
   "file_extension": ".py",
   "mimetype": "text/x-python",
   "name": "python",
   "nbconvert_exporter": "python",
   "pygments_lexer": "ipython3",
   "version": "3.9.13"
  }
 },
 "nbformat": 4,
 "nbformat_minor": 5
}