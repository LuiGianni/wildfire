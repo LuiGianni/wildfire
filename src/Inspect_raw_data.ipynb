{
 "cells": [
  {
   "cell_type": "code",
   "execution_count": 15,
   "outputs": [],
   "source": [
    "#Importing the libraries\n",
    "import numpy as np\n",
    "import rasterio\n",
    "import matplotlib.pyplot as plt\n",
    "import xarray as xr\n",
    "import rioxarray as rxr\n",
    "import geopandas as gpd\n",
    "import harmonize as hz"
   ],
   "metadata": {
    "collapsed": false,
    "pycharm": {
     "name": "#%%\n"
    }
   }
  },
  {
   "cell_type": "code",
   "execution_count": 2,
   "outputs": [],
   "source": [
    "# Open the dataset with xarray\n",
    "path_data = \"../data/Raw/\"\n",
    "ndvi = xr.open_dataset(path_data +'ndvi_01012010_09012022.nc')"
   ],
   "metadata": {
    "collapsed": false,
    "pycharm": {
     "name": "#%%\n"
    }
   }
  },
  {
   "cell_type": "code",
   "execution_count": 4,
   "outputs": [
    {
     "name": "stdout",
     "output_type": "stream",
     "text": [
      "<xarray.Dataset>\n",
      "Dimensions:                   (time: 292, ydim: 259, xdim: 313)\n",
      "Coordinates:\n",
      "  * time                      (time) object 2009-12-19 00:00:00 ... 2022-08-1...\n",
      "  * ydim                      (ydim) float64 5.018e+06 5.017e+06 ... 4.779e+06\n",
      "  * xdim                      (xdim) float64 3.396e+05 3.405e+05 ... 6.287e+05\n",
      "Data variables:\n",
      "    crs                       int8 -127\n",
      "    _1_km_16_days_EVI         (time, ydim, xdim) float32 ...\n",
      "    _1_km_16_days_NDVI        (time, ydim, xdim) float32 ...\n",
      "    _1_km_16_days_VI_Quality  (time, ydim, xdim) float64 ...\n",
      "Attributes:\n",
      "    title:        MOD13A2.061 for aid0001\n",
      "    Conventions:  CF-1.6\n",
      "    institution:  Land Processes Distributed Active Archive Center (LP DAAC)\n",
      "    source:       AppEEARS v3.11\n",
      "    references:   See README.md\n",
      "    history:      See README.md\n"
     ]
    }
   ],
   "source": [
    "print(ndvi)"
   ],
   "metadata": {
    "collapsed": false,
    "pycharm": {
     "name": "#%%\n"
    }
   }
  },
  {
   "cell_type": "code",
   "execution_count": 16,
   "outputs": [],
   "source": [
    "def print_start_end_date(ds):\n",
    "    print(\"Start date: \", ds.time[0].values)\n",
    "    print(\"End date: \", ds.time[-1].values)\n"
   ],
   "metadata": {
    "collapsed": false,
    "pycharm": {
     "name": "#%%\n"
    }
   }
  },
  {
   "cell_type": "code",
   "execution_count": 17,
   "outputs": [
    {
     "name": "stdout",
     "output_type": "stream",
     "text": [
      "Start date:  2009-12-19 00:00:00\n",
      "End date:  2022-08-13 00:00:00\n"
     ]
    }
   ],
   "source": [
    "print_start_end_date(ndvi)"
   ],
   "metadata": {
    "collapsed": false,
    "pycharm": {
     "name": "#%%\n"
    }
   }
  },
  {
   "cell_type": "code",
   "execution_count": 29,
   "outputs": [],
   "source": [
    "def print_time_resolution(ds):\n",
    "    print(\"Time resolution of: \", (ds.time[2] - ds.time[1]).values)"
   ],
   "metadata": {
    "collapsed": false,
    "pycharm": {
     "name": "#%%\n"
    }
   }
  },
  {
   "cell_type": "code",
   "execution_count": 31,
   "outputs": [
    {
     "name": "stdout",
     "output_type": "stream",
     "text": [
      "Time resolution of:  1382400000000000 nanoseconds\n"
     ]
    }
   ],
   "source": [
    "print_time_resolution(ndvi)"
   ],
   "metadata": {
    "collapsed": false,
    "pycharm": {
     "name": "#%%\n"
    }
   }
  },
  {
   "cell_type": "code",
   "execution_count": 30,
   "outputs": [],
   "source": [
    "# Function to convert nanoseconds to days\n",
    "def convert_nanoseconds_to_days(nanoseconds):\n",
    "    return nanoseconds / 86400000000000\n"
   ],
   "metadata": {
    "collapsed": false,
    "pycharm": {
     "name": "#%%\n"
    }
   }
  },
  {
   "cell_type": "code",
   "execution_count": 6,
   "outputs": [
    {
     "name": "stdout",
     "output_type": "stream",
     "text": [
      "<xarray.Dataset>\n",
      "Dimensions:                   ()\n",
      "Data variables:\n",
      "    crs                       int8 -127\n",
      "    _1_km_16_days_EVI         float64 -0.2\n",
      "    _1_km_16_days_NDVI        float64 -0.2\n",
      "    _1_km_16_days_VI_Quality  float64 2.057e+03\n"
     ]
    }
   ],
   "source": [
    "# Check the range of the value of the data variables\n",
    "print(ndvi.min())"
   ],
   "metadata": {
    "collapsed": false,
    "pycharm": {
     "name": "#%%\n"
    }
   }
  },
  {
   "cell_type": "code",
   "execution_count": 32,
   "outputs": [
    {
     "data": {
      "text/plain": "16.0"
     },
     "execution_count": 32,
     "metadata": {},
     "output_type": "execute_result"
    }
   ],
   "source": [
    "convert_nanoseconds_to_days(1382400000000000)"
   ],
   "metadata": {
    "collapsed": false,
    "pycharm": {
     "name": "#%%\n"
    }
   }
  },
  {
   "cell_type": "code",
   "execution_count": 24,
   "outputs": [
    {
     "name": "stdout",
     "output_type": "stream",
     "text": [
      "Time resolution of:  1123200000000000 nanoseconds\n"
     ]
    }
   ],
   "source": [
    "print_time_resolution(ndvi)"
   ],
   "metadata": {
    "collapsed": false,
    "pycharm": {
     "name": "#%%\n"
    }
   }
  },
  {
   "cell_type": "code",
   "execution_count": 22,
   "outputs": [
    {
     "name": "stdout",
     "output_type": "stream",
     "text": [
      "<xarray.DataArray 'time' ()>\n",
      "array(cftime.DatetimeJulian(2010, 1, 1, 0, 0, 0, 0, has_year_zero=False),\n",
      "      dtype=object)\n",
      "Coordinates:\n",
      "    time     object 2010-01-01 00:00:00\n",
      "Attributes:\n",
      "    standard_name:  time\n",
      "    axis:           T\n"
     ]
    }
   ],
   "source": [
    "print(ndvi.time[1])"
   ],
   "metadata": {
    "collapsed": false,
    "pycharm": {
     "name": "#%%\n"
    }
   }
  },
  {
   "cell_type": "code",
   "execution_count": 7,
   "outputs": [
    {
     "name": "stdout",
     "output_type": "stream",
     "text": [
      "<xarray.Dataset>\n",
      "Dimensions:                   ()\n",
      "Data variables:\n",
      "    crs                       int8 -127\n",
      "    _1_km_16_days_EVI         float64 0.8983\n",
      "    _1_km_16_days_NDVI        float64 1.0\n",
      "    _1_km_16_days_VI_Quality  float64 6.349e+04\n"
     ]
    }
   ],
   "source": [
    "print(ndvi.max())"
   ],
   "metadata": {
    "collapsed": false,
    "pycharm": {
     "name": "#%%\n"
    }
   }
  },
  {
   "cell_type": "code",
   "execution_count": 8,
   "outputs": [
    {
     "name": "stdout",
     "output_type": "stream",
     "text": [
      "<xarray.DataArray 'crs' ()>\n",
      "array(-127, dtype=int8)\n",
      "Attributes:\n",
      "    grid_mapping_name:                      sinusoidal\n",
      "    _CoordinateAxisTypes:                   GeoX GeoY\n",
      "    spatial_ref:                            PROJCS[\"unknown\",GEOGCS[\"unknown\"...\n",
      "    radius_of_sphere:                       6371007.181\n",
      "    longitude_of_central_meridian:          0\n",
      "    longitude_of_projection_origin:         0\n",
      "    straight_vertical_longitude_from_pole:  0\n",
      "    false_easting:                          0\n",
      "    false_northing:                         0\n"
     ]
    }
   ],
   "source": [
    "# Check the coordinate system of the data\n",
    "print(ndvi.crs)"
   ],
   "metadata": {
    "collapsed": false,
    "pycharm": {
     "name": "#%%\n"
    }
   }
  },
  {
   "cell_type": "code",
   "execution_count": 14,
   "outputs": [
    {
     "ename": "AttributeError",
     "evalue": "'DataArray' object has no attribute 'res'",
     "output_type": "error",
     "traceback": [
      "\u001B[1;31m---------------------------------------------------------------------------\u001B[0m",
      "\u001B[1;31mAttributeError\u001B[0m                            Traceback (most recent call last)",
      "Input \u001B[1;32mIn [14]\u001B[0m, in \u001B[0;36m<cell line: 2>\u001B[1;34m()\u001B[0m\n\u001B[0;32m      1\u001B[0m \u001B[38;5;66;03m# Check the spatial resolution of the data\u001B[39;00m\n\u001B[1;32m----> 2\u001B[0m \u001B[38;5;28mprint\u001B[39m(\u001B[43mndvi\u001B[49m\u001B[43m[\u001B[49m\u001B[38;5;124;43m\"\u001B[39;49m\u001B[38;5;124;43m_1_km_16_days_EVI\u001B[39;49m\u001B[38;5;124;43m\"\u001B[39;49m\u001B[43m]\u001B[49m\u001B[43m[\u001B[49m\u001B[38;5;241;43m0\u001B[39;49m\u001B[43m]\u001B[49m\u001B[38;5;241;43m.\u001B[39;49m\u001B[43mres\u001B[49m)\n",
      "File \u001B[1;32m~\\anaconda3\\envs\\wildfire\\lib\\site-packages\\xarray\\core\\common.py:256\u001B[0m, in \u001B[0;36mAttrAccessMixin.__getattr__\u001B[1;34m(self, name)\u001B[0m\n\u001B[0;32m    254\u001B[0m         \u001B[38;5;28;01mwith\u001B[39;00m suppress(\u001B[38;5;167;01mKeyError\u001B[39;00m):\n\u001B[0;32m    255\u001B[0m             \u001B[38;5;28;01mreturn\u001B[39;00m source[name]\n\u001B[1;32m--> 256\u001B[0m \u001B[38;5;28;01mraise\u001B[39;00m \u001B[38;5;167;01mAttributeError\u001B[39;00m(\n\u001B[0;32m    257\u001B[0m     \u001B[38;5;124mf\u001B[39m\u001B[38;5;124m\"\u001B[39m\u001B[38;5;132;01m{\u001B[39;00m\u001B[38;5;28mtype\u001B[39m(\u001B[38;5;28mself\u001B[39m)\u001B[38;5;241m.\u001B[39m\u001B[38;5;18m__name__\u001B[39m\u001B[38;5;132;01m!r}\u001B[39;00m\u001B[38;5;124m object has no attribute \u001B[39m\u001B[38;5;132;01m{\u001B[39;00mname\u001B[38;5;132;01m!r}\u001B[39;00m\u001B[38;5;124m\"\u001B[39m\n\u001B[0;32m    258\u001B[0m )\n",
      "\u001B[1;31mAttributeError\u001B[0m: 'DataArray' object has no attribute 'res'"
     ]
    }
   ],
   "source": [
    "# Check the spatial resolution of the data\n",
    "print(ndvi[\"_1_km_16_days_EVI\"][0].res)"
   ],
   "metadata": {
    "collapsed": false,
    "pycharm": {
     "name": "#%%\n"
    }
   }
  },
  {
   "cell_type": "code",
   "execution_count": null,
   "outputs": [],
   "source": [],
   "metadata": {
    "collapsed": false,
    "pycharm": {
     "name": "#%%\n"
    }
   }
  }
 ],
 "metadata": {
  "kernelspec": {
   "display_name": "Python 3",
   "language": "python",
   "name": "python3"
  },
  "language_info": {
   "codemirror_mode": {
    "name": "ipython",
    "version": 2
   },
   "file_extension": ".py",
   "mimetype": "text/x-python",
   "name": "python",
   "nbconvert_exporter": "python",
   "pygments_lexer": "ipython2",
   "version": "2.7.6"
  }
 },
 "nbformat": 4,
 "nbformat_minor": 0
}