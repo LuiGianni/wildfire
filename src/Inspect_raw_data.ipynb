{
 "cells": [
  {
   "cell_type": "code",
   "execution_count": 34,
   "outputs": [],
   "source": [
    "#Importing the libraries\n",
    "import numpy as np\n",
    "import rasterio\n",
    "import matplotlib.pyplot as plt\n",
    "import xarray as xr\n",
    "import rioxarray as rxr\n",
    "import geopandas as gpd\n",
    "import harmonize as hz"
   ],
   "metadata": {
    "collapsed": false,
    "pycharm": {
     "name": "#%%\n"
    }
   }
  },
  {
   "cell_type": "markdown",
   "source": [
    "## 1. Description of the DATASETS used"
   ],
   "metadata": {
    "collapsed": false,
    "pycharm": {
     "name": "#%% md\n"
    }
   }
  },
  {
   "cell_type": "markdown",
   "source": [
    "### 1.1.  Leaf Area Index - MOD15A2H:\n",
    "Time resolution: 8 days\n",
    "Spatial resolution: 500m\n",
    "Temporal coverage: 2000-2019\n",
    "Spatial coverage: Global\n",
    "Source: https://lpdaac.usgs.gov/products/mod15a2hv061/\n",
    "variables: LAI, FPAR, FCOVER\n",
    "* LAI_500: Leaf Area Index\n",
    "   value range of lai_500: 0-10\n",
    "* Fpar_500: Fraction of Photosynthetically Active Radiation\n",
    "*\n",
    "* FCOVER: Fraction of Canopy Cover\n",
    "\n",
    "*"
   ],
   "metadata": {
    "collapsed": false,
    "pycharm": {
     "name": "#%% md\n"
    }
   }
  },
  {
   "cell_type": "markdown",
   "source": [
    "### 1.1. Importing the Sentinel-2 data"
   ],
   "metadata": {
    "collapsed": false,
    "pycharm": {
     "name": "#%% md\n"
    }
   }
  },
  {
   "cell_type": "code",
   "execution_count": 35,
   "outputs": [],
   "source": [
    "# Open the dataset with xarray\n",
    "path_data = \"../data/Raw/\"\n",
    "ndvi = xr.open_dataset(path_data +'ndvi_01012010_09012022.nc')\n",
    "lai = xr.open_dataset(path_data +'leaf_area_index_01012010_09012022.nc')\n",
    "evap = xr.open_dataset(path_data +'Evapotranspiration_500m_aid0001.nc')"
   ],
   "metadata": {
    "collapsed": false,
    "pycharm": {
     "name": "#%%\n"
    }
   }
  },
  {
   "cell_type": "code",
   "execution_count": 36,
   "outputs": [],
   "source": [
    "ds = lai"
   ],
   "metadata": {
    "collapsed": false,
    "pycharm": {
     "name": "#%%\n"
    }
   }
  },
  {
   "cell_type": "code",
   "execution_count": 37,
   "outputs": [
    {
     "name": "stdout",
     "output_type": "stream",
     "text": [
      "<xarray.Dataset>\n",
      "Dimensions:          (time: 583, ydim: 518, xdim: 624)\n",
      "Coordinates:\n",
      "  * time             (time) object 2009-12-27 00:00:00 ... 2022-08-29 00:00:00\n",
      "  * ydim             (ydim) float64 5.018e+06 5.018e+06 ... 4.779e+06 4.779e+06\n",
      "  * xdim             (xdim) float64 3.398e+05 3.403e+05 ... 6.28e+05 6.285e+05\n",
      "Data variables:\n",
      "    crs              int8 ...\n",
      "    FparExtra_QC     (time, ydim, xdim) float32 ...\n",
      "    FparLai_QC       (time, ydim, xdim) float32 ...\n",
      "    FparStdDev_500m  (time, ydim, xdim) float32 ...\n",
      "    Fpar_500m        (time, ydim, xdim) float32 ...\n",
      "    LaiStdDev_500m   (time, ydim, xdim) float32 ...\n",
      "    Lai_500m         (time, ydim, xdim) float32 ...\n",
      "Attributes:\n",
      "    title:        MOD15A2H.061 for aid0001\n",
      "    Conventions:  CF-1.6\n",
      "    institution:  Land Processes Distributed Active Archive Center (LP DAAC)\n",
      "    source:       AppEEARS v3.11\n",
      "    references:   See README.md\n",
      "    history:      See README.md\n"
     ]
    }
   ],
   "source": [
    "print(ds)"
   ],
   "metadata": {
    "collapsed": false,
    "pycharm": {
     "name": "#%%\n"
    }
   }
  },
  {
   "cell_type": "code",
   "execution_count": 38,
   "outputs": [],
   "source": [
    "def print_start_end_date(ds):\n",
    "    print(\"Start date: \", ds.time[0].values)\n",
    "    print(\"End date: \", ds.time[-1].values)\n"
   ],
   "metadata": {
    "collapsed": false,
    "pycharm": {
     "name": "#%%\n"
    }
   }
  },
  {
   "cell_type": "code",
   "execution_count": 39,
   "outputs": [
    {
     "name": "stdout",
     "output_type": "stream",
     "text": [
      "Start date:  2009-12-27 00:00:00\n",
      "End date:  2022-08-29 00:00:00\n"
     ]
    }
   ],
   "source": [
    "print_start_end_date(ds)"
   ],
   "metadata": {
    "collapsed": false,
    "pycharm": {
     "name": "#%%\n"
    }
   }
  },
  {
   "cell_type": "code",
   "execution_count": 52,
   "outputs": [],
   "source": [
    "def time_resolution(ds):\n",
    "    time = (ds.time[2] - ds.time[1]).values\n",
    "    return time"
   ],
   "metadata": {
    "collapsed": false,
    "pycharm": {
     "name": "#%%\n"
    }
   }
  },
  {
   "cell_type": "code",
   "execution_count": 53,
   "outputs": [
    {
     "data": {
      "text/plain": "numpy.timedelta64(691200000000000,'ns')"
     },
     "execution_count": 53,
     "metadata": {},
     "output_type": "execute_result"
    }
   ],
   "source": [
    "time_resolution(ds)"
   ],
   "metadata": {
    "collapsed": false,
    "pycharm": {
     "name": "#%%\n"
    }
   }
  },
  {
   "cell_type": "code",
   "execution_count": 54,
   "outputs": [],
   "source": [
    "# Function to convert nanoseconds to days\n",
    "def convert_nanoseconds_to_days(nanoseconds):\n",
    "    return nanoseconds / 86400000000000\n"
   ],
   "metadata": {
    "collapsed": false,
    "pycharm": {
     "name": "#%%\n"
    }
   }
  },
  {
   "cell_type": "code",
   "execution_count": 55,
   "outputs": [
    {
     "data": {
      "text/plain": "numpy.timedelta64(8,'ns')"
     },
     "execution_count": 55,
     "metadata": {},
     "output_type": "execute_result"
    }
   ],
   "source": [
    "convert_nanoseconds_to_days(time_resolution(ds))"
   ],
   "metadata": {
    "collapsed": false,
    "pycharm": {
     "name": "#%%\n"
    }
   }
  },
  {
   "cell_type": "code",
   "execution_count": 43,
   "outputs": [
    {
     "name": "stdout",
     "output_type": "stream",
     "text": [
      "<xarray.Dataset>\n",
      "Dimensions:          ()\n",
      "Data variables:\n",
      "    crs              int8 -127\n",
      "    FparExtra_QC     float64 0.0\n",
      "    FparLai_QC       float64 0.0\n",
      "    FparStdDev_500m  float64 0.0\n",
      "    Fpar_500m        float64 0.0\n",
      "    LaiStdDev_500m   float64 0.0\n",
      "    Lai_500m         float64 0.0\n"
     ]
    }
   ],
   "source": [
    "# Check the range of the value of the data variables\n",
    "print(ds.min())"
   ],
   "metadata": {
    "collapsed": false,
    "pycharm": {
     "name": "#%%\n"
    }
   }
  },
  {
   "cell_type": "code",
   "execution_count": 45,
   "outputs": [
    {
     "name": "stdout",
     "output_type": "stream",
     "text": [
      "Time resolution of:  691200000000000 nanoseconds\n"
     ]
    }
   ],
   "source": [
    "print_time_resolution(ds)"
   ],
   "metadata": {
    "collapsed": false,
    "pycharm": {
     "name": "#%%\n"
    }
   }
  },
  {
   "cell_type": "code",
   "execution_count": 46,
   "outputs": [
    {
     "name": "stdout",
     "output_type": "stream",
     "text": [
      "<xarray.DataArray 'time' ()>\n",
      "array(cftime.DatetimeJulian(2010, 1, 1, 0, 0, 0, 0, has_year_zero=False),\n",
      "      dtype=object)\n",
      "Coordinates:\n",
      "    time     object 2010-01-01 00:00:00\n",
      "Attributes:\n",
      "    standard_name:  time\n",
      "    axis:           T\n"
     ]
    }
   ],
   "source": [
    "print(ds.time[1])"
   ],
   "metadata": {
    "collapsed": false,
    "pycharm": {
     "name": "#%%\n"
    }
   }
  },
  {
   "cell_type": "code",
   "execution_count": 47,
   "outputs": [
    {
     "name": "stdout",
     "output_type": "stream",
     "text": [
      "<xarray.Dataset>\n",
      "Dimensions:          ()\n",
      "Data variables:\n",
      "    crs              int8 -127\n",
      "    FparExtra_QC     float64 205.0\n",
      "    FparLai_QC       float64 157.0\n",
      "    FparStdDev_500m  float64 2.54\n",
      "    Fpar_500m        float64 2.54\n",
      "    LaiStdDev_500m   float64 25.4\n",
      "    Lai_500m         float64 25.4\n"
     ]
    }
   ],
   "source": [
    "print(ds.max())"
   ],
   "metadata": {
    "collapsed": false,
    "pycharm": {
     "name": "#%%\n"
    }
   }
  },
  {
   "cell_type": "code",
   "execution_count": 48,
   "outputs": [
    {
     "name": "stdout",
     "output_type": "stream",
     "text": [
      "<xarray.DataArray 'crs' ()>\n",
      "array(-127, dtype=int8)\n",
      "Attributes:\n",
      "    grid_mapping_name:                      sinusoidal\n",
      "    _CoordinateAxisTypes:                   GeoX GeoY\n",
      "    spatial_ref:                            PROJCS[\"unknown\",GEOGCS[\"unknown\"...\n",
      "    radius_of_sphere:                       6371007.181\n",
      "    longitude_of_central_meridian:          0\n",
      "    longitude_of_projection_origin:         0\n",
      "    straight_vertical_longitude_from_pole:  0\n",
      "    false_easting:                          0\n",
      "    false_northing:                         0\n"
     ]
    }
   ],
   "source": [
    "# Check the coordinate system of the data\n",
    "print(ds.crs)"
   ],
   "metadata": {
    "collapsed": false,
    "pycharm": {
     "name": "#%%\n"
    }
   }
  },
  {
   "cell_type": "code",
   "execution_count": 49,
   "outputs": [],
   "source": [
    "# Check the spatial resolution of the data\n",
    "#print(ndvi[\"_1_km_16_days_EVI\"][0].res)"
   ],
   "metadata": {
    "collapsed": false,
    "pycharm": {
     "name": "#%%\n"
    }
   }
  },
  {
   "cell_type": "code",
   "execution_count": 49,
   "outputs": [],
   "source": [],
   "metadata": {
    "collapsed": false,
    "pycharm": {
     "name": "#%%\n"
    }
   }
  }
 ],
 "metadata": {
  "kernelspec": {
   "display_name": "Python 3",
   "language": "python",
   "name": "python3"
  },
  "language_info": {
   "codemirror_mode": {
    "name": "ipython",
    "version": 2
   },
   "file_extension": ".py",
   "mimetype": "text/x-python",
   "name": "python",
   "nbconvert_exporter": "python",
   "pygments_lexer": "ipython2",
   "version": "2.7.6"
  }
 },
 "nbformat": 4,
 "nbformat_minor": 0
}